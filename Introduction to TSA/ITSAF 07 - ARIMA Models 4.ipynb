{
 "cells": [
  {
   "cell_type": "markdown",
   "id": "14481380-71df-4e43-b85b-864a36909e01",
   "metadata": {},
   "source": [
    "# Chapter 5 - AutoRegressive Integrated Moving Average (ARIMA) Models"
   ]
  },
  {
   "cell_type": "code",
   "execution_count": 1,
   "id": "8c4dd1d1-809e-4fe8-925c-2a23fc412809",
   "metadata": {},
   "outputs": [],
   "source": [
    "import numpy as np\n",
    "import pandas as pd\n",
    "\n",
    "import seaborn as sns\n",
    "import matplotlib.pyplot as plt\n",
    "%matplotlib inline"
   ]
  },
  {
   "cell_type": "code",
   "execution_count": 2,
   "id": "b532c90d-290e-4158-a903-739bbc6c1730",
   "metadata": {},
   "outputs": [],
   "source": [
    "from statsmodels.tsa.stattools import adfuller\n",
    "import pmdarima as pm\n",
    "from statsmodels.tsa.arima.model import ARIMA\n",
    "from statsmodels.tsa.statespace.sarimax import SARIMAX\n",
    "from itertools import product\n",
    "from statsmodels.tools.eval_measures import rmspe, rmse\n",
    "from statsmodels.tsa.seasonal import seasonal_decompose, STL\n",
    "from statsmodels.stats.diagnostic import acorr_ljungbox\n",
    "from statsmodels.graphics.tsaplots import plot_acf, plot_pacf\n",
    "import statsmodels.api as sm\n",
    "import scipy.stats as stats\n",
    "from sklearn.metrics import mean_absolute_error, mean_squared_error\n",
    "from statsmodels.tsa.arima_process import ArmaProcess\n",
    "from pmdarima.arima import CHTest\n",
    "\n",
    "\n",
    "import warnings\n",
    "warnings.filterwarnings('ignore')"
   ]
  },
  {
   "cell_type": "markdown",
   "id": "aaa7dad9-2ee6-458d-95bc-8d21b843699d",
   "metadata": {},
   "source": [
    "## 5.24 Table B.10 contains 7 years of monthly data on the number of airline miles flown in the United Kingdom. \n",
    "This is seasonal data.\n",
    "\n",
    "    a. Using the first 6 years of data, develop an appropriate ARIMA model and a procedure for these data.\n",
    "    \n",
    "    b. Explain how prediction intervals would be computed.\n",
    "    \n",
    "    c. Make one-step-ahead forecasts of the last 12 months. Determine the forecast errors. How well did your procedure work in forecasting the new data?"
   ]
  },
  {
   "cell_type": "code",
   "execution_count": 3,
   "id": "ae95923c-b891-4aae-9b04-268cc66b983c",
   "metadata": {},
   "outputs": [
    {
     "data": {
      "text/html": [
       "<div>\n",
       "<style scoped>\n",
       "    .dataframe tbody tr th:only-of-type {\n",
       "        vertical-align: middle;\n",
       "    }\n",
       "\n",
       "    .dataframe tbody tr th {\n",
       "        vertical-align: top;\n",
       "    }\n",
       "\n",
       "    .dataframe thead th {\n",
       "        text-align: right;\n",
       "    }\n",
       "</style>\n",
       "<table border=\"1\" class=\"dataframe\">\n",
       "  <thead>\n",
       "    <tr style=\"text-align: right;\">\n",
       "      <th></th>\n",
       "      <th>Miles</th>\n",
       "    </tr>\n",
       "    <tr>\n",
       "      <th>Month</th>\n",
       "      <th></th>\n",
       "    </tr>\n",
       "  </thead>\n",
       "  <tbody>\n",
       "    <tr>\n",
       "      <th>1964-01-01</th>\n",
       "      <td>7.269</td>\n",
       "    </tr>\n",
       "    <tr>\n",
       "      <th>1964-02-01</th>\n",
       "      <td>6.775</td>\n",
       "    </tr>\n",
       "    <tr>\n",
       "      <th>1964-03-01</th>\n",
       "      <td>7.819</td>\n",
       "    </tr>\n",
       "    <tr>\n",
       "      <th>1964-04-01</th>\n",
       "      <td>8.371</td>\n",
       "    </tr>\n",
       "    <tr>\n",
       "      <th>1964-05-01</th>\n",
       "      <td>9.069</td>\n",
       "    </tr>\n",
       "  </tbody>\n",
       "</table>\n",
       "</div>"
      ],
      "text/plain": [
       "            Miles\n",
       "Month            \n",
       "1964-01-01  7.269\n",
       "1964-02-01  6.775\n",
       "1964-03-01  7.819\n",
       "1964-04-01  8.371\n",
       "1964-05-01  9.069"
      ]
     },
     "execution_count": 3,
     "metadata": {},
     "output_type": "execute_result"
    }
   ],
   "source": [
    "# Raw data as alternating Month and Miles values\n",
    "raw_data = [\n",
    "    (\"Jan-1964\", 7.269), (\"Feb-1964\", 6.775), (\"Mar-1964\", 7.819), (\"Apr-1964\", 8.371),\n",
    "    (\"May-1964\", 9.069), (\"Jun-1964\", 10.248), (\"Jul-1964\", 11.030), (\"Aug-1964\", 10.882),\n",
    "    (\"Sep-1964\", 10.333), (\"Oct-1964\", 9.109), (\"Nov-1964\", 7.685), (\"Dec-1964\", 7.682),\n",
    "    (\"Jan-1965\", 8.350), (\"Feb-1965\", 7.829), (\"Mar-1965\", 8.829), (\"Apr-1965\", 9.948),\n",
    "    (\"May-1965\", 10.638), (\"Jun-1965\", 11.253), (\"Jul-1965\", 11.424), (\"Aug-1965\", 11.391),\n",
    "    (\"Sep-1965\", 10.665), (\"Oct-1965\", 9.396), (\"Nov-1965\", 7.775), (\"Dec-1965\", 7.933),\n",
    "    (\"Jan-1966\", 8.186), (\"Feb-1966\", 7.444), (\"Mar-1966\", 8.484), (\"Apr-1966\", 9.864),\n",
    "    (\"May-1966\", 10.252), (\"Jun-1966\", 12.282), (\"Jul-1966\", 11.637), (\"Aug-1966\", 11.577),\n",
    "    (\"Sep-1966\", 12.417), (\"Oct-1966\", 9.637), (\"Nov-1966\", 8.094), (\"Dec-1966\", 9.280),\n",
    "    (\"Jan-1967\", 8.334), (\"Feb-1967\", 7.899), (\"Mar-1967\", 9.994), (\"Apr-1967\", 10.078),\n",
    "    (\"May-1967\", 10.801), (\"Jun-1967\", 12.953), (\"Jul-1967\", 12.222), (\"Aug-1967\", 12.246),\n",
    "    (\"Sep-1967\", 13.281), (\"Oct-1967\", 10.366), (\"Nov-1967\", 8.730), (\"Dec-1967\", 9.614),\n",
    "    (\"Jan-1968\", 8.639), (\"Feb-1968\", 8.772), (\"Mar-1968\", 10.894), (\"Apr-1968\", 10.455),\n",
    "    (\"May-1968\", 11.179), (\"Jun-1968\", 10.588), (\"Jul-1968\", 10.794), (\"Aug-1968\", 12.770),\n",
    "    (\"Sep-1968\", 13.812), (\"Oct-1968\", 10.857), (\"Nov-1968\", 9.290), (\"Dec-1968\", 10.925),\n",
    "    (\"Jan-1969\", 9.491), (\"Feb-1969\", 8.919), (\"Mar-1969\", 11.607), (\"Apr-1969\", 8.852),\n",
    "    (\"May-1969\", 12.537), (\"Jun-1969\", 14.759), (\"Jul-1969\", 13.667), (\"Aug-1969\", 13.731),\n",
    "    (\"Sep-1969\", 15.110), (\"Oct-1969\", 12.185), (\"Nov-1969\", 10.645), (\"Dec-1969\", 12.161),\n",
    "    (\"Jan-1970\", 10.840), (\"Feb-1970\", 10.436), (\"Mar-1970\", 13.589), (\"Apr-1970\", 13.402),\n",
    "    (\"May-1970\", 13.103), (\"Jun-1970\", 14.933), (\"Jul-1970\", 14.147), (\"Aug-1970\", 14.057),\n",
    "    (\"Sep-1970\", 16.234), (\"Oct-1970\", 12.389), (\"Nov-1970\", 11.594), (\"Dec-1970\", 12.772),\n",
    "]\n",
    "\n",
    "# Convert to DataFrame\n",
    "df_air_miles = pd.DataFrame(raw_data, columns=['Month', 'Miles'])\n",
    "\n",
    "# Convert 'Month' column to datetime format and set as index\n",
    "df_air_miles['Month'] = pd.to_datetime(df_air_miles['Month'], format='%b-%Y')\n",
    "df_air_miles.set_index('Month', inplace=True)\n",
    "\n",
    "# Display the first rows\n",
    "df_air_miles.head()"
   ]
  },
  {
   "cell_type": "code",
   "execution_count": 6,
   "id": "3f844796-5a8b-48a9-b46e-92828d00223d",
   "metadata": {},
   "outputs": [
    {
     "name": "stdout",
     "output_type": "stream",
     "text": [
      "Train shape: (72, 1)\n",
      "Test shape: (12, 1)\n",
      "\n",
      "\n"
     ]
    },
    {
     "data": {
      "text/plain": [
       "(             Miles\n",
       " Month             \n",
       " 1969-08-01  13.731\n",
       " 1969-09-01  15.110\n",
       " 1969-10-01  12.185\n",
       " 1969-11-01  10.645\n",
       " 1969-12-01  12.161,\n",
       " None,\n",
       "              Miles\n",
       " Month             \n",
       " 1970-01-01  10.840\n",
       " 1970-02-01  10.436\n",
       " 1970-03-01  13.589\n",
       " 1970-04-01  13.402\n",
       " 1970-05-01  13.103)"
      ]
     },
     "execution_count": 6,
     "metadata": {},
     "output_type": "execute_result"
    }
   ],
   "source": [
    "# Split the data\n",
    "train = df_air_miles[df_air_miles.index.year < 1970]     # All data before 1970\n",
    "test = df_air_miles[df_air_miles.index.year == 1970]     # All data in 1970\n",
    "\n",
    "# Show the results\n",
    "print(\"Train shape:\", train.shape)\n",
    "print(\"Test shape:\", test.shape)\n",
    "print()\n",
    "train.tail(), print(), test.head()"
   ]
  },
  {
   "cell_type": "code",
   "execution_count": null,
   "id": "9e237fb1-ab56-4abd-837c-f1208d7ee1ce",
   "metadata": {},
   "outputs": [],
   "source": []
  }
 ],
 "metadata": {
  "kernelspec": {
   "display_name": "Python 3 (ipykernel)",
   "language": "python",
   "name": "python3"
  },
  "language_info": {
   "codemirror_mode": {
    "name": "ipython",
    "version": 3
   },
   "file_extension": ".py",
   "mimetype": "text/x-python",
   "name": "python",
   "nbconvert_exporter": "python",
   "pygments_lexer": "ipython3",
   "version": "3.12.7"
  }
 },
 "nbformat": 4,
 "nbformat_minor": 5
}
