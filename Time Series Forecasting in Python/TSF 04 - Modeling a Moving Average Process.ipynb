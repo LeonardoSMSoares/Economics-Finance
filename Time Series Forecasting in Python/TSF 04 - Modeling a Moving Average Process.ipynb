{
 "cells": [
  {
   "cell_type": "markdown",
   "id": "22ed879f-f5f0-4ce5-8b5c-67867b611f70",
   "metadata": {},
   "source": [
    "# Chapter 4 - Modeling a Moving Average Process"
   ]
  },
  {
   "cell_type": "code",
   "execution_count": null,
   "id": "33294450-00bc-42a3-8311-e739e90a1404",
   "metadata": {},
   "outputs": [],
   "source": []
  }
 ],
 "metadata": {
  "kernelspec": {
   "display_name": "Python 3 (ipykernel)",
   "language": "python",
   "name": "python3"
  },
  "language_info": {
   "codemirror_mode": {
    "name": "ipython",
    "version": 3
   },
   "file_extension": ".py",
   "mimetype": "text/x-python",
   "name": "python",
   "nbconvert_exporter": "python",
   "pygments_lexer": "ipython3",
   "version": "3.11.7"
  }
 },
 "nbformat": 4,
 "nbformat_minor": 5
}
