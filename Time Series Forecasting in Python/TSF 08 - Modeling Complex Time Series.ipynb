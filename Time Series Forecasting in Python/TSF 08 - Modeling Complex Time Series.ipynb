{
 "cells": [
  {
   "cell_type": "markdown",
   "id": "b61a9bf0-ec51-460c-8ca4-0e624a1a70ae",
   "metadata": {},
   "source": [
    "# Modeling Complex Time Series"
   ]
  },
  {
   "cell_type": "code",
   "execution_count": 2,
   "id": "c3647cae-627b-4d36-9af3-2f09be413ff4",
   "metadata": {},
   "outputs": [],
   "source": [
    "from sklearn.metrics import mean_squared_error, mean_absolute_error\n",
    "from statsmodels.graphics.tsaplots import plot_acf, plot_pacf\n",
    "from statsmodels.tsa.statespace.sarimax import SARIMAX\n",
    "from statsmodels.tsa.arima_process import ArmaProcess\n",
    "from statsmodels.tsa.stattools import adfuller\n",
    "from tqdm import tqdm_notebook\n",
    "from itertools import product\n",
    "\n",
    "import matplotlib.pyplot as plt\n",
    "import numpy as np\n",
    "import pandas as pd\n",
    "\n",
    "import warnings\n",
    "warnings.filterwarnings('ignore')\n",
    "\n",
    "%matplotlib inline"
   ]
  },
  {
   "cell_type": "markdown",
   "id": "521491ad-aff4-453f-ae9a-49890cb66f33",
   "metadata": {},
   "source": [
    "## Identifying a stationary ARMA process"
   ]
  },
  {
   "cell_type": "code",
   "execution_count": null,
   "id": "26566188-cebc-43f0-a999-a33b0e064f67",
   "metadata": {},
   "outputs": [],
   "source": []
  }
 ],
 "metadata": {
  "kernelspec": {
   "display_name": "Python 3 (ipykernel)",
   "language": "python",
   "name": "python3"
  },
  "language_info": {
   "codemirror_mode": {
    "name": "ipython",
    "version": 3
   },
   "file_extension": ".py",
   "mimetype": "text/x-python",
   "name": "python",
   "nbconvert_exporter": "python",
   "pygments_lexer": "ipython3",
   "version": "3.11.7"
  }
 },
 "nbformat": 4,
 "nbformat_minor": 5
}
