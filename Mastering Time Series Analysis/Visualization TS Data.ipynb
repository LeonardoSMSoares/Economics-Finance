{
 "cells": [
  {
   "cell_type": "markdown",
   "id": "f8bffd10-94b2-48b9-947c-190f3eaeece1",
   "metadata": {},
   "source": [
    "# Visualization of Time Series Data"
   ]
  },
  {
   "cell_type": "code",
   "execution_count": null,
   "id": "01a8530f-ea5d-4787-ba14-681630e583f3",
   "metadata": {},
   "outputs": [],
   "source": [
    "import numpy as np\n",
    "import pandas as pd\n",
    "\n",
    "import seaborn as sns\n",
    "import matplotlib.pyplot as plt\n",
    "%matplotlib inline"
   ]
  }
 ],
 "metadata": {
  "kernelspec": {
   "display_name": "Python 3 (ipykernel)",
   "language": "python",
   "name": "python3"
  },
  "language_info": {
   "codemirror_mode": {
    "name": "ipython",
    "version": 3
   },
   "file_extension": ".py",
   "mimetype": "text/x-python",
   "name": "python",
   "nbconvert_exporter": "python",
   "pygments_lexer": "ipython3",
   "version": "3.11.7"
  }
 },
 "nbformat": 4,
 "nbformat_minor": 5
}
