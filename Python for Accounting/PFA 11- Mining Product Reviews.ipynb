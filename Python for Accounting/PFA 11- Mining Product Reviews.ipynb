{
 "cells": [
  {
   "cell_type": "markdown",
   "id": "91638fdd-4b02-457c-a68d-26c8f264d9dd",
   "metadata": {},
   "source": [
    "# Chapter 24 - Project: Mining product reviews"
   ]
  },
  {
   "cell_type": "code",
   "execution_count": 2,
   "id": "5b7496a8-4570-4291-9c88-2ec6edc23461",
   "metadata": {},
   "outputs": [],
   "source": [
    "import pandas as pd"
   ]
  },
  {
   "cell_type": "markdown",
   "id": "cdd1ba14-ef36-4ac3-b634-4a7054e03790",
   "metadata": {},
   "source": [
    "#### Data set"
   ]
  },
  {
   "cell_type": "code",
   "execution_count": 4,
   "id": "b8eb686a-54de-4f10-9d34-f56e706f668c",
   "metadata": {},
   "outputs": [
    {
     "data": {
      "text/html": [
       "<div>\n",
       "<style scoped>\n",
       "    .dataframe tbody tr th:only-of-type {\n",
       "        vertical-align: middle;\n",
       "    }\n",
       "\n",
       "    .dataframe tbody tr th {\n",
       "        vertical-align: top;\n",
       "    }\n",
       "\n",
       "    .dataframe thead th {\n",
       "        text-align: right;\n",
       "    }\n",
       "</style>\n",
       "<table border=\"1\" class=\"dataframe\">\n",
       "  <thead>\n",
       "    <tr style=\"text-align: right;\">\n",
       "      <th></th>\n",
       "      <th>ProductID</th>\n",
       "      <th>Product Name</th>\n",
       "      <th>Rating</th>\n",
       "      <th>Review</th>\n",
       "      <th>Date</th>\n",
       "    </tr>\n",
       "  </thead>\n",
       "  <tbody>\n",
       "    <tr>\n",
       "      <th>0</th>\n",
       "      <td>K&amp;D/WMF-26982</td>\n",
       "      <td>WMF Manaos / Bistro Ice Cream Spoon, Set of 4</td>\n",
       "      <td>5</td>\n",
       "      <td>I love it</td>\n",
       "      <td>43660</td>\n",
       "    </tr>\n",
       "    <tr>\n",
       "      <th>1</th>\n",
       "      <td>K&amp;D/CUI-82621</td>\n",
       "      <td>Cuisinart DCC-2600 Brew Central 14-Cup Program...</td>\n",
       "      <td>5</td>\n",
       "      <td>Worth the money</td>\n",
       "      <td>42600</td>\n",
       "    </tr>\n",
       "    <tr>\n",
       "      <th>2</th>\n",
       "      <td>K&amp;D/HAM-06147</td>\n",
       "      <td>Hamilton Beach 22708 Toastation 2-Slice Toaste...</td>\n",
       "      <td>5</td>\n",
       "      <td>toaster/oven</td>\n",
       "      <td>43738</td>\n",
       "    </tr>\n",
       "    <tr>\n",
       "      <th>3</th>\n",
       "      <td>K&amp;D/FOX-77328</td>\n",
       "      <td>Fox Run Salt and Pepper Shaker Set, Glass</td>\n",
       "      <td>5</td>\n",
       "      <td>Nice Shaker Set.</td>\n",
       "      <td>44118</td>\n",
       "    </tr>\n",
       "    <tr>\n",
       "      <th>4</th>\n",
       "      <td>K&amp;D/OST-12291</td>\n",
       "      <td>Oster TSSTTVVG01 4-Slice Toaster Oven, Black</td>\n",
       "      <td>5</td>\n",
       "      <td>PRETTY &amp; EASY TO USE</td>\n",
       "      <td>43758</td>\n",
       "    </tr>\n",
       "  </tbody>\n",
       "</table>\n",
       "</div>"
      ],
      "text/plain": [
       "       ProductID                                       Product Name  Rating  \\\n",
       "0  K&D/WMF-26982      WMF Manaos / Bistro Ice Cream Spoon, Set of 4       5   \n",
       "1  K&D/CUI-82621  Cuisinart DCC-2600 Brew Central 14-Cup Program...       5   \n",
       "2  K&D/HAM-06147  Hamilton Beach 22708 Toastation 2-Slice Toaste...       5   \n",
       "3  K&D/FOX-77328          Fox Run Salt and Pepper Shaker Set, Glass       5   \n",
       "4  K&D/OST-12291       Oster TSSTTVVG01 4-Slice Toaster Oven, Black       5   \n",
       "\n",
       "                 Review   Date  \n",
       "0             I love it  43660  \n",
       "1       Worth the money  42600  \n",
       "2          toaster/oven  43738  \n",
       "3      Nice Shaker Set.  44118  \n",
       "4  PRETTY & EASY TO USE  43758  "
      ]
     },
     "execution_count": 4,
     "metadata": {},
     "output_type": "execute_result"
    }
   ],
   "source": [
    "# Read Dataframe 'reviews.csv'\n",
    "\n",
    "url = (\"https://raw.githubusercontent.com/pythonforaccounting/workspace/refs/heads/main/P2%20-%20Working%20with%20tables/project_data/reviews.csv\")\n",
    "reviews_df = pd.read_csv(url)\n",
    "\n",
    "reviews_df.head()"
   ]
  },
  {
   "cell_type": "code",
   "execution_count": 5,
   "id": "9540098e-b184-4e4b-a622-eaed5ff1561e",
   "metadata": {},
   "outputs": [
    {
     "name": "stdout",
     "output_type": "stream",
     "text": [
      "<class 'pandas.core.frame.DataFrame'>\n",
      "RangeIndex: 73907 entries, 0 to 73906\n",
      "Data columns (total 5 columns):\n",
      " #   Column        Non-Null Count  Dtype \n",
      "---  ------        --------------  ----- \n",
      " 0   ProductID     73907 non-null  object\n",
      " 1   Product Name  73907 non-null  object\n",
      " 2   Rating        73907 non-null  int64 \n",
      " 3   Review        73907 non-null  object\n",
      " 4   Date          73907 non-null  int64 \n",
      "dtypes: int64(2), object(3)\n",
      "memory usage: 2.8+ MB\n"
     ]
    }
   ],
   "source": [
    "reviews_df.info()"
   ]
  },
  {
   "cell_type": "markdown",
   "id": "734446e8-831d-4013-b658-6c408b6ecd3b",
   "metadata": {},
   "source": [
    "### Keeping recent reviews"
   ]
  },
  {
   "cell_type": "code",
   "execution_count": 7,
   "id": "6adaa7a5-c4b5-4aa7-994a-162b60b9d837",
   "metadata": {},
   "outputs": [
    {
     "data": {
      "text/plain": [
       "0        43660\n",
       "1        42600\n",
       "2        43738\n",
       "3        44118\n",
       "4        43758\n",
       "         ...  \n",
       "73902    42920\n",
       "73903    43639\n",
       "73904    43685\n",
       "73905    43888\n",
       "73906    43961\n",
       "Name: Date, Length: 73907, dtype: int64"
      ]
     },
     "execution_count": 7,
     "metadata": {},
     "output_type": "execute_result"
    }
   ],
   "source": [
    "reviews_df['Date']"
   ]
  },
  {
   "cell_type": "code",
   "execution_count": 8,
   "id": "6dfb05eb-00a3-492f-bad8-53c9fefe9bb6",
   "metadata": {},
   "outputs": [
    {
     "data": {
      "text/plain": [
       "0       2019-07-14\n",
       "1       2016-08-18\n",
       "2       2019-09-30\n",
       "3       2020-10-14\n",
       "4       2019-10-20\n",
       "           ...    \n",
       "73902   2017-07-04\n",
       "73903   2019-06-23\n",
       "73904   2019-08-08\n",
       "73905   2020-02-27\n",
       "73906   2020-05-10\n",
       "Name: Date, Length: 73907, dtype: datetime64[ns]"
      ]
     },
     "execution_count": 8,
     "metadata": {},
     "output_type": "execute_result"
    }
   ],
   "source": [
    "pd.to_datetime(reviews_df['Date'], unit='D', origin='1899-12-30')"
   ]
  },
  {
   "cell_type": "code",
   "execution_count": 9,
   "id": "381605d3-4271-4716-9cfb-799aeee370ee",
   "metadata": {},
   "outputs": [
    {
     "data": {
      "text/html": [
       "<div>\n",
       "<style scoped>\n",
       "    .dataframe tbody tr th:only-of-type {\n",
       "        vertical-align: middle;\n",
       "    }\n",
       "\n",
       "    .dataframe tbody tr th {\n",
       "        vertical-align: top;\n",
       "    }\n",
       "\n",
       "    .dataframe thead th {\n",
       "        text-align: right;\n",
       "    }\n",
       "</style>\n",
       "<table border=\"1\" class=\"dataframe\">\n",
       "  <thead>\n",
       "    <tr style=\"text-align: right;\">\n",
       "      <th></th>\n",
       "      <th>ProductID</th>\n",
       "      <th>Product Name</th>\n",
       "      <th>Rating</th>\n",
       "      <th>Review</th>\n",
       "      <th>Date</th>\n",
       "    </tr>\n",
       "  </thead>\n",
       "  <tbody>\n",
       "    <tr>\n",
       "      <th>0</th>\n",
       "      <td>K&amp;D/WMF-26982</td>\n",
       "      <td>WMF Manaos / Bistro Ice Cream Spoon, Set of 4</td>\n",
       "      <td>5</td>\n",
       "      <td>I love it</td>\n",
       "      <td>2019-07-14</td>\n",
       "    </tr>\n",
       "    <tr>\n",
       "      <th>1</th>\n",
       "      <td>K&amp;D/CUI-82621</td>\n",
       "      <td>Cuisinart DCC-2600 Brew Central 14-Cup Program...</td>\n",
       "      <td>5</td>\n",
       "      <td>Worth the money</td>\n",
       "      <td>2016-08-18</td>\n",
       "    </tr>\n",
       "    <tr>\n",
       "      <th>2</th>\n",
       "      <td>K&amp;D/HAM-06147</td>\n",
       "      <td>Hamilton Beach 22708 Toastation 2-Slice Toaste...</td>\n",
       "      <td>5</td>\n",
       "      <td>toaster/oven</td>\n",
       "      <td>2019-09-30</td>\n",
       "    </tr>\n",
       "    <tr>\n",
       "      <th>3</th>\n",
       "      <td>K&amp;D/FOX-77328</td>\n",
       "      <td>Fox Run Salt and Pepper Shaker Set, Glass</td>\n",
       "      <td>5</td>\n",
       "      <td>Nice Shaker Set.</td>\n",
       "      <td>2020-10-14</td>\n",
       "    </tr>\n",
       "    <tr>\n",
       "      <th>4</th>\n",
       "      <td>K&amp;D/OST-12291</td>\n",
       "      <td>Oster TSSTTVVG01 4-Slice Toaster Oven, Black</td>\n",
       "      <td>5</td>\n",
       "      <td>PRETTY &amp; EASY TO USE</td>\n",
       "      <td>2019-10-20</td>\n",
       "    </tr>\n",
       "  </tbody>\n",
       "</table>\n",
       "</div>"
      ],
      "text/plain": [
       "       ProductID                                       Product Name  Rating  \\\n",
       "0  K&D/WMF-26982      WMF Manaos / Bistro Ice Cream Spoon, Set of 4       5   \n",
       "1  K&D/CUI-82621  Cuisinart DCC-2600 Brew Central 14-Cup Program...       5   \n",
       "2  K&D/HAM-06147  Hamilton Beach 22708 Toastation 2-Slice Toaste...       5   \n",
       "3  K&D/FOX-77328          Fox Run Salt and Pepper Shaker Set, Glass       5   \n",
       "4  K&D/OST-12291       Oster TSSTTVVG01 4-Slice Toaster Oven, Black       5   \n",
       "\n",
       "                 Review       Date  \n",
       "0             I love it 2019-07-14  \n",
       "1       Worth the money 2016-08-18  \n",
       "2          toaster/oven 2019-09-30  \n",
       "3      Nice Shaker Set. 2020-10-14  \n",
       "4  PRETTY & EASY TO USE 2019-10-20  "
      ]
     },
     "execution_count": 9,
     "metadata": {},
     "output_type": "execute_result"
    }
   ],
   "source": [
    "reviews_df['Date'] = pd.to_datetime(reviews_df['Date'], unit='D', origin='1899-12-30')\n",
    "\n",
    "reviews_df.head()"
   ]
  },
  {
   "cell_type": "markdown",
   "id": "34c5d29b-06b4-467d-bd84-11414a4298da",
   "metadata": {},
   "source": [
    "One option is to extract the year from each date, then count how many times each year appears in the data:"
   ]
  },
  {
   "cell_type": "code",
   "execution_count": 11,
   "id": "db868625-241f-4c3b-84e1-8bf79be14759",
   "metadata": {},
   "outputs": [
    {
     "data": {
      "text/plain": [
       "Date\n",
       "2006        6\n",
       "2007       28\n",
       "2008       33\n",
       "2009       86\n",
       "2010       80\n",
       "2011      151\n",
       "2012      322\n",
       "2013      794\n",
       "2014     1285\n",
       "2015     1722\n",
       "2016     2680\n",
       "2017     4483\n",
       "2018     7229\n",
       "2019    20279\n",
       "2020    33308\n",
       "2021     1421\n",
       "Name: count, dtype: int64"
      ]
     },
     "execution_count": 11,
     "metadata": {},
     "output_type": "execute_result"
    }
   ],
   "source": [
    "reviews_df['Date'].dt.year.value_counts().sort_index()"
   ]
  },
  {
   "cell_type": "markdown",
   "id": "e01a3daa-40df-4904-a070-920ef4d1a703",
   "metadata": {},
   "source": [
    "Let’s filter `reviews_df` and keep reviews from 2020 or later only:"
   ]
  },
  {
   "cell_type": "code",
   "execution_count": 13,
   "id": "b742bad1-6d8d-4d28-9f83-514fc6687602",
   "metadata": {},
   "outputs": [
    {
     "data": {
      "text/html": [
       "<div>\n",
       "<style scoped>\n",
       "    .dataframe tbody tr th:only-of-type {\n",
       "        vertical-align: middle;\n",
       "    }\n",
       "\n",
       "    .dataframe tbody tr th {\n",
       "        vertical-align: top;\n",
       "    }\n",
       "\n",
       "    .dataframe thead th {\n",
       "        text-align: right;\n",
       "    }\n",
       "</style>\n",
       "<table border=\"1\" class=\"dataframe\">\n",
       "  <thead>\n",
       "    <tr style=\"text-align: right;\">\n",
       "      <th></th>\n",
       "      <th>ProductID</th>\n",
       "      <th>Product Name</th>\n",
       "      <th>Rating</th>\n",
       "      <th>Review</th>\n",
       "      <th>Date</th>\n",
       "    </tr>\n",
       "  </thead>\n",
       "  <tbody>\n",
       "    <tr>\n",
       "      <th>3</th>\n",
       "      <td>K&amp;D/FOX-77328</td>\n",
       "      <td>Fox Run Salt and Pepper Shaker Set, Glass</td>\n",
       "      <td>5</td>\n",
       "      <td>Nice Shaker Set.</td>\n",
       "      <td>2020-10-14</td>\n",
       "    </tr>\n",
       "    <tr>\n",
       "      <th>7</th>\n",
       "      <td>K&amp;D/PRO-00930</td>\n",
       "      <td>Progressive International GMMC-68 Microwavable...</td>\n",
       "      <td>5</td>\n",
       "      <td>Works great</td>\n",
       "      <td>2020-09-08</td>\n",
       "    </tr>\n",
       "    <tr>\n",
       "      <th>8</th>\n",
       "      <td>K&amp;D/HIG-61873</td>\n",
       "      <td>Highwin P1001-8 8-Cup Doublewall Stainless Ste...</td>\n",
       "      <td>5</td>\n",
       "      <td>Loved it :)</td>\n",
       "      <td>2020-12-11</td>\n",
       "    </tr>\n",
       "    <tr>\n",
       "      <th>9</th>\n",
       "      <td>K&amp;D/BAR-93217</td>\n",
       "      <td>Baratza Encore - Conical Burr Coffee Grinder (...</td>\n",
       "      <td>5</td>\n",
       "      <td>Great deal</td>\n",
       "      <td>2020-04-30</td>\n",
       "    </tr>\n",
       "    <tr>\n",
       "      <th>12</th>\n",
       "      <td>K&amp;D/BAM-78441</td>\n",
       "      <td>Bamboo Cutting Board Set - 3 Piece All In One ...</td>\n",
       "      <td>5</td>\n",
       "      <td>I'm oiling them now.  Nice!  Lavish and durable.</td>\n",
       "      <td>2020-10-15</td>\n",
       "    </tr>\n",
       "    <tr>\n",
       "      <th>...</th>\n",
       "      <td>...</td>\n",
       "      <td>...</td>\n",
       "      <td>...</td>\n",
       "      <td>...</td>\n",
       "      <td>...</td>\n",
       "    </tr>\n",
       "    <tr>\n",
       "      <th>73895</th>\n",
       "      <td>K&amp;D/TRU-30514</td>\n",
       "      <td>Trudeau Melamine Mixing Bowls, Set of 3</td>\n",
       "      <td>1</td>\n",
       "      <td>Broke easily</td>\n",
       "      <td>2020-11-26</td>\n",
       "    </tr>\n",
       "    <tr>\n",
       "      <th>73896</th>\n",
       "      <td>K&amp;D/MOR-18621</td>\n",
       "      <td>Morning Mug (1)</td>\n",
       "      <td>1</td>\n",
       "      <td>NOT GOOD</td>\n",
       "      <td>2020-07-15</td>\n",
       "    </tr>\n",
       "    <tr>\n",
       "      <th>73900</th>\n",
       "      <td>K&amp;D/NIF-37634</td>\n",
       "      <td>Nifty Ice Cream Cone Cupcake Baking Rack</td>\n",
       "      <td>4</td>\n",
       "      <td>Works well</td>\n",
       "      <td>2020-02-11</td>\n",
       "    </tr>\n",
       "    <tr>\n",
       "      <th>73905</th>\n",
       "      <td>K&amp;D/CUI-32446</td>\n",
       "      <td>Cuisinart CPT-142 Compact 4-Slice Toaster</td>\n",
       "      <td>2</td>\n",
       "      <td>Wildly Inaccurate Settings</td>\n",
       "      <td>2020-02-27</td>\n",
       "    </tr>\n",
       "    <tr>\n",
       "      <th>73906</th>\n",
       "      <td>K&amp;D/NOR-01856</td>\n",
       "      <td>Nordic Ware 60120 Microwaver Popcorn Popper 12...</td>\n",
       "      <td>4</td>\n",
       "      <td>Imperfect, but So Handy!</td>\n",
       "      <td>2020-05-10</td>\n",
       "    </tr>\n",
       "  </tbody>\n",
       "</table>\n",
       "<p>34729 rows × 5 columns</p>\n",
       "</div>"
      ],
      "text/plain": [
       "           ProductID                                       Product Name  \\\n",
       "3      K&D/FOX-77328          Fox Run Salt and Pepper Shaker Set, Glass   \n",
       "7      K&D/PRO-00930  Progressive International GMMC-68 Microwavable...   \n",
       "8      K&D/HIG-61873  Highwin P1001-8 8-Cup Doublewall Stainless Ste...   \n",
       "9      K&D/BAR-93217  Baratza Encore - Conical Burr Coffee Grinder (...   \n",
       "12     K&D/BAM-78441  Bamboo Cutting Board Set - 3 Piece All In One ...   \n",
       "...              ...                                                ...   \n",
       "73895  K&D/TRU-30514            Trudeau Melamine Mixing Bowls, Set of 3   \n",
       "73896  K&D/MOR-18621                                    Morning Mug (1)   \n",
       "73900  K&D/NIF-37634           Nifty Ice Cream Cone Cupcake Baking Rack   \n",
       "73905  K&D/CUI-32446          Cuisinart CPT-142 Compact 4-Slice Toaster   \n",
       "73906  K&D/NOR-01856  Nordic Ware 60120 Microwaver Popcorn Popper 12...   \n",
       "\n",
       "       Rating                                            Review       Date  \n",
       "3           5                                  Nice Shaker Set. 2020-10-14  \n",
       "7           5                                       Works great 2020-09-08  \n",
       "8           5                                       Loved it :) 2020-12-11  \n",
       "9           5                                        Great deal 2020-04-30  \n",
       "12          5  I'm oiling them now.  Nice!  Lavish and durable. 2020-10-15  \n",
       "...       ...                                               ...        ...  \n",
       "73895       1                                      Broke easily 2020-11-26  \n",
       "73896       1                                          NOT GOOD 2020-07-15  \n",
       "73900       4                                        Works well 2020-02-11  \n",
       "73905       2                        Wildly Inaccurate Settings 2020-02-27  \n",
       "73906       4                          Imperfect, but So Handy! 2020-05-10  \n",
       "\n",
       "[34729 rows x 5 columns]"
      ]
     },
     "execution_count": 13,
     "metadata": {},
     "output_type": "execute_result"
    }
   ],
   "source": [
    "reviews_df = reviews_df[reviews_df['Date'].dt.year >= 2020]\n",
    "\n",
    "reviews_df"
   ]
  },
  {
   "cell_type": "markdown",
   "id": "0ba0d010-cc3d-4c97-892c-efdebc83438c",
   "metadata": {},
   "source": [
    "### Processing review text"
   ]
  },
  {
   "cell_type": "markdown",
   "id": "ce39791a-9c64-452a-b506-cd3b8eb35c33",
   "metadata": {},
   "source": [
    "Making text uniform typically involves the following steps:\n",
    "\n",
    "    Converting text to lowercase only;\n",
    "    I Removing trailing whitespace;\n",
    "    I Removing punctuation characters;\n",
    "    I Splitting text into its constituent words;\n",
    "    I Removing words that don’t carry meaning (i.e., “a”, “the”, etc.)."
   ]
  },
  {
   "cell_type": "code",
   "execution_count": 16,
   "id": "c66e6fc1-ca03-4599-bab5-60ca71cc3870",
   "metadata": {},
   "outputs": [
    {
     "data": {
      "text/html": [
       "<div>\n",
       "<style scoped>\n",
       "    .dataframe tbody tr th:only-of-type {\n",
       "        vertical-align: middle;\n",
       "    }\n",
       "\n",
       "    .dataframe tbody tr th {\n",
       "        vertical-align: top;\n",
       "    }\n",
       "\n",
       "    .dataframe thead th {\n",
       "        text-align: right;\n",
       "    }\n",
       "</style>\n",
       "<table border=\"1\" class=\"dataframe\">\n",
       "  <thead>\n",
       "    <tr style=\"text-align: right;\">\n",
       "      <th></th>\n",
       "      <th>ProductID</th>\n",
       "      <th>Product Name</th>\n",
       "      <th>Rating</th>\n",
       "      <th>Review</th>\n",
       "      <th>Date</th>\n",
       "    </tr>\n",
       "  </thead>\n",
       "  <tbody>\n",
       "    <tr>\n",
       "      <th>3</th>\n",
       "      <td>K&amp;D/FOX-77328</td>\n",
       "      <td>Fox Run Salt and Pepper Shaker Set, Glass</td>\n",
       "      <td>5</td>\n",
       "      <td>nice shaker set.</td>\n",
       "      <td>2020-10-14</td>\n",
       "    </tr>\n",
       "    <tr>\n",
       "      <th>7</th>\n",
       "      <td>K&amp;D/PRO-00930</td>\n",
       "      <td>Progressive International GMMC-68 Microwavable...</td>\n",
       "      <td>5</td>\n",
       "      <td>works great</td>\n",
       "      <td>2020-09-08</td>\n",
       "    </tr>\n",
       "    <tr>\n",
       "      <th>8</th>\n",
       "      <td>K&amp;D/HIG-61873</td>\n",
       "      <td>Highwin P1001-8 8-Cup Doublewall Stainless Ste...</td>\n",
       "      <td>5</td>\n",
       "      <td>loved it :)</td>\n",
       "      <td>2020-12-11</td>\n",
       "    </tr>\n",
       "    <tr>\n",
       "      <th>9</th>\n",
       "      <td>K&amp;D/BAR-93217</td>\n",
       "      <td>Baratza Encore - Conical Burr Coffee Grinder (...</td>\n",
       "      <td>5</td>\n",
       "      <td>great deal</td>\n",
       "      <td>2020-04-30</td>\n",
       "    </tr>\n",
       "    <tr>\n",
       "      <th>12</th>\n",
       "      <td>K&amp;D/BAM-78441</td>\n",
       "      <td>Bamboo Cutting Board Set - 3 Piece All In One ...</td>\n",
       "      <td>5</td>\n",
       "      <td>i'm oiling them now.  nice!  lavish and durable.</td>\n",
       "      <td>2020-10-15</td>\n",
       "    </tr>\n",
       "    <tr>\n",
       "      <th>...</th>\n",
       "      <td>...</td>\n",
       "      <td>...</td>\n",
       "      <td>...</td>\n",
       "      <td>...</td>\n",
       "      <td>...</td>\n",
       "    </tr>\n",
       "    <tr>\n",
       "      <th>73895</th>\n",
       "      <td>K&amp;D/TRU-30514</td>\n",
       "      <td>Trudeau Melamine Mixing Bowls, Set of 3</td>\n",
       "      <td>1</td>\n",
       "      <td>broke easily</td>\n",
       "      <td>2020-11-26</td>\n",
       "    </tr>\n",
       "    <tr>\n",
       "      <th>73896</th>\n",
       "      <td>K&amp;D/MOR-18621</td>\n",
       "      <td>Morning Mug (1)</td>\n",
       "      <td>1</td>\n",
       "      <td>not good</td>\n",
       "      <td>2020-07-15</td>\n",
       "    </tr>\n",
       "    <tr>\n",
       "      <th>73900</th>\n",
       "      <td>K&amp;D/NIF-37634</td>\n",
       "      <td>Nifty Ice Cream Cone Cupcake Baking Rack</td>\n",
       "      <td>4</td>\n",
       "      <td>works well</td>\n",
       "      <td>2020-02-11</td>\n",
       "    </tr>\n",
       "    <tr>\n",
       "      <th>73905</th>\n",
       "      <td>K&amp;D/CUI-32446</td>\n",
       "      <td>Cuisinart CPT-142 Compact 4-Slice Toaster</td>\n",
       "      <td>2</td>\n",
       "      <td>wildly inaccurate settings</td>\n",
       "      <td>2020-02-27</td>\n",
       "    </tr>\n",
       "    <tr>\n",
       "      <th>73906</th>\n",
       "      <td>K&amp;D/NOR-01856</td>\n",
       "      <td>Nordic Ware 60120 Microwaver Popcorn Popper 12...</td>\n",
       "      <td>4</td>\n",
       "      <td>imperfect, but so handy!</td>\n",
       "      <td>2020-05-10</td>\n",
       "    </tr>\n",
       "  </tbody>\n",
       "</table>\n",
       "<p>34729 rows × 5 columns</p>\n",
       "</div>"
      ],
      "text/plain": [
       "           ProductID                                       Product Name  \\\n",
       "3      K&D/FOX-77328          Fox Run Salt and Pepper Shaker Set, Glass   \n",
       "7      K&D/PRO-00930  Progressive International GMMC-68 Microwavable...   \n",
       "8      K&D/HIG-61873  Highwin P1001-8 8-Cup Doublewall Stainless Ste...   \n",
       "9      K&D/BAR-93217  Baratza Encore - Conical Burr Coffee Grinder (...   \n",
       "12     K&D/BAM-78441  Bamboo Cutting Board Set - 3 Piece All In One ...   \n",
       "...              ...                                                ...   \n",
       "73895  K&D/TRU-30514            Trudeau Melamine Mixing Bowls, Set of 3   \n",
       "73896  K&D/MOR-18621                                    Morning Mug (1)   \n",
       "73900  K&D/NIF-37634           Nifty Ice Cream Cone Cupcake Baking Rack   \n",
       "73905  K&D/CUI-32446          Cuisinart CPT-142 Compact 4-Slice Toaster   \n",
       "73906  K&D/NOR-01856  Nordic Ware 60120 Microwaver Popcorn Popper 12...   \n",
       "\n",
       "       Rating                                            Review       Date  \n",
       "3           5                                  nice shaker set. 2020-10-14  \n",
       "7           5                                       works great 2020-09-08  \n",
       "8           5                                       loved it :) 2020-12-11  \n",
       "9           5                                        great deal 2020-04-30  \n",
       "12          5  i'm oiling them now.  nice!  lavish and durable. 2020-10-15  \n",
       "...       ...                                               ...        ...  \n",
       "73895       1                                      broke easily 2020-11-26  \n",
       "73896       1                                          not good 2020-07-15  \n",
       "73900       4                                        works well 2020-02-11  \n",
       "73905       2                        wildly inaccurate settings 2020-02-27  \n",
       "73906       4                          imperfect, but so handy! 2020-05-10  \n",
       "\n",
       "[34729 rows x 5 columns]"
      ]
     },
     "execution_count": 16,
     "metadata": {},
     "output_type": "execute_result"
    }
   ],
   "source": [
    "reviews_df['Review'] = reviews_df['Review'].str.lower()   # Make lowercase\n",
    "reviews_df['Review'] = reviews_df['Review'].str.strip()   # Remove trailing whitespace\n",
    "\n",
    "reviews_df"
   ]
  },
  {
   "cell_type": "code",
   "execution_count": 17,
   "id": "d8d40352-f49c-49b7-b084-51b70d32e8c9",
   "metadata": {},
   "outputs": [
    {
     "data": {
      "text/plain": [
       "'!\"#$%&\\'()*+,-./:;<=>?@[\\\\]^_`{|}~'"
      ]
     },
     "execution_count": 17,
     "metadata": {},
     "output_type": "execute_result"
    }
   ],
   "source": [
    "import string\n",
    "\n",
    "string.punctuation"
   ]
  },
  {
   "cell_type": "code",
   "execution_count": 18,
   "id": "ed7b96dc-2fc2-4c7f-8d17-fbbc27186e84",
   "metadata": {},
   "outputs": [],
   "source": [
    "def remove_punctuation(review):\n",
    "    \n",
    "    for character in string.punctuation:\n",
    "        review = review.replace(character, '')\n",
    "        \n",
    "    return review"
   ]
  },
  {
   "cell_type": "code",
   "execution_count": 19,
   "id": "619457ef-5c39-4f7f-aa34-e9ef5315f58f",
   "metadata": {},
   "outputs": [
    {
     "data": {
      "text/plain": [
       "'Great quality Much nicer than expected  but expensive'"
      ]
     },
     "execution_count": 19,
     "metadata": {},
     "output_type": "execute_result"
    }
   ],
   "source": [
    "remove_punctuation('Great quality!!! Much nicer than expected -- but expensive.')"
   ]
  },
  {
   "cell_type": "code",
   "execution_count": 20,
   "id": "523952f0-72bc-430b-b47e-00aea38f82c7",
   "metadata": {},
   "outputs": [
    {
     "data": {
      "text/html": [
       "<div>\n",
       "<style scoped>\n",
       "    .dataframe tbody tr th:only-of-type {\n",
       "        vertical-align: middle;\n",
       "    }\n",
       "\n",
       "    .dataframe tbody tr th {\n",
       "        vertical-align: top;\n",
       "    }\n",
       "\n",
       "    .dataframe thead th {\n",
       "        text-align: right;\n",
       "    }\n",
       "</style>\n",
       "<table border=\"1\" class=\"dataframe\">\n",
       "  <thead>\n",
       "    <tr style=\"text-align: right;\">\n",
       "      <th></th>\n",
       "      <th>ProductID</th>\n",
       "      <th>Product Name</th>\n",
       "      <th>Rating</th>\n",
       "      <th>Review</th>\n",
       "      <th>Date</th>\n",
       "    </tr>\n",
       "  </thead>\n",
       "  <tbody>\n",
       "    <tr>\n",
       "      <th>3</th>\n",
       "      <td>K&amp;D/FOX-77328</td>\n",
       "      <td>Fox Run Salt and Pepper Shaker Set, Glass</td>\n",
       "      <td>5</td>\n",
       "      <td>nice shaker set</td>\n",
       "      <td>2020-10-14</td>\n",
       "    </tr>\n",
       "    <tr>\n",
       "      <th>7</th>\n",
       "      <td>K&amp;D/PRO-00930</td>\n",
       "      <td>Progressive International GMMC-68 Microwavable...</td>\n",
       "      <td>5</td>\n",
       "      <td>works great</td>\n",
       "      <td>2020-09-08</td>\n",
       "    </tr>\n",
       "    <tr>\n",
       "      <th>8</th>\n",
       "      <td>K&amp;D/HIG-61873</td>\n",
       "      <td>Highwin P1001-8 8-Cup Doublewall Stainless Ste...</td>\n",
       "      <td>5</td>\n",
       "      <td>loved it</td>\n",
       "      <td>2020-12-11</td>\n",
       "    </tr>\n",
       "    <tr>\n",
       "      <th>9</th>\n",
       "      <td>K&amp;D/BAR-93217</td>\n",
       "      <td>Baratza Encore - Conical Burr Coffee Grinder (...</td>\n",
       "      <td>5</td>\n",
       "      <td>great deal</td>\n",
       "      <td>2020-04-30</td>\n",
       "    </tr>\n",
       "    <tr>\n",
       "      <th>12</th>\n",
       "      <td>K&amp;D/BAM-78441</td>\n",
       "      <td>Bamboo Cutting Board Set - 3 Piece All In One ...</td>\n",
       "      <td>5</td>\n",
       "      <td>im oiling them now  nice  lavish and durable</td>\n",
       "      <td>2020-10-15</td>\n",
       "    </tr>\n",
       "  </tbody>\n",
       "</table>\n",
       "</div>"
      ],
      "text/plain": [
       "        ProductID                                       Product Name  Rating  \\\n",
       "3   K&D/FOX-77328          Fox Run Salt and Pepper Shaker Set, Glass       5   \n",
       "7   K&D/PRO-00930  Progressive International GMMC-68 Microwavable...       5   \n",
       "8   K&D/HIG-61873  Highwin P1001-8 8-Cup Doublewall Stainless Ste...       5   \n",
       "9   K&D/BAR-93217  Baratza Encore - Conical Burr Coffee Grinder (...       5   \n",
       "12  K&D/BAM-78441  Bamboo Cutting Board Set - 3 Piece All In One ...       5   \n",
       "\n",
       "                                          Review       Date  \n",
       "3                                nice shaker set 2020-10-14  \n",
       "7                                    works great 2020-09-08  \n",
       "8                                      loved it  2020-12-11  \n",
       "9                                     great deal 2020-04-30  \n",
       "12  im oiling them now  nice  lavish and durable 2020-10-15  "
      ]
     },
     "execution_count": 20,
     "metadata": {},
     "output_type": "execute_result"
    }
   ],
   "source": [
    "reviews_df['Review'] = reviews_df['Review'].apply(remove_punctuation)\n",
    "\n",
    "reviews_df.head()"
   ]
  },
  {
   "cell_type": "markdown",
   "id": "ab5f0541-7277-4774-9a51-eb4d52160da1",
   "metadata": {},
   "source": [
    "Now, we need to split each review into a list of words. "
   ]
  },
  {
   "cell_type": "code",
   "execution_count": 22,
   "id": "1ef8c39b-2c9d-4651-80e4-973ca8364be4",
   "metadata": {},
   "outputs": [
    {
     "data": {
      "text/html": [
       "<div>\n",
       "<style scoped>\n",
       "    .dataframe tbody tr th:only-of-type {\n",
       "        vertical-align: middle;\n",
       "    }\n",
       "\n",
       "    .dataframe tbody tr th {\n",
       "        vertical-align: top;\n",
       "    }\n",
       "\n",
       "    .dataframe thead th {\n",
       "        text-align: right;\n",
       "    }\n",
       "</style>\n",
       "<table border=\"1\" class=\"dataframe\">\n",
       "  <thead>\n",
       "    <tr style=\"text-align: right;\">\n",
       "      <th></th>\n",
       "      <th>Review</th>\n",
       "      <th>Review Words</th>\n",
       "    </tr>\n",
       "  </thead>\n",
       "  <tbody>\n",
       "    <tr>\n",
       "      <th>3</th>\n",
       "      <td>nice shaker set</td>\n",
       "      <td>[nice, shaker, set]</td>\n",
       "    </tr>\n",
       "    <tr>\n",
       "      <th>7</th>\n",
       "      <td>works great</td>\n",
       "      <td>[works, great]</td>\n",
       "    </tr>\n",
       "    <tr>\n",
       "      <th>8</th>\n",
       "      <td>loved it</td>\n",
       "      <td>[loved, it]</td>\n",
       "    </tr>\n",
       "    <tr>\n",
       "      <th>9</th>\n",
       "      <td>great deal</td>\n",
       "      <td>[great, deal]</td>\n",
       "    </tr>\n",
       "    <tr>\n",
       "      <th>12</th>\n",
       "      <td>im oiling them now  nice  lavish and durable</td>\n",
       "      <td>[im, oiling, them, now, nice, lavish, and, dur...</td>\n",
       "    </tr>\n",
       "    <tr>\n",
       "      <th>...</th>\n",
       "      <td>...</td>\n",
       "      <td>...</td>\n",
       "    </tr>\n",
       "    <tr>\n",
       "      <th>73895</th>\n",
       "      <td>broke easily</td>\n",
       "      <td>[broke, easily]</td>\n",
       "    </tr>\n",
       "    <tr>\n",
       "      <th>73896</th>\n",
       "      <td>not good</td>\n",
       "      <td>[not, good]</td>\n",
       "    </tr>\n",
       "    <tr>\n",
       "      <th>73900</th>\n",
       "      <td>works well</td>\n",
       "      <td>[works, well]</td>\n",
       "    </tr>\n",
       "    <tr>\n",
       "      <th>73905</th>\n",
       "      <td>wildly inaccurate settings</td>\n",
       "      <td>[wildly, inaccurate, settings]</td>\n",
       "    </tr>\n",
       "    <tr>\n",
       "      <th>73906</th>\n",
       "      <td>imperfect but so handy</td>\n",
       "      <td>[imperfect, but, so, handy]</td>\n",
       "    </tr>\n",
       "  </tbody>\n",
       "</table>\n",
       "<p>34729 rows × 2 columns</p>\n",
       "</div>"
      ],
      "text/plain": [
       "                                             Review  \\\n",
       "3                                   nice shaker set   \n",
       "7                                       works great   \n",
       "8                                         loved it    \n",
       "9                                        great deal   \n",
       "12     im oiling them now  nice  lavish and durable   \n",
       "...                                             ...   \n",
       "73895                                  broke easily   \n",
       "73896                                      not good   \n",
       "73900                                    works well   \n",
       "73905                    wildly inaccurate settings   \n",
       "73906                        imperfect but so handy   \n",
       "\n",
       "                                            Review Words  \n",
       "3                                    [nice, shaker, set]  \n",
       "7                                         [works, great]  \n",
       "8                                            [loved, it]  \n",
       "9                                          [great, deal]  \n",
       "12     [im, oiling, them, now, nice, lavish, and, dur...  \n",
       "...                                                  ...  \n",
       "73895                                    [broke, easily]  \n",
       "73896                                        [not, good]  \n",
       "73900                                      [works, well]  \n",
       "73905                     [wildly, inaccurate, settings]  \n",
       "73906                        [imperfect, but, so, handy]  \n",
       "\n",
       "[34729 rows x 2 columns]"
      ]
     },
     "execution_count": 22,
     "metadata": {},
     "output_type": "execute_result"
    }
   ],
   "source": [
    "reviews_df['Review Words'] = reviews_df['Review'].str.split()\n",
    "\n",
    "reviews_df[['Review', 'Review Words']]"
   ]
  },
  {
   "cell_type": "code",
   "execution_count": 23,
   "id": "97a4711e-c3ab-43d7-8bdb-e01b9ea054be",
   "metadata": {},
   "outputs": [
    {
     "data": {
      "text/plain": [
       "['word', 're', 'put', 'say', 'who']"
      ]
     },
     "execution_count": 23,
     "metadata": {},
     "output_type": "execute_result"
    }
   ],
   "source": [
    "stopwords = pd.read_csv('data/stopwords.csv', header=None)  # Read the CSV file without a header\n",
    "stopwords = stopwords.squeeze()                             # Convert the DataFrame to a Series\n",
    "stopwords = list(stopwords)                                 # Convert the Series to a list\n",
    "stopwords[:5]                                               # Show the 5 first elements"
   ]
  },
  {
   "cell_type": "code",
   "execution_count": 24,
   "id": "92a4eb8b-5ee0-45a3-8484-70f161cc6743",
   "metadata": {},
   "outputs": [
    {
     "data": {
      "text/plain": [
       "True"
      ]
     },
     "execution_count": 24,
     "metadata": {},
     "output_type": "execute_result"
    }
   ],
   "source": [
    "'it' in stopwords"
   ]
  },
  {
   "cell_type": "code",
   "execution_count": 25,
   "id": "d3ff04ea-b8f4-431a-a9f6-61bb963322ba",
   "metadata": {},
   "outputs": [
    {
     "data": {
      "text/plain": [
       "False"
      ]
     },
     "execution_count": 25,
     "metadata": {},
     "output_type": "execute_result"
    }
   ],
   "source": [
    "'product' in stopwords"
   ]
  },
  {
   "cell_type": "code",
   "execution_count": 26,
   "id": "cf2eeb5b-40e6-43f4-8e1f-c01a56c6609b",
   "metadata": {},
   "outputs": [],
   "source": [
    "def remove_stopwords(word_list):\n",
    "    return [w for w in word_list if w not in stopwords]"
   ]
  },
  {
   "cell_type": "code",
   "execution_count": 27,
   "id": "41969ed7-db55-4322-8a25-d41897de2fff",
   "metadata": {},
   "outputs": [
    {
     "data": {
      "text/plain": [
       "['imperfect', 'handy']"
      ]
     },
     "execution_count": 27,
     "metadata": {},
     "output_type": "execute_result"
    }
   ],
   "source": [
    "remove_stopwords(['imperfect', 'but', 'so', 'handy'])"
   ]
  },
  {
   "cell_type": "code",
   "execution_count": 28,
   "id": "142a16d1-32db-45c2-9353-cfd2f0863584",
   "metadata": {},
   "outputs": [
    {
     "data": {
      "text/html": [
       "<div>\n",
       "<style scoped>\n",
       "    .dataframe tbody tr th:only-of-type {\n",
       "        vertical-align: middle;\n",
       "    }\n",
       "\n",
       "    .dataframe tbody tr th {\n",
       "        vertical-align: top;\n",
       "    }\n",
       "\n",
       "    .dataframe thead th {\n",
       "        text-align: right;\n",
       "    }\n",
       "</style>\n",
       "<table border=\"1\" class=\"dataframe\">\n",
       "  <thead>\n",
       "    <tr style=\"text-align: right;\">\n",
       "      <th></th>\n",
       "      <th>Review</th>\n",
       "      <th>Review Words</th>\n",
       "    </tr>\n",
       "  </thead>\n",
       "  <tbody>\n",
       "    <tr>\n",
       "      <th>3</th>\n",
       "      <td>nice shaker set</td>\n",
       "      <td>[nice, shaker, set]</td>\n",
       "    </tr>\n",
       "    <tr>\n",
       "      <th>7</th>\n",
       "      <td>works great</td>\n",
       "      <td>[works, great]</td>\n",
       "    </tr>\n",
       "    <tr>\n",
       "      <th>8</th>\n",
       "      <td>loved it</td>\n",
       "      <td>[loved, it]</td>\n",
       "    </tr>\n",
       "    <tr>\n",
       "      <th>9</th>\n",
       "      <td>great deal</td>\n",
       "      <td>[great, deal]</td>\n",
       "    </tr>\n",
       "    <tr>\n",
       "      <th>12</th>\n",
       "      <td>im oiling them now  nice  lavish and durable</td>\n",
       "      <td>[im, oiling, them, now, nice, lavish, and, dur...</td>\n",
       "    </tr>\n",
       "    <tr>\n",
       "      <th>...</th>\n",
       "      <td>...</td>\n",
       "      <td>...</td>\n",
       "    </tr>\n",
       "    <tr>\n",
       "      <th>73895</th>\n",
       "      <td>broke easily</td>\n",
       "      <td>[broke, easily]</td>\n",
       "    </tr>\n",
       "    <tr>\n",
       "      <th>73896</th>\n",
       "      <td>not good</td>\n",
       "      <td>[not, good]</td>\n",
       "    </tr>\n",
       "    <tr>\n",
       "      <th>73900</th>\n",
       "      <td>works well</td>\n",
       "      <td>[works, well]</td>\n",
       "    </tr>\n",
       "    <tr>\n",
       "      <th>73905</th>\n",
       "      <td>wildly inaccurate settings</td>\n",
       "      <td>[wildly, inaccurate, settings]</td>\n",
       "    </tr>\n",
       "    <tr>\n",
       "      <th>73906</th>\n",
       "      <td>imperfect but so handy</td>\n",
       "      <td>[imperfect, but, so, handy]</td>\n",
       "    </tr>\n",
       "  </tbody>\n",
       "</table>\n",
       "<p>34729 rows × 2 columns</p>\n",
       "</div>"
      ],
      "text/plain": [
       "                                             Review  \\\n",
       "3                                   nice shaker set   \n",
       "7                                       works great   \n",
       "8                                         loved it    \n",
       "9                                        great deal   \n",
       "12     im oiling them now  nice  lavish and durable   \n",
       "...                                             ...   \n",
       "73895                                  broke easily   \n",
       "73896                                      not good   \n",
       "73900                                    works well   \n",
       "73905                    wildly inaccurate settings   \n",
       "73906                        imperfect but so handy   \n",
       "\n",
       "                                            Review Words  \n",
       "3                                    [nice, shaker, set]  \n",
       "7                                         [works, great]  \n",
       "8                                            [loved, it]  \n",
       "9                                          [great, deal]  \n",
       "12     [im, oiling, them, now, nice, lavish, and, dur...  \n",
       "...                                                  ...  \n",
       "73895                                    [broke, easily]  \n",
       "73896                                        [not, good]  \n",
       "73900                                      [works, well]  \n",
       "73905                     [wildly, inaccurate, settings]  \n",
       "73906                        [imperfect, but, so, handy]  \n",
       "\n",
       "[34729 rows x 2 columns]"
      ]
     },
     "execution_count": 28,
     "metadata": {},
     "output_type": "execute_result"
    }
   ],
   "source": [
    "reviews_df[['Review', 'Review Words']]"
   ]
  },
  {
   "cell_type": "code",
   "execution_count": 29,
   "id": "dfbb5a54-055f-4402-a32e-acb26f3cb7bd",
   "metadata": {},
   "outputs": [
    {
     "data": {
      "text/html": [
       "<div>\n",
       "<style scoped>\n",
       "    .dataframe tbody tr th:only-of-type {\n",
       "        vertical-align: middle;\n",
       "    }\n",
       "\n",
       "    .dataframe tbody tr th {\n",
       "        vertical-align: top;\n",
       "    }\n",
       "\n",
       "    .dataframe thead th {\n",
       "        text-align: right;\n",
       "    }\n",
       "</style>\n",
       "<table border=\"1\" class=\"dataframe\">\n",
       "  <thead>\n",
       "    <tr style=\"text-align: right;\">\n",
       "      <th></th>\n",
       "      <th>Review</th>\n",
       "      <th>Review Words</th>\n",
       "    </tr>\n",
       "  </thead>\n",
       "  <tbody>\n",
       "    <tr>\n",
       "      <th>3</th>\n",
       "      <td>nice shaker set</td>\n",
       "      <td>[nice, shaker, set]</td>\n",
       "    </tr>\n",
       "    <tr>\n",
       "      <th>7</th>\n",
       "      <td>works great</td>\n",
       "      <td>[works, great]</td>\n",
       "    </tr>\n",
       "    <tr>\n",
       "      <th>8</th>\n",
       "      <td>loved it</td>\n",
       "      <td>[loved]</td>\n",
       "    </tr>\n",
       "    <tr>\n",
       "      <th>9</th>\n",
       "      <td>great deal</td>\n",
       "      <td>[great, deal]</td>\n",
       "    </tr>\n",
       "    <tr>\n",
       "      <th>12</th>\n",
       "      <td>im oiling them now  nice  lavish and durable</td>\n",
       "      <td>[oiling, nice, lavish, durable]</td>\n",
       "    </tr>\n",
       "    <tr>\n",
       "      <th>...</th>\n",
       "      <td>...</td>\n",
       "      <td>...</td>\n",
       "    </tr>\n",
       "    <tr>\n",
       "      <th>73895</th>\n",
       "      <td>broke easily</td>\n",
       "      <td>[broke, easily]</td>\n",
       "    </tr>\n",
       "    <tr>\n",
       "      <th>73896</th>\n",
       "      <td>not good</td>\n",
       "      <td>[good]</td>\n",
       "    </tr>\n",
       "    <tr>\n",
       "      <th>73900</th>\n",
       "      <td>works well</td>\n",
       "      <td>[works]</td>\n",
       "    </tr>\n",
       "    <tr>\n",
       "      <th>73905</th>\n",
       "      <td>wildly inaccurate settings</td>\n",
       "      <td>[wildly, inaccurate, settings]</td>\n",
       "    </tr>\n",
       "    <tr>\n",
       "      <th>73906</th>\n",
       "      <td>imperfect but so handy</td>\n",
       "      <td>[imperfect, handy]</td>\n",
       "    </tr>\n",
       "  </tbody>\n",
       "</table>\n",
       "<p>34729 rows × 2 columns</p>\n",
       "</div>"
      ],
      "text/plain": [
       "                                             Review  \\\n",
       "3                                   nice shaker set   \n",
       "7                                       works great   \n",
       "8                                         loved it    \n",
       "9                                        great deal   \n",
       "12     im oiling them now  nice  lavish and durable   \n",
       "...                                             ...   \n",
       "73895                                  broke easily   \n",
       "73896                                      not good   \n",
       "73900                                    works well   \n",
       "73905                    wildly inaccurate settings   \n",
       "73906                        imperfect but so handy   \n",
       "\n",
       "                          Review Words  \n",
       "3                  [nice, shaker, set]  \n",
       "7                       [works, great]  \n",
       "8                              [loved]  \n",
       "9                        [great, deal]  \n",
       "12     [oiling, nice, lavish, durable]  \n",
       "...                                ...  \n",
       "73895                  [broke, easily]  \n",
       "73896                           [good]  \n",
       "73900                          [works]  \n",
       "73905   [wildly, inaccurate, settings]  \n",
       "73906               [imperfect, handy]  \n",
       "\n",
       "[34729 rows x 2 columns]"
      ]
     },
     "execution_count": 29,
     "metadata": {},
     "output_type": "execute_result"
    }
   ],
   "source": [
    "reviews_df['Review Words'] = reviews_df['Review Words'].apply(remove_stopwords)\n",
    "\n",
    "reviews_df[['Review', 'Review Words']]"
   ]
  },
  {
   "cell_type": "markdown",
   "id": "82ea3bfd-61eb-4dc1-a8cb-3c368e351172",
   "metadata": {},
   "source": [
    "### Counting words"
   ]
  },
  {
   "cell_type": "code",
   "execution_count": 31,
   "id": "6ec4579c-54e7-4158-bd21-e3aa24eb316b",
   "metadata": {},
   "outputs": [
    {
     "data": {
      "text/html": [
       "<div>\n",
       "<style scoped>\n",
       "    .dataframe tbody tr th:only-of-type {\n",
       "        vertical-align: middle;\n",
       "    }\n",
       "\n",
       "    .dataframe tbody tr th {\n",
       "        vertical-align: top;\n",
       "    }\n",
       "\n",
       "    .dataframe thead th {\n",
       "        text-align: right;\n",
       "    }\n",
       "</style>\n",
       "<table border=\"1\" class=\"dataframe\">\n",
       "  <thead>\n",
       "    <tr style=\"text-align: right;\">\n",
       "      <th></th>\n",
       "      <th>ProductID</th>\n",
       "      <th>Product Name</th>\n",
       "      <th>Rating</th>\n",
       "      <th>Review</th>\n",
       "      <th>Date</th>\n",
       "      <th>Review Words</th>\n",
       "    </tr>\n",
       "  </thead>\n",
       "  <tbody>\n",
       "    <tr>\n",
       "      <th>3</th>\n",
       "      <td>K&amp;D/FOX-77328</td>\n",
       "      <td>Fox Run Salt and Pepper Shaker Set, Glass</td>\n",
       "      <td>5</td>\n",
       "      <td>nice shaker set</td>\n",
       "      <td>2020-10-14</td>\n",
       "      <td>[nice, shaker, set]</td>\n",
       "    </tr>\n",
       "    <tr>\n",
       "      <th>7</th>\n",
       "      <td>K&amp;D/PRO-00930</td>\n",
       "      <td>Progressive International GMMC-68 Microwavable...</td>\n",
       "      <td>5</td>\n",
       "      <td>works great</td>\n",
       "      <td>2020-09-08</td>\n",
       "      <td>[works, great]</td>\n",
       "    </tr>\n",
       "    <tr>\n",
       "      <th>8</th>\n",
       "      <td>K&amp;D/HIG-61873</td>\n",
       "      <td>Highwin P1001-8 8-Cup Doublewall Stainless Ste...</td>\n",
       "      <td>5</td>\n",
       "      <td>loved it</td>\n",
       "      <td>2020-12-11</td>\n",
       "      <td>[loved]</td>\n",
       "    </tr>\n",
       "    <tr>\n",
       "      <th>9</th>\n",
       "      <td>K&amp;D/BAR-93217</td>\n",
       "      <td>Baratza Encore - Conical Burr Coffee Grinder (...</td>\n",
       "      <td>5</td>\n",
       "      <td>great deal</td>\n",
       "      <td>2020-04-30</td>\n",
       "      <td>[great, deal]</td>\n",
       "    </tr>\n",
       "    <tr>\n",
       "      <th>12</th>\n",
       "      <td>K&amp;D/BAM-78441</td>\n",
       "      <td>Bamboo Cutting Board Set - 3 Piece All In One ...</td>\n",
       "      <td>5</td>\n",
       "      <td>im oiling them now  nice  lavish and durable</td>\n",
       "      <td>2020-10-15</td>\n",
       "      <td>[oiling, nice, lavish, durable]</td>\n",
       "    </tr>\n",
       "  </tbody>\n",
       "</table>\n",
       "</div>"
      ],
      "text/plain": [
       "        ProductID                                       Product Name  Rating  \\\n",
       "3   K&D/FOX-77328          Fox Run Salt and Pepper Shaker Set, Glass       5   \n",
       "7   K&D/PRO-00930  Progressive International GMMC-68 Microwavable...       5   \n",
       "8   K&D/HIG-61873  Highwin P1001-8 8-Cup Doublewall Stainless Ste...       5   \n",
       "9   K&D/BAR-93217  Baratza Encore - Conical Burr Coffee Grinder (...       5   \n",
       "12  K&D/BAM-78441  Bamboo Cutting Board Set - 3 Piece All In One ...       5   \n",
       "\n",
       "                                          Review       Date  \\\n",
       "3                                nice shaker set 2020-10-14   \n",
       "7                                    works great 2020-09-08   \n",
       "8                                      loved it  2020-12-11   \n",
       "9                                     great deal 2020-04-30   \n",
       "12  im oiling them now  nice  lavish and durable 2020-10-15   \n",
       "\n",
       "                       Review Words  \n",
       "3               [nice, shaker, set]  \n",
       "7                    [works, great]  \n",
       "8                           [loved]  \n",
       "9                     [great, deal]  \n",
       "12  [oiling, nice, lavish, durable]  "
      ]
     },
     "execution_count": 31,
     "metadata": {},
     "output_type": "execute_result"
    }
   ],
   "source": [
    "reviews_df.head()"
   ]
  },
  {
   "cell_type": "code",
   "execution_count": 32,
   "id": "8e0130e6-5256-4e28-b1dc-fd13add2bb2b",
   "metadata": {},
   "outputs": [
    {
     "data": {
      "text/html": [
       "<div>\n",
       "<style scoped>\n",
       "    .dataframe tbody tr th:only-of-type {\n",
       "        vertical-align: middle;\n",
       "    }\n",
       "\n",
       "    .dataframe tbody tr th {\n",
       "        vertical-align: top;\n",
       "    }\n",
       "\n",
       "    .dataframe thead th {\n",
       "        text-align: right;\n",
       "    }\n",
       "</style>\n",
       "<table border=\"1\" class=\"dataframe\">\n",
       "  <thead>\n",
       "    <tr style=\"text-align: right;\">\n",
       "      <th></th>\n",
       "      <th>ProductID</th>\n",
       "      <th>Product Name</th>\n",
       "      <th>Rating</th>\n",
       "      <th>Review</th>\n",
       "      <th>Date</th>\n",
       "      <th>Review Words</th>\n",
       "    </tr>\n",
       "  </thead>\n",
       "  <tbody>\n",
       "    <tr>\n",
       "      <th>28320</th>\n",
       "      <td>K&amp;D/AER-36021</td>\n",
       "      <td>Aero Knife</td>\n",
       "      <td>1</td>\n",
       "      <td>dont fall for it</td>\n",
       "      <td>2020-06-13</td>\n",
       "      <td>[fall]</td>\n",
       "    </tr>\n",
       "    <tr>\n",
       "      <th>28340</th>\n",
       "      <td>K&amp;D/BLA-83109</td>\n",
       "      <td>Black &amp;amp; Decker 3-in-1 Waffle Maker &amp;amp; I...</td>\n",
       "      <td>1</td>\n",
       "      <td>not what they used to be</td>\n",
       "      <td>2020-07-07</td>\n",
       "      <td>[]</td>\n",
       "    </tr>\n",
       "    <tr>\n",
       "      <th>28345</th>\n",
       "      <td>K&amp;D/BAL-09899</td>\n",
       "      <td>Ball Dissolvable Labels  - (Set Of 60) (by Jar...</td>\n",
       "      <td>1</td>\n",
       "      <td>look great but dont seal down well on jar</td>\n",
       "      <td>2020-01-01</td>\n",
       "      <td>[look, great, seal, jar]</td>\n",
       "    </tr>\n",
       "    <tr>\n",
       "      <th>28358</th>\n",
       "      <td>K&amp;D/OST-79825</td>\n",
       "      <td>Oster 2500 Inspire 240-Watt 5-Speed Hand Mixer...</td>\n",
       "      <td>1</td>\n",
       "      <td>didnt work the first time i used it</td>\n",
       "      <td>2020-07-11</td>\n",
       "      <td>[didnt, work, time]</td>\n",
       "    </tr>\n",
       "    <tr>\n",
       "      <th>28368</th>\n",
       "      <td>K&amp;D/KOL-54568</td>\n",
       "      <td>Kolder Original Mini Measure, Multi-Purpose Me...</td>\n",
       "      <td>1</td>\n",
       "      <td>markings quickly disappear</td>\n",
       "      <td>2020-07-01</td>\n",
       "      <td>[markings, quickly, disappear]</td>\n",
       "    </tr>\n",
       "  </tbody>\n",
       "</table>\n",
       "</div>"
      ],
      "text/plain": [
       "           ProductID                                       Product Name  \\\n",
       "28320  K&D/AER-36021                                         Aero Knife   \n",
       "28340  K&D/BLA-83109  Black &amp; Decker 3-in-1 Waffle Maker &amp; I...   \n",
       "28345  K&D/BAL-09899  Ball Dissolvable Labels  - (Set Of 60) (by Jar...   \n",
       "28358  K&D/OST-79825  Oster 2500 Inspire 240-Watt 5-Speed Hand Mixer...   \n",
       "28368  K&D/KOL-54568  Kolder Original Mini Measure, Multi-Purpose Me...   \n",
       "\n",
       "       Rating                                     Review       Date  \\\n",
       "28320       1                           dont fall for it 2020-06-13   \n",
       "28340       1                   not what they used to be 2020-07-07   \n",
       "28345       1  look great but dont seal down well on jar 2020-01-01   \n",
       "28358       1        didnt work the first time i used it 2020-07-11   \n",
       "28368       1                 markings quickly disappear 2020-07-01   \n",
       "\n",
       "                         Review Words  \n",
       "28320                          [fall]  \n",
       "28340                              []  \n",
       "28345        [look, great, seal, jar]  \n",
       "28358             [didnt, work, time]  \n",
       "28368  [markings, quickly, disappear]  "
      ]
     },
     "execution_count": 32,
     "metadata": {},
     "output_type": "execute_result"
    }
   ],
   "source": [
    "haters_reviews_df = reviews_df.loc[reviews_df['Rating'] == 1]\n",
    "lovers_reviews_df = reviews_df.loc[(reviews_df['Rating'] == 5)]\n",
    "\n",
    "haters_reviews_df.head()"
   ]
  },
  {
   "cell_type": "code",
   "execution_count": 33,
   "id": "8edc0c3b-25db-44ad-aec3-0732ec0a2cfa",
   "metadata": {},
   "outputs": [
    {
     "data": {
      "text/plain": [
       "0        fall\n",
       "1        look\n",
       "2       great\n",
       "3        seal\n",
       "4         jar\n",
       "5       didnt\n",
       "6        work\n",
       "7        time\n",
       "8    markings\n",
       "9     quickly\n",
       "dtype: object"
      ]
     },
     "execution_count": 33,
     "metadata": {},
     "output_type": "execute_result"
    }
   ],
   "source": [
    "# Sum all words in the 'Review Words' column for haters' reviews and convert to a pandas Series\n",
    "negative_words = pd.Series(haters_reviews_df['Review Words'].sum()) \n",
    "\n",
    "# Sum all words in the 'Review Words' column for lovers' reviews and convert to a pandas Series\n",
    "positive_words = pd.Series(lovers_reviews_df['Review Words'].sum())  \n",
    "\n",
    "negative_words.head(10)"
   ]
  },
  {
   "cell_type": "code",
   "execution_count": 34,
   "id": "1817df49-3fba-4e9a-b979-1c2156d37621",
   "metadata": {},
   "outputs": [
    {
     "data": {
      "text/plain": [
       "money           96\n",
       "work            91\n",
       "buy             85\n",
       "junk            83\n",
       "use             82\n",
       "                ..\n",
       "human            1\n",
       "loses            1\n",
       "cannister        1\n",
       "compartment      1\n",
       "terribledont     1\n",
       "Name: count, Length: 2043, dtype: int64"
      ]
     },
     "execution_count": 34,
     "metadata": {},
     "output_type": "execute_result"
    }
   ],
   "source": [
    "# Count the frequency of each unique word in the 'negative_words' series\n",
    "negative_words.value_counts()"
   ]
  },
  {
   "cell_type": "code",
   "execution_count": 35,
   "id": "9b48cb8d-1d38-41ab-80e1-35a35854a70d",
   "metadata": {},
   "outputs": [
    {
     "data": {
      "text/plain": [
       "great         2721\n",
       "love          1091\n",
       "good           727\n",
       "works          725\n",
       "perfect        703\n",
       "              ... \n",
       "fingerhand       1\n",
       "cubed            1\n",
       "mothera          1\n",
       "jarjar           1\n",
       "cutest           1\n",
       "Name: count, Length: 4787, dtype: int64"
      ]
     },
     "execution_count": 35,
     "metadata": {},
     "output_type": "execute_result"
    }
   ],
   "source": [
    "# Count the frequency of each unique word in the 'positive_words' series\n",
    "positive_words.value_counts()"
   ]
  },
  {
   "cell_type": "markdown",
   "id": "3e6bc9c3-2f8d-47d7-a59d-b56f512801b7",
   "metadata": {},
   "source": [
    "For instance, you can try to find out what’s so 'great' about the\n",
    "products that people review. To do that, you can use a simple\n",
    "regular expression and extract all words that follow 'great' in\n",
    "positive reviews."
   ]
  },
  {
   "cell_type": "code",
   "execution_count": 37,
   "id": "eb17aa96-fa72-499d-8144-11f605d769ac",
   "metadata": {},
   "outputs": [
    {
     "data": {
      "text/plain": [
       "0                                                \n",
       "great product                                        159\n",
       "great quality                                         30\n",
       "great value                                           29\n",
       "great price                                           25\n",
       "great gift                                            23\n",
       "                                                    ... \n",
       "great for pizza                                        1\n",
       "great for personal use or too entertain or a gift      1\n",
       "great for people with arthritis                        1\n",
       "great for parties                                      1\n",
       "great zucchini noodles                                 1\n",
       "Name: count, Length: 1352, dtype: int64"
      ]
     },
     "execution_count": 37,
     "metadata": {},
     "output_type": "execute_result"
    }
   ],
   "source": [
    "# Define a regular expression pattern to match phrases starting with 'great' followed by any characters\n",
    "positive_pattern = '(great .*)'\n",
    "\n",
    "# Extract and count the occurrences of reviews that match the positive pattern 'great'\n",
    "lovers_reviews_df['Review'].str.extract(positive_pattern).value_counts()"
   ]
  },
  {
   "cell_type": "code",
   "execution_count": 38,
   "id": "c31c8fbb-8aed-4d2a-98ce-58f3a710566d",
   "metadata": {},
   "outputs": [
    {
     "data": {
      "text/plain": [
       "0                                                          \n",
       "poor quality                                                   22\n",
       "poor design                                                     4\n",
       "poor product                                                    3\n",
       "poor and dangerous workmanship                                  1\n",
       "poor quality not what i expected                                1\n",
       "poor quality casting                                            1\n",
       "poor quality control                                            1\n",
       "poor quality control warped lid marked lid surface              1\n",
       "poor quality do not buy                                         1\n",
       "poor quality dont buy                                           1\n",
       "poor quality like all kitchenaid products  i have purchased     1\n",
       "poor quality no longevity                                       1\n",
       "poor quality poor materials poor design                         1\n",
       "poor quality baskets                                            1\n",
       "poor quality product broke the first time i tried to use it     1\n",
       "poor quality they worn out in less than one month use           1\n",
       "poor quality would not buy again                                1\n",
       "poor qualityconstruction                                        1\n",
       "poor steel                                                      1\n",
       "poor taste                                                      1\n",
       "poor to be generous                                             1\n",
       "poor toaster                                                    1\n",
       "poor quality board                                              1\n",
       "poor quality  not recommended                                   1\n",
       "poor quality and no cap                                         1\n",
       "poor insulation and very small                                  1\n",
       "poor design  wastes a bunch of kernels                          1\n",
       "poor design  worse execution                                    1\n",
       "poor design and it does not work because of it                  1\n",
       "poor design worked for a few months  broked                     1\n",
       "poor execution                                                  1\n",
       "poor fit                                                        1\n",
       "poor handle welds                                               1\n",
       "poor longevity                                                  1\n",
       "poor but amazon customer service rocks                          1\n",
       "poor manufacturer warranty                                      1\n",
       "poor package                                                    1\n",
       "poor packaging arrived broken                                   1\n",
       "poor performace died after 1 year                               1\n",
       "poor performance                                                1\n",
       "poor product broke on first use                                 1\n",
       "poor quality  not as described                                  1\n",
       "poor water without spilling                                     1\n",
       "Name: count, dtype: int64"
      ]
     },
     "execution_count": 38,
     "metadata": {},
     "output_type": "execute_result"
    }
   ],
   "source": [
    "# Define a regular expression pattern to match phrases starting with 'poor' followed by any characters\n",
    "negative_pattern = '(poor .*)'\n",
    "\n",
    "# Extract and count the occurrences of reviews that match the positive pattern 'great'\n",
    "haters_reviews_df['Review'].str.extract(negative_pattern).value_counts()"
   ]
  }
 ],
 "metadata": {
  "kernelspec": {
   "display_name": "Python 3 (ipykernel)",
   "language": "python",
   "name": "python3"
  },
  "language_info": {
   "codemirror_mode": {
    "name": "ipython",
    "version": 3
   },
   "file_extension": ".py",
   "mimetype": "text/x-python",
   "name": "python",
   "nbconvert_exporter": "python",
   "pygments_lexer": "ipython3",
   "version": "3.11.7"
  }
 },
 "nbformat": 4,
 "nbformat_minor": 5
}
