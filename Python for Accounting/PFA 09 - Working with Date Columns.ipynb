{
 "cells": [
  {
   "cell_type": "markdown",
   "id": "841b7134-677b-4130-888e-e8e2ccdc3912",
   "metadata": {},
   "source": [
    "# Chapter 22 - Working with Date Columns"
   ]
  },
  {
   "cell_type": "markdown",
   "id": "90135578-479b-4b82-82e2-061acf4ffaac",
   "metadata": {},
   "source": [
    "### Revisiting Python dates"
   ]
  },
  {
   "cell_type": "code",
   "execution_count": 3,
   "id": "d559362b-20c0-445b-a789-00370370ea01",
   "metadata": {},
   "outputs": [],
   "source": [
    "from datetime import date, time, datetime, timedelta"
   ]
  },
  {
   "cell_type": "code",
   "execution_count": 4,
   "id": "102b3978-dea4-4424-91b8-9f22f9f116e9",
   "metadata": {},
   "outputs": [],
   "source": [
    "today = date(2020, 9, 30)\n",
    "now = datetime(2020, 9, 30, 12, 33)\n",
    "birthday = date(1989, 3, 21)\n",
    "\n",
    "days_of_holiday = timedelta(days=14)\n",
    "minutes_of_nap = timedelta(minutes=30)"
   ]
  },
  {
   "cell_type": "code",
   "execution_count": 5,
   "id": "f25d6864-1a5c-4df8-8086-e98c0a2c2e48",
   "metadata": {},
   "outputs": [
    {
     "data": {
      "text/plain": [
       "datetime.date(2020, 10, 14)"
      ]
     },
     "execution_count": 5,
     "metadata": {},
     "output_type": "execute_result"
    }
   ],
   "source": [
    "today + days_of_holiday"
   ]
  },
  {
   "cell_type": "code",
   "execution_count": 6,
   "id": "d02133f0-ce56-4c21-a2c7-a293b8037816",
   "metadata": {},
   "outputs": [
    {
     "data": {
      "text/plain": [
       "datetime.datetime(2020, 9, 30, 13, 3)"
      ]
     },
     "execution_count": 6,
     "metadata": {},
     "output_type": "execute_result"
    }
   ],
   "source": [
    "now + minutes_of_nap"
   ]
  },
  {
   "cell_type": "code",
   "execution_count": 7,
   "id": "4729b4a0-c3a4-451f-9cc6-3e8bf4080aab",
   "metadata": {},
   "outputs": [
    {
     "data": {
      "text/plain": [
       "True"
      ]
     },
     "execution_count": 7,
     "metadata": {},
     "output_type": "execute_result"
    }
   ],
   "source": [
    "today > birthday"
   ]
  },
  {
   "cell_type": "code",
   "execution_count": 8,
   "id": "31bd81fd-2965-4fff-98aa-d5b0be225a25",
   "metadata": {},
   "outputs": [
    {
     "data": {
      "text/plain": [
       "datetime.timedelta(days=11516)"
      ]
     },
     "execution_count": 8,
     "metadata": {},
     "output_type": "execute_result"
    }
   ],
   "source": [
    "today - birthday"
   ]
  },
  {
   "cell_type": "code",
   "execution_count": 9,
   "id": "84f4820e-f358-4604-93bf-21a8a394b8c3",
   "metadata": {},
   "outputs": [
    {
     "data": {
      "text/plain": [
       "'21/03/89'"
      ]
     },
     "execution_count": 9,
     "metadata": {},
     "output_type": "execute_result"
    }
   ],
   "source": [
    "birthday.strftime('%d/%m/%y')"
   ]
  },
  {
   "cell_type": "code",
   "execution_count": 10,
   "id": "210b4c58-2360-4985-804b-125328ba4598",
   "metadata": {},
   "outputs": [
    {
     "data": {
      "text/plain": [
       "'Tuesday, 21 March, 1989'"
      ]
     },
     "execution_count": 10,
     "metadata": {},
     "output_type": "execute_result"
    }
   ],
   "source": [
    "birthday.strftime('%A, %d %B, %Y')"
   ]
  },
  {
   "cell_type": "code",
   "execution_count": 11,
   "id": "94383c1c-8319-49a4-81cf-74a6dc7ecff7",
   "metadata": {},
   "outputs": [
    {
     "data": {
      "text/plain": [
       "datetime.datetime(2020, 9, 30, 0, 0)"
      ]
     },
     "execution_count": 11,
     "metadata": {},
     "output_type": "execute_result"
    }
   ],
   "source": [
    "my_date = '30/09/20'\n",
    "\n",
    "datetime.strptime(my_date, '%d/%m/%y')"
   ]
  },
  {
   "cell_type": "markdown",
   "id": "02c46df9-76f0-48a7-9691-e41477e3d524",
   "metadata": {},
   "source": [
    "### Date columns"
   ]
  },
  {
   "cell_type": "code",
   "execution_count": 13,
   "id": "07f1ce09-cd45-4427-8e57-6d157dc689b4",
   "metadata": {},
   "outputs": [
    {
     "data": {
      "text/html": [
       "<div>\n",
       "<style scoped>\n",
       "    .dataframe tbody tr th:only-of-type {\n",
       "        vertical-align: middle;\n",
       "    }\n",
       "\n",
       "    .dataframe tbody tr th {\n",
       "        vertical-align: top;\n",
       "    }\n",
       "\n",
       "    .dataframe thead th {\n",
       "        text-align: right;\n",
       "    }\n",
       "</style>\n",
       "<table border=\"1\" class=\"dataframe\">\n",
       "  <thead>\n",
       "    <tr style=\"text-align: right;\">\n",
       "      <th></th>\n",
       "      <th>InvoiceNo</th>\n",
       "      <th>Channel</th>\n",
       "      <th>Product Name</th>\n",
       "      <th>ProductID</th>\n",
       "      <th>Account</th>\n",
       "      <th>AccountNo</th>\n",
       "      <th>Date</th>\n",
       "      <th>Deadline</th>\n",
       "      <th>Currency</th>\n",
       "      <th>Unit Price</th>\n",
       "      <th>Quantity</th>\n",
       "      <th>Total</th>\n",
       "    </tr>\n",
       "  </thead>\n",
       "  <tbody>\n",
       "    <tr>\n",
       "      <th>0</th>\n",
       "      <td>1532</td>\n",
       "      <td>Shoppe.com</td>\n",
       "      <td>Cannon Water Bomb Balloons 100 Pack</td>\n",
       "      <td>T&amp;G/CAN-97509</td>\n",
       "      <td>Sales</td>\n",
       "      <td>5004</td>\n",
       "      <td>2020-01-01</td>\n",
       "      <td>11/23/19</td>\n",
       "      <td>USD</td>\n",
       "      <td>20.11</td>\n",
       "      <td>14</td>\n",
       "      <td>281.54</td>\n",
       "    </tr>\n",
       "    <tr>\n",
       "      <th>1</th>\n",
       "      <td>1533</td>\n",
       "      <td>Walcart</td>\n",
       "      <td>LEGO Ninja Turtles Stealth Shell in Pursuit 79102</td>\n",
       "      <td>T&amp;G/LEG-37777</td>\n",
       "      <td>Sales</td>\n",
       "      <td>5004</td>\n",
       "      <td>2020-01-01</td>\n",
       "      <td>06/15/20</td>\n",
       "      <td>USD</td>\n",
       "      <td>6.70</td>\n",
       "      <td>1</td>\n",
       "      <td>6.70</td>\n",
       "    </tr>\n",
       "    <tr>\n",
       "      <th>2</th>\n",
       "      <td>1534</td>\n",
       "      <td>Bullseye</td>\n",
       "      <td>NaN</td>\n",
       "      <td>T&amp;G/PET-14209</td>\n",
       "      <td>Sales</td>\n",
       "      <td>5004</td>\n",
       "      <td>2020-01-01</td>\n",
       "      <td>05/07/20</td>\n",
       "      <td>USD</td>\n",
       "      <td>11.67</td>\n",
       "      <td>5</td>\n",
       "      <td>58.35</td>\n",
       "    </tr>\n",
       "    <tr>\n",
       "      <th>3</th>\n",
       "      <td>1535</td>\n",
       "      <td>Bullseye</td>\n",
       "      <td>Transformers Age of Extinction Generations Del...</td>\n",
       "      <td>T&amp;G/TRA-20170</td>\n",
       "      <td>Sales</td>\n",
       "      <td>5004</td>\n",
       "      <td>2020-01-01</td>\n",
       "      <td>12/22/19</td>\n",
       "      <td>USD</td>\n",
       "      <td>13.46</td>\n",
       "      <td>6</td>\n",
       "      <td>80.76</td>\n",
       "    </tr>\n",
       "    <tr>\n",
       "      <th>4</th>\n",
       "      <td>1535</td>\n",
       "      <td>Bullseye</td>\n",
       "      <td>Transformers Age of Extinction Generations Del...</td>\n",
       "      <td>T&amp;G/TRA-20170</td>\n",
       "      <td>Sales</td>\n",
       "      <td>5004</td>\n",
       "      <td>2020-01-01</td>\n",
       "      <td>12/22/19</td>\n",
       "      <td>USD</td>\n",
       "      <td>13.46</td>\n",
       "      <td>6</td>\n",
       "      <td>80.76</td>\n",
       "    </tr>\n",
       "  </tbody>\n",
       "</table>\n",
       "</div>"
      ],
      "text/plain": [
       "   InvoiceNo     Channel                                       Product Name  \\\n",
       "0       1532  Shoppe.com                Cannon Water Bomb Balloons 100 Pack   \n",
       "1       1533     Walcart  LEGO Ninja Turtles Stealth Shell in Pursuit 79102   \n",
       "2       1534    Bullseye                                                NaN   \n",
       "3       1535    Bullseye  Transformers Age of Extinction Generations Del...   \n",
       "4       1535    Bullseye  Transformers Age of Extinction Generations Del...   \n",
       "\n",
       "       ProductID Account  AccountNo        Date  Deadline Currency  \\\n",
       "0  T&G/CAN-97509   Sales       5004  2020-01-01  11/23/19      USD   \n",
       "1  T&G/LEG-37777   Sales       5004  2020-01-01  06/15/20      USD   \n",
       "2  T&G/PET-14209   Sales       5004  2020-01-01  05/07/20      USD   \n",
       "3  T&G/TRA-20170   Sales       5004  2020-01-01  12/22/19      USD   \n",
       "4  T&G/TRA-20170   Sales       5004  2020-01-01  12/22/19      USD   \n",
       "\n",
       "   Unit Price  Quantity   Total  \n",
       "0       20.11        14  281.54  \n",
       "1        6.70         1    6.70  \n",
       "2       11.67         5   58.35  \n",
       "3       13.46         6   80.76  \n",
       "4       13.46         6   80.76  "
      ]
     },
     "execution_count": 13,
     "metadata": {},
     "output_type": "execute_result"
    }
   ],
   "source": [
    "import pandas as pd\n",
    "\n",
    "# Read Dataframe 'Q1Sales.csv'\n",
    "url = (\"https://raw.githubusercontent.com/pythonforaccounting/workspace/refs/heads/main/P2%20-%20Working%20with%20tables/Q1Sales.csv\")\n",
    "ledger_df = pd.read_csv(url)\n",
    "\n",
    "ledger_df.head()"
   ]
  },
  {
   "cell_type": "code",
   "execution_count": 14,
   "id": "b2f10025-4998-453a-b188-fc4e54bb639e",
   "metadata": {},
   "outputs": [
    {
     "name": "stdout",
     "output_type": "stream",
     "text": [
      "<class 'pandas.core.frame.DataFrame'>\n",
      "RangeIndex: 37708 entries, 0 to 37707\n",
      "Data columns (total 12 columns):\n",
      " #   Column        Non-Null Count  Dtype  \n",
      "---  ------        --------------  -----  \n",
      " 0   InvoiceNo     37708 non-null  int64  \n",
      " 1   Channel       37708 non-null  object \n",
      " 2   Product Name  33142 non-null  object \n",
      " 3   ProductID     37708 non-null  object \n",
      " 4   Account       37708 non-null  object \n",
      " 5   AccountNo     37708 non-null  int64  \n",
      " 6   Date          37708 non-null  object \n",
      " 7   Deadline      37708 non-null  object \n",
      " 8   Currency      37708 non-null  object \n",
      " 9   Unit Price    37708 non-null  float64\n",
      " 10  Quantity      37708 non-null  int64  \n",
      " 11  Total         37708 non-null  float64\n",
      "dtypes: float64(2), int64(3), object(7)\n",
      "memory usage: 3.5+ MB\n"
     ]
    }
   ],
   "source": [
    "ledger_df.info()"
   ]
  },
  {
   "cell_type": "code",
   "execution_count": 15,
   "id": "7239cc90-8619-43af-aa28-684996cccac8",
   "metadata": {},
   "outputs": [
    {
     "data": {
      "text/plain": [
       "'2020-01-01'"
      ]
     },
     "execution_count": 15,
     "metadata": {},
     "output_type": "execute_result"
    }
   ],
   "source": [
    "ledger_df['Date'].iloc[0]"
   ]
  },
  {
   "cell_type": "code",
   "execution_count": 16,
   "id": "b5982212-99cb-4c69-a637-f983ebeadbce",
   "metadata": {},
   "outputs": [
    {
     "data": {
      "text/plain": [
       "True"
      ]
     },
     "execution_count": 16,
     "metadata": {},
     "output_type": "execute_result"
    }
   ],
   "source": [
    "timestamp_date = pd.Timestamp(2020, 1, 1)\n",
    "\n",
    "datetime_date = datetime(2020, 1, 1)\n",
    "\n",
    "timestamp_date == datetime_date"
   ]
  },
  {
   "cell_type": "code",
   "execution_count": 17,
   "id": "f66f518d-5690-44d0-b5a6-86832f8eb885",
   "metadata": {},
   "outputs": [
    {
     "data": {
      "text/html": [
       "<div>\n",
       "<style scoped>\n",
       "    .dataframe tbody tr th:only-of-type {\n",
       "        vertical-align: middle;\n",
       "    }\n",
       "\n",
       "    .dataframe tbody tr th {\n",
       "        vertical-align: top;\n",
       "    }\n",
       "\n",
       "    .dataframe thead th {\n",
       "        text-align: right;\n",
       "    }\n",
       "</style>\n",
       "<table border=\"1\" class=\"dataframe\">\n",
       "  <thead>\n",
       "    <tr style=\"text-align: right;\">\n",
       "      <th></th>\n",
       "      <th>Date</th>\n",
       "      <th>Deadline</th>\n",
       "    </tr>\n",
       "  </thead>\n",
       "  <tbody>\n",
       "    <tr>\n",
       "      <th>0</th>\n",
       "      <td>2020-01-01</td>\n",
       "      <td>11/23/19</td>\n",
       "    </tr>\n",
       "    <tr>\n",
       "      <th>1</th>\n",
       "      <td>2020-01-01</td>\n",
       "      <td>06/15/20</td>\n",
       "    </tr>\n",
       "    <tr>\n",
       "      <th>2</th>\n",
       "      <td>2020-01-01</td>\n",
       "      <td>05/07/20</td>\n",
       "    </tr>\n",
       "    <tr>\n",
       "      <th>3</th>\n",
       "      <td>2020-01-01</td>\n",
       "      <td>12/22/19</td>\n",
       "    </tr>\n",
       "    <tr>\n",
       "      <th>4</th>\n",
       "      <td>2020-01-01</td>\n",
       "      <td>12/22/19</td>\n",
       "    </tr>\n",
       "    <tr>\n",
       "      <th>...</th>\n",
       "      <td>...</td>\n",
       "      <td>...</td>\n",
       "    </tr>\n",
       "    <tr>\n",
       "      <th>37703</th>\n",
       "      <td>2020-03-31</td>\n",
       "      <td>Thu Sep 17 00:00:00 2020</td>\n",
       "    </tr>\n",
       "    <tr>\n",
       "      <th>37704</th>\n",
       "      <td>2020-03-31</td>\n",
       "      <td>5-08-20</td>\n",
       "    </tr>\n",
       "    <tr>\n",
       "      <th>37705</th>\n",
       "      <td>2020-03-31</td>\n",
       "      <td>04/11/20</td>\n",
       "    </tr>\n",
       "    <tr>\n",
       "      <th>37706</th>\n",
       "      <td>2020-03-31</td>\n",
       "      <td>3-20-20</td>\n",
       "    </tr>\n",
       "    <tr>\n",
       "      <th>37707</th>\n",
       "      <td>2020-03-31</td>\n",
       "      <td>April 02 2020</td>\n",
       "    </tr>\n",
       "  </tbody>\n",
       "</table>\n",
       "<p>37708 rows × 2 columns</p>\n",
       "</div>"
      ],
      "text/plain": [
       "             Date                  Deadline\n",
       "0      2020-01-01                  11/23/19\n",
       "1      2020-01-01                  06/15/20\n",
       "2      2020-01-01                  05/07/20\n",
       "3      2020-01-01                  12/22/19\n",
       "4      2020-01-01                  12/22/19\n",
       "...           ...                       ...\n",
       "37703  2020-03-31  Thu Sep 17 00:00:00 2020\n",
       "37704  2020-03-31                   5-08-20\n",
       "37705  2020-03-31                  04/11/20\n",
       "37706  2020-03-31                   3-20-20\n",
       "37707  2020-03-31             April 02 2020\n",
       "\n",
       "[37708 rows x 2 columns]"
      ]
     },
     "execution_count": 17,
     "metadata": {},
     "output_type": "execute_result"
    }
   ],
   "source": [
    "ledger_df[['Date', 'Deadline']]"
   ]
  },
  {
   "cell_type": "markdown",
   "id": "2641a580-5834-4414-ae30-0796c9e014e7",
   "metadata": {},
   "source": [
    "### Converting strings to dates"
   ]
  },
  {
   "cell_type": "code",
   "execution_count": 19,
   "id": "ecd2e487-543a-4bf0-a312-fb91d0bf7f9b",
   "metadata": {},
   "outputs": [
    {
     "data": {
      "text/plain": [
       "0                     11/23/19\n",
       "1                     06/15/20\n",
       "2                     05/07/20\n",
       "3                     12/22/19\n",
       "4                     12/22/19\n",
       "5     Mon Jan 20 00:00:00 2020\n",
       "6     Thu Oct 31 00:00:00 2019\n",
       "7                      6-28-20\n",
       "8     Thu Jan  2 00:00:00 2020\n",
       "9     Sat Nov 30 00:00:00 2019\n",
       "10                    05/25/20\n",
       "11                    05/06/20\n",
       "12    Sun Apr 19 00:00:00 2020\n",
       "13                    01/31/20\n",
       "14    Mon Mar 30 00:00:00 2020\n",
       "15               March 14 2020\n",
       "16            November 29 2019\n",
       "17                    11/09/19\n",
       "18                     2-23-20\n",
       "19                    10/16/19\n",
       "Name: Deadline, dtype: object"
      ]
     },
     "execution_count": 19,
     "metadata": {},
     "output_type": "execute_result"
    }
   ],
   "source": [
    "# Check for unique date formats\n",
    "ledger_df['Deadline'].head(20)"
   ]
  },
  {
   "cell_type": "markdown",
   "id": "bad0f6dc-5c26-4316-aaf4-17294587d6c3",
   "metadata": {},
   "source": [
    "### Handle to '%m/%d/%y'"
   ]
  },
  {
   "cell_type": "code",
   "execution_count": 21,
   "id": "f7990a0c-d7ef-4ffc-ab3c-bac482f5666a",
   "metadata": {},
   "outputs": [
    {
     "name": "stdout",
     "output_type": "stream",
     "text": [
      "0     11/23/19\n",
      "1     06/15/20\n",
      "2     05/07/20\n",
      "3     12/22/19\n",
      "4     12/22/19\n",
      "5     01/20/20\n",
      "6     10/31/19\n",
      "7     06/28/20\n",
      "8     01/02/20\n",
      "9     11/30/19\n",
      "10    05/25/20\n",
      "11    05/06/20\n",
      "12    04/19/20\n",
      "13    01/31/20\n",
      "14    03/30/20\n",
      "15    03/14/20\n",
      "16    11/29/19\n",
      "17    11/09/19\n",
      "18    02/23/20\n",
      "19    10/16/19\n",
      "Name: Deadline, dtype: object\n"
     ]
    }
   ],
   "source": [
    "# Function to handle different date formats and standardize them to '%m/%d/%y'\n",
    "def convert_to_standard_format(date_str):\n",
    "    try:\n",
    "        # Try to convert with the format 'mm/dd/yy'\n",
    "        return pd.to_datetime(date_str, format='%m/%d/%y', errors='raise').strftime('%m/%d/%y')\n",
    "    except Exception:\n",
    "        try:\n",
    "            # Try to convert with the format 'mm-dd-yy'\n",
    "            return pd.to_datetime(date_str, format='%m-%d-%y', errors='raise').strftime('%m/%d/%y')\n",
    "        except Exception:\n",
    "            try:\n",
    "                # Try to convert with the format 'Month dd yyyy'\n",
    "                return pd.to_datetime(date_str, format='%b %d %Y', errors='raise').strftime('%m/%d/%y')\n",
    "            except Exception:\n",
    "                try:\n",
    "                    # Try to convert with the format 'dd-Month-yyyy'\n",
    "                    return pd.to_datetime(date_str, format='%d-%b-%Y', errors='raise').strftime('%m/%d/%y')\n",
    "                except Exception:\n",
    "                    # Try to handle fully spelled months (e.g., \"January 1 2020\")\n",
    "                    try:\n",
    "                        return pd.to_datetime(date_str, errors='coerce').strftime('%m/%d/%y')  # Use the default parser as fallback\n",
    "                    except Exception:\n",
    "                        return pd.NaT  # Return NaT if none of the formats worked\n",
    "\n",
    "# Apply the conversion function to the 'Deadline' column\n",
    "ledger_df['Deadline'] = ledger_df['Deadline'].apply(convert_to_standard_format)\n",
    "\n",
    "# Verify the results\n",
    "print(ledger_df['Deadline'].head(20))"
   ]
  },
  {
   "cell_type": "markdown",
   "id": "ad70576e-38fa-4e56-9f17-6e0f977c5d47",
   "metadata": {},
   "source": [
    "### Handle to %m-%d-%y'"
   ]
  },
  {
   "cell_type": "code",
   "execution_count": 23,
   "id": "bba9497e-1cfd-48c2-b7b6-41b943c83167",
   "metadata": {},
   "outputs": [
    {
     "name": "stdout",
     "output_type": "stream",
     "text": [
      "0     11-23-19\n",
      "1     06-15-20\n",
      "2     05-07-20\n",
      "3     12-22-19\n",
      "4     12-22-19\n",
      "5     01-20-20\n",
      "6     10-31-19\n",
      "7     06-28-20\n",
      "8     01-02-20\n",
      "9     11-30-19\n",
      "10    05-25-20\n",
      "11    05-06-20\n",
      "12    04-19-20\n",
      "13    01-31-20\n",
      "14    03-30-20\n",
      "15    03-14-20\n",
      "16    11-29-19\n",
      "17    11-09-19\n",
      "18    02-23-20\n",
      "19    10-16-19\n",
      "Name: Deadline, dtype: object\n"
     ]
    }
   ],
   "source": [
    "# Function to handle different date formats and standardize them to '%m-%d-%y'\n",
    "def convert_to_standard_format(date_str):\n",
    "    try:\n",
    "        # Try to convert with the format '%m-%d-%y'\n",
    "        return pd.to_datetime(date_str, format='%m-%d-%y', errors='raise').strftime('%m-%d-%y')\n",
    "    except Exception:\n",
    "        try:\n",
    "            # Try to convert with the format 'mm/dd/yy'\n",
    "            return pd.to_datetime(date_str, format='%m-%d-%y', errors='raise').strftime('%m-%d-%y')\n",
    "        except Exception:\n",
    "            try:\n",
    "                # Try to convert with the format 'Month dd yyyy'\n",
    "                return pd.to_datetime(date_str, format='%b %d %Y', errors='raise').strftime('%m-%d-%y')\n",
    "            except Exception:\n",
    "                try:\n",
    "                    # Try to convert with the format 'dd-Month-yyyy'\n",
    "                    return pd.to_datetime(date_str, format='%d-%b-%Y', errors='raise').strftime('%m-%d-%y')\n",
    "                except Exception:\n",
    "                    # Try to handle fully spelled months (e.g., \"January 1 2020\")\n",
    "                    try:\n",
    "                        return pd.to_datetime(date_str, errors='coerce').strftime('%m-%d-%y')  # Use the default parser as fallback\n",
    "                    except Exception:\n",
    "                        return pd.NaT  # Return NaT if none of the formats worked\n",
    "\n",
    "# Apply the conversion function to the 'Deadline' column\n",
    "ledger_df['Deadline'] = ledger_df['Deadline'].apply(convert_to_standard_format)\n",
    "\n",
    "# Verify the results\n",
    "print(ledger_df['Deadline'].head(20))"
   ]
  },
  {
   "cell_type": "markdown",
   "id": "8fb64431-b7e6-457a-b6fc-9e3ef1b55efa",
   "metadata": {},
   "source": [
    "### Handle to 'YYYY-MM-DD'"
   ]
  },
  {
   "cell_type": "code",
   "execution_count": 25,
   "id": "d280a918-ccb1-4718-9c00-075f2e12b1ef",
   "metadata": {},
   "outputs": [
    {
     "name": "stdout",
     "output_type": "stream",
     "text": [
      "0     2019-11-23\n",
      "1     2020-06-15\n",
      "2     2020-05-07\n",
      "3     2019-12-22\n",
      "4     2019-12-22\n",
      "5     2020-01-20\n",
      "6     2019-10-31\n",
      "7     2020-06-28\n",
      "8     2020-01-02\n",
      "9     2019-11-30\n",
      "10    2020-05-25\n",
      "11    2020-05-06\n",
      "12    2020-04-19\n",
      "13    2020-01-31\n",
      "14    2020-03-30\n",
      "15    2020-03-14\n",
      "16    2019-11-29\n",
      "17    2019-11-09\n",
      "18    2020-02-23\n",
      "19    2019-10-16\n",
      "Name: Deadline, dtype: object\n"
     ]
    }
   ],
   "source": [
    "# Function to handle different date formats and standardize them to 'YYYY-MM-DD'\n",
    "def convert_to_standard_format(date_str):\n",
    "    try:\n",
    "        # Try to convert with the format 'mm/dd/yy'\n",
    "        return pd.to_datetime(date_str, format='%m/%d/%y', errors='raise').strftime('%Y-%m-%d')\n",
    "    except Exception:\n",
    "        try:\n",
    "            # Try to convert with the format 'mm-dd-yy'\n",
    "            return pd.to_datetime(date_str, format='%m-%d-%y', errors='raise').strftime('%Y-%m-%d')\n",
    "        except Exception:\n",
    "            try:\n",
    "                # Try to convert with the format 'Month dd yyyy'\n",
    "                return pd.to_datetime(date_str, format='%b %d %Y', errors='raise').strftime('%Y-%m-%d')\n",
    "            except Exception:\n",
    "                try:\n",
    "                    # Try to convert with the format 'dd-Month-yyyy'\n",
    "                    return pd.to_datetime(date_str, format='%d-%b-%Y', errors='raise').strftime('%Y-%m-%d')\n",
    "                except Exception:\n",
    "                    # Try to handle fully spelled months (e.g., \"January 1 2020\")\n",
    "                    try:\n",
    "                        return pd.to_datetime(date_str, errors='coerce').strftime('%Y-%m-%d')  # Use the default parser as fallback\n",
    "                    except Exception:\n",
    "                        return pd.NaT  # Return NaT if none of the formats worked\n",
    "\n",
    "# Apply the conversion function to the 'Deadline' column\n",
    "ledger_df['Deadline'] = ledger_df['Deadline'].apply(convert_to_standard_format)\n",
    "\n",
    "# Verify the results\n",
    "print(ledger_df['Deadline'].head(20))"
   ]
  },
  {
   "cell_type": "code",
   "execution_count": 26,
   "id": "bce4d596-560d-4d12-9323-ec8ddc3cebe0",
   "metadata": {},
   "outputs": [
    {
     "data": {
      "text/plain": [
       "0   2020-05-07\n",
       "1   2020-05-08\n",
       "2   2020-05-09\n",
       "dtype: datetime64[ns]"
      ]
     },
     "execution_count": 26,
     "metadata": {},
     "output_type": "execute_result"
    }
   ],
   "source": [
    "# Example date series\n",
    "dates = pd.Series(['05/07/20', '05/08/20', '05/09/20'])\n",
    "\n",
    "# Convert dates to datetime using the specified format\n",
    "dates_parsed = pd.to_datetime(dates, format='%m/%d/%y')\n",
    "\n",
    "dates_parsed"
   ]
  },
  {
   "cell_type": "code",
   "execution_count": 27,
   "id": "501aeb42-2e7c-4702-adad-a90294483c58",
   "metadata": {},
   "outputs": [
    {
     "data": {
      "text/plain": [
       "0   2020-07-05\n",
       "1   2020-08-05\n",
       "2   2020-09-05\n",
       "dtype: datetime64[ns]"
      ]
     },
     "execution_count": 27,
     "metadata": {},
     "output_type": "execute_result"
    }
   ],
   "source": [
    "pd.to_datetime(dates, format='%d/%m/%y')"
   ]
  },
  {
   "cell_type": "code",
   "execution_count": 28,
   "id": "199fb2a4-3261-4378-a071-36df738b83f6",
   "metadata": {},
   "outputs": [
    {
     "data": {
      "text/plain": [
       "count                            37708\n",
       "mean     2020-03-25 01:33:33.662883072\n",
       "min                2019-10-04 00:00:00\n",
       "25%                2020-01-18 00:00:00\n",
       "50%                2020-03-25 00:00:00\n",
       "75%                2020-06-01 00:00:00\n",
       "max                2020-09-25 00:00:00\n",
       "Name: Deadline, dtype: object"
      ]
     },
     "execution_count": 28,
     "metadata": {},
     "output_type": "execute_result"
    }
   ],
   "source": [
    "pd.to_datetime(ledger_df['Deadline']).describe()"
   ]
  },
  {
   "cell_type": "code",
   "execution_count": 29,
   "id": "05415a02-c757-49ba-9245-47cbf42bfd2c",
   "metadata": {},
   "outputs": [
    {
     "data": {
      "text/plain": [
       "0        2019-11-23\n",
       "1        2020-06-15\n",
       "2        2020-05-07\n",
       "3        2019-12-22\n",
       "4        2019-12-22\n",
       "            ...    \n",
       "37703    2020-09-17\n",
       "37704    2020-05-08\n",
       "37705    2020-04-11\n",
       "37706    2020-03-20\n",
       "37707    2020-04-02\n",
       "Name: Deadline, Length: 37708, dtype: object"
      ]
     },
     "execution_count": 29,
     "metadata": {},
     "output_type": "execute_result"
    }
   ],
   "source": [
    "ledger_df['Deadline']"
   ]
  },
  {
   "cell_type": "code",
   "execution_count": 30,
   "id": "3e723909-a40d-4333-8560-5e95dd1fa2bb",
   "metadata": {},
   "outputs": [
    {
     "name": "stdout",
     "output_type": "stream",
     "text": [
      "<class 'pandas.core.frame.DataFrame'>\n",
      "RangeIndex: 37708 entries, 0 to 37707\n",
      "Data columns (total 12 columns):\n",
      " #   Column        Non-Null Count  Dtype  \n",
      "---  ------        --------------  -----  \n",
      " 0   InvoiceNo     37708 non-null  int64  \n",
      " 1   Channel       37708 non-null  object \n",
      " 2   Product Name  33142 non-null  object \n",
      " 3   ProductID     37708 non-null  object \n",
      " 4   Account       37708 non-null  object \n",
      " 5   AccountNo     37708 non-null  int64  \n",
      " 6   Date          37708 non-null  object \n",
      " 7   Deadline      37708 non-null  object \n",
      " 8   Currency      37708 non-null  object \n",
      " 9   Unit Price    37708 non-null  float64\n",
      " 10  Quantity      37708 non-null  int64  \n",
      " 11  Total         37708 non-null  float64\n",
      "dtypes: float64(2), int64(3), object(7)\n",
      "memory usage: 3.5+ MB\n"
     ]
    }
   ],
   "source": [
    "ledger_df.info()"
   ]
  },
  {
   "cell_type": "code",
   "execution_count": 31,
   "id": "96b61a08-d27d-4790-9266-091bf3559ca1",
   "metadata": {},
   "outputs": [
    {
     "data": {
      "text/html": [
       "<div>\n",
       "<style scoped>\n",
       "    .dataframe tbody tr th:only-of-type {\n",
       "        vertical-align: middle;\n",
       "    }\n",
       "\n",
       "    .dataframe tbody tr th {\n",
       "        vertical-align: top;\n",
       "    }\n",
       "\n",
       "    .dataframe thead th {\n",
       "        text-align: right;\n",
       "    }\n",
       "</style>\n",
       "<table border=\"1\" class=\"dataframe\">\n",
       "  <thead>\n",
       "    <tr style=\"text-align: right;\">\n",
       "      <th></th>\n",
       "      <th>Date</th>\n",
       "      <th>Deadline</th>\n",
       "    </tr>\n",
       "  </thead>\n",
       "  <tbody>\n",
       "    <tr>\n",
       "      <th>0</th>\n",
       "      <td>2020-01-01</td>\n",
       "      <td>2019-11-23</td>\n",
       "    </tr>\n",
       "    <tr>\n",
       "      <th>1</th>\n",
       "      <td>2020-01-01</td>\n",
       "      <td>2020-06-15</td>\n",
       "    </tr>\n",
       "    <tr>\n",
       "      <th>2</th>\n",
       "      <td>2020-01-01</td>\n",
       "      <td>2020-05-07</td>\n",
       "    </tr>\n",
       "    <tr>\n",
       "      <th>3</th>\n",
       "      <td>2020-01-01</td>\n",
       "      <td>2019-12-22</td>\n",
       "    </tr>\n",
       "    <tr>\n",
       "      <th>4</th>\n",
       "      <td>2020-01-01</td>\n",
       "      <td>2019-12-22</td>\n",
       "    </tr>\n",
       "    <tr>\n",
       "      <th>...</th>\n",
       "      <td>...</td>\n",
       "      <td>...</td>\n",
       "    </tr>\n",
       "    <tr>\n",
       "      <th>37703</th>\n",
       "      <td>2020-03-31</td>\n",
       "      <td>2020-09-17</td>\n",
       "    </tr>\n",
       "    <tr>\n",
       "      <th>37704</th>\n",
       "      <td>2020-03-31</td>\n",
       "      <td>2020-05-08</td>\n",
       "    </tr>\n",
       "    <tr>\n",
       "      <th>37705</th>\n",
       "      <td>2020-03-31</td>\n",
       "      <td>2020-04-11</td>\n",
       "    </tr>\n",
       "    <tr>\n",
       "      <th>37706</th>\n",
       "      <td>2020-03-31</td>\n",
       "      <td>2020-03-20</td>\n",
       "    </tr>\n",
       "    <tr>\n",
       "      <th>37707</th>\n",
       "      <td>2020-03-31</td>\n",
       "      <td>2020-04-02</td>\n",
       "    </tr>\n",
       "  </tbody>\n",
       "</table>\n",
       "<p>37708 rows × 2 columns</p>\n",
       "</div>"
      ],
      "text/plain": [
       "             Date    Deadline\n",
       "0      2020-01-01  2019-11-23\n",
       "1      2020-01-01  2020-06-15\n",
       "2      2020-01-01  2020-05-07\n",
       "3      2020-01-01  2019-12-22\n",
       "4      2020-01-01  2019-12-22\n",
       "...           ...         ...\n",
       "37703  2020-03-31  2020-09-17\n",
       "37704  2020-03-31  2020-05-08\n",
       "37705  2020-03-31  2020-04-11\n",
       "37706  2020-03-31  2020-03-20\n",
       "37707  2020-03-31  2020-04-02\n",
       "\n",
       "[37708 rows x 2 columns]"
      ]
     },
     "execution_count": 31,
     "metadata": {},
     "output_type": "execute_result"
    }
   ],
   "source": [
    "ledger_df[['Date', 'Deadline']]   # object, object"
   ]
  },
  {
   "cell_type": "markdown",
   "id": "6ab4e458-65b5-46de-9dd3-3fe4ce86bb41",
   "metadata": {},
   "source": [
    "### Convert column 'Date' & 'Deadline' from object to datetime64[ns]"
   ]
  },
  {
   "cell_type": "code",
   "execution_count": 33,
   "id": "3f459d5f-1dff-45f7-a9cd-cc2ce0a07572",
   "metadata": {},
   "outputs": [
    {
     "name": "stdout",
     "output_type": "stream",
     "text": [
      "<class 'pandas.core.frame.DataFrame'>\n",
      "RangeIndex: 37708 entries, 0 to 37707\n",
      "Data columns (total 12 columns):\n",
      " #   Column        Non-Null Count  Dtype         \n",
      "---  ------        --------------  -----         \n",
      " 0   InvoiceNo     37708 non-null  int64         \n",
      " 1   Channel       37708 non-null  object        \n",
      " 2   Product Name  33142 non-null  object        \n",
      " 3   ProductID     37708 non-null  object        \n",
      " 4   Account       37708 non-null  object        \n",
      " 5   AccountNo     37708 non-null  int64         \n",
      " 6   Date          37708 non-null  datetime64[ns]\n",
      " 7   Deadline      37708 non-null  datetime64[ns]\n",
      " 8   Currency      37708 non-null  object        \n",
      " 9   Unit Price    37708 non-null  float64       \n",
      " 10  Quantity      37708 non-null  int64         \n",
      " 11  Total         37708 non-null  float64       \n",
      "dtypes: datetime64[ns](2), float64(2), int64(3), object(5)\n",
      "memory usage: 3.5+ MB\n"
     ]
    }
   ],
   "source": [
    "# Convert column 'Date' to datetime64[ns]\n",
    "ledger_df['Date'] = pd.to_datetime(ledger_df['Date'], errors='coerce')\n",
    "\n",
    "# Convert column 'Deadline' to datetime64[ns]\n",
    "ledger_df['Deadline'] = pd.to_datetime(ledger_df['Deadline'], errors='coerce')\n",
    "\n",
    "ledger_df.info()"
   ]
  },
  {
   "cell_type": "markdown",
   "id": "fb40af0f-9c1a-4f68-849d-bc78651d260e",
   "metadata": {},
   "source": [
    "### Pandas date methods"
   ]
  },
  {
   "cell_type": "code",
   "execution_count": 35,
   "id": "9adea73b-223b-488d-ad55-4b696621db92",
   "metadata": {},
   "outputs": [
    {
     "data": {
      "text/plain": [
       "0        2019\n",
       "1        2020\n",
       "2        2020\n",
       "3        2019\n",
       "4        2019\n",
       "         ... \n",
       "37703    2020\n",
       "37704    2020\n",
       "37705    2020\n",
       "37706    2020\n",
       "37707    2020\n",
       "Name: Deadline, Length: 37708, dtype: int32"
      ]
     },
     "execution_count": 35,
     "metadata": {},
     "output_type": "execute_result"
    }
   ],
   "source": [
    "ledger_df['Deadline'].dt.year"
   ]
  },
  {
   "cell_type": "code",
   "execution_count": 36,
   "id": "0260d285-4b30-40ab-98b7-2c1b2ddfcd59",
   "metadata": {},
   "outputs": [
    {
     "data": {
      "text/plain": [
       "0        Saturday\n",
       "1          Monday\n",
       "2        Thursday\n",
       "3          Sunday\n",
       "4          Sunday\n",
       "           ...   \n",
       "37703    Thursday\n",
       "37704      Friday\n",
       "37705    Saturday\n",
       "37706      Friday\n",
       "37707    Thursday\n",
       "Name: Deadline, Length: 37708, dtype: object"
      ]
     },
     "execution_count": 36,
     "metadata": {},
     "output_type": "execute_result"
    }
   ],
   "source": [
    "ledger_df['Deadline'].dt.day_name()"
   ]
  },
  {
   "cell_type": "code",
   "execution_count": 37,
   "id": "704dc435-2bb3-4ece-bd7f-08812daf4887",
   "metadata": {},
   "outputs": [
    {
     "data": {
      "text/plain": [
       "0           Samstag\n",
       "1            Montag\n",
       "2        Donnerstag\n",
       "3           Sonntag\n",
       "4           Sonntag\n",
       "            ...    \n",
       "37703    Donnerstag\n",
       "37704       Freitag\n",
       "37705       Samstag\n",
       "37706       Freitag\n",
       "37707    Donnerstag\n",
       "Name: Deadline, Length: 37708, dtype: object"
      ]
     },
     "execution_count": 37,
     "metadata": {},
     "output_type": "execute_result"
    }
   ],
   "source": [
    "ledger_df['Deadline'].dt.day_name('de_DE')  # In German"
   ]
  },
  {
   "cell_type": "markdown",
   "id": "87cbd3ab-12c4-4134-980f-2e4d0ec3efa7",
   "metadata": {},
   "source": [
    "### Filtering date columns"
   ]
  },
  {
   "cell_type": "code",
   "execution_count": 39,
   "id": "d009c817-eabc-4cb9-99e8-b26c61aa994b",
   "metadata": {},
   "outputs": [
    {
     "data": {
      "text/html": [
       "<div>\n",
       "<style scoped>\n",
       "    .dataframe tbody tr th:only-of-type {\n",
       "        vertical-align: middle;\n",
       "    }\n",
       "\n",
       "    .dataframe tbody tr th {\n",
       "        vertical-align: top;\n",
       "    }\n",
       "\n",
       "    .dataframe thead th {\n",
       "        text-align: right;\n",
       "    }\n",
       "</style>\n",
       "<table border=\"1\" class=\"dataframe\">\n",
       "  <thead>\n",
       "    <tr style=\"text-align: right;\">\n",
       "      <th></th>\n",
       "      <th>InvoiceNo</th>\n",
       "      <th>Channel</th>\n",
       "      <th>Product Name</th>\n",
       "      <th>ProductID</th>\n",
       "      <th>Account</th>\n",
       "      <th>AccountNo</th>\n",
       "      <th>Date</th>\n",
       "      <th>Deadline</th>\n",
       "      <th>Currency</th>\n",
       "      <th>Unit Price</th>\n",
       "      <th>Quantity</th>\n",
       "      <th>Total</th>\n",
       "    </tr>\n",
       "  </thead>\n",
       "  <tbody>\n",
       "    <tr>\n",
       "      <th>7224</th>\n",
       "      <td>8756</td>\n",
       "      <td>Bullseye</td>\n",
       "      <td>Miele Type U AirClean Bags &amp; Filters, For S700...</td>\n",
       "      <td>H&amp;K/MIE-51069</td>\n",
       "      <td>Sales</td>\n",
       "      <td>5004</td>\n",
       "      <td>2020-01-16</td>\n",
       "      <td>2020-02-26</td>\n",
       "      <td>USD</td>\n",
       "      <td>11.71</td>\n",
       "      <td>23</td>\n",
       "      <td>269.33</td>\n",
       "    </tr>\n",
       "    <tr>\n",
       "      <th>7225</th>\n",
       "      <td>8757</td>\n",
       "      <td>Shoppe.com</td>\n",
       "      <td>Verizon LG G2 Chevron Peach Pink Green Red Pat...</td>\n",
       "      <td>CP&amp;A/VER-66222</td>\n",
       "      <td>Sales</td>\n",
       "      <td>5004</td>\n",
       "      <td>2020-01-16</td>\n",
       "      <td>2020-04-26</td>\n",
       "      <td>USD</td>\n",
       "      <td>22.21</td>\n",
       "      <td>5</td>\n",
       "      <td>111.05</td>\n",
       "    </tr>\n",
       "    <tr>\n",
       "      <th>7226</th>\n",
       "      <td>8758</td>\n",
       "      <td>Understock.com</td>\n",
       "      <td>Coleman 5620B718G 5GAL BLU Water Carrier</td>\n",
       "      <td>S&amp;O/COL-60210</td>\n",
       "      <td>Sales</td>\n",
       "      <td>5004</td>\n",
       "      <td>2020-01-16</td>\n",
       "      <td>2020-02-07</td>\n",
       "      <td>USD</td>\n",
       "      <td>9.67</td>\n",
       "      <td>3</td>\n",
       "      <td>29.01</td>\n",
       "    </tr>\n",
       "    <tr>\n",
       "      <th>7227</th>\n",
       "      <td>8759</td>\n",
       "      <td>Understock.com</td>\n",
       "      <td>12-Inch &amp; 9-Inch Stainless Steel Tongs Set, Se...</td>\n",
       "      <td>K&amp;D/12--81602</td>\n",
       "      <td>Sales</td>\n",
       "      <td>5004</td>\n",
       "      <td>2020-01-16</td>\n",
       "      <td>2020-04-09</td>\n",
       "      <td>USD</td>\n",
       "      <td>25.85</td>\n",
       "      <td>1</td>\n",
       "      <td>25.85</td>\n",
       "    </tr>\n",
       "    <tr>\n",
       "      <th>7228</th>\n",
       "      <td>8760</td>\n",
       "      <td>iBay.com</td>\n",
       "      <td>Coaster Oriental Style 4-Panel Room Screen Div...</td>\n",
       "      <td>H&amp;K/COA-60709</td>\n",
       "      <td>Sales</td>\n",
       "      <td>5004</td>\n",
       "      <td>2020-01-16</td>\n",
       "      <td>2020-05-10</td>\n",
       "      <td>USD</td>\n",
       "      <td>2.40</td>\n",
       "      <td>2</td>\n",
       "      <td>4.80</td>\n",
       "    </tr>\n",
       "    <tr>\n",
       "      <th>...</th>\n",
       "      <td>...</td>\n",
       "      <td>...</td>\n",
       "      <td>...</td>\n",
       "      <td>...</td>\n",
       "      <td>...</td>\n",
       "      <td>...</td>\n",
       "      <td>...</td>\n",
       "      <td>...</td>\n",
       "      <td>...</td>\n",
       "      <td>...</td>\n",
       "      <td>...</td>\n",
       "      <td>...</td>\n",
       "    </tr>\n",
       "    <tr>\n",
       "      <th>37703</th>\n",
       "      <td>39235</td>\n",
       "      <td>iBay.com</td>\n",
       "      <td>Nature's Bounty Garlic, 2000mg, Odor-Free, 120...</td>\n",
       "      <td>H&amp;PC/NAT-15470</td>\n",
       "      <td>Sales</td>\n",
       "      <td>5004</td>\n",
       "      <td>2020-03-31</td>\n",
       "      <td>2020-09-17</td>\n",
       "      <td>USD</td>\n",
       "      <td>5.55</td>\n",
       "      <td>2</td>\n",
       "      <td>11.10</td>\n",
       "    </tr>\n",
       "    <tr>\n",
       "      <th>37704</th>\n",
       "      <td>39216</td>\n",
       "      <td>Shoppe.com</td>\n",
       "      <td>Funko Wonder Woman POP Heroes</td>\n",
       "      <td>T&amp;G/FUN-03366</td>\n",
       "      <td>Sales</td>\n",
       "      <td>5004</td>\n",
       "      <td>2020-03-31</td>\n",
       "      <td>2020-05-08</td>\n",
       "      <td>USD</td>\n",
       "      <td>28.56</td>\n",
       "      <td>1</td>\n",
       "      <td>28.56</td>\n",
       "    </tr>\n",
       "    <tr>\n",
       "      <th>37705</th>\n",
       "      <td>39219</td>\n",
       "      <td>Shoppe.com</td>\n",
       "      <td>MONO GS1 GS1-BTY-BLK-L Betty Long Guitar Strap...</td>\n",
       "      <td>MI/MON-86723</td>\n",
       "      <td>Sales</td>\n",
       "      <td>5004</td>\n",
       "      <td>2020-03-31</td>\n",
       "      <td>2020-04-11</td>\n",
       "      <td>USD</td>\n",
       "      <td>3.33</td>\n",
       "      <td>1</td>\n",
       "      <td>3.33</td>\n",
       "    </tr>\n",
       "    <tr>\n",
       "      <th>37706</th>\n",
       "      <td>39238</td>\n",
       "      <td>Shoppe.com</td>\n",
       "      <td>NaN</td>\n",
       "      <td>T&amp;G/MAG-68412</td>\n",
       "      <td>Sales</td>\n",
       "      <td>5004</td>\n",
       "      <td>2020-03-31</td>\n",
       "      <td>2020-03-20</td>\n",
       "      <td>USD</td>\n",
       "      <td>34.76</td>\n",
       "      <td>10</td>\n",
       "      <td>347.60</td>\n",
       "    </tr>\n",
       "    <tr>\n",
       "      <th>37707</th>\n",
       "      <td>39239</td>\n",
       "      <td>Understock.com</td>\n",
       "      <td>3 Collapsible Bowl Set 32oz | 16oz | 4oz</td>\n",
       "      <td>K&amp;D/3 C-07383</td>\n",
       "      <td>Sales</td>\n",
       "      <td>5004</td>\n",
       "      <td>2020-03-31</td>\n",
       "      <td>2020-04-02</td>\n",
       "      <td>USD</td>\n",
       "      <td>6.39</td>\n",
       "      <td>15</td>\n",
       "      <td>95.85</td>\n",
       "    </tr>\n",
       "  </tbody>\n",
       "</table>\n",
       "<p>30484 rows × 12 columns</p>\n",
       "</div>"
      ],
      "text/plain": [
       "       InvoiceNo         Channel  \\\n",
       "7224        8756        Bullseye   \n",
       "7225        8757      Shoppe.com   \n",
       "7226        8758  Understock.com   \n",
       "7227        8759  Understock.com   \n",
       "7228        8760        iBay.com   \n",
       "...          ...             ...   \n",
       "37703      39235        iBay.com   \n",
       "37704      39216      Shoppe.com   \n",
       "37705      39219      Shoppe.com   \n",
       "37706      39238      Shoppe.com   \n",
       "37707      39239  Understock.com   \n",
       "\n",
       "                                            Product Name       ProductID  \\\n",
       "7224   Miele Type U AirClean Bags & Filters, For S700...   H&K/MIE-51069   \n",
       "7225   Verizon LG G2 Chevron Peach Pink Green Red Pat...  CP&A/VER-66222   \n",
       "7226            Coleman 5620B718G 5GAL BLU Water Carrier   S&O/COL-60210   \n",
       "7227   12-Inch & 9-Inch Stainless Steel Tongs Set, Se...   K&D/12--81602   \n",
       "7228   Coaster Oriental Style 4-Panel Room Screen Div...   H&K/COA-60709   \n",
       "...                                                  ...             ...   \n",
       "37703  Nature's Bounty Garlic, 2000mg, Odor-Free, 120...  H&PC/NAT-15470   \n",
       "37704                      Funko Wonder Woman POP Heroes   T&G/FUN-03366   \n",
       "37705  MONO GS1 GS1-BTY-BLK-L Betty Long Guitar Strap...    MI/MON-86723   \n",
       "37706                                                NaN   T&G/MAG-68412   \n",
       "37707           3 Collapsible Bowl Set 32oz | 16oz | 4oz   K&D/3 C-07383   \n",
       "\n",
       "      Account  AccountNo       Date   Deadline Currency  Unit Price  Quantity  \\\n",
       "7224    Sales       5004 2020-01-16 2020-02-26      USD       11.71        23   \n",
       "7225    Sales       5004 2020-01-16 2020-04-26      USD       22.21         5   \n",
       "7226    Sales       5004 2020-01-16 2020-02-07      USD        9.67         3   \n",
       "7227    Sales       5004 2020-01-16 2020-04-09      USD       25.85         1   \n",
       "7228    Sales       5004 2020-01-16 2020-05-10      USD        2.40         2   \n",
       "...       ...        ...        ...        ...      ...         ...       ...   \n",
       "37703   Sales       5004 2020-03-31 2020-09-17      USD        5.55         2   \n",
       "37704   Sales       5004 2020-03-31 2020-05-08      USD       28.56         1   \n",
       "37705   Sales       5004 2020-03-31 2020-04-11      USD        3.33         1   \n",
       "37706   Sales       5004 2020-03-31 2020-03-20      USD       34.76        10   \n",
       "37707   Sales       5004 2020-03-31 2020-04-02      USD        6.39        15   \n",
       "\n",
       "        Total  \n",
       "7224   269.33  \n",
       "7225   111.05  \n",
       "7226    29.01  \n",
       "7227    25.85  \n",
       "7228     4.80  \n",
       "...       ...  \n",
       "37703   11.10  \n",
       "37704   28.56  \n",
       "37705    3.33  \n",
       "37706  347.60  \n",
       "37707   95.85  \n",
       "\n",
       "[30484 rows x 12 columns]"
      ]
     },
     "execution_count": 39,
     "metadata": {},
     "output_type": "execute_result"
    }
   ],
   "source": [
    "ledger_df[ledger_df['Date'] > '15/01/2020']"
   ]
  },
  {
   "cell_type": "code",
   "execution_count": 40,
   "id": "f67abdb9-ade1-424f-a705-2de6dbd8ae02",
   "metadata": {},
   "outputs": [
    {
     "data": {
      "text/html": [
       "<div>\n",
       "<style scoped>\n",
       "    .dataframe tbody tr th:only-of-type {\n",
       "        vertical-align: middle;\n",
       "    }\n",
       "\n",
       "    .dataframe tbody tr th {\n",
       "        vertical-align: top;\n",
       "    }\n",
       "\n",
       "    .dataframe thead th {\n",
       "        text-align: right;\n",
       "    }\n",
       "</style>\n",
       "<table border=\"1\" class=\"dataframe\">\n",
       "  <thead>\n",
       "    <tr style=\"text-align: right;\">\n",
       "      <th></th>\n",
       "      <th>InvoiceNo</th>\n",
       "      <th>Channel</th>\n",
       "      <th>Product Name</th>\n",
       "      <th>ProductID</th>\n",
       "      <th>Account</th>\n",
       "      <th>AccountNo</th>\n",
       "      <th>Date</th>\n",
       "      <th>Deadline</th>\n",
       "      <th>Currency</th>\n",
       "      <th>Unit Price</th>\n",
       "      <th>Quantity</th>\n",
       "      <th>Total</th>\n",
       "    </tr>\n",
       "  </thead>\n",
       "  <tbody>\n",
       "    <tr>\n",
       "      <th>7224</th>\n",
       "      <td>8756</td>\n",
       "      <td>Bullseye</td>\n",
       "      <td>Miele Type U AirClean Bags &amp; Filters, For S700...</td>\n",
       "      <td>H&amp;K/MIE-51069</td>\n",
       "      <td>Sales</td>\n",
       "      <td>5004</td>\n",
       "      <td>2020-01-16</td>\n",
       "      <td>2020-02-26</td>\n",
       "      <td>USD</td>\n",
       "      <td>11.71</td>\n",
       "      <td>23</td>\n",
       "      <td>269.33</td>\n",
       "    </tr>\n",
       "    <tr>\n",
       "      <th>7225</th>\n",
       "      <td>8757</td>\n",
       "      <td>Shoppe.com</td>\n",
       "      <td>Verizon LG G2 Chevron Peach Pink Green Red Pat...</td>\n",
       "      <td>CP&amp;A/VER-66222</td>\n",
       "      <td>Sales</td>\n",
       "      <td>5004</td>\n",
       "      <td>2020-01-16</td>\n",
       "      <td>2020-04-26</td>\n",
       "      <td>USD</td>\n",
       "      <td>22.21</td>\n",
       "      <td>5</td>\n",
       "      <td>111.05</td>\n",
       "    </tr>\n",
       "    <tr>\n",
       "      <th>7226</th>\n",
       "      <td>8758</td>\n",
       "      <td>Understock.com</td>\n",
       "      <td>Coleman 5620B718G 5GAL BLU Water Carrier</td>\n",
       "      <td>S&amp;O/COL-60210</td>\n",
       "      <td>Sales</td>\n",
       "      <td>5004</td>\n",
       "      <td>2020-01-16</td>\n",
       "      <td>2020-02-07</td>\n",
       "      <td>USD</td>\n",
       "      <td>9.67</td>\n",
       "      <td>3</td>\n",
       "      <td>29.01</td>\n",
       "    </tr>\n",
       "    <tr>\n",
       "      <th>7227</th>\n",
       "      <td>8759</td>\n",
       "      <td>Understock.com</td>\n",
       "      <td>12-Inch &amp; 9-Inch Stainless Steel Tongs Set, Se...</td>\n",
       "      <td>K&amp;D/12--81602</td>\n",
       "      <td>Sales</td>\n",
       "      <td>5004</td>\n",
       "      <td>2020-01-16</td>\n",
       "      <td>2020-04-09</td>\n",
       "      <td>USD</td>\n",
       "      <td>25.85</td>\n",
       "      <td>1</td>\n",
       "      <td>25.85</td>\n",
       "    </tr>\n",
       "    <tr>\n",
       "      <th>7228</th>\n",
       "      <td>8760</td>\n",
       "      <td>iBay.com</td>\n",
       "      <td>Coaster Oriental Style 4-Panel Room Screen Div...</td>\n",
       "      <td>H&amp;K/COA-60709</td>\n",
       "      <td>Sales</td>\n",
       "      <td>5004</td>\n",
       "      <td>2020-01-16</td>\n",
       "      <td>2020-05-10</td>\n",
       "      <td>USD</td>\n",
       "      <td>2.40</td>\n",
       "      <td>2</td>\n",
       "      <td>4.80</td>\n",
       "    </tr>\n",
       "    <tr>\n",
       "      <th>...</th>\n",
       "      <td>...</td>\n",
       "      <td>...</td>\n",
       "      <td>...</td>\n",
       "      <td>...</td>\n",
       "      <td>...</td>\n",
       "      <td>...</td>\n",
       "      <td>...</td>\n",
       "      <td>...</td>\n",
       "      <td>...</td>\n",
       "      <td>...</td>\n",
       "      <td>...</td>\n",
       "      <td>...</td>\n",
       "    </tr>\n",
       "    <tr>\n",
       "      <th>37703</th>\n",
       "      <td>39235</td>\n",
       "      <td>iBay.com</td>\n",
       "      <td>Nature's Bounty Garlic, 2000mg, Odor-Free, 120...</td>\n",
       "      <td>H&amp;PC/NAT-15470</td>\n",
       "      <td>Sales</td>\n",
       "      <td>5004</td>\n",
       "      <td>2020-03-31</td>\n",
       "      <td>2020-09-17</td>\n",
       "      <td>USD</td>\n",
       "      <td>5.55</td>\n",
       "      <td>2</td>\n",
       "      <td>11.10</td>\n",
       "    </tr>\n",
       "    <tr>\n",
       "      <th>37704</th>\n",
       "      <td>39216</td>\n",
       "      <td>Shoppe.com</td>\n",
       "      <td>Funko Wonder Woman POP Heroes</td>\n",
       "      <td>T&amp;G/FUN-03366</td>\n",
       "      <td>Sales</td>\n",
       "      <td>5004</td>\n",
       "      <td>2020-03-31</td>\n",
       "      <td>2020-05-08</td>\n",
       "      <td>USD</td>\n",
       "      <td>28.56</td>\n",
       "      <td>1</td>\n",
       "      <td>28.56</td>\n",
       "    </tr>\n",
       "    <tr>\n",
       "      <th>37705</th>\n",
       "      <td>39219</td>\n",
       "      <td>Shoppe.com</td>\n",
       "      <td>MONO GS1 GS1-BTY-BLK-L Betty Long Guitar Strap...</td>\n",
       "      <td>MI/MON-86723</td>\n",
       "      <td>Sales</td>\n",
       "      <td>5004</td>\n",
       "      <td>2020-03-31</td>\n",
       "      <td>2020-04-11</td>\n",
       "      <td>USD</td>\n",
       "      <td>3.33</td>\n",
       "      <td>1</td>\n",
       "      <td>3.33</td>\n",
       "    </tr>\n",
       "    <tr>\n",
       "      <th>37706</th>\n",
       "      <td>39238</td>\n",
       "      <td>Shoppe.com</td>\n",
       "      <td>NaN</td>\n",
       "      <td>T&amp;G/MAG-68412</td>\n",
       "      <td>Sales</td>\n",
       "      <td>5004</td>\n",
       "      <td>2020-03-31</td>\n",
       "      <td>2020-03-20</td>\n",
       "      <td>USD</td>\n",
       "      <td>34.76</td>\n",
       "      <td>10</td>\n",
       "      <td>347.60</td>\n",
       "    </tr>\n",
       "    <tr>\n",
       "      <th>37707</th>\n",
       "      <td>39239</td>\n",
       "      <td>Understock.com</td>\n",
       "      <td>3 Collapsible Bowl Set 32oz | 16oz | 4oz</td>\n",
       "      <td>K&amp;D/3 C-07383</td>\n",
       "      <td>Sales</td>\n",
       "      <td>5004</td>\n",
       "      <td>2020-03-31</td>\n",
       "      <td>2020-04-02</td>\n",
       "      <td>USD</td>\n",
       "      <td>6.39</td>\n",
       "      <td>15</td>\n",
       "      <td>95.85</td>\n",
       "    </tr>\n",
       "  </tbody>\n",
       "</table>\n",
       "<p>30484 rows × 12 columns</p>\n",
       "</div>"
      ],
      "text/plain": [
       "       InvoiceNo         Channel  \\\n",
       "7224        8756        Bullseye   \n",
       "7225        8757      Shoppe.com   \n",
       "7226        8758  Understock.com   \n",
       "7227        8759  Understock.com   \n",
       "7228        8760        iBay.com   \n",
       "...          ...             ...   \n",
       "37703      39235        iBay.com   \n",
       "37704      39216      Shoppe.com   \n",
       "37705      39219      Shoppe.com   \n",
       "37706      39238      Shoppe.com   \n",
       "37707      39239  Understock.com   \n",
       "\n",
       "                                            Product Name       ProductID  \\\n",
       "7224   Miele Type U AirClean Bags & Filters, For S700...   H&K/MIE-51069   \n",
       "7225   Verizon LG G2 Chevron Peach Pink Green Red Pat...  CP&A/VER-66222   \n",
       "7226            Coleman 5620B718G 5GAL BLU Water Carrier   S&O/COL-60210   \n",
       "7227   12-Inch & 9-Inch Stainless Steel Tongs Set, Se...   K&D/12--81602   \n",
       "7228   Coaster Oriental Style 4-Panel Room Screen Div...   H&K/COA-60709   \n",
       "...                                                  ...             ...   \n",
       "37703  Nature's Bounty Garlic, 2000mg, Odor-Free, 120...  H&PC/NAT-15470   \n",
       "37704                      Funko Wonder Woman POP Heroes   T&G/FUN-03366   \n",
       "37705  MONO GS1 GS1-BTY-BLK-L Betty Long Guitar Strap...    MI/MON-86723   \n",
       "37706                                                NaN   T&G/MAG-68412   \n",
       "37707           3 Collapsible Bowl Set 32oz | 16oz | 4oz   K&D/3 C-07383   \n",
       "\n",
       "      Account  AccountNo       Date   Deadline Currency  Unit Price  Quantity  \\\n",
       "7224    Sales       5004 2020-01-16 2020-02-26      USD       11.71        23   \n",
       "7225    Sales       5004 2020-01-16 2020-04-26      USD       22.21         5   \n",
       "7226    Sales       5004 2020-01-16 2020-02-07      USD        9.67         3   \n",
       "7227    Sales       5004 2020-01-16 2020-04-09      USD       25.85         1   \n",
       "7228    Sales       5004 2020-01-16 2020-05-10      USD        2.40         2   \n",
       "...       ...        ...        ...        ...      ...         ...       ...   \n",
       "37703   Sales       5004 2020-03-31 2020-09-17      USD        5.55         2   \n",
       "37704   Sales       5004 2020-03-31 2020-05-08      USD       28.56         1   \n",
       "37705   Sales       5004 2020-03-31 2020-04-11      USD        3.33         1   \n",
       "37706   Sales       5004 2020-03-31 2020-03-20      USD       34.76        10   \n",
       "37707   Sales       5004 2020-03-31 2020-04-02      USD        6.39        15   \n",
       "\n",
       "        Total  \n",
       "7224   269.33  \n",
       "7225   111.05  \n",
       "7226    29.01  \n",
       "7227    25.85  \n",
       "7228     4.80  \n",
       "...       ...  \n",
       "37703   11.10  \n",
       "37704   28.56  \n",
       "37705    3.33  \n",
       "37706  347.60  \n",
       "37707   95.85  \n",
       "\n",
       "[30484 rows x 12 columns]"
      ]
     },
     "execution_count": 40,
     "metadata": {},
     "output_type": "execute_result"
    }
   ],
   "source": [
    "ledger_df[ledger_df['Date'] > '15th of January, 2020']\n",
    "#ledger_df[ledger_df['Date'] > '15/1/2020']\n",
    "#ledger_df[ledger_df['Date'] > '2020, Jan 15']\n",
    "#ledger_df[ledger_df['Date'] > '1-15-20']\n",
    "#ledger_df[ledger_df['Date'] > '2020/1/15']"
   ]
  },
  {
   "cell_type": "code",
   "execution_count": 41,
   "id": "63074ea0-718f-455d-b0b0-f1b58026d7ee",
   "metadata": {},
   "outputs": [
    {
     "data": {
      "text/html": [
       "<div>\n",
       "<style scoped>\n",
       "    .dataframe tbody tr th:only-of-type {\n",
       "        vertical-align: middle;\n",
       "    }\n",
       "\n",
       "    .dataframe tbody tr th {\n",
       "        vertical-align: top;\n",
       "    }\n",
       "\n",
       "    .dataframe thead th {\n",
       "        text-align: right;\n",
       "    }\n",
       "</style>\n",
       "<table border=\"1\" class=\"dataframe\">\n",
       "  <thead>\n",
       "    <tr style=\"text-align: right;\">\n",
       "      <th></th>\n",
       "      <th>InvoiceNo</th>\n",
       "      <th>Channel</th>\n",
       "      <th>Product Name</th>\n",
       "      <th>ProductID</th>\n",
       "      <th>Account</th>\n",
       "      <th>AccountNo</th>\n",
       "      <th>Date</th>\n",
       "      <th>Deadline</th>\n",
       "      <th>Currency</th>\n",
       "      <th>Unit Price</th>\n",
       "      <th>Quantity</th>\n",
       "      <th>Total</th>\n",
       "    </tr>\n",
       "  </thead>\n",
       "  <tbody>\n",
       "    <tr>\n",
       "      <th>6748</th>\n",
       "      <td>8280</td>\n",
       "      <td>Shoppe.com</td>\n",
       "      <td>Fender 005-3191-000 1-Ply Black 8-Hole Mount T...</td>\n",
       "      <td>MI/FEN-86342</td>\n",
       "      <td>Sales</td>\n",
       "      <td>5004</td>\n",
       "      <td>2020-01-15</td>\n",
       "      <td>2019-11-08</td>\n",
       "      <td>USD</td>\n",
       "      <td>43.45</td>\n",
       "      <td>6</td>\n",
       "      <td>260.70</td>\n",
       "    </tr>\n",
       "    <tr>\n",
       "      <th>6749</th>\n",
       "      <td>8281</td>\n",
       "      <td>Understock.com</td>\n",
       "      <td>3M 6897 Black Head Strap - 70070709152 [PRICE ...</td>\n",
       "      <td>I&amp;S/3M-25157</td>\n",
       "      <td>Sales</td>\n",
       "      <td>5004</td>\n",
       "      <td>2020-01-15</td>\n",
       "      <td>2020-06-23</td>\n",
       "      <td>USD</td>\n",
       "      <td>4.40</td>\n",
       "      <td>14</td>\n",
       "      <td>61.60</td>\n",
       "    </tr>\n",
       "    <tr>\n",
       "      <th>6750</th>\n",
       "      <td>8282</td>\n",
       "      <td>Understock.com</td>\n",
       "      <td>Tarantula Sleeve Wrap Armguard (Camo)</td>\n",
       "      <td>S&amp;O/TAR-39287</td>\n",
       "      <td>Sales</td>\n",
       "      <td>5004</td>\n",
       "      <td>2020-01-15</td>\n",
       "      <td>2019-10-27</td>\n",
       "      <td>USD</td>\n",
       "      <td>10.57</td>\n",
       "      <td>6</td>\n",
       "      <td>63.42</td>\n",
       "    </tr>\n",
       "    <tr>\n",
       "      <th>6751</th>\n",
       "      <td>8283</td>\n",
       "      <td>Walcart</td>\n",
       "      <td>Hubsan X4 H107C 2.4G 4CH RC Quadcopter With Ca...</td>\n",
       "      <td>T&amp;G/HUB-12150</td>\n",
       "      <td>Sales</td>\n",
       "      <td>5004</td>\n",
       "      <td>2020-01-15</td>\n",
       "      <td>2020-05-12</td>\n",
       "      <td>USD</td>\n",
       "      <td>5.46</td>\n",
       "      <td>1</td>\n",
       "      <td>5.46</td>\n",
       "    </tr>\n",
       "    <tr>\n",
       "      <th>6752</th>\n",
       "      <td>8284</td>\n",
       "      <td>Understock.com</td>\n",
       "      <td>Reusable Particulate Respirator Mask Size: Medium</td>\n",
       "      <td>I&amp;S/REU-35054</td>\n",
       "      <td>Sales</td>\n",
       "      <td>5004</td>\n",
       "      <td>2020-01-15</td>\n",
       "      <td>2020-02-18</td>\n",
       "      <td>USD</td>\n",
       "      <td>20.68</td>\n",
       "      <td>2</td>\n",
       "      <td>41.36</td>\n",
       "    </tr>\n",
       "    <tr>\n",
       "      <th>...</th>\n",
       "      <td>...</td>\n",
       "      <td>...</td>\n",
       "      <td>...</td>\n",
       "      <td>...</td>\n",
       "      <td>...</td>\n",
       "      <td>...</td>\n",
       "      <td>...</td>\n",
       "      <td>...</td>\n",
       "      <td>...</td>\n",
       "      <td>...</td>\n",
       "      <td>...</td>\n",
       "      <td>...</td>\n",
       "    </tr>\n",
       "    <tr>\n",
       "      <th>9331</th>\n",
       "      <td>10800</td>\n",
       "      <td>Understock.com</td>\n",
       "      <td>Samsung Galaxy S3 / S 3 / S4/ S 4/ S IV/ Rugge...</td>\n",
       "      <td>CP&amp;A/SAM-81922</td>\n",
       "      <td>Sales</td>\n",
       "      <td>5004</td>\n",
       "      <td>2020-01-20</td>\n",
       "      <td>2019-11-20</td>\n",
       "      <td>USD</td>\n",
       "      <td>12.28</td>\n",
       "      <td>17</td>\n",
       "      <td>208.76</td>\n",
       "    </tr>\n",
       "    <tr>\n",
       "      <th>9332</th>\n",
       "      <td>10818</td>\n",
       "      <td>iBay.com</td>\n",
       "      <td>Bushnell Velocity Speed Gun (Colors may vary)</td>\n",
       "      <td>S&amp;O/BUS-00706</td>\n",
       "      <td>Sales</td>\n",
       "      <td>5004</td>\n",
       "      <td>2020-01-20</td>\n",
       "      <td>2019-12-12</td>\n",
       "      <td>USD</td>\n",
       "      <td>5.26</td>\n",
       "      <td>3</td>\n",
       "      <td>15.78</td>\n",
       "    </tr>\n",
       "    <tr>\n",
       "      <th>9333</th>\n",
       "      <td>10821</td>\n",
       "      <td>iBay.com</td>\n",
       "      <td>Vivitar V69379-SIL 3-IN-1 2 MP Digital Camera ...</td>\n",
       "      <td>C&amp;P/VIV-10923</td>\n",
       "      <td>Sales</td>\n",
       "      <td>5004</td>\n",
       "      <td>2020-01-20</td>\n",
       "      <td>2020-03-15</td>\n",
       "      <td>USD</td>\n",
       "      <td>7.37</td>\n",
       "      <td>6</td>\n",
       "      <td>44.22</td>\n",
       "    </tr>\n",
       "    <tr>\n",
       "      <th>9334</th>\n",
       "      <td>10823</td>\n",
       "      <td>Understock.com</td>\n",
       "      <td>Cat People / The Curse of the Cat People (Horr...</td>\n",
       "      <td>M&amp;T/CAT-34864</td>\n",
       "      <td>Sales</td>\n",
       "      <td>5004</td>\n",
       "      <td>2020-01-20</td>\n",
       "      <td>2020-05-16</td>\n",
       "      <td>USD</td>\n",
       "      <td>14.82</td>\n",
       "      <td>76</td>\n",
       "      <td>1126.32</td>\n",
       "    </tr>\n",
       "    <tr>\n",
       "      <th>9335</th>\n",
       "      <td>10833</td>\n",
       "      <td>Understock.com</td>\n",
       "      <td>BANG</td>\n",
       "      <td>T&amp;G/BAN-75254</td>\n",
       "      <td>Sales</td>\n",
       "      <td>5004</td>\n",
       "      <td>2020-01-20</td>\n",
       "      <td>2020-04-24</td>\n",
       "      <td>USD</td>\n",
       "      <td>10.08</td>\n",
       "      <td>6</td>\n",
       "      <td>60.48</td>\n",
       "    </tr>\n",
       "  </tbody>\n",
       "</table>\n",
       "<p>2588 rows × 12 columns</p>\n",
       "</div>"
      ],
      "text/plain": [
       "      InvoiceNo         Channel  \\\n",
       "6748       8280      Shoppe.com   \n",
       "6749       8281  Understock.com   \n",
       "6750       8282  Understock.com   \n",
       "6751       8283         Walcart   \n",
       "6752       8284  Understock.com   \n",
       "...         ...             ...   \n",
       "9331      10800  Understock.com   \n",
       "9332      10818        iBay.com   \n",
       "9333      10821        iBay.com   \n",
       "9334      10823  Understock.com   \n",
       "9335      10833  Understock.com   \n",
       "\n",
       "                                           Product Name       ProductID  \\\n",
       "6748  Fender 005-3191-000 1-Ply Black 8-Hole Mount T...    MI/FEN-86342   \n",
       "6749  3M 6897 Black Head Strap - 70070709152 [PRICE ...    I&S/3M-25157   \n",
       "6750              Tarantula Sleeve Wrap Armguard (Camo)   S&O/TAR-39287   \n",
       "6751  Hubsan X4 H107C 2.4G 4CH RC Quadcopter With Ca...   T&G/HUB-12150   \n",
       "6752  Reusable Particulate Respirator Mask Size: Medium   I&S/REU-35054   \n",
       "...                                                 ...             ...   \n",
       "9331  Samsung Galaxy S3 / S 3 / S4/ S 4/ S IV/ Rugge...  CP&A/SAM-81922   \n",
       "9332      Bushnell Velocity Speed Gun (Colors may vary)   S&O/BUS-00706   \n",
       "9333  Vivitar V69379-SIL 3-IN-1 2 MP Digital Camera ...   C&P/VIV-10923   \n",
       "9334  Cat People / The Curse of the Cat People (Horr...   M&T/CAT-34864   \n",
       "9335                                               BANG   T&G/BAN-75254   \n",
       "\n",
       "     Account  AccountNo       Date   Deadline Currency  Unit Price  Quantity  \\\n",
       "6748   Sales       5004 2020-01-15 2019-11-08      USD       43.45         6   \n",
       "6749   Sales       5004 2020-01-15 2020-06-23      USD        4.40        14   \n",
       "6750   Sales       5004 2020-01-15 2019-10-27      USD       10.57         6   \n",
       "6751   Sales       5004 2020-01-15 2020-05-12      USD        5.46         1   \n",
       "6752   Sales       5004 2020-01-15 2020-02-18      USD       20.68         2   \n",
       "...      ...        ...        ...        ...      ...         ...       ...   \n",
       "9331   Sales       5004 2020-01-20 2019-11-20      USD       12.28        17   \n",
       "9332   Sales       5004 2020-01-20 2019-12-12      USD        5.26         3   \n",
       "9333   Sales       5004 2020-01-20 2020-03-15      USD        7.37         6   \n",
       "9334   Sales       5004 2020-01-20 2020-05-16      USD       14.82        76   \n",
       "9335   Sales       5004 2020-01-20 2020-04-24      USD       10.08         6   \n",
       "\n",
       "        Total  \n",
       "6748   260.70  \n",
       "6749    61.60  \n",
       "6750    63.42  \n",
       "6751     5.46  \n",
       "6752    41.36  \n",
       "...       ...  \n",
       "9331   208.76  \n",
       "9332    15.78  \n",
       "9333    44.22  \n",
       "9334  1126.32  \n",
       "9335    60.48  \n",
       "\n",
       "[2588 rows x 12 columns]"
      ]
     },
     "execution_count": 41,
     "metadata": {},
     "output_type": "execute_result"
    }
   ],
   "source": [
    "import datetime as dt\n",
    "\n",
    "start_date = dt.datetime(2020, 1, 15)\n",
    "end_date = dt.datetime(2020, 1, 20)\n",
    "shift = dt.timedelta(days=1)\n",
    "\n",
    "# Filter rows in 'ledger_df' where 'Date' is within a specified range\n",
    "ledger_df[   \n",
    "            (ledger_df['Date'] > start_date - shift)    # Select rows where 'Date' is after 'start_date' minus 'shift'\n",
    "            & \n",
    "            (ledger_df['Date'] < end_date + shift)      # Select rows where 'Date' is before 'end_date' plus 'shift'\n",
    "         ]"
   ]
  },
  {
   "cell_type": "code",
   "execution_count": 42,
   "id": "399492f6-693e-43e3-817b-711ff3b06675",
   "metadata": {},
   "outputs": [
    {
     "data": {
      "text/html": [
       "<div>\n",
       "<style scoped>\n",
       "    .dataframe tbody tr th:only-of-type {\n",
       "        vertical-align: middle;\n",
       "    }\n",
       "\n",
       "    .dataframe tbody tr th {\n",
       "        vertical-align: top;\n",
       "    }\n",
       "\n",
       "    .dataframe thead th {\n",
       "        text-align: right;\n",
       "    }\n",
       "</style>\n",
       "<table border=\"1\" class=\"dataframe\">\n",
       "  <thead>\n",
       "    <tr style=\"text-align: right;\">\n",
       "      <th></th>\n",
       "      <th>InvoiceNo</th>\n",
       "      <th>Channel</th>\n",
       "      <th>Product Name</th>\n",
       "      <th>ProductID</th>\n",
       "      <th>Account</th>\n",
       "      <th>AccountNo</th>\n",
       "      <th>Date</th>\n",
       "      <th>Deadline</th>\n",
       "      <th>Currency</th>\n",
       "      <th>Unit Price</th>\n",
       "      <th>Quantity</th>\n",
       "      <th>Total</th>\n",
       "    </tr>\n",
       "  </thead>\n",
       "  <tbody>\n",
       "    <tr>\n",
       "      <th>6</th>\n",
       "      <td>1538</td>\n",
       "      <td>Understock.com</td>\n",
       "      <td>NaN</td>\n",
       "      <td>S&amp;O/TEX-91494</td>\n",
       "      <td>Sales</td>\n",
       "      <td>5004</td>\n",
       "      <td>2020-01-01</td>\n",
       "      <td>2019-10-31</td>\n",
       "      <td>USD</td>\n",
       "      <td>31.36</td>\n",
       "      <td>9</td>\n",
       "      <td>282.24</td>\n",
       "    </tr>\n",
       "    <tr>\n",
       "      <th>22</th>\n",
       "      <td>1554</td>\n",
       "      <td>iBay.com</td>\n",
       "      <td>Nerf N-Sports Weather Blitz All Conditions Foo...</td>\n",
       "      <td>T&amp;G/NER-98948</td>\n",
       "      <td>Sales</td>\n",
       "      <td>5004</td>\n",
       "      <td>2020-01-01</td>\n",
       "      <td>2019-10-24</td>\n",
       "      <td>USD</td>\n",
       "      <td>25.95</td>\n",
       "      <td>3</td>\n",
       "      <td>77.85</td>\n",
       "    </tr>\n",
       "    <tr>\n",
       "      <th>38</th>\n",
       "      <td>1570</td>\n",
       "      <td>Walcart</td>\n",
       "      <td>DR Strings Nickel Lo-Rider - Nickel Plated Hex...</td>\n",
       "      <td>MI/DR-99810</td>\n",
       "      <td>Sales</td>\n",
       "      <td>5004</td>\n",
       "      <td>2020-01-01</td>\n",
       "      <td>2019-11-14</td>\n",
       "      <td>USD</td>\n",
       "      <td>13.08</td>\n",
       "      <td>1</td>\n",
       "      <td>13.08</td>\n",
       "    </tr>\n",
       "    <tr>\n",
       "      <th>65</th>\n",
       "      <td>1597</td>\n",
       "      <td>Walcart</td>\n",
       "      <td>Tork Dispenser Napkins, Interfold,13 Width x 8...</td>\n",
       "      <td>H&amp;PC/TOR-78048</td>\n",
       "      <td>Sales</td>\n",
       "      <td>5004</td>\n",
       "      <td>2020-01-01</td>\n",
       "      <td>2019-11-28</td>\n",
       "      <td>USD</td>\n",
       "      <td>5.23</td>\n",
       "      <td>17</td>\n",
       "      <td>88.91</td>\n",
       "    </tr>\n",
       "    <tr>\n",
       "      <th>85</th>\n",
       "      <td>1617</td>\n",
       "      <td>Walcart</td>\n",
       "      <td>Battery Back Door Cover Replacement for Samsun...</td>\n",
       "      <td>CP&amp;A/BAT-49908</td>\n",
       "      <td>Sales</td>\n",
       "      <td>5004</td>\n",
       "      <td>2020-01-01</td>\n",
       "      <td>2019-11-07</td>\n",
       "      <td>USD</td>\n",
       "      <td>23.86</td>\n",
       "      <td>4</td>\n",
       "      <td>95.44</td>\n",
       "    </tr>\n",
       "    <tr>\n",
       "      <th>...</th>\n",
       "      <td>...</td>\n",
       "      <td>...</td>\n",
       "      <td>...</td>\n",
       "      <td>...</td>\n",
       "      <td>...</td>\n",
       "      <td>...</td>\n",
       "      <td>...</td>\n",
       "      <td>...</td>\n",
       "      <td>...</td>\n",
       "      <td>...</td>\n",
       "      <td>...</td>\n",
       "      <td>...</td>\n",
       "    </tr>\n",
       "    <tr>\n",
       "      <th>35634</th>\n",
       "      <td>37166</td>\n",
       "      <td>Walcart</td>\n",
       "      <td>Olde Thompson 8-Inch Senator Walnut Peppermill</td>\n",
       "      <td>K&amp;D/OLD-76861</td>\n",
       "      <td>Sales</td>\n",
       "      <td>5004</td>\n",
       "      <td>2020-03-22</td>\n",
       "      <td>2019-12-26</td>\n",
       "      <td>USD</td>\n",
       "      <td>26.47</td>\n",
       "      <td>1</td>\n",
       "      <td>26.47</td>\n",
       "    </tr>\n",
       "    <tr>\n",
       "      <th>35656</th>\n",
       "      <td>37188</td>\n",
       "      <td>iBay.com</td>\n",
       "      <td>Remo Controlled Sound Coated Drum Head with Re...</td>\n",
       "      <td>MI/REM-66035</td>\n",
       "      <td>Sales</td>\n",
       "      <td>5004</td>\n",
       "      <td>2020-03-22</td>\n",
       "      <td>2019-12-26</td>\n",
       "      <td>USD</td>\n",
       "      <td>4.96</td>\n",
       "      <td>16</td>\n",
       "      <td>79.36</td>\n",
       "    </tr>\n",
       "    <tr>\n",
       "      <th>35987</th>\n",
       "      <td>37519</td>\n",
       "      <td>iBay.com</td>\n",
       "      <td>MPERO Collection 3 Pack of Mirror Screen Prote...</td>\n",
       "      <td>CP&amp;A/MPE-10829</td>\n",
       "      <td>Sales</td>\n",
       "      <td>5004</td>\n",
       "      <td>2020-03-23</td>\n",
       "      <td>2019-12-26</td>\n",
       "      <td>USD</td>\n",
       "      <td>10.29</td>\n",
       "      <td>6</td>\n",
       "      <td>61.74</td>\n",
       "    </tr>\n",
       "    <tr>\n",
       "      <th>36115</th>\n",
       "      <td>37647</td>\n",
       "      <td>Understock.com</td>\n",
       "      <td>Magline GMK81UA4 Gemini Sr Convertible Hand Tr...</td>\n",
       "      <td>I&amp;S/MAG-94877</td>\n",
       "      <td>Sales</td>\n",
       "      <td>5004</td>\n",
       "      <td>2020-03-24</td>\n",
       "      <td>2019-12-26</td>\n",
       "      <td>USD</td>\n",
       "      <td>18.25</td>\n",
       "      <td>12</td>\n",
       "      <td>219.00</td>\n",
       "    </tr>\n",
       "    <tr>\n",
       "      <th>36205</th>\n",
       "      <td>37682</td>\n",
       "      <td>Understock.com</td>\n",
       "      <td>Magline GMK81UA4 Gemini Sr Convertible Hand Tr...</td>\n",
       "      <td>I&amp;S/MAG-94877</td>\n",
       "      <td>Sales</td>\n",
       "      <td>5004</td>\n",
       "      <td>2020-03-24</td>\n",
       "      <td>2019-12-26</td>\n",
       "      <td>USD</td>\n",
       "      <td>18.25</td>\n",
       "      <td>12</td>\n",
       "      <td>219.00</td>\n",
       "    </tr>\n",
       "  </tbody>\n",
       "</table>\n",
       "<p>988 rows × 12 columns</p>\n",
       "</div>"
      ],
      "text/plain": [
       "       InvoiceNo         Channel  \\\n",
       "6           1538  Understock.com   \n",
       "22          1554        iBay.com   \n",
       "38          1570         Walcart   \n",
       "65          1597         Walcart   \n",
       "85          1617         Walcart   \n",
       "...          ...             ...   \n",
       "35634      37166         Walcart   \n",
       "35656      37188        iBay.com   \n",
       "35987      37519        iBay.com   \n",
       "36115      37647  Understock.com   \n",
       "36205      37682  Understock.com   \n",
       "\n",
       "                                            Product Name       ProductID  \\\n",
       "6                                                    NaN   S&O/TEX-91494   \n",
       "22     Nerf N-Sports Weather Blitz All Conditions Foo...   T&G/NER-98948   \n",
       "38     DR Strings Nickel Lo-Rider - Nickel Plated Hex...     MI/DR-99810   \n",
       "65     Tork Dispenser Napkins, Interfold,13 Width x 8...  H&PC/TOR-78048   \n",
       "85     Battery Back Door Cover Replacement for Samsun...  CP&A/BAT-49908   \n",
       "...                                                  ...             ...   \n",
       "35634     Olde Thompson 8-Inch Senator Walnut Peppermill   K&D/OLD-76861   \n",
       "35656  Remo Controlled Sound Coated Drum Head with Re...    MI/REM-66035   \n",
       "35987  MPERO Collection 3 Pack of Mirror Screen Prote...  CP&A/MPE-10829   \n",
       "36115  Magline GMK81UA4 Gemini Sr Convertible Hand Tr...   I&S/MAG-94877   \n",
       "36205  Magline GMK81UA4 Gemini Sr Convertible Hand Tr...   I&S/MAG-94877   \n",
       "\n",
       "      Account  AccountNo       Date   Deadline Currency  Unit Price  Quantity  \\\n",
       "6       Sales       5004 2020-01-01 2019-10-31      USD       31.36         9   \n",
       "22      Sales       5004 2020-01-01 2019-10-24      USD       25.95         3   \n",
       "38      Sales       5004 2020-01-01 2019-11-14      USD       13.08         1   \n",
       "65      Sales       5004 2020-01-01 2019-11-28      USD        5.23        17   \n",
       "85      Sales       5004 2020-01-01 2019-11-07      USD       23.86         4   \n",
       "...       ...        ...        ...        ...      ...         ...       ...   \n",
       "35634   Sales       5004 2020-03-22 2019-12-26      USD       26.47         1   \n",
       "35656   Sales       5004 2020-03-22 2019-12-26      USD        4.96        16   \n",
       "35987   Sales       5004 2020-03-23 2019-12-26      USD       10.29         6   \n",
       "36115   Sales       5004 2020-03-24 2019-12-26      USD       18.25        12   \n",
       "36205   Sales       5004 2020-03-24 2019-12-26      USD       18.25        12   \n",
       "\n",
       "        Total  \n",
       "6      282.24  \n",
       "22      77.85  \n",
       "38      13.08  \n",
       "65      88.91  \n",
       "85      95.44  \n",
       "...       ...  \n",
       "35634   26.47  \n",
       "35656   79.36  \n",
       "35987   61.74  \n",
       "36115  219.00  \n",
       "36205  219.00  \n",
       "\n",
       "[988 rows x 12 columns]"
      ]
     },
     "execution_count": 42,
     "metadata": {},
     "output_type": "execute_result"
    }
   ],
   "source": [
    "# Filter rows in 'ledger_df' based on specific conditions for the 'Deadline' column\n",
    "ledger_df[\n",
    "            (ledger_df['Deadline'].dt.year.isin([2018, 2019])) &     # Select rows where the 'Deadline' year is 2018 or 2019 \n",
    "            (ledger_df['Deadline'].dt.quarter == 4) &                # Select rows where the 'Deadline' is in the 4th quarter\n",
    "            (ledger_df['Deadline'].dt.day_name() == 'Thursday')      # Select rows where the 'Deadline' falls on a Thursday\n",
    "          ]\n"
   ]
  },
  {
   "cell_type": "markdown",
   "id": "7aee41ba-fab6-4b73-9c47-9a0295a82ba0",
   "metadata": {},
   "source": [
    "### Converting dates back to strings"
   ]
  },
  {
   "cell_type": "code",
   "execution_count": 44,
   "id": "c9e671fb-ebc5-42a4-9b76-69b2ee0050dd",
   "metadata": {},
   "outputs": [
    {
     "data": {
      "text/plain": [
       "0         Saturday, 23 November, 2019\n",
       "1               Monday, 15 June, 2020\n",
       "2              Thursday, 07 May, 2020\n",
       "3           Sunday, 22 December, 2019\n",
       "4           Sunday, 22 December, 2019\n",
       "                     ...             \n",
       "37703    Thursday, 17 September, 2020\n",
       "37704            Friday, 08 May, 2020\n",
       "37705        Saturday, 11 April, 2020\n",
       "37706          Friday, 20 March, 2020\n",
       "37707        Thursday, 02 April, 2020\n",
       "Name: Deadline, Length: 37708, dtype: object"
      ]
     },
     "execution_count": 44,
     "metadata": {},
     "output_type": "execute_result"
    }
   ],
   "source": [
    "# Format the 'Deadline' column to display the date in a custom string format\n",
    "ledger_df['Deadline'].dt.strftime(\"%A, %d %B, %Y\")  "
   ]
  },
  {
   "cell_type": "markdown",
   "id": "9beebe45-99be-4c77-995b-2051266c8dbb",
   "metadata": {},
   "source": [
    "### Pandas date arithmetic"
   ]
  },
  {
   "cell_type": "code",
   "execution_count": 46,
   "id": "07503b07-28e9-4f06-905b-999b32973cb3",
   "metadata": {},
   "outputs": [
    {
     "data": {
      "text/plain": [
       "0       2019-11-23\n",
       "1       2020-06-15\n",
       "2       2020-05-07\n",
       "3       2019-12-22\n",
       "4       2019-12-22\n",
       "           ...    \n",
       "37703   2020-09-17\n",
       "37704   2020-05-08\n",
       "37705   2020-04-11\n",
       "37706   2020-03-20\n",
       "37707   2020-04-02\n",
       "Name: Deadline, Length: 37708, dtype: datetime64[ns]"
      ]
     },
     "execution_count": 46,
     "metadata": {},
     "output_type": "execute_result"
    }
   ],
   "source": [
    "ledger_df['Deadline']"
   ]
  },
  {
   "cell_type": "code",
   "execution_count": 47,
   "id": "99447fa9-84dd-4b03-bc35-a8849e762cd1",
   "metadata": {},
   "outputs": [
    {
     "data": {
      "text/plain": [
       "0       2019-11-25\n",
       "1       2020-06-17\n",
       "2       2020-05-09\n",
       "3       2019-12-24\n",
       "4       2019-12-24\n",
       "           ...    \n",
       "37703   2020-09-19\n",
       "37704   2020-05-10\n",
       "37705   2020-04-13\n",
       "37706   2020-03-22\n",
       "37707   2020-04-04\n",
       "Name: Deadline, Length: 37708, dtype: datetime64[ns]"
      ]
     },
     "execution_count": 47,
     "metadata": {},
     "output_type": "execute_result"
    }
   ],
   "source": [
    "ledger_df['Deadline'] + pd.Timedelta(days=2)"
   ]
  },
  {
   "cell_type": "code",
   "execution_count": 48,
   "id": "1150386b-0851-4c66-9d6b-cd8767821e40",
   "metadata": {},
   "outputs": [
    {
     "data": {
      "text/plain": [
       "0       2019-10-26\n",
       "1       2020-05-18\n",
       "2       2020-04-09\n",
       "3       2019-11-24\n",
       "4       2019-11-24\n",
       "           ...    \n",
       "37703   2020-08-20\n",
       "37704   2020-04-10\n",
       "37705   2020-03-14\n",
       "37706   2020-02-21\n",
       "37707   2020-03-05\n",
       "Name: Deadline, Length: 37708, dtype: datetime64[ns]"
      ]
     },
     "execution_count": 48,
     "metadata": {},
     "output_type": "execute_result"
    }
   ],
   "source": [
    "ledger_df['Deadline'] - pd.Timedelta(weeks=4)"
   ]
  },
  {
   "cell_type": "code",
   "execution_count": 49,
   "id": "5fc0ee08-59ed-4352-a3d6-de461d93b666",
   "metadata": {},
   "outputs": [
    {
     "data": {
      "text/plain": [
       "0       2019-12-24 02:01:00\n",
       "1       2020-07-16 02:01:00\n",
       "2       2020-06-07 02:01:00\n",
       "3       2020-01-22 02:01:00\n",
       "4       2020-01-22 02:01:00\n",
       "                ...        \n",
       "37703   2020-10-18 02:01:00\n",
       "37704   2020-06-08 02:01:00\n",
       "37705   2020-05-12 02:01:00\n",
       "37706   2020-04-20 02:01:00\n",
       "37707   2020-05-03 02:01:00\n",
       "Name: Deadline, Length: 37708, dtype: datetime64[ns]"
      ]
     },
     "execution_count": 49,
     "metadata": {},
     "output_type": "execute_result"
    }
   ],
   "source": [
    "ledger_df['Deadline'] + pd.Timedelta(weeks=4, days=3, hours=2, minutes=1)"
   ]
  },
  {
   "cell_type": "code",
   "execution_count": 50,
   "id": "76814907-c329-4cde-aa53-e62ad7045ff9",
   "metadata": {},
   "outputs": [
    {
     "data": {
      "text/plain": [
       "0         39 days\n",
       "1       -166 days\n",
       "2       -127 days\n",
       "3         10 days\n",
       "4         10 days\n",
       "           ...   \n",
       "37703   -170 days\n",
       "37704    -38 days\n",
       "37705    -11 days\n",
       "37706     11 days\n",
       "37707     -2 days\n",
       "Length: 37708, dtype: timedelta64[ns]"
      ]
     },
     "execution_count": 50,
     "metadata": {},
     "output_type": "execute_result"
    }
   ],
   "source": [
    "ledger_df['Date'] - ledger_df['Deadline']"
   ]
  },
  {
   "cell_type": "code",
   "execution_count": 51,
   "id": "0fdd4424-9024-433f-bb2c-66dee9adab0f",
   "metadata": {},
   "outputs": [
    {
     "data": {
      "text/plain": [
       "Timedelta('39 days 00:00:00')"
      ]
     },
     "execution_count": 51,
     "metadata": {},
     "output_type": "execute_result"
    }
   ],
   "source": [
    "(ledger_df['Date'] - ledger_df['Deadline']).iloc[0]"
   ]
  },
  {
   "cell_type": "code",
   "execution_count": 52,
   "id": "e0eadcda-8398-46b5-9fa2-39fc6bd26ecc",
   "metadata": {},
   "outputs": [
    {
     "data": {
      "text/plain": [
       "Timedelta('9 days 00:00:00')"
      ]
     },
     "execution_count": 52,
     "metadata": {},
     "output_type": "execute_result"
    }
   ],
   "source": [
    "pd.Timedelta(days=2) + pd.Timedelta(weeks=1)"
   ]
  },
  {
   "cell_type": "markdown",
   "id": "7994d0ff-8b26-42f0-a11c-7da4691145bb",
   "metadata": {},
   "source": [
    "To express this difference in hours, you can simply divide the output of subtracting the two columns\n",
    "by a Timedelta that uses the hour time interval."
   ]
  },
  {
   "cell_type": "code",
   "execution_count": 54,
   "id": "cbade73c-2bbd-42a2-a212-08e93ab190ca",
   "metadata": {},
   "outputs": [
    {
     "data": {
      "text/plain": [
       "0         936.0\n",
       "1       -3984.0\n",
       "2       -3048.0\n",
       "3         240.0\n",
       "4         240.0\n",
       "          ...  \n",
       "37703   -4080.0\n",
       "37704    -912.0\n",
       "37705    -264.0\n",
       "37706     264.0\n",
       "37707     -48.0\n",
       "Length: 37708, dtype: float64"
      ]
     },
     "execution_count": 54,
     "metadata": {},
     "output_type": "execute_result"
    }
   ],
   "source": [
    "(ledger_df['Date'] - ledger_df['Deadline']) / pd.Timedelta(hours=1)"
   ]
  },
  {
   "cell_type": "markdown",
   "id": "1a3bd6a2-1c5d-407d-8088-c86e8d42da33",
   "metadata": {},
   "source": [
    "### Date offsets"
   ]
  },
  {
   "cell_type": "markdown",
   "id": "1048b887-42e3-454f-aa7c-39aa14a211ce",
   "metadata": {},
   "source": [
    "To add 2 days to each value in the 'Deadline' column you can use:"
   ]
  },
  {
   "cell_type": "code",
   "execution_count": 57,
   "id": "f7e1dbcb-5a42-4475-9fe8-5ad09ed6b1b8",
   "metadata": {},
   "outputs": [
    {
     "data": {
      "text/plain": [
       "0       2019-11-25\n",
       "1       2020-06-17\n",
       "2       2020-05-09\n",
       "3       2019-12-24\n",
       "4       2019-12-24\n",
       "           ...    \n",
       "37703   2020-09-19\n",
       "37704   2020-05-10\n",
       "37705   2020-04-13\n",
       "37706   2020-03-22\n",
       "37707   2020-04-04\n",
       "Name: Deadline, Length: 37708, dtype: datetime64[ns]"
      ]
     },
     "execution_count": 57,
     "metadata": {},
     "output_type": "execute_result"
    }
   ],
   "source": [
    "ledger_df['Deadline'] + pd.DateOffset(days=2)  # Equivalent to: ledger_df['Deadline'] + pd.Timedelta(days=2)"
   ]
  },
  {
   "cell_type": "code",
   "execution_count": 58,
   "id": "97539aef-253a-4fb4-9099-1ec9a6026d54",
   "metadata": {},
   "outputs": [
    {
     "data": {
      "text/plain": [
       "0       2019-11-25\n",
       "1       2020-06-17\n",
       "2       2020-05-09\n",
       "3       2019-12-24\n",
       "4       2019-12-24\n",
       "           ...    \n",
       "37703   2020-09-19\n",
       "37704   2020-05-10\n",
       "37705   2020-04-13\n",
       "37706   2020-03-22\n",
       "37707   2020-04-04\n",
       "Name: Deadline, Length: 37708, dtype: datetime64[ns]"
      ]
     },
     "execution_count": 58,
     "metadata": {},
     "output_type": "execute_result"
    }
   ],
   "source": [
    "ledger_df['Deadline'] + pd.Timedelta(days=2)"
   ]
  },
  {
   "cell_type": "code",
   "execution_count": 59,
   "id": "7764d262-a255-4002-a1e2-dbb393770a06",
   "metadata": {},
   "outputs": [
    {
     "data": {
      "text/plain": [
       "0       2019-11-23\n",
       "1       2020-06-15\n",
       "2       2020-05-07\n",
       "3       2019-12-22\n",
       "4       2019-12-22\n",
       "           ...    \n",
       "37703   2020-09-17\n",
       "37704   2020-05-08\n",
       "37705   2020-04-11\n",
       "37706   2020-03-20\n",
       "37707   2020-04-02\n",
       "Name: Deadline, Length: 37708, dtype: datetime64[ns]"
      ]
     },
     "execution_count": 59,
     "metadata": {},
     "output_type": "execute_result"
    }
   ],
   "source": [
    "ledger_df['Deadline']"
   ]
  },
  {
   "cell_type": "code",
   "execution_count": 60,
   "id": "0c2b5f93-85db-4792-b50c-0640c9f99487",
   "metadata": {},
   "outputs": [
    {
     "data": {
      "text/plain": [
       "0       2022-04-23\n",
       "1       2022-11-15\n",
       "2       2022-10-07\n",
       "3       2022-05-22\n",
       "4       2022-05-22\n",
       "           ...    \n",
       "37703   2023-02-17\n",
       "37704   2022-10-08\n",
       "37705   2022-09-11\n",
       "37706   2022-08-20\n",
       "37707   2022-09-02\n",
       "Name: Deadline, Length: 37708, dtype: datetime64[ns]"
      ]
     },
     "execution_count": 60,
     "metadata": {},
     "output_type": "execute_result"
    }
   ],
   "source": [
    "ledger_df['Deadline'] + pd.DateOffset(years=2, months=5)"
   ]
  },
  {
   "cell_type": "markdown",
   "id": "ca7988ef-5244-422e-9425-63108f818ab6",
   "metadata": {},
   "source": [
    "### Periods"
   ]
  },
  {
   "cell_type": "code",
   "execution_count": 62,
   "id": "d2a50ec4-5d54-4ba5-8177-9c40c3ef1867",
   "metadata": {},
   "outputs": [
    {
     "data": {
      "text/plain": [
       "0       2019-11-23\n",
       "1       2020-06-15\n",
       "2       2020-05-07\n",
       "3       2019-12-22\n",
       "4       2019-12-22\n",
       "           ...    \n",
       "37703   2020-09-17\n",
       "37704   2020-05-08\n",
       "37705   2020-04-11\n",
       "37706   2020-03-20\n",
       "37707   2020-04-02\n",
       "Name: Deadline, Length: 37708, dtype: datetime64[ns]"
      ]
     },
     "execution_count": 62,
     "metadata": {},
     "output_type": "execute_result"
    }
   ],
   "source": [
    "ledger_df['Deadline']"
   ]
  },
  {
   "cell_type": "markdown",
   "id": "221439f2-0709-4146-a7c9-74367078e0cc",
   "metadata": {},
   "source": [
    "For instance, to convert all dates in the 'Deadline' column into a Series of quarterly periods, you can use:"
   ]
  },
  {
   "cell_type": "code",
   "execution_count": 64,
   "id": "0fd5d332-f67a-47a9-bff3-5520a5a772eb",
   "metadata": {},
   "outputs": [
    {
     "data": {
      "text/plain": [
       "0        2019Q4\n",
       "1        2020Q2\n",
       "2        2020Q2\n",
       "3        2019Q4\n",
       "4        2019Q4\n",
       "          ...  \n",
       "37703    2020Q3\n",
       "37704    2020Q2\n",
       "37705    2020Q2\n",
       "37706    2020Q1\n",
       "37707    2020Q2\n",
       "Name: Deadline, Length: 37708, dtype: period[Q-DEC]"
      ]
     },
     "execution_count": 64,
     "metadata": {},
     "output_type": "execute_result"
    }
   ],
   "source": [
    "ledger_df['Deadline'].dt.to_period(freq='Q')"
   ]
  },
  {
   "cell_type": "code",
   "execution_count": 65,
   "id": "458b0086-bcf6-4f65-b3e0-6cc42a8e060f",
   "metadata": {},
   "outputs": [
    {
     "data": {
      "text/plain": [
       "0        2020Q1\n",
       "1        2020Q3\n",
       "2        2020Q3\n",
       "3        2020Q1\n",
       "4        2020Q1\n",
       "          ...  \n",
       "37703    2020Q4\n",
       "37704    2020Q3\n",
       "37705    2020Q3\n",
       "37706    2020Q2\n",
       "37707    2020Q3\n",
       "Name: Deadline, Length: 37708, dtype: period[Q-SEP]"
      ]
     },
     "execution_count": 65,
     "metadata": {},
     "output_type": "execute_result"
    }
   ],
   "source": [
    "# Convert 'Deadline' column to period with quarterly frequency ending in September ('Q-SEP')\n",
    "ledger_df['Deadline'].dt.to_period(freq='Q-SEP')"
   ]
  },
  {
   "cell_type": "code",
   "execution_count": 66,
   "id": "77d4d8c2-1a8f-4fdc-bb8c-f355513f198d",
   "metadata": {},
   "outputs": [
    {
     "data": {
      "text/plain": [
       "0       2019-11-23\n",
       "1       2020-06-15\n",
       "2       2020-05-07\n",
       "3       2019-12-22\n",
       "4       2019-12-22\n",
       "           ...    \n",
       "37703   2020-09-17\n",
       "37704   2020-05-08\n",
       "37705   2020-04-11\n",
       "37706   2020-03-20\n",
       "37707   2020-04-02\n",
       "Name: Deadline, Length: 37708, dtype: datetime64[ns]"
      ]
     },
     "execution_count": 66,
     "metadata": {},
     "output_type": "execute_result"
    }
   ],
   "source": [
    "ledger_df['Deadline']"
   ]
  },
  {
   "cell_type": "code",
   "execution_count": 67,
   "id": "19485a3c-eb72-4f3f-8de3-a943bfb4d555",
   "metadata": {},
   "outputs": [
    {
     "data": {
      "text/plain": [
       "0        2019\n",
       "1        2020\n",
       "2        2020\n",
       "3        2019\n",
       "4        2019\n",
       "         ... \n",
       "37703    2020\n",
       "37704    2020\n",
       "37705    2020\n",
       "37706    2020\n",
       "37707    2020\n",
       "Name: Deadline, Length: 37708, dtype: period[Y-DEC]"
      ]
     },
     "execution_count": 67,
     "metadata": {},
     "output_type": "execute_result"
    }
   ],
   "source": [
    "# Y stands for year\n",
    "ledger_df['Deadline'].dt.to_period(freq='Y')"
   ]
  },
  {
   "cell_type": "markdown",
   "id": "118151a8-8566-47f7-8c2b-a7677b9758fe",
   "metadata": {},
   "source": [
    "### Overthinking: Timezones"
   ]
  },
  {
   "cell_type": "code",
   "execution_count": 69,
   "id": "47acb558-9c46-4348-91b6-b64116704384",
   "metadata": {},
   "outputs": [
    {
     "data": {
      "text/plain": [
       "0       2019-11-23\n",
       "1       2020-06-15\n",
       "2       2020-05-07\n",
       "3       2019-12-22\n",
       "4       2019-12-22\n",
       "           ...    \n",
       "37703   2020-09-17\n",
       "37704   2020-05-08\n",
       "37705   2020-04-11\n",
       "37706   2020-03-20\n",
       "37707   2020-04-02\n",
       "Name: Deadline, Length: 37708, dtype: datetime64[ns]"
      ]
     },
     "execution_count": 69,
     "metadata": {},
     "output_type": "execute_result"
    }
   ],
   "source": [
    "ledger_df['Deadline']"
   ]
  },
  {
   "cell_type": "code",
   "execution_count": 70,
   "id": "54a2c46c-d7bc-458f-8714-b3d8b277e574",
   "metadata": {},
   "outputs": [
    {
     "data": {
      "text/plain": [
       "0       2019-11-23 00:00:00-08:00\n",
       "1       2020-06-15 00:00:00-07:00\n",
       "2       2020-05-07 00:00:00-07:00\n",
       "3       2019-12-22 00:00:00-08:00\n",
       "4       2019-12-22 00:00:00-08:00\n",
       "                   ...           \n",
       "37703   2020-09-17 00:00:00-07:00\n",
       "37704   2020-05-08 00:00:00-07:00\n",
       "37705   2020-04-11 00:00:00-07:00\n",
       "37706   2020-03-20 00:00:00-07:00\n",
       "37707   2020-04-02 00:00:00-07:00\n",
       "Name: Deadline, Length: 37708, dtype: datetime64[ns, US/Pacific]"
      ]
     },
     "execution_count": 70,
     "metadata": {},
     "output_type": "execute_result"
    }
   ],
   "source": [
    "# Localize the 'Deadline' column to US Pacific timezone\n",
    "us_pacific_deadlines = ledger_df['Deadline'].dt.tz_localize('US/Pacific')\n",
    "us_pacific_deadlines"
   ]
  },
  {
   "cell_type": "code",
   "execution_count": 71,
   "id": "f0a62b62-002f-4ab9-9988-d45f2cc0d1c7",
   "metadata": {},
   "outputs": [
    {
     "data": {
      "text/plain": [
       "0       2019-11-23 03:00:00-05:00\n",
       "1       2020-06-15 03:00:00-04:00\n",
       "2       2020-05-07 03:00:00-04:00\n",
       "3       2019-12-22 03:00:00-05:00\n",
       "4       2019-12-22 03:00:00-05:00\n",
       "                   ...           \n",
       "37703   2020-09-17 03:00:00-04:00\n",
       "37704   2020-05-08 03:00:00-04:00\n",
       "37705   2020-04-11 03:00:00-04:00\n",
       "37706   2020-03-20 03:00:00-04:00\n",
       "37707   2020-04-02 03:00:00-04:00\n",
       "Name: Deadline, Length: 37708, dtype: datetime64[ns, US/Eastern]"
      ]
     },
     "execution_count": 71,
     "metadata": {},
     "output_type": "execute_result"
    }
   ],
   "source": [
    "# Convert the timezone of the 'us_pacific_deadlines' column from 'US/Pacific' to 'US/Eastern'\n",
    "us_pacific_deadlines.dt.tz_convert('US/Eastern')"
   ]
  },
  {
   "cell_type": "code",
   "execution_count": 72,
   "id": "625661ff-08ed-4090-ba6b-a6788d0542f1",
   "metadata": {},
   "outputs": [
    {
     "data": {
      "text/plain": [
       "0       2019-11-23 09:00:00+01:00\n",
       "1       2020-06-15 09:00:00+02:00\n",
       "2       2020-05-07 09:00:00+02:00\n",
       "3       2019-12-22 09:00:00+01:00\n",
       "4       2019-12-22 09:00:00+01:00\n",
       "                   ...           \n",
       "37703   2020-09-17 09:00:00+02:00\n",
       "37704   2020-05-08 09:00:00+02:00\n",
       "37705   2020-04-11 09:00:00+02:00\n",
       "37706   2020-03-20 08:00:00+01:00\n",
       "37707   2020-04-02 09:00:00+02:00\n",
       "Name: Deadline, Length: 37708, dtype: datetime64[ns, Europe/Berlin]"
      ]
     },
     "execution_count": 72,
     "metadata": {},
     "output_type": "execute_result"
    }
   ],
   "source": [
    "# Convert the timezone of the 'us_pacific_deadlines' column from 'US/Pacific' to 'Europe/Berlin'\n",
    "us_pacific_deadlines.dt.tz_convert('Europe/Berlin')"
   ]
  },
  {
   "cell_type": "markdown",
   "id": "cd156af7-1bb9-4d39-8db9-5c8e86e23943",
   "metadata": {},
   "source": [
    "Conversely, if you need to remove timezone information from a\n",
    "datetime64 column, you can use tz_localize and pass None as the\n",
    "argument:"
   ]
  },
  {
   "cell_type": "code",
   "execution_count": 74,
   "id": "87560072-8e0b-4a82-a649-b380bf264ff6",
   "metadata": {},
   "outputs": [
    {
     "data": {
      "text/plain": [
       "0       2019-11-23\n",
       "1       2020-06-15\n",
       "2       2020-05-07\n",
       "3       2019-12-22\n",
       "4       2019-12-22\n",
       "           ...    \n",
       "37703   2020-09-17\n",
       "37704   2020-05-08\n",
       "37705   2020-04-11\n",
       "37706   2020-03-20\n",
       "37707   2020-04-02\n",
       "Name: Deadline, Length: 37708, dtype: datetime64[ns]"
      ]
     },
     "execution_count": 74,
     "metadata": {},
     "output_type": "execute_result"
    }
   ],
   "source": [
    "us_pacific_deadlines.dt.tz_localize(None)"
   ]
  }
 ],
 "metadata": {
  "kernelspec": {
   "display_name": "Python 3 (ipykernel)",
   "language": "python",
   "name": "python3"
  },
  "language_info": {
   "codemirror_mode": {
    "name": "ipython",
    "version": 3
   },
   "file_extension": ".py",
   "mimetype": "text/x-python",
   "name": "python",
   "nbconvert_exporter": "python",
   "pygments_lexer": "ipython3",
   "version": "3.11.7"
  }
 },
 "nbformat": 4,
 "nbformat_minor": 5
}
