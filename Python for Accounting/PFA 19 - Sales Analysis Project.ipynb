{
 "cells": [
  {
   "cell_type": "markdown",
   "id": "674ce764-3261-4912-bf74-bd86f71860d2",
   "metadata": {},
   "source": [
    "# Sales Analysis Project"
   ]
  },
  {
   "cell_type": "code",
   "execution_count": 8,
   "id": "7f205080-2844-4f51-8730-81663cd7968b",
   "metadata": {},
   "outputs": [],
   "source": [
    "import os\n",
    "import pandas as pd"
   ]
  },
  {
   "cell_type": "code",
   "execution_count": null,
   "id": "348a613a-6ac5-4582-b9f7-f40984f74c50",
   "metadata": {},
   "outputs": [],
   "source": []
  }
 ],
 "metadata": {
  "kernelspec": {
   "display_name": "Python 3 (ipykernel)",
   "language": "python",
   "name": "python3"
  },
  "language_info": {
   "codemirror_mode": {
    "name": "ipython",
    "version": 3
   },
   "file_extension": ".py",
   "mimetype": "text/x-python",
   "name": "python",
   "nbconvert_exporter": "python",
   "pygments_lexer": "ipython3",
   "version": "3.11.7"
  }
 },
 "nbformat": 4,
 "nbformat_minor": 5
}
