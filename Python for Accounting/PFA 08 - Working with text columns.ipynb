{
 "cells": [
  {
   "cell_type": "markdown",
   "id": "af5537b9-a02c-4bb1-bb7b-217d9abdcaaf",
   "metadata": {},
   "source": [
    "# Chapter 21 - Working with text columns"
   ]
  },
  {
   "cell_type": "markdown",
   "id": "90e59b13-af77-4840-8cfc-05d77209d24e",
   "metadata": {},
   "source": [
    "### Revisiting Python strings"
   ]
  },
  {
   "cell_type": "code",
   "execution_count": 3,
   "id": "f30690f4-4ba8-466f-aa54-07517fc0ca3f",
   "metadata": {},
   "outputs": [
    {
     "data": {
      "text/plain": [
       "'HELLO, PYTHON FOR ACCOUNTING'"
      ]
     },
     "execution_count": 3,
     "metadata": {},
     "output_type": "execute_result"
    }
   ],
   "source": [
    "message = 'hello, python for accounting'\n",
    "\n",
    "message.upper()"
   ]
  },
  {
   "cell_type": "code",
   "execution_count": 4,
   "id": "f0d2bd9d-c167-4999-89ef-4a8c5bece27f",
   "metadata": {},
   "outputs": [
    {
     "data": {
      "text/plain": [
       "'hello, python for accounting'"
      ]
     },
     "execution_count": 4,
     "metadata": {},
     "output_type": "execute_result"
    }
   ],
   "source": [
    "message"
   ]
  },
  {
   "cell_type": "markdown",
   "id": "a2caeb07-3210-4309-ad1b-e66417ca4439",
   "metadata": {},
   "source": [
    "Calling a string method does not modify the original string in place. Otherwise:"
   ]
  },
  {
   "cell_type": "code",
   "execution_count": 6,
   "id": "03008f32-6778-400d-996b-55c9c6ae5a52",
   "metadata": {},
   "outputs": [
    {
     "data": {
      "text/plain": [
       "'HELLO, PYTHON FOR ACCOUNTING'"
      ]
     },
     "execution_count": 6,
     "metadata": {},
     "output_type": "execute_result"
    }
   ],
   "source": [
    "message = message.upper()\n",
    "message"
   ]
  },
  {
   "cell_type": "code",
   "execution_count": 7,
   "id": "ee43f3bc-dae0-4144-a36e-37953c5ad42e",
   "metadata": {},
   "outputs": [
    {
     "data": {
      "text/plain": [
       "'HELLO'"
      ]
     },
     "execution_count": 7,
     "metadata": {},
     "output_type": "execute_result"
    }
   ],
   "source": [
    "message[:5]"
   ]
  },
  {
   "cell_type": "code",
   "execution_count": 8,
   "id": "67572e5e-ea99-46b1-85a9-4736587a95a1",
   "metadata": {},
   "outputs": [
    {
     "data": {
      "text/plain": [
       "True"
      ]
     },
     "execution_count": 8,
     "metadata": {},
     "output_type": "execute_result"
    }
   ],
   "source": [
    "'PYTHON' in message"
   ]
  },
  {
   "cell_type": "code",
   "execution_count": 9,
   "id": "c1839267-4215-4631-8a1b-fceff3a4ff0a",
   "metadata": {},
   "outputs": [
    {
     "data": {
      "text/plain": [
       "False"
      ]
     },
     "execution_count": 9,
     "metadata": {},
     "output_type": "execute_result"
    }
   ],
   "source": [
    "'pandas' in message"
   ]
  },
  {
   "cell_type": "code",
   "execution_count": 10,
   "id": "a731a4d4-3c1a-4804-a8f5-d2394842b829",
   "metadata": {},
   "outputs": [
    {
     "data": {
      "text/plain": [
       "'hello, python for accounting'"
      ]
     },
     "execution_count": 10,
     "metadata": {},
     "output_type": "execute_result"
    }
   ],
   "source": [
    " 'hello' + ', ' + 'python ' + 'for ' + 'accounting'"
   ]
  },
  {
   "cell_type": "code",
   "execution_count": 11,
   "id": "b874dea8-16b0-4cc8-8a59-4884e58a5a71",
   "metadata": {},
   "outputs": [
    {
     "data": {
      "text/plain": [
       "'Margaret Hamilton is 83 years old!'"
      ]
     },
     "execution_count": 11,
     "metadata": {},
     "output_type": "execute_result"
    }
   ],
   "source": [
    " first_name = \"Margaret\"\n",
    "last_name = \"Hamilton\"\n",
    "age = 83\n",
    "\n",
    "f'{first_name} {last_name} is {age} years old!'"
   ]
  },
  {
   "cell_type": "markdown",
   "id": "183dbf1f-649d-4e4b-af2c-03243cc30ac7",
   "metadata": {},
   "source": [
    "### String methods in pandas"
   ]
  },
  {
   "cell_type": "code",
   "execution_count": 13,
   "id": "7136b3fc-8e4f-4c72-8374-b095ca919e6e",
   "metadata": {},
   "outputs": [],
   "source": [
    "import pandas as pd"
   ]
  },
  {
   "cell_type": "code",
   "execution_count": 14,
   "id": "95b2854c-7d7b-4170-a914-e95ad1461006",
   "metadata": {},
   "outputs": [
    {
     "data": {
      "text/html": [
       "<div>\n",
       "<style scoped>\n",
       "    .dataframe tbody tr th:only-of-type {\n",
       "        vertical-align: middle;\n",
       "    }\n",
       "\n",
       "    .dataframe tbody tr th {\n",
       "        vertical-align: top;\n",
       "    }\n",
       "\n",
       "    .dataframe thead th {\n",
       "        text-align: right;\n",
       "    }\n",
       "</style>\n",
       "<table border=\"1\" class=\"dataframe\">\n",
       "  <thead>\n",
       "    <tr style=\"text-align: right;\">\n",
       "      <th></th>\n",
       "      <th>InvoiceNo</th>\n",
       "      <th>Channel</th>\n",
       "      <th>Product Name</th>\n",
       "      <th>ProductID</th>\n",
       "      <th>Account</th>\n",
       "      <th>AccountNo</th>\n",
       "      <th>Date</th>\n",
       "      <th>Deadline</th>\n",
       "      <th>Currency</th>\n",
       "      <th>Unit Price</th>\n",
       "      <th>Quantity</th>\n",
       "      <th>Total</th>\n",
       "    </tr>\n",
       "  </thead>\n",
       "  <tbody>\n",
       "    <tr>\n",
       "      <th>0</th>\n",
       "      <td>1532</td>\n",
       "      <td>Shoppe.com</td>\n",
       "      <td>Cannon Water Bomb Balloons 100 Pack</td>\n",
       "      <td>T&amp;G/CAN-97509</td>\n",
       "      <td>Sales</td>\n",
       "      <td>5004</td>\n",
       "      <td>2020-01-01</td>\n",
       "      <td>11/23/19</td>\n",
       "      <td>USD</td>\n",
       "      <td>20.11</td>\n",
       "      <td>14</td>\n",
       "      <td>281.54</td>\n",
       "    </tr>\n",
       "    <tr>\n",
       "      <th>1</th>\n",
       "      <td>1533</td>\n",
       "      <td>Walcart</td>\n",
       "      <td>LEGO Ninja Turtles Stealth Shell in Pursuit 79102</td>\n",
       "      <td>T&amp;G/LEG-37777</td>\n",
       "      <td>Sales</td>\n",
       "      <td>5004</td>\n",
       "      <td>2020-01-01</td>\n",
       "      <td>06/15/20</td>\n",
       "      <td>USD</td>\n",
       "      <td>6.70</td>\n",
       "      <td>1</td>\n",
       "      <td>6.70</td>\n",
       "    </tr>\n",
       "    <tr>\n",
       "      <th>2</th>\n",
       "      <td>1534</td>\n",
       "      <td>Bullseye</td>\n",
       "      <td>NaN</td>\n",
       "      <td>T&amp;G/PET-14209</td>\n",
       "      <td>Sales</td>\n",
       "      <td>5004</td>\n",
       "      <td>2020-01-01</td>\n",
       "      <td>05/07/20</td>\n",
       "      <td>USD</td>\n",
       "      <td>11.67</td>\n",
       "      <td>5</td>\n",
       "      <td>58.35</td>\n",
       "    </tr>\n",
       "    <tr>\n",
       "      <th>3</th>\n",
       "      <td>1535</td>\n",
       "      <td>Bullseye</td>\n",
       "      <td>Transformers Age of Extinction Generations Del...</td>\n",
       "      <td>T&amp;G/TRA-20170</td>\n",
       "      <td>Sales</td>\n",
       "      <td>5004</td>\n",
       "      <td>2020-01-01</td>\n",
       "      <td>12/22/19</td>\n",
       "      <td>USD</td>\n",
       "      <td>13.46</td>\n",
       "      <td>6</td>\n",
       "      <td>80.76</td>\n",
       "    </tr>\n",
       "    <tr>\n",
       "      <th>4</th>\n",
       "      <td>1535</td>\n",
       "      <td>Bullseye</td>\n",
       "      <td>Transformers Age of Extinction Generations Del...</td>\n",
       "      <td>T&amp;G/TRA-20170</td>\n",
       "      <td>Sales</td>\n",
       "      <td>5004</td>\n",
       "      <td>2020-01-01</td>\n",
       "      <td>12/22/19</td>\n",
       "      <td>USD</td>\n",
       "      <td>13.46</td>\n",
       "      <td>6</td>\n",
       "      <td>80.76</td>\n",
       "    </tr>\n",
       "  </tbody>\n",
       "</table>\n",
       "</div>"
      ],
      "text/plain": [
       "   InvoiceNo     Channel                                       Product Name  \\\n",
       "0       1532  Shoppe.com                Cannon Water Bomb Balloons 100 Pack   \n",
       "1       1533     Walcart  LEGO Ninja Turtles Stealth Shell in Pursuit 79102   \n",
       "2       1534    Bullseye                                                NaN   \n",
       "3       1535    Bullseye  Transformers Age of Extinction Generations Del...   \n",
       "4       1535    Bullseye  Transformers Age of Extinction Generations Del...   \n",
       "\n",
       "       ProductID Account  AccountNo        Date  Deadline Currency  \\\n",
       "0  T&G/CAN-97509   Sales       5004  2020-01-01  11/23/19      USD   \n",
       "1  T&G/LEG-37777   Sales       5004  2020-01-01  06/15/20      USD   \n",
       "2  T&G/PET-14209   Sales       5004  2020-01-01  05/07/20      USD   \n",
       "3  T&G/TRA-20170   Sales       5004  2020-01-01  12/22/19      USD   \n",
       "4  T&G/TRA-20170   Sales       5004  2020-01-01  12/22/19      USD   \n",
       "\n",
       "   Unit Price  Quantity   Total  \n",
       "0       20.11        14  281.54  \n",
       "1        6.70         1    6.70  \n",
       "2       11.67         5   58.35  \n",
       "3       13.46         6   80.76  \n",
       "4       13.46         6   80.76  "
      ]
     },
     "execution_count": 14,
     "metadata": {},
     "output_type": "execute_result"
    }
   ],
   "source": [
    "# Read Dataframe 'Q1Sales.csv'\n",
    "\n",
    "url = (\"https://raw.githubusercontent.com/pythonforaccounting/workspace/refs/heads/main/P2%20-%20Working%20with%20tables/Q1Sales.csv\")\n",
    "ledger_df = pd.read_csv(url)\n",
    "\n",
    "ledger_df.head()"
   ]
  },
  {
   "cell_type": "code",
   "execution_count": 15,
   "id": "60be9490-9b04-4a31-895f-bf9b3a141319",
   "metadata": {},
   "outputs": [
    {
     "data": {
      "text/plain": [
       "0            Shoppe.com\n",
       "1               Walcart\n",
       "2              Bullseye\n",
       "3              Bullseye\n",
       "4              Bullseye\n",
       "              ...      \n",
       "37703          iBay.com\n",
       "37704        Shoppe.com\n",
       "37705        Shoppe.com\n",
       "37706        Shoppe.com\n",
       "37707    Understock.com\n",
       "Name: Channel, Length: 37708, dtype: object"
      ]
     },
     "execution_count": 15,
     "metadata": {},
     "output_type": "execute_result"
    }
   ],
   "source": [
    "ledger_df['Channel']"
   ]
  },
  {
   "cell_type": "code",
   "execution_count": 16,
   "id": "799816e9-75bd-4911-ba30-7a2948824401",
   "metadata": {},
   "outputs": [
    {
     "data": {
      "text/plain": [
       "0            SHOPPE.COM\n",
       "1               WALCART\n",
       "2              BULLSEYE\n",
       "3              BULLSEYE\n",
       "4              BULLSEYE\n",
       "              ...      \n",
       "37703          IBAY.COM\n",
       "37704        SHOPPE.COM\n",
       "37705        SHOPPE.COM\n",
       "37706        SHOPPE.COM\n",
       "37707    UNDERSTOCK.COM\n",
       "Name: Channel, Length: 37708, dtype: object"
      ]
     },
     "execution_count": 16,
     "metadata": {},
     "output_type": "execute_result"
    }
   ],
   "source": [
    "ledger_df['Channel'].str.upper()     # The str keyword is a Series attribute"
   ]
  },
  {
   "cell_type": "code",
   "execution_count": 17,
   "id": "79b07051-a4eb-4ffd-86a0-117d890bce38",
   "metadata": {},
   "outputs": [
    {
     "data": {
      "text/plain": [
       "0                      Cannon Water Bomb Balloons 100 Pack\n",
       "1        LEGO Ninja Turtles Stealth Shell in Pursuit 79102\n",
       "2                                                      NaN\n",
       "3        Transformers Age of Extinction Generations Del...\n",
       "4        Transformers Age of Extinction Generations Del...\n",
       "                               ...                        \n",
       "37703    Nature's Bounty Garlic, 2000mg, Odor-Free, 120...\n",
       "37704                        Funko Wonder Woman POP Heroes\n",
       "37705    MONO GS1 GS1-BTY-BLK-L Betty Long Guitar Strap...\n",
       "37706                                                  NaN\n",
       "37707             3 Collapsible Bowl Set 32oz | 16oz | 4oz\n",
       "Name: Product Name, Length: 37708, dtype: object"
      ]
     },
     "execution_count": 17,
     "metadata": {},
     "output_type": "execute_result"
    }
   ],
   "source": [
    "ledger_df['Product Name']"
   ]
  },
  {
   "cell_type": "code",
   "execution_count": 18,
   "id": "baddadfd-329a-4ed3-96ce-0a0315048d67",
   "metadata": {},
   "outputs": [
    {
     "data": {
      "text/plain": [
       "0                      CANNON WATER BOMB BALLOONS 100 PACK\n",
       "1        LEGO NINJA TURTLES STEALTH SHELL IN PURSUIT 79102\n",
       "2                                                      NaN\n",
       "3        TRANSFORMERS AGE OF EXTINCTION GENERATIONS DEL...\n",
       "4        TRANSFORMERS AGE OF EXTINCTION GENERATIONS DEL...\n",
       "                               ...                        \n",
       "37703    NATURE'S BOUNTY GARLIC, 2000MG, ODOR-FREE, 120...\n",
       "37704                        FUNKO WONDER WOMAN POP HEROES\n",
       "37705    MONO GS1 GS1-BTY-BLK-L BETTY LONG GUITAR STRAP...\n",
       "37706                                                  NaN\n",
       "37707             3 COLLAPSIBLE BOWL SET 32OZ | 16OZ | 4OZ\n",
       "Name: Product Name, Length: 37708, dtype: object"
      ]
     },
     "execution_count": 18,
     "metadata": {},
     "output_type": "execute_result"
    }
   ],
   "source": [
    "ledger_df['Product Name'].str.upper()"
   ]
  },
  {
   "cell_type": "markdown",
   "id": "f9479082-dd17-4867-9ac8-ded9d489e1b7",
   "metadata": {},
   "source": [
    "For instance, if you want to check whether values in the\n",
    "'Product Name' column contain the term 'LEGO', you can run:"
   ]
  },
  {
   "cell_type": "code",
   "execution_count": 20,
   "id": "2a3fe8d4-f343-4541-9b83-a659f2eb533c",
   "metadata": {},
   "outputs": [
    {
     "data": {
      "text/plain": [
       "0        False\n",
       "1         True\n",
       "2          NaN\n",
       "3        False\n",
       "4        False\n",
       "         ...  \n",
       "37703    False\n",
       "37704    False\n",
       "37705    False\n",
       "37706      NaN\n",
       "37707    False\n",
       "Name: Product Name, Length: 37708, dtype: object"
      ]
     },
     "execution_count": 20,
     "metadata": {},
     "output_type": "execute_result"
    }
   ],
   "source": [
    "# # Check if 'Product Name' column contains the string 'LEGO' for each row\n",
    "ledger_df['Product Name'].str.contains('LEGO')"
   ]
  },
  {
   "cell_type": "code",
   "execution_count": 21,
   "id": "facc730c-a14b-47c7-a8a3-1713f42fe2f6",
   "metadata": {},
   "outputs": [
    {
     "data": {
      "text/html": [
       "<div>\n",
       "<style scoped>\n",
       "    .dataframe tbody tr th:only-of-type {\n",
       "        vertical-align: middle;\n",
       "    }\n",
       "\n",
       "    .dataframe tbody tr th {\n",
       "        vertical-align: top;\n",
       "    }\n",
       "\n",
       "    .dataframe thead th {\n",
       "        text-align: right;\n",
       "    }\n",
       "</style>\n",
       "<table border=\"1\" class=\"dataframe\">\n",
       "  <thead>\n",
       "    <tr style=\"text-align: right;\">\n",
       "      <th></th>\n",
       "      <th>InvoiceNo</th>\n",
       "      <th>Channel</th>\n",
       "      <th>Product Name</th>\n",
       "      <th>ProductID</th>\n",
       "      <th>Account</th>\n",
       "      <th>AccountNo</th>\n",
       "      <th>Date</th>\n",
       "      <th>Deadline</th>\n",
       "      <th>Currency</th>\n",
       "      <th>Unit Price</th>\n",
       "      <th>Quantity</th>\n",
       "      <th>Total</th>\n",
       "    </tr>\n",
       "  </thead>\n",
       "  <tbody>\n",
       "    <tr>\n",
       "      <th>1</th>\n",
       "      <td>1533</td>\n",
       "      <td>Walcart</td>\n",
       "      <td>LEGO Ninja Turtles Stealth Shell in Pursuit 79102</td>\n",
       "      <td>T&amp;G/LEG-37777</td>\n",
       "      <td>Sales</td>\n",
       "      <td>5004</td>\n",
       "      <td>2020-01-01</td>\n",
       "      <td>06/15/20</td>\n",
       "      <td>USD</td>\n",
       "      <td>6.70</td>\n",
       "      <td>1</td>\n",
       "      <td>6.70</td>\n",
       "    </tr>\n",
       "    <tr>\n",
       "      <th>43</th>\n",
       "      <td>1575</td>\n",
       "      <td>iBay.com</td>\n",
       "      <td>LEGO Star Wars Clone Troopers vs Droidekas 75000</td>\n",
       "      <td>T&amp;G/LEG-16040</td>\n",
       "      <td>Sales</td>\n",
       "      <td>5004</td>\n",
       "      <td>2020-01-01</td>\n",
       "      <td>3-22-20</td>\n",
       "      <td>USD</td>\n",
       "      <td>14.68</td>\n",
       "      <td>2</td>\n",
       "      <td>29.36</td>\n",
       "    </tr>\n",
       "    <tr>\n",
       "      <th>105</th>\n",
       "      <td>1637</td>\n",
       "      <td>Bullseye</td>\n",
       "      <td>LEGO LOTR 79006 The Council of Elrond</td>\n",
       "      <td>T&amp;G/LEG-76682</td>\n",
       "      <td>Sales</td>\n",
       "      <td>5004</td>\n",
       "      <td>2020-01-01</td>\n",
       "      <td>2-19-20</td>\n",
       "      <td>USD</td>\n",
       "      <td>7.67</td>\n",
       "      <td>6</td>\n",
       "      <td>46.02</td>\n",
       "    </tr>\n",
       "    <tr>\n",
       "      <th>176</th>\n",
       "      <td>1708</td>\n",
       "      <td>Shoppe.com</td>\n",
       "      <td>LEGO City Fire Chief Car 60001</td>\n",
       "      <td>T&amp;G/LEG-89613</td>\n",
       "      <td>Sales</td>\n",
       "      <td>5004</td>\n",
       "      <td>2020-01-01</td>\n",
       "      <td>3-28-20</td>\n",
       "      <td>USD</td>\n",
       "      <td>24.95</td>\n",
       "      <td>1</td>\n",
       "      <td>24.95</td>\n",
       "    </tr>\n",
       "    <tr>\n",
       "      <th>228</th>\n",
       "      <td>1608</td>\n",
       "      <td>iBay.com</td>\n",
       "      <td>LEGO Star Wars Clone Troopers vs Droidekas 75000</td>\n",
       "      <td>T&amp;G/LEG-16040</td>\n",
       "      <td>Sales</td>\n",
       "      <td>5004</td>\n",
       "      <td>2020-01-01</td>\n",
       "      <td>3-22-20</td>\n",
       "      <td>USD</td>\n",
       "      <td>14.68</td>\n",
       "      <td>2</td>\n",
       "      <td>29.36</td>\n",
       "    </tr>\n",
       "    <tr>\n",
       "      <th>...</th>\n",
       "      <td>...</td>\n",
       "      <td>...</td>\n",
       "      <td>...</td>\n",
       "      <td>...</td>\n",
       "      <td>...</td>\n",
       "      <td>...</td>\n",
       "      <td>...</td>\n",
       "      <td>...</td>\n",
       "      <td>...</td>\n",
       "      <td>...</td>\n",
       "      <td>...</td>\n",
       "      <td>...</td>\n",
       "    </tr>\n",
       "    <tr>\n",
       "      <th>37479</th>\n",
       "      <td>39011</td>\n",
       "      <td>Understock.com</td>\n",
       "      <td>LEGO Star Wars Clone Troopers vs Droidekas 75000</td>\n",
       "      <td>T&amp;G/LEG-16040</td>\n",
       "      <td>Sales</td>\n",
       "      <td>5004</td>\n",
       "      <td>2020-03-30</td>\n",
       "      <td>5-15-20</td>\n",
       "      <td>USD</td>\n",
       "      <td>14.84</td>\n",
       "      <td>1</td>\n",
       "      <td>14.84</td>\n",
       "    </tr>\n",
       "    <tr>\n",
       "      <th>37487</th>\n",
       "      <td>38998</td>\n",
       "      <td>Understock.com</td>\n",
       "      <td>DUPLO LEGO Ville 10525 Big Farm</td>\n",
       "      <td>T&amp;G/DUP-28439</td>\n",
       "      <td>Sales</td>\n",
       "      <td>5004</td>\n",
       "      <td>2020-03-30</td>\n",
       "      <td>5-22-20</td>\n",
       "      <td>USD</td>\n",
       "      <td>2.79</td>\n",
       "      <td>6</td>\n",
       "      <td>16.74</td>\n",
       "    </tr>\n",
       "    <tr>\n",
       "      <th>37526</th>\n",
       "      <td>39058</td>\n",
       "      <td>Shoppe.com</td>\n",
       "      <td>Belkin LEGO Case / Shield for iPhone 5 and 5S ...</td>\n",
       "      <td>CP&amp;A/BEL-67900</td>\n",
       "      <td>Sales</td>\n",
       "      <td>5004</td>\n",
       "      <td>2020-03-31</td>\n",
       "      <td>Sat Mar 28 00:00:00 2020</td>\n",
       "      <td>USD</td>\n",
       "      <td>39.51</td>\n",
       "      <td>1</td>\n",
       "      <td>39.51</td>\n",
       "    </tr>\n",
       "    <tr>\n",
       "      <th>37534</th>\n",
       "      <td>39066</td>\n",
       "      <td>iBay.com</td>\n",
       "      <td>LEGO Disney Princess 41055 Cinderella's Romant...</td>\n",
       "      <td>T&amp;G/LEG-92125</td>\n",
       "      <td>Sales</td>\n",
       "      <td>5004</td>\n",
       "      <td>2020-03-31</td>\n",
       "      <td>6-02-20</td>\n",
       "      <td>USD</td>\n",
       "      <td>9.02</td>\n",
       "      <td>29</td>\n",
       "      <td>261.58</td>\n",
       "    </tr>\n",
       "    <tr>\n",
       "      <th>37611</th>\n",
       "      <td>39058</td>\n",
       "      <td>Shoppe.com</td>\n",
       "      <td>Belkin LEGO Case / Shield for iPhone 5 and 5S ...</td>\n",
       "      <td>CP&amp;A/BEL-67900</td>\n",
       "      <td>Sales</td>\n",
       "      <td>5004</td>\n",
       "      <td>2020-03-31</td>\n",
       "      <td>Sat Mar 28 00:00:00 2020</td>\n",
       "      <td>USD</td>\n",
       "      <td>39.51</td>\n",
       "      <td>1</td>\n",
       "      <td>39.51</td>\n",
       "    </tr>\n",
       "  </tbody>\n",
       "</table>\n",
       "<p>549 rows × 12 columns</p>\n",
       "</div>"
      ],
      "text/plain": [
       "       InvoiceNo         Channel  \\\n",
       "1           1533         Walcart   \n",
       "43          1575        iBay.com   \n",
       "105         1637        Bullseye   \n",
       "176         1708      Shoppe.com   \n",
       "228         1608        iBay.com   \n",
       "...          ...             ...   \n",
       "37479      39011  Understock.com   \n",
       "37487      38998  Understock.com   \n",
       "37526      39058      Shoppe.com   \n",
       "37534      39066        iBay.com   \n",
       "37611      39058      Shoppe.com   \n",
       "\n",
       "                                            Product Name       ProductID  \\\n",
       "1      LEGO Ninja Turtles Stealth Shell in Pursuit 79102   T&G/LEG-37777   \n",
       "43      LEGO Star Wars Clone Troopers vs Droidekas 75000   T&G/LEG-16040   \n",
       "105                LEGO LOTR 79006 The Council of Elrond   T&G/LEG-76682   \n",
       "176                       LEGO City Fire Chief Car 60001   T&G/LEG-89613   \n",
       "228     LEGO Star Wars Clone Troopers vs Droidekas 75000   T&G/LEG-16040   \n",
       "...                                                  ...             ...   \n",
       "37479   LEGO Star Wars Clone Troopers vs Droidekas 75000   T&G/LEG-16040   \n",
       "37487                    DUPLO LEGO Ville 10525 Big Farm   T&G/DUP-28439   \n",
       "37526  Belkin LEGO Case / Shield for iPhone 5 and 5S ...  CP&A/BEL-67900   \n",
       "37534  LEGO Disney Princess 41055 Cinderella's Romant...   T&G/LEG-92125   \n",
       "37611  Belkin LEGO Case / Shield for iPhone 5 and 5S ...  CP&A/BEL-67900   \n",
       "\n",
       "      Account  AccountNo        Date                  Deadline Currency  \\\n",
       "1       Sales       5004  2020-01-01                  06/15/20      USD   \n",
       "43      Sales       5004  2020-01-01                   3-22-20      USD   \n",
       "105     Sales       5004  2020-01-01                   2-19-20      USD   \n",
       "176     Sales       5004  2020-01-01                   3-28-20      USD   \n",
       "228     Sales       5004  2020-01-01                   3-22-20      USD   \n",
       "...       ...        ...         ...                       ...      ...   \n",
       "37479   Sales       5004  2020-03-30                   5-15-20      USD   \n",
       "37487   Sales       5004  2020-03-30                   5-22-20      USD   \n",
       "37526   Sales       5004  2020-03-31  Sat Mar 28 00:00:00 2020      USD   \n",
       "37534   Sales       5004  2020-03-31                   6-02-20      USD   \n",
       "37611   Sales       5004  2020-03-31  Sat Mar 28 00:00:00 2020      USD   \n",
       "\n",
       "       Unit Price  Quantity   Total  \n",
       "1            6.70         1    6.70  \n",
       "43          14.68         2   29.36  \n",
       "105          7.67         6   46.02  \n",
       "176         24.95         1   24.95  \n",
       "228         14.68         2   29.36  \n",
       "...           ...       ...     ...  \n",
       "37479       14.84         1   14.84  \n",
       "37487        2.79         6   16.74  \n",
       "37526       39.51         1   39.51  \n",
       "37534        9.02        29  261.58  \n",
       "37611       39.51         1   39.51  \n",
       "\n",
       "[549 rows x 12 columns]"
      ]
     },
     "execution_count": 21,
     "metadata": {},
     "output_type": "execute_result"
    }
   ],
   "source": [
    "# Filter rows where the 'Product Name' column contains the string 'LEGO', treating NaN as False\n",
    "ledger_df[ledger_df['Product Name'].str.contains('LEGO', na=False)]"
   ]
  },
  {
   "cell_type": "markdown",
   "id": "425576a2-0e21-4695-a2b2-bd39f36070df",
   "metadata": {},
   "source": [
    "### Replacing parts of text"
   ]
  },
  {
   "cell_type": "code",
   "execution_count": 23,
   "id": "81fda78e-ddb6-4c55-a7ba-d3b0954b25b6",
   "metadata": {},
   "outputs": [
    {
     "data": {
      "text/plain": [
       "0            Shoppe.com\n",
       "1               Walcart\n",
       "2              Bullseye\n",
       "3              Bullseye\n",
       "4              Bullseye\n",
       "              ...      \n",
       "37703          iBay.com\n",
       "37704        Shoppe.com\n",
       "37705        Shoppe.com\n",
       "37706        Shoppe.com\n",
       "37707    Understock.com\n",
       "Name: Channel, Length: 37708, dtype: object"
      ]
     },
     "execution_count": 23,
     "metadata": {},
     "output_type": "execute_result"
    }
   ],
   "source": [
    "ledger_df['Channel']"
   ]
  },
  {
   "cell_type": "code",
   "execution_count": 24,
   "id": "5655de23-bb64-4d1e-8f88-a6c435e0328e",
   "metadata": {},
   "outputs": [
    {
     "data": {
      "text/plain": [
       "0            Shoppe\n",
       "1           Walcart\n",
       "2          Bullseye\n",
       "3          Bullseye\n",
       "4          Bullseye\n",
       "            ...    \n",
       "37703          iBay\n",
       "37704        Shoppe\n",
       "37705        Shoppe\n",
       "37706        Shoppe\n",
       "37707    Understock\n",
       "Name: Channel, Length: 37708, dtype: object"
      ]
     },
     "execution_count": 24,
     "metadata": {},
     "output_type": "execute_result"
    }
   ],
   "source": [
    "ledger_df['Channel'].str.replace('.com', '')"
   ]
  },
  {
   "cell_type": "code",
   "execution_count": 25,
   "id": "ba455f38-b738-4bf1-8b15-f2ab61b25591",
   "metadata": {},
   "outputs": [
    {
     "data": {
      "text/plain": [
       "0            Shoppe.com\n",
       "1               Walcart\n",
       "2              Bullseye\n",
       "3              Bullseye\n",
       "4              Bullseye\n",
       "              ...      \n",
       "37703        Anazon.com\n",
       "37704        Shoppe.com\n",
       "37705        Shoppe.com\n",
       "37706        Shoppe.com\n",
       "37707    Understock.com\n",
       "Name: Channel, Length: 37708, dtype: object"
      ]
     },
     "execution_count": 25,
     "metadata": {},
     "output_type": "execute_result"
    }
   ],
   "source": [
    "ledger_df['Channel'].replace('iBay.com', 'Anazon.com')"
   ]
  },
  {
   "cell_type": "markdown",
   "id": "5120c23e-6635-4f23-b06b-884a811ebf4d",
   "metadata": {},
   "source": [
    "### Splitting text values into multiple columns"
   ]
  },
  {
   "cell_type": "code",
   "execution_count": 27,
   "id": "3aabc202-42c1-4d12-ae5d-ccc3caf6a36f",
   "metadata": {},
   "outputs": [
    {
     "data": {
      "text/html": [
       "<div>\n",
       "<style scoped>\n",
       "    .dataframe tbody tr th:only-of-type {\n",
       "        vertical-align: middle;\n",
       "    }\n",
       "\n",
       "    .dataframe tbody tr th {\n",
       "        vertical-align: top;\n",
       "    }\n",
       "\n",
       "    .dataframe thead th {\n",
       "        text-align: right;\n",
       "    }\n",
       "</style>\n",
       "<table border=\"1\" class=\"dataframe\">\n",
       "  <thead>\n",
       "    <tr style=\"text-align: right;\">\n",
       "      <th></th>\n",
       "      <th>Product Name</th>\n",
       "      <th>ProductID</th>\n",
       "      <th>Unit Price</th>\n",
       "      <th>Quantity</th>\n",
       "      <th>Total</th>\n",
       "    </tr>\n",
       "  </thead>\n",
       "  <tbody>\n",
       "    <tr>\n",
       "      <th>0</th>\n",
       "      <td>Cannon Water Bomb Balloons 100 Pack</td>\n",
       "      <td>T&amp;G/CAN-97509</td>\n",
       "      <td>20.11</td>\n",
       "      <td>14</td>\n",
       "      <td>281.54</td>\n",
       "    </tr>\n",
       "    <tr>\n",
       "      <th>1</th>\n",
       "      <td>LEGO Ninja Turtles Stealth Shell in Pursuit 79102</td>\n",
       "      <td>T&amp;G/LEG-37777</td>\n",
       "      <td>6.70</td>\n",
       "      <td>1</td>\n",
       "      <td>6.70</td>\n",
       "    </tr>\n",
       "    <tr>\n",
       "      <th>2</th>\n",
       "      <td>NaN</td>\n",
       "      <td>T&amp;G/PET-14209</td>\n",
       "      <td>11.67</td>\n",
       "      <td>5</td>\n",
       "      <td>58.35</td>\n",
       "    </tr>\n",
       "    <tr>\n",
       "      <th>3</th>\n",
       "      <td>Transformers Age of Extinction Generations Del...</td>\n",
       "      <td>T&amp;G/TRA-20170</td>\n",
       "      <td>13.46</td>\n",
       "      <td>6</td>\n",
       "      <td>80.76</td>\n",
       "    </tr>\n",
       "    <tr>\n",
       "      <th>4</th>\n",
       "      <td>Transformers Age of Extinction Generations Del...</td>\n",
       "      <td>T&amp;G/TRA-20170</td>\n",
       "      <td>13.46</td>\n",
       "      <td>6</td>\n",
       "      <td>80.76</td>\n",
       "    </tr>\n",
       "    <tr>\n",
       "      <th>...</th>\n",
       "      <td>...</td>\n",
       "      <td>...</td>\n",
       "      <td>...</td>\n",
       "      <td>...</td>\n",
       "      <td>...</td>\n",
       "    </tr>\n",
       "    <tr>\n",
       "      <th>37703</th>\n",
       "      <td>Nature's Bounty Garlic, 2000mg, Odor-Free, 120...</td>\n",
       "      <td>H&amp;PC/NAT-15470</td>\n",
       "      <td>5.55</td>\n",
       "      <td>2</td>\n",
       "      <td>11.10</td>\n",
       "    </tr>\n",
       "    <tr>\n",
       "      <th>37704</th>\n",
       "      <td>Funko Wonder Woman POP Heroes</td>\n",
       "      <td>T&amp;G/FUN-03366</td>\n",
       "      <td>28.56</td>\n",
       "      <td>1</td>\n",
       "      <td>28.56</td>\n",
       "    </tr>\n",
       "    <tr>\n",
       "      <th>37705</th>\n",
       "      <td>MONO GS1 GS1-BTY-BLK-L Betty Long Guitar Strap...</td>\n",
       "      <td>MI/MON-86723</td>\n",
       "      <td>3.33</td>\n",
       "      <td>1</td>\n",
       "      <td>3.33</td>\n",
       "    </tr>\n",
       "    <tr>\n",
       "      <th>37706</th>\n",
       "      <td>NaN</td>\n",
       "      <td>T&amp;G/MAG-68412</td>\n",
       "      <td>34.76</td>\n",
       "      <td>10</td>\n",
       "      <td>347.60</td>\n",
       "    </tr>\n",
       "    <tr>\n",
       "      <th>37707</th>\n",
       "      <td>3 Collapsible Bowl Set 32oz | 16oz | 4oz</td>\n",
       "      <td>K&amp;D/3 C-07383</td>\n",
       "      <td>6.39</td>\n",
       "      <td>15</td>\n",
       "      <td>95.85</td>\n",
       "    </tr>\n",
       "  </tbody>\n",
       "</table>\n",
       "<p>37708 rows × 5 columns</p>\n",
       "</div>"
      ],
      "text/plain": [
       "                                            Product Name       ProductID  \\\n",
       "0                    Cannon Water Bomb Balloons 100 Pack   T&G/CAN-97509   \n",
       "1      LEGO Ninja Turtles Stealth Shell in Pursuit 79102   T&G/LEG-37777   \n",
       "2                                                    NaN   T&G/PET-14209   \n",
       "3      Transformers Age of Extinction Generations Del...   T&G/TRA-20170   \n",
       "4      Transformers Age of Extinction Generations Del...   T&G/TRA-20170   \n",
       "...                                                  ...             ...   \n",
       "37703  Nature's Bounty Garlic, 2000mg, Odor-Free, 120...  H&PC/NAT-15470   \n",
       "37704                      Funko Wonder Woman POP Heroes   T&G/FUN-03366   \n",
       "37705  MONO GS1 GS1-BTY-BLK-L Betty Long Guitar Strap...    MI/MON-86723   \n",
       "37706                                                NaN   T&G/MAG-68412   \n",
       "37707           3 Collapsible Bowl Set 32oz | 16oz | 4oz   K&D/3 C-07383   \n",
       "\n",
       "       Unit Price  Quantity   Total  \n",
       "0           20.11        14  281.54  \n",
       "1            6.70         1    6.70  \n",
       "2           11.67         5   58.35  \n",
       "3           13.46         6   80.76  \n",
       "4           13.46         6   80.76  \n",
       "...           ...       ...     ...  \n",
       "37703        5.55         2   11.10  \n",
       "37704       28.56         1   28.56  \n",
       "37705        3.33         1    3.33  \n",
       "37706       34.76        10  347.60  \n",
       "37707        6.39        15   95.85  \n",
       "\n",
       "[37708 rows x 5 columns]"
      ]
     },
     "execution_count": 27,
     "metadata": {},
     "output_type": "execute_result"
    }
   ],
   "source": [
    " ledger_df[['Product Name', 'ProductID', 'Unit Price', 'Quantity', 'Total']]"
   ]
  },
  {
   "cell_type": "code",
   "execution_count": 28,
   "id": "fe75cef8-6999-4c1b-8302-d9fe6db2db4f",
   "metadata": {},
   "outputs": [
    {
     "data": {
      "text/plain": [
       "0         [T&G, CAN-97509]\n",
       "1         [T&G, LEG-37777]\n",
       "2         [T&G, PET-14209]\n",
       "3         [T&G, TRA-20170]\n",
       "4         [T&G, TRA-20170]\n",
       "               ...        \n",
       "37703    [H&PC, NAT-15470]\n",
       "37704     [T&G, FUN-03366]\n",
       "37705      [MI, MON-86723]\n",
       "37706     [T&G, MAG-68412]\n",
       "37707     [K&D, 3 C-07383]\n",
       "Name: ProductID, Length: 37708, dtype: object"
      ]
     },
     "execution_count": 28,
     "metadata": {},
     "output_type": "execute_result"
    }
   ],
   "source": [
    " ledger_df['ProductID'].str.split('/')"
   ]
  },
  {
   "cell_type": "code",
   "execution_count": 29,
   "id": "fdb8749d-ee10-40cf-98bd-5b139d18273d",
   "metadata": {},
   "outputs": [
    {
     "data": {
      "text/html": [
       "<div>\n",
       "<style scoped>\n",
       "    .dataframe tbody tr th:only-of-type {\n",
       "        vertical-align: middle;\n",
       "    }\n",
       "\n",
       "    .dataframe tbody tr th {\n",
       "        vertical-align: top;\n",
       "    }\n",
       "\n",
       "    .dataframe thead th {\n",
       "        text-align: right;\n",
       "    }\n",
       "</style>\n",
       "<table border=\"1\" class=\"dataframe\">\n",
       "  <thead>\n",
       "    <tr style=\"text-align: right;\">\n",
       "      <th></th>\n",
       "      <th>0</th>\n",
       "      <th>1</th>\n",
       "    </tr>\n",
       "  </thead>\n",
       "  <tbody>\n",
       "    <tr>\n",
       "      <th>0</th>\n",
       "      <td>T&amp;G</td>\n",
       "      <td>CAN-97509</td>\n",
       "    </tr>\n",
       "    <tr>\n",
       "      <th>1</th>\n",
       "      <td>T&amp;G</td>\n",
       "      <td>LEG-37777</td>\n",
       "    </tr>\n",
       "    <tr>\n",
       "      <th>2</th>\n",
       "      <td>T&amp;G</td>\n",
       "      <td>PET-14209</td>\n",
       "    </tr>\n",
       "    <tr>\n",
       "      <th>3</th>\n",
       "      <td>T&amp;G</td>\n",
       "      <td>TRA-20170</td>\n",
       "    </tr>\n",
       "    <tr>\n",
       "      <th>4</th>\n",
       "      <td>T&amp;G</td>\n",
       "      <td>TRA-20170</td>\n",
       "    </tr>\n",
       "    <tr>\n",
       "      <th>...</th>\n",
       "      <td>...</td>\n",
       "      <td>...</td>\n",
       "    </tr>\n",
       "    <tr>\n",
       "      <th>37703</th>\n",
       "      <td>H&amp;PC</td>\n",
       "      <td>NAT-15470</td>\n",
       "    </tr>\n",
       "    <tr>\n",
       "      <th>37704</th>\n",
       "      <td>T&amp;G</td>\n",
       "      <td>FUN-03366</td>\n",
       "    </tr>\n",
       "    <tr>\n",
       "      <th>37705</th>\n",
       "      <td>MI</td>\n",
       "      <td>MON-86723</td>\n",
       "    </tr>\n",
       "    <tr>\n",
       "      <th>37706</th>\n",
       "      <td>T&amp;G</td>\n",
       "      <td>MAG-68412</td>\n",
       "    </tr>\n",
       "    <tr>\n",
       "      <th>37707</th>\n",
       "      <td>K&amp;D</td>\n",
       "      <td>3 C-07383</td>\n",
       "    </tr>\n",
       "  </tbody>\n",
       "</table>\n",
       "<p>37708 rows × 2 columns</p>\n",
       "</div>"
      ],
      "text/plain": [
       "          0          1\n",
       "0       T&G  CAN-97509\n",
       "1       T&G  LEG-37777\n",
       "2       T&G  PET-14209\n",
       "3       T&G  TRA-20170\n",
       "4       T&G  TRA-20170\n",
       "...     ...        ...\n",
       "37703  H&PC  NAT-15470\n",
       "37704   T&G  FUN-03366\n",
       "37705    MI  MON-86723\n",
       "37706   T&G  MAG-68412\n",
       "37707   K&D  3 C-07383\n",
       "\n",
       "[37708 rows x 2 columns]"
      ]
     },
     "execution_count": 29,
     "metadata": {},
     "output_type": "execute_result"
    }
   ],
   "source": [
    "ledger_df['ProductID'].str.split('/', expand=True)"
   ]
  },
  {
   "cell_type": "code",
   "execution_count": 30,
   "id": "13f30d40-e5d8-424a-a6bf-396a61110b71",
   "metadata": {},
   "outputs": [
    {
     "data": {
      "text/html": [
       "<div>\n",
       "<style scoped>\n",
       "    .dataframe tbody tr th:only-of-type {\n",
       "        vertical-align: middle;\n",
       "    }\n",
       "\n",
       "    .dataframe tbody tr th {\n",
       "        vertical-align: top;\n",
       "    }\n",
       "\n",
       "    .dataframe thead th {\n",
       "        text-align: right;\n",
       "    }\n",
       "</style>\n",
       "<table border=\"1\" class=\"dataframe\">\n",
       "  <thead>\n",
       "    <tr style=\"text-align: right;\">\n",
       "      <th></th>\n",
       "      <th>InvoiceNo</th>\n",
       "      <th>Channel</th>\n",
       "      <th>Product Name</th>\n",
       "      <th>ProductID</th>\n",
       "      <th>Account</th>\n",
       "      <th>AccountNo</th>\n",
       "      <th>Date</th>\n",
       "      <th>Deadline</th>\n",
       "      <th>Currency</th>\n",
       "      <th>Unit Price</th>\n",
       "      <th>Quantity</th>\n",
       "      <th>Total</th>\n",
       "      <th>CategoryID</th>\n",
       "      <th>ItemID</th>\n",
       "    </tr>\n",
       "  </thead>\n",
       "  <tbody>\n",
       "    <tr>\n",
       "      <th>0</th>\n",
       "      <td>1532</td>\n",
       "      <td>Shoppe.com</td>\n",
       "      <td>Cannon Water Bomb Balloons 100 Pack</td>\n",
       "      <td>T&amp;G/CAN-97509</td>\n",
       "      <td>Sales</td>\n",
       "      <td>5004</td>\n",
       "      <td>2020-01-01</td>\n",
       "      <td>11/23/19</td>\n",
       "      <td>USD</td>\n",
       "      <td>20.11</td>\n",
       "      <td>14</td>\n",
       "      <td>281.54</td>\n",
       "      <td>T&amp;G</td>\n",
       "      <td>CAN-97509</td>\n",
       "    </tr>\n",
       "    <tr>\n",
       "      <th>1</th>\n",
       "      <td>1533</td>\n",
       "      <td>Walcart</td>\n",
       "      <td>LEGO Ninja Turtles Stealth Shell in Pursuit 79102</td>\n",
       "      <td>T&amp;G/LEG-37777</td>\n",
       "      <td>Sales</td>\n",
       "      <td>5004</td>\n",
       "      <td>2020-01-01</td>\n",
       "      <td>06/15/20</td>\n",
       "      <td>USD</td>\n",
       "      <td>6.70</td>\n",
       "      <td>1</td>\n",
       "      <td>6.70</td>\n",
       "      <td>T&amp;G</td>\n",
       "      <td>LEG-37777</td>\n",
       "    </tr>\n",
       "    <tr>\n",
       "      <th>2</th>\n",
       "      <td>1534</td>\n",
       "      <td>Bullseye</td>\n",
       "      <td>NaN</td>\n",
       "      <td>T&amp;G/PET-14209</td>\n",
       "      <td>Sales</td>\n",
       "      <td>5004</td>\n",
       "      <td>2020-01-01</td>\n",
       "      <td>05/07/20</td>\n",
       "      <td>USD</td>\n",
       "      <td>11.67</td>\n",
       "      <td>5</td>\n",
       "      <td>58.35</td>\n",
       "      <td>T&amp;G</td>\n",
       "      <td>PET-14209</td>\n",
       "    </tr>\n",
       "    <tr>\n",
       "      <th>3</th>\n",
       "      <td>1535</td>\n",
       "      <td>Bullseye</td>\n",
       "      <td>Transformers Age of Extinction Generations Del...</td>\n",
       "      <td>T&amp;G/TRA-20170</td>\n",
       "      <td>Sales</td>\n",
       "      <td>5004</td>\n",
       "      <td>2020-01-01</td>\n",
       "      <td>12/22/19</td>\n",
       "      <td>USD</td>\n",
       "      <td>13.46</td>\n",
       "      <td>6</td>\n",
       "      <td>80.76</td>\n",
       "      <td>T&amp;G</td>\n",
       "      <td>TRA-20170</td>\n",
       "    </tr>\n",
       "    <tr>\n",
       "      <th>4</th>\n",
       "      <td>1535</td>\n",
       "      <td>Bullseye</td>\n",
       "      <td>Transformers Age of Extinction Generations Del...</td>\n",
       "      <td>T&amp;G/TRA-20170</td>\n",
       "      <td>Sales</td>\n",
       "      <td>5004</td>\n",
       "      <td>2020-01-01</td>\n",
       "      <td>12/22/19</td>\n",
       "      <td>USD</td>\n",
       "      <td>13.46</td>\n",
       "      <td>6</td>\n",
       "      <td>80.76</td>\n",
       "      <td>T&amp;G</td>\n",
       "      <td>TRA-20170</td>\n",
       "    </tr>\n",
       "  </tbody>\n",
       "</table>\n",
       "</div>"
      ],
      "text/plain": [
       "   InvoiceNo     Channel                                       Product Name  \\\n",
       "0       1532  Shoppe.com                Cannon Water Bomb Balloons 100 Pack   \n",
       "1       1533     Walcart  LEGO Ninja Turtles Stealth Shell in Pursuit 79102   \n",
       "2       1534    Bullseye                                                NaN   \n",
       "3       1535    Bullseye  Transformers Age of Extinction Generations Del...   \n",
       "4       1535    Bullseye  Transformers Age of Extinction Generations Del...   \n",
       "\n",
       "       ProductID Account  AccountNo        Date  Deadline Currency  \\\n",
       "0  T&G/CAN-97509   Sales       5004  2020-01-01  11/23/19      USD   \n",
       "1  T&G/LEG-37777   Sales       5004  2020-01-01  06/15/20      USD   \n",
       "2  T&G/PET-14209   Sales       5004  2020-01-01  05/07/20      USD   \n",
       "3  T&G/TRA-20170   Sales       5004  2020-01-01  12/22/19      USD   \n",
       "4  T&G/TRA-20170   Sales       5004  2020-01-01  12/22/19      USD   \n",
       "\n",
       "   Unit Price  Quantity   Total CategoryID     ItemID  \n",
       "0       20.11        14  281.54        T&G  CAN-97509  \n",
       "1        6.70         1    6.70        T&G  LEG-37777  \n",
       "2       11.67         5   58.35        T&G  PET-14209  \n",
       "3       13.46         6   80.76        T&G  TRA-20170  \n",
       "4       13.46         6   80.76        T&G  TRA-20170  "
      ]
     },
     "execution_count": 30,
     "metadata": {},
     "output_type": "execute_result"
    }
   ],
   "source": [
    "ledger_df[['CategoryID', 'ItemID']] = ledger_df['ProductID'].str.split('/', expand=True)\n",
    "\n",
    "ledger_df.head()"
   ]
  },
  {
   "cell_type": "markdown",
   "id": "f90b7afb-be81-4839-ab18-df9c6e91f0b5",
   "metadata": {},
   "source": [
    "### Concatenating text columns"
   ]
  },
  {
   "cell_type": "code",
   "execution_count": 32,
   "id": "811f3c1b-ce33-45d4-8b88-a9a4eab34e34",
   "metadata": {},
   "outputs": [
    {
     "data": {
      "text/plain": [
       "0         Category ID is: T&G\n",
       "1         Category ID is: T&G\n",
       "2         Category ID is: T&G\n",
       "3         Category ID is: T&G\n",
       "4         Category ID is: T&G\n",
       "                 ...         \n",
       "37703    Category ID is: H&PC\n",
       "37704     Category ID is: T&G\n",
       "37705      Category ID is: MI\n",
       "37706     Category ID is: T&G\n",
       "37707     Category ID is: K&D\n",
       "Name: CategoryID, Length: 37708, dtype: object"
      ]
     },
     "execution_count": 32,
     "metadata": {},
     "output_type": "execute_result"
    }
   ],
   "source": [
    "'Category ID is: ' + ledger_df['CategoryID']"
   ]
  },
  {
   "cell_type": "code",
   "execution_count": 33,
   "id": "000fca9a-9264-45d7-845e-dc2c8b8dbe7b",
   "metadata": {},
   "outputs": [
    {
     "data": {
      "text/plain": [
       "0         T&G/CAN-97509\n",
       "1         T&G/LEG-37777\n",
       "2         T&G/PET-14209\n",
       "3         T&G/TRA-20170\n",
       "4         T&G/TRA-20170\n",
       "              ...      \n",
       "37703    H&PC/NAT-15470\n",
       "37704     T&G/FUN-03366\n",
       "37705      MI/MON-86723\n",
       "37706     T&G/MAG-68412\n",
       "37707     K&D/3 C-07383\n",
       "Length: 37708, dtype: object"
      ]
     },
     "execution_count": 33,
     "metadata": {},
     "output_type": "execute_result"
    }
   ],
   "source": [
    "ledger_df['CategoryID'] + '/' + ledger_df['ItemID']"
   ]
  },
  {
   "cell_type": "code",
   "execution_count": 34,
   "id": "484319bc-9d63-40da-8e65-a4499d2e35f1",
   "metadata": {},
   "outputs": [
    {
     "data": {
      "text/plain": [
       "0         1532/5004\n",
       "1         1533/5004\n",
       "2         1534/5004\n",
       "3         1535/5004\n",
       "4         1535/5004\n",
       "            ...    \n",
       "37703    39235/5004\n",
       "37704    39216/5004\n",
       "37705    39219/5004\n",
       "37706    39238/5004\n",
       "37707    39239/5004\n",
       "Length: 37708, dtype: string"
      ]
     },
     "execution_count": 34,
     "metadata": {},
     "output_type": "execute_result"
    }
   ],
   "source": [
    " ledger_df['InvoiceNo'].astype('string') + '/' + ledger_df['AccountNo'].astype('string')"
   ]
  },
  {
   "cell_type": "markdown",
   "id": "210a7917-0e44-47f9-9a81-923252ad6c7a",
   "metadata": {},
   "source": [
    "### String data types in pandas"
   ]
  },
  {
   "cell_type": "code",
   "execution_count": 36,
   "id": "0a7f3cce-d988-45d3-8fef-ecc3bd2f9cfb",
   "metadata": {},
   "outputs": [
    {
     "name": "stdout",
     "output_type": "stream",
     "text": [
      "<class 'pandas.core.frame.DataFrame'>\n",
      "RangeIndex: 14054 entries, 0 to 14053\n",
      "Data columns (total 12 columns):\n",
      " #   Column        Non-Null Count  Dtype         \n",
      "---  ------        --------------  -----         \n",
      " 0   InvoiceNo     14054 non-null  int64         \n",
      " 1   Channel       14054 non-null  object        \n",
      " 2   Product Name  12362 non-null  object        \n",
      " 3   ProductID     14054 non-null  object        \n",
      " 4   Account       14054 non-null  object        \n",
      " 5   AccountNo     14054 non-null  int64         \n",
      " 6   Date          14054 non-null  datetime64[ns]\n",
      " 7   Deadline      14054 non-null  object        \n",
      " 8   Currency      14054 non-null  object        \n",
      " 9   Unit Price    14054 non-null  float64       \n",
      " 10  Quantity      14054 non-null  int64         \n",
      " 11  Total         14054 non-null  float64       \n",
      "dtypes: datetime64[ns](1), float64(2), int64(3), object(6)\n",
      "memory usage: 1.3+ MB\n"
     ]
    }
   ],
   "source": [
    "ledger_df2 = pd.read_excel('data/Q1Sales.xlsx')\n",
    "\n",
    "ledger_df2.info()"
   ]
  },
  {
   "cell_type": "code",
   "execution_count": 37,
   "id": "09a96dd5-6727-483e-b037-fa57d9864d49",
   "metadata": {},
   "outputs": [
    {
     "name": "stdout",
     "output_type": "stream",
     "text": [
      "<class 'pandas.core.frame.DataFrame'>\n",
      "RangeIndex: 14054 entries, 0 to 14053\n",
      "Data columns (total 12 columns):\n",
      " #   Column        Non-Null Count  Dtype         \n",
      "---  ------        --------------  -----         \n",
      " 0   InvoiceNo     14054 non-null  Int64         \n",
      " 1   Channel       14054 non-null  string        \n",
      " 2   Product Name  12362 non-null  string        \n",
      " 3   ProductID     14054 non-null  string        \n",
      " 4   Account       14054 non-null  string        \n",
      " 5   AccountNo     14054 non-null  Int64         \n",
      " 6   Date          14054 non-null  datetime64[ns]\n",
      " 7   Deadline      14054 non-null  string        \n",
      " 8   Currency      14054 non-null  string        \n",
      " 9   Unit Price    14054 non-null  Float64       \n",
      " 10  Quantity      14054 non-null  Int64         \n",
      " 11  Total         14054 non-null  Float64       \n",
      "dtypes: Float64(2), Int64(3), datetime64[ns](1), string(6)\n",
      "memory usage: 1.4 MB\n"
     ]
    }
   ],
   "source": [
    "ledger_df2 = pd.read_excel('data/Q1Sales.xlsx').convert_dtypes()\n",
    "\n",
    "ledger_df2.info()"
   ]
  },
  {
   "cell_type": "code",
   "execution_count": 38,
   "id": "7095b8d8-f8dc-4ebd-ae7b-e5d8d36f3252",
   "metadata": {},
   "outputs": [
    {
     "data": {
      "text/plain": [
       "0                      Cannon Water Bomb Balloons 100 Pack\n",
       "1        LEGO Ninja Turtles Stealth Shell in Pursuit 79102\n",
       "2                                                     <NA>\n",
       "3        Transformers Age of Extinction Generations Del...\n",
       "4        Transformers Age of Extinction Generations Del...\n",
       "                               ...                        \n",
       "37703    Nature's Bounty Garlic, 2000mg, Odor-Free, 120...\n",
       "37704                        Funko Wonder Woman POP Heroes\n",
       "37705    MONO GS1 GS1-BTY-BLK-L Betty Long Guitar Strap...\n",
       "37706                                                 <NA>\n",
       "37707             3 Collapsible Bowl Set 32oz | 16oz | 4oz\n",
       "Name: Product Name, Length: 37708, dtype: string"
      ]
     },
     "execution_count": 38,
     "metadata": {},
     "output_type": "execute_result"
    }
   ],
   "source": [
    "ledger_df['Product Name'].astype('string')"
   ]
  },
  {
   "cell_type": "code",
   "execution_count": 39,
   "id": "ffbfd75d-9a56-481a-8b10-2ca45041f971",
   "metadata": {},
   "outputs": [
    {
     "data": {
      "text/plain": [
       "0      1011\n",
       "1     $1320\n",
       "2      $980\n",
       "3       645\n",
       "4    follow\n",
       "5       340\n",
       "dtype: object"
      ]
     },
     "execution_count": 39,
     "metadata": {},
     "output_type": "execute_result"
    }
   ],
   "source": [
    "pd.Series([1011, '$1320', \"$980\", 645, 'follow', 340])"
   ]
  },
  {
   "cell_type": "code",
   "execution_count": 40,
   "id": "04862635-9b04-496e-855e-b4c2d506932c",
   "metadata": {},
   "outputs": [
    {
     "data": {
      "text/plain": [
       "0       NaN\n",
       "1      1320\n",
       "2       980\n",
       "3       NaN\n",
       "4    follow\n",
       "5       NaN\n",
       "dtype: object"
      ]
     },
     "execution_count": 40,
     "metadata": {},
     "output_type": "execute_result"
    }
   ],
   "source": [
    "pd.Series([1011, '$1320', \"$980\", 645, 'follow', 340]).str.strip('$')"
   ]
  },
  {
   "cell_type": "code",
   "execution_count": 41,
   "id": "feb7470f-a4e9-4ae8-b7d3-a5bf82c8b014",
   "metadata": {},
   "outputs": [
    {
     "data": {
      "text/plain": [
       "0      1011\n",
       "1      1320\n",
       "2       980\n",
       "3       645\n",
       "4    follow\n",
       "5       340\n",
       "dtype: string"
      ]
     },
     "execution_count": 41,
     "metadata": {},
     "output_type": "execute_result"
    }
   ],
   "source": [
    "pd.Series([1011, '$1320', \"$980\", 645, 'follow', 340]).astype('string').str.strip('$')"
   ]
  },
  {
   "cell_type": "markdown",
   "id": "a8db9024-fa4c-4c1a-96ae-34b77d4cc499",
   "metadata": {},
   "source": [
    "### Overthinking: Regular expressions"
   ]
  },
  {
   "cell_type": "code",
   "execution_count": 43,
   "id": "395d0980-6922-4eef-9b6a-7fc56df23bf9",
   "metadata": {},
   "outputs": [
    {
     "data": {
      "text/plain": [
       "0        False\n",
       "1        False\n",
       "2        False\n",
       "3        False\n",
       "4        False\n",
       "         ...  \n",
       "37703    False\n",
       "37704    False\n",
       "37705    False\n",
       "37706    False\n",
       "37707    False\n",
       "Name: Product Name, Length: 37708, dtype: bool"
      ]
     },
     "execution_count": 43,
     "metadata": {},
     "output_type": "execute_result"
    }
   ],
   "source": [
    "is_camera = ledger_df['Product Name'].fillna('').str.contains('camera', case=False)  \n",
    "is_camera"
   ]
  },
  {
   "cell_type": "code",
   "execution_count": 44,
   "id": "b115ff71-5590-417f-ab12-3ad019052c51",
   "metadata": {},
   "outputs": [
    {
     "data": {
      "text/html": [
       "<div>\n",
       "<style scoped>\n",
       "    .dataframe tbody tr th:only-of-type {\n",
       "        vertical-align: middle;\n",
       "    }\n",
       "\n",
       "    .dataframe tbody tr th {\n",
       "        vertical-align: top;\n",
       "    }\n",
       "\n",
       "    .dataframe thead th {\n",
       "        text-align: right;\n",
       "    }\n",
       "</style>\n",
       "<table border=\"1\" class=\"dataframe\">\n",
       "  <thead>\n",
       "    <tr style=\"text-align: right;\">\n",
       "      <th></th>\n",
       "      <th>ProductID</th>\n",
       "      <th>Product Name</th>\n",
       "      <th>Total</th>\n",
       "    </tr>\n",
       "  </thead>\n",
       "  <tbody>\n",
       "    <tr>\n",
       "      <th>66</th>\n",
       "      <td>C&amp;P/KID-94587</td>\n",
       "      <td>Kidz Digital Camera</td>\n",
       "      <td>275.64</td>\n",
       "    </tr>\n",
       "    <tr>\n",
       "      <th>117</th>\n",
       "      <td>C&amp;P/KOD-01305</td>\n",
       "      <td>Kodak ZM1-NM 1 MP 1-Inch LCD CMOS Sensor Digit...</td>\n",
       "      <td>64.10</td>\n",
       "    </tr>\n",
       "    <tr>\n",
       "      <th>154</th>\n",
       "      <td>C&amp;P/FOS-95687</td>\n",
       "      <td>Foscam FI8910W White Wireless IP Cameras 2-pack</td>\n",
       "      <td>669.20</td>\n",
       "    </tr>\n",
       "    <tr>\n",
       "      <th>265</th>\n",
       "      <td>C&amp;P/Q-S-31839</td>\n",
       "      <td>Q-See QSC414D Outdoor Dome Color CCD Camera wi...</td>\n",
       "      <td>7.82</td>\n",
       "    </tr>\n",
       "    <tr>\n",
       "      <th>287</th>\n",
       "      <td>C&amp;P/KOD-01305</td>\n",
       "      <td>Kodak ZM1-NM 1 MP 1-Inch LCD CMOS Sensor Digit...</td>\n",
       "      <td>64.10</td>\n",
       "    </tr>\n",
       "    <tr>\n",
       "      <th>...</th>\n",
       "      <td>...</td>\n",
       "      <td>...</td>\n",
       "      <td>...</td>\n",
       "    </tr>\n",
       "    <tr>\n",
       "      <th>37467</th>\n",
       "      <td>T&amp;G/HUB-12150</td>\n",
       "      <td>Hubsan X4 H107C 2.4G 4CH RC Quadcopter With Ca...</td>\n",
       "      <td>5.46</td>\n",
       "    </tr>\n",
       "    <tr>\n",
       "      <th>37482</th>\n",
       "      <td>C&amp;P/NIK-92147</td>\n",
       "      <td>Nikon D3100 14.2MP Digital SLR Camera with 18-...</td>\n",
       "      <td>16.38</td>\n",
       "    </tr>\n",
       "    <tr>\n",
       "      <th>37535</th>\n",
       "      <td>C&amp;P/ISM-72190</td>\n",
       "      <td>iSmart New Wireless WiFi HD IR Pan Tilt IP Sma...</td>\n",
       "      <td>42.63</td>\n",
       "    </tr>\n",
       "    <tr>\n",
       "      <th>37652</th>\n",
       "      <td>C&amp;P/KID-94587</td>\n",
       "      <td>Kidz Digital Camera</td>\n",
       "      <td>229.70</td>\n",
       "    </tr>\n",
       "    <tr>\n",
       "      <th>37701</th>\n",
       "      <td>C&amp;P/KID-94587</td>\n",
       "      <td>Kidz Digital Camera</td>\n",
       "      <td>229.70</td>\n",
       "    </tr>\n",
       "  </tbody>\n",
       "</table>\n",
       "<p>1097 rows × 3 columns</p>\n",
       "</div>"
      ],
      "text/plain": [
       "           ProductID                                       Product Name  \\\n",
       "66     C&P/KID-94587                                Kidz Digital Camera   \n",
       "117    C&P/KOD-01305  Kodak ZM1-NM 1 MP 1-Inch LCD CMOS Sensor Digit...   \n",
       "154    C&P/FOS-95687    Foscam FI8910W White Wireless IP Cameras 2-pack   \n",
       "265    C&P/Q-S-31839  Q-See QSC414D Outdoor Dome Color CCD Camera wi...   \n",
       "287    C&P/KOD-01305  Kodak ZM1-NM 1 MP 1-Inch LCD CMOS Sensor Digit...   \n",
       "...              ...                                                ...   \n",
       "37467  T&G/HUB-12150  Hubsan X4 H107C 2.4G 4CH RC Quadcopter With Ca...   \n",
       "37482  C&P/NIK-92147  Nikon D3100 14.2MP Digital SLR Camera with 18-...   \n",
       "37535  C&P/ISM-72190  iSmart New Wireless WiFi HD IR Pan Tilt IP Sma...   \n",
       "37652  C&P/KID-94587                                Kidz Digital Camera   \n",
       "37701  C&P/KID-94587                                Kidz Digital Camera   \n",
       "\n",
       "        Total  \n",
       "66     275.64  \n",
       "117     64.10  \n",
       "154    669.20  \n",
       "265      7.82  \n",
       "287     64.10  \n",
       "...       ...  \n",
       "37467    5.46  \n",
       "37482   16.38  \n",
       "37535   42.63  \n",
       "37652  229.70  \n",
       "37701  229.70  \n",
       "\n",
       "[1097 rows x 3 columns]"
      ]
     },
     "execution_count": 44,
     "metadata": {},
     "output_type": "execute_result"
    }
   ],
   "source": [
    "cameras_df = ledger_df[is_camera]                                # Filter the DataFrame to keep rows where 'Product Name' contains 'camera'\n",
    "cameras_df = cameras_df[['ProductID', 'Product Name', 'Total']]  # Select specific columns to display\n",
    "cameras_df "
   ]
  },
  {
   "cell_type": "code",
   "execution_count": 45,
   "id": "03597356-c379-4ea8-be76-db21b3579440",
   "metadata": {},
   "outputs": [
    {
     "data": {
      "text/html": [
       "<div>\n",
       "<style scoped>\n",
       "    .dataframe tbody tr th:only-of-type {\n",
       "        vertical-align: middle;\n",
       "    }\n",
       "\n",
       "    .dataframe tbody tr th {\n",
       "        vertical-align: top;\n",
       "    }\n",
       "\n",
       "    .dataframe thead th {\n",
       "        text-align: right;\n",
       "    }\n",
       "</style>\n",
       "<table border=\"1\" class=\"dataframe\">\n",
       "  <thead>\n",
       "    <tr style=\"text-align: right;\">\n",
       "      <th></th>\n",
       "      <th>ProductID</th>\n",
       "      <th>Product Name</th>\n",
       "      <th>Total</th>\n",
       "    </tr>\n",
       "  </thead>\n",
       "  <tbody>\n",
       "    <tr>\n",
       "      <th>117</th>\n",
       "      <td>C&amp;P/KOD-01305</td>\n",
       "      <td>Kodak ZM1-NM 1 MP 1-Inch LCD CMOS Sensor Digit...</td>\n",
       "      <td>64.10</td>\n",
       "    </tr>\n",
       "    <tr>\n",
       "      <th>287</th>\n",
       "      <td>C&amp;P/KOD-01305</td>\n",
       "      <td>Kodak ZM1-NM 1 MP 1-Inch LCD CMOS Sensor Digit...</td>\n",
       "      <td>64.10</td>\n",
       "    </tr>\n",
       "    <tr>\n",
       "      <th>616</th>\n",
       "      <td>C&amp;P/KOD-32137</td>\n",
       "      <td>Kodak EasyShare Z990 12 MP Digital Camera with...</td>\n",
       "      <td>166.30</td>\n",
       "    </tr>\n",
       "    <tr>\n",
       "      <th>2151</th>\n",
       "      <td>C&amp;P/CAN-50721</td>\n",
       "      <td>Canon PowerShot SX50 HS 12MP Digital Camera wi...</td>\n",
       "      <td>6.45</td>\n",
       "    </tr>\n",
       "    <tr>\n",
       "      <th>2280</th>\n",
       "      <td>C&amp;P/CAN-50721</td>\n",
       "      <td>Canon PowerShot SX50 HS 12MP Digital Camera wi...</td>\n",
       "      <td>6.45</td>\n",
       "    </tr>\n",
       "    <tr>\n",
       "      <th>...</th>\n",
       "      <td>...</td>\n",
       "      <td>...</td>\n",
       "      <td>...</td>\n",
       "    </tr>\n",
       "    <tr>\n",
       "      <th>36760</th>\n",
       "      <td>C&amp;P/CAN-92695</td>\n",
       "      <td>Canon PowerShot A810 16.0 MP Digital Camera wi...</td>\n",
       "      <td>6.93</td>\n",
       "    </tr>\n",
       "    <tr>\n",
       "      <th>36858</th>\n",
       "      <td>C&amp;P/CAN-10320</td>\n",
       "      <td>Canon PowerShot SD1400IS 14.1 MP Digital Camer...</td>\n",
       "      <td>37.62</td>\n",
       "    </tr>\n",
       "    <tr>\n",
       "      <th>37251</th>\n",
       "      <td>C&amp;P/NIK-92147</td>\n",
       "      <td>Nikon D3100 14.2MP Digital SLR Camera with 18-...</td>\n",
       "      <td>43.28</td>\n",
       "    </tr>\n",
       "    <tr>\n",
       "      <th>37394</th>\n",
       "      <td>C&amp;P/NIK-92147</td>\n",
       "      <td>Nikon D3100 14.2MP Digital SLR Camera with 18-...</td>\n",
       "      <td>16.38</td>\n",
       "    </tr>\n",
       "    <tr>\n",
       "      <th>37482</th>\n",
       "      <td>C&amp;P/NIK-92147</td>\n",
       "      <td>Nikon D3100 14.2MP Digital SLR Camera with 18-...</td>\n",
       "      <td>16.38</td>\n",
       "    </tr>\n",
       "  </tbody>\n",
       "</table>\n",
       "<p>190 rows × 3 columns</p>\n",
       "</div>"
      ],
      "text/plain": [
       "           ProductID                                       Product Name  \\\n",
       "117    C&P/KOD-01305  Kodak ZM1-NM 1 MP 1-Inch LCD CMOS Sensor Digit...   \n",
       "287    C&P/KOD-01305  Kodak ZM1-NM 1 MP 1-Inch LCD CMOS Sensor Digit...   \n",
       "616    C&P/KOD-32137  Kodak EasyShare Z990 12 MP Digital Camera with...   \n",
       "2151   C&P/CAN-50721  Canon PowerShot SX50 HS 12MP Digital Camera wi...   \n",
       "2280   C&P/CAN-50721  Canon PowerShot SX50 HS 12MP Digital Camera wi...   \n",
       "...              ...                                                ...   \n",
       "36760  C&P/CAN-92695  Canon PowerShot A810 16.0 MP Digital Camera wi...   \n",
       "36858  C&P/CAN-10320  Canon PowerShot SD1400IS 14.1 MP Digital Camer...   \n",
       "37251  C&P/NIK-92147  Nikon D3100 14.2MP Digital SLR Camera with 18-...   \n",
       "37394  C&P/NIK-92147  Nikon D3100 14.2MP Digital SLR Camera with 18-...   \n",
       "37482  C&P/NIK-92147  Nikon D3100 14.2MP Digital SLR Camera with 18-...   \n",
       "\n",
       "        Total  \n",
       "117     64.10  \n",
       "287     64.10  \n",
       "616    166.30  \n",
       "2151     6.45  \n",
       "2280     6.45  \n",
       "...       ...  \n",
       "36760    6.93  \n",
       "36858   37.62  \n",
       "37251   43.28  \n",
       "37394   16.38  \n",
       "37482   16.38  \n",
       "\n",
       "[190 rows x 3 columns]"
      ]
     },
     "execution_count": 45,
     "metadata": {},
     "output_type": "execute_result"
    }
   ],
   "source": [
    "pattern = 'Nikon|Canon|Kodak'  # Remove parentheses to avoid capturing groups\n",
    "\n",
    "cameras_df = cameras_df[cameras_df['Product Name'].str.contains(pattern, case=False)]  # case-insensitive search\n",
    "\n",
    "cameras_df "
   ]
  },
  {
   "cell_type": "code",
   "execution_count": 46,
   "id": "97122c08-5902-414d-82dd-d00cfe061f30",
   "metadata": {},
   "outputs": [
    {
     "data": {
      "text/html": [
       "<div>\n",
       "<style scoped>\n",
       "    .dataframe tbody tr th:only-of-type {\n",
       "        vertical-align: middle;\n",
       "    }\n",
       "\n",
       "    .dataframe tbody tr th {\n",
       "        vertical-align: top;\n",
       "    }\n",
       "\n",
       "    .dataframe thead th {\n",
       "        text-align: right;\n",
       "    }\n",
       "</style>\n",
       "<table border=\"1\" class=\"dataframe\">\n",
       "  <thead>\n",
       "    <tr style=\"text-align: right;\">\n",
       "      <th></th>\n",
       "      <th>ProductID</th>\n",
       "      <th>Product Name</th>\n",
       "      <th>Total</th>\n",
       "    </tr>\n",
       "  </thead>\n",
       "  <tbody>\n",
       "    <tr>\n",
       "      <th>117</th>\n",
       "      <td>C&amp;P/KOD-01305</td>\n",
       "      <td>Kodak ZM1-NM 1 MP 1-Inch LCD CMOS Sensor Digit...</td>\n",
       "      <td>64.10</td>\n",
       "    </tr>\n",
       "    <tr>\n",
       "      <th>287</th>\n",
       "      <td>C&amp;P/KOD-01305</td>\n",
       "      <td>Kodak ZM1-NM 1 MP 1-Inch LCD CMOS Sensor Digit...</td>\n",
       "      <td>64.10</td>\n",
       "    </tr>\n",
       "    <tr>\n",
       "      <th>616</th>\n",
       "      <td>C&amp;P/KOD-32137</td>\n",
       "      <td>Kodak EasyShare Z990 12 MP Digital Camera with...</td>\n",
       "      <td>166.30</td>\n",
       "    </tr>\n",
       "    <tr>\n",
       "      <th>2151</th>\n",
       "      <td>C&amp;P/CAN-50721</td>\n",
       "      <td>Canon PowerShot SX50 HS 12MP Digital Camera wi...</td>\n",
       "      <td>6.45</td>\n",
       "    </tr>\n",
       "    <tr>\n",
       "      <th>2280</th>\n",
       "      <td>C&amp;P/CAN-50721</td>\n",
       "      <td>Canon PowerShot SX50 HS 12MP Digital Camera wi...</td>\n",
       "      <td>6.45</td>\n",
       "    </tr>\n",
       "    <tr>\n",
       "      <th>...</th>\n",
       "      <td>...</td>\n",
       "      <td>...</td>\n",
       "      <td>...</td>\n",
       "    </tr>\n",
       "    <tr>\n",
       "      <th>36760</th>\n",
       "      <td>C&amp;P/CAN-92695</td>\n",
       "      <td>Canon PowerShot A810 16.0 MP Digital Camera wi...</td>\n",
       "      <td>6.93</td>\n",
       "    </tr>\n",
       "    <tr>\n",
       "      <th>36858</th>\n",
       "      <td>C&amp;P/CAN-10320</td>\n",
       "      <td>Canon PowerShot SD1400IS 14.1 MP Digital Camer...</td>\n",
       "      <td>37.62</td>\n",
       "    </tr>\n",
       "    <tr>\n",
       "      <th>37251</th>\n",
       "      <td>C&amp;P/NIK-92147</td>\n",
       "      <td>Nikon D3100 14.2MP Digital SLR Camera with 18-...</td>\n",
       "      <td>43.28</td>\n",
       "    </tr>\n",
       "    <tr>\n",
       "      <th>37394</th>\n",
       "      <td>C&amp;P/NIK-92147</td>\n",
       "      <td>Nikon D3100 14.2MP Digital SLR Camera with 18-...</td>\n",
       "      <td>16.38</td>\n",
       "    </tr>\n",
       "    <tr>\n",
       "      <th>37482</th>\n",
       "      <td>C&amp;P/NIK-92147</td>\n",
       "      <td>Nikon D3100 14.2MP Digital SLR Camera with 18-...</td>\n",
       "      <td>16.38</td>\n",
       "    </tr>\n",
       "  </tbody>\n",
       "</table>\n",
       "<p>190 rows × 3 columns</p>\n",
       "</div>"
      ],
      "text/plain": [
       "           ProductID                                       Product Name  \\\n",
       "117    C&P/KOD-01305  Kodak ZM1-NM 1 MP 1-Inch LCD CMOS Sensor Digit...   \n",
       "287    C&P/KOD-01305  Kodak ZM1-NM 1 MP 1-Inch LCD CMOS Sensor Digit...   \n",
       "616    C&P/KOD-32137  Kodak EasyShare Z990 12 MP Digital Camera with...   \n",
       "2151   C&P/CAN-50721  Canon PowerShot SX50 HS 12MP Digital Camera wi...   \n",
       "2280   C&P/CAN-50721  Canon PowerShot SX50 HS 12MP Digital Camera wi...   \n",
       "...              ...                                                ...   \n",
       "36760  C&P/CAN-92695  Canon PowerShot A810 16.0 MP Digital Camera wi...   \n",
       "36858  C&P/CAN-10320  Canon PowerShot SD1400IS 14.1 MP Digital Camer...   \n",
       "37251  C&P/NIK-92147  Nikon D3100 14.2MP Digital SLR Camera with 18-...   \n",
       "37394  C&P/NIK-92147  Nikon D3100 14.2MP Digital SLR Camera with 18-...   \n",
       "37482  C&P/NIK-92147  Nikon D3100 14.2MP Digital SLR Camera with 18-...   \n",
       "\n",
       "        Total  \n",
       "117     64.10  \n",
       "287     64.10  \n",
       "616    166.30  \n",
       "2151     6.45  \n",
       "2280     6.45  \n",
       "...       ...  \n",
       "36760    6.93  \n",
       "36858   37.62  \n",
       "37251   43.28  \n",
       "37394   16.38  \n",
       "37482   16.38  \n",
       "\n",
       "[190 rows x 3 columns]"
      ]
     },
     "execution_count": 46,
     "metadata": {},
     "output_type": "execute_result"
    }
   ],
   "source": [
    "# Another way:\n",
    "\n",
    "cameras_df[(cameras_df['Product Name'].str.contains('Nikon'))\n",
    "            | (cameras_df['Product Name'].str.contains('Canon'))\n",
    "            | (cameras_df['Product Name'].str.contains('Kodak'))\n",
    "            ]"
   ]
  },
  {
   "cell_type": "markdown",
   "id": "63268cd4-b1b6-414d-ad1f-16e7204ee60d",
   "metadata": {},
   "source": [
    "`Extract` method:"
   ]
  },
  {
   "cell_type": "code",
   "execution_count": 48,
   "id": "051eed6f-505e-41cf-822c-11ff6be65c34",
   "metadata": {},
   "outputs": [
    {
     "data": {
      "text/html": [
       "<div>\n",
       "<style scoped>\n",
       "    .dataframe tbody tr th:only-of-type {\n",
       "        vertical-align: middle;\n",
       "    }\n",
       "\n",
       "    .dataframe tbody tr th {\n",
       "        vertical-align: top;\n",
       "    }\n",
       "\n",
       "    .dataframe thead th {\n",
       "        text-align: right;\n",
       "    }\n",
       "</style>\n",
       "<table border=\"1\" class=\"dataframe\">\n",
       "  <thead>\n",
       "    <tr style=\"text-align: right;\">\n",
       "      <th></th>\n",
       "      <th>0</th>\n",
       "      <th>1</th>\n",
       "    </tr>\n",
       "  </thead>\n",
       "  <tbody>\n",
       "    <tr>\n",
       "      <th>117</th>\n",
       "      <td>Kodak</td>\n",
       "      <td>ZM1</td>\n",
       "    </tr>\n",
       "    <tr>\n",
       "      <th>287</th>\n",
       "      <td>Kodak</td>\n",
       "      <td>ZM1</td>\n",
       "    </tr>\n",
       "    <tr>\n",
       "      <th>616</th>\n",
       "      <td>Kodak</td>\n",
       "      <td>EasyShare</td>\n",
       "    </tr>\n",
       "    <tr>\n",
       "      <th>2151</th>\n",
       "      <td>Canon</td>\n",
       "      <td>PowerShot</td>\n",
       "    </tr>\n",
       "    <tr>\n",
       "      <th>2280</th>\n",
       "      <td>Canon</td>\n",
       "      <td>PowerShot</td>\n",
       "    </tr>\n",
       "    <tr>\n",
       "      <th>...</th>\n",
       "      <td>...</td>\n",
       "      <td>...</td>\n",
       "    </tr>\n",
       "    <tr>\n",
       "      <th>36760</th>\n",
       "      <td>Canon</td>\n",
       "      <td>PowerShot</td>\n",
       "    </tr>\n",
       "    <tr>\n",
       "      <th>36858</th>\n",
       "      <td>Canon</td>\n",
       "      <td>PowerShot</td>\n",
       "    </tr>\n",
       "    <tr>\n",
       "      <th>37251</th>\n",
       "      <td>Nikon</td>\n",
       "      <td>D3100</td>\n",
       "    </tr>\n",
       "    <tr>\n",
       "      <th>37394</th>\n",
       "      <td>Nikon</td>\n",
       "      <td>D3100</td>\n",
       "    </tr>\n",
       "    <tr>\n",
       "      <th>37482</th>\n",
       "      <td>Nikon</td>\n",
       "      <td>D3100</td>\n",
       "    </tr>\n",
       "  </tbody>\n",
       "</table>\n",
       "<p>190 rows × 2 columns</p>\n",
       "</div>"
      ],
      "text/plain": [
       "           0          1\n",
       "117    Kodak        ZM1\n",
       "287    Kodak        ZM1\n",
       "616    Kodak  EasyShare\n",
       "2151   Canon  PowerShot\n",
       "2280   Canon  PowerShot\n",
       "...      ...        ...\n",
       "36760  Canon  PowerShot\n",
       "36858  Canon  PowerShot\n",
       "37251  Nikon      D3100\n",
       "37394  Nikon      D3100\n",
       "37482  Nikon      D3100\n",
       "\n",
       "[190 rows x 2 columns]"
      ]
     },
     "execution_count": 48,
     "metadata": {},
     "output_type": "execute_result"
    }
   ],
   "source": [
    "# Define a regular expression pattern, followed by one or more whitespace characters, and then capture the following word\n",
    "pattern = '(Nikon|Canon|Kodak)\\s+(\\w*)'  \n",
    "\n",
    "cameras_df['Product Name'].str.extract(pattern)  # Apply the regular expression pattern "
   ]
  }
 ],
 "metadata": {
  "kernelspec": {
   "display_name": "Python 3 (ipykernel)",
   "language": "python",
   "name": "python3"
  },
  "language_info": {
   "codemirror_mode": {
    "name": "ipython",
    "version": 3
   },
   "file_extension": ".py",
   "mimetype": "text/x-python",
   "name": "python",
   "nbconvert_exporter": "python",
   "pygments_lexer": "ipython3",
   "version": "3.11.7"
  }
 },
 "nbformat": 4,
 "nbformat_minor": 5
}
