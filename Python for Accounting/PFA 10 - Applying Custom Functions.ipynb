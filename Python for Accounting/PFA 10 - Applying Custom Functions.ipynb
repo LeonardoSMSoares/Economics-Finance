{
 "cells": [
  {
   "cell_type": "markdown",
   "id": "92f43125-2b27-4ddb-aa66-dd79843d2e61",
   "metadata": {},
   "source": [
    "# Chapter 23 - Applying Custom Functions"
   ]
  },
  {
   "cell_type": "code",
   "execution_count": 2,
   "id": "53600be1-b263-4f85-b164-848a83816e79",
   "metadata": {},
   "outputs": [],
   "source": [
    "import pandas as pd"
   ]
  },
  {
   "cell_type": "code",
   "execution_count": 3,
   "id": "f86bb906-5b41-4941-9ba2-62b1764187f0",
   "metadata": {},
   "outputs": [
    {
     "data": {
      "text/html": [
       "<div>\n",
       "<style scoped>\n",
       "    .dataframe tbody tr th:only-of-type {\n",
       "        vertical-align: middle;\n",
       "    }\n",
       "\n",
       "    .dataframe tbody tr th {\n",
       "        vertical-align: top;\n",
       "    }\n",
       "\n",
       "    .dataframe thead th {\n",
       "        text-align: right;\n",
       "    }\n",
       "</style>\n",
       "<table border=\"1\" class=\"dataframe\">\n",
       "  <thead>\n",
       "    <tr style=\"text-align: right;\">\n",
       "      <th></th>\n",
       "      <th>InvoiceNo</th>\n",
       "      <th>Channel</th>\n",
       "      <th>Product Name</th>\n",
       "      <th>ProductID</th>\n",
       "      <th>Account</th>\n",
       "      <th>AccountNo</th>\n",
       "      <th>Date</th>\n",
       "      <th>Deadline</th>\n",
       "      <th>Currency</th>\n",
       "      <th>Unit Price</th>\n",
       "      <th>Quantity</th>\n",
       "      <th>Total</th>\n",
       "    </tr>\n",
       "  </thead>\n",
       "  <tbody>\n",
       "    <tr>\n",
       "      <th>0</th>\n",
       "      <td>1532</td>\n",
       "      <td>Shoppe.com</td>\n",
       "      <td>Cannon Water Bomb Balloons 100 Pack</td>\n",
       "      <td>T&amp;G/CAN-97509</td>\n",
       "      <td>Sales</td>\n",
       "      <td>5004</td>\n",
       "      <td>2020-01-01</td>\n",
       "      <td>11/23/19</td>\n",
       "      <td>USD</td>\n",
       "      <td>20.11</td>\n",
       "      <td>14</td>\n",
       "      <td>281.54</td>\n",
       "    </tr>\n",
       "    <tr>\n",
       "      <th>1</th>\n",
       "      <td>1533</td>\n",
       "      <td>Walcart</td>\n",
       "      <td>LEGO Ninja Turtles Stealth Shell in Pursuit 79102</td>\n",
       "      <td>T&amp;G/LEG-37777</td>\n",
       "      <td>Sales</td>\n",
       "      <td>5004</td>\n",
       "      <td>2020-01-01</td>\n",
       "      <td>06/15/20</td>\n",
       "      <td>USD</td>\n",
       "      <td>6.70</td>\n",
       "      <td>1</td>\n",
       "      <td>6.70</td>\n",
       "    </tr>\n",
       "    <tr>\n",
       "      <th>2</th>\n",
       "      <td>1534</td>\n",
       "      <td>Bullseye</td>\n",
       "      <td>NaN</td>\n",
       "      <td>T&amp;G/PET-14209</td>\n",
       "      <td>Sales</td>\n",
       "      <td>5004</td>\n",
       "      <td>2020-01-01</td>\n",
       "      <td>05/07/20</td>\n",
       "      <td>USD</td>\n",
       "      <td>11.67</td>\n",
       "      <td>5</td>\n",
       "      <td>58.35</td>\n",
       "    </tr>\n",
       "    <tr>\n",
       "      <th>3</th>\n",
       "      <td>1535</td>\n",
       "      <td>Bullseye</td>\n",
       "      <td>Transformers Age of Extinction Generations Del...</td>\n",
       "      <td>T&amp;G/TRA-20170</td>\n",
       "      <td>Sales</td>\n",
       "      <td>5004</td>\n",
       "      <td>2020-01-01</td>\n",
       "      <td>12/22/19</td>\n",
       "      <td>USD</td>\n",
       "      <td>13.46</td>\n",
       "      <td>6</td>\n",
       "      <td>80.76</td>\n",
       "    </tr>\n",
       "    <tr>\n",
       "      <th>4</th>\n",
       "      <td>1535</td>\n",
       "      <td>Bullseye</td>\n",
       "      <td>Transformers Age of Extinction Generations Del...</td>\n",
       "      <td>T&amp;G/TRA-20170</td>\n",
       "      <td>Sales</td>\n",
       "      <td>5004</td>\n",
       "      <td>2020-01-01</td>\n",
       "      <td>12/22/19</td>\n",
       "      <td>USD</td>\n",
       "      <td>13.46</td>\n",
       "      <td>6</td>\n",
       "      <td>80.76</td>\n",
       "    </tr>\n",
       "  </tbody>\n",
       "</table>\n",
       "</div>"
      ],
      "text/plain": [
       "   InvoiceNo     Channel                                       Product Name  \\\n",
       "0       1532  Shoppe.com                Cannon Water Bomb Balloons 100 Pack   \n",
       "1       1533     Walcart  LEGO Ninja Turtles Stealth Shell in Pursuit 79102   \n",
       "2       1534    Bullseye                                                NaN   \n",
       "3       1535    Bullseye  Transformers Age of Extinction Generations Del...   \n",
       "4       1535    Bullseye  Transformers Age of Extinction Generations Del...   \n",
       "\n",
       "       ProductID Account  AccountNo        Date  Deadline Currency  \\\n",
       "0  T&G/CAN-97509   Sales       5004  2020-01-01  11/23/19      USD   \n",
       "1  T&G/LEG-37777   Sales       5004  2020-01-01  06/15/20      USD   \n",
       "2  T&G/PET-14209   Sales       5004  2020-01-01  05/07/20      USD   \n",
       "3  T&G/TRA-20170   Sales       5004  2020-01-01  12/22/19      USD   \n",
       "4  T&G/TRA-20170   Sales       5004  2020-01-01  12/22/19      USD   \n",
       "\n",
       "   Unit Price  Quantity   Total  \n",
       "0       20.11        14  281.54  \n",
       "1        6.70         1    6.70  \n",
       "2       11.67         5   58.35  \n",
       "3       13.46         6   80.76  \n",
       "4       13.46         6   80.76  "
      ]
     },
     "execution_count": 3,
     "metadata": {},
     "output_type": "execute_result"
    }
   ],
   "source": [
    "# Read Dataframe 'Q1Sales.csv'\n",
    "\n",
    "url = (\"https://raw.githubusercontent.com/pythonforaccounting/workspace/refs/heads/main/P2%20-%20Working%20with%20tables/Q1Sales.csv\")\n",
    "ledger_df = pd.read_csv(url)\n",
    "\n",
    "ledger_df.head()"
   ]
  },
  {
   "cell_type": "code",
   "execution_count": 4,
   "id": "ea78209c-9651-4456-97e8-ba27f6b42013",
   "metadata": {},
   "outputs": [],
   "source": [
    "def process_channel(channel):\n",
    "    return 'Name: ' + channel.upper()"
   ]
  },
  {
   "cell_type": "code",
   "execution_count": 5,
   "id": "bbbd2d3c-634a-40d8-831c-d8921fc5d2a7",
   "metadata": {},
   "outputs": [
    {
     "data": {
      "text/plain": [
       "'Name: SHOPPE.COM'"
      ]
     },
     "execution_count": 5,
     "metadata": {},
     "output_type": "execute_result"
    }
   ],
   "source": [
    "process_channel('Shoppe.com')"
   ]
  },
  {
   "cell_type": "code",
   "execution_count": 6,
   "id": "afea59f5-e7a1-4a19-be8a-38b503963f9f",
   "metadata": {},
   "outputs": [
    {
     "data": {
      "text/plain": [
       "'Name: BULLSEYE'"
      ]
     },
     "execution_count": 6,
     "metadata": {},
     "output_type": "execute_result"
    }
   ],
   "source": [
    "process_channel('Bullseye')"
   ]
  },
  {
   "cell_type": "code",
   "execution_count": 7,
   "id": "6341efbe-45d2-4dca-b30f-30637528b3f3",
   "metadata": {},
   "outputs": [
    {
     "data": {
      "text/plain": [
       "0            Name: SHOPPE.COM\n",
       "1               Name: WALCART\n",
       "2              Name: BULLSEYE\n",
       "3              Name: BULLSEYE\n",
       "4              Name: BULLSEYE\n",
       "                 ...         \n",
       "37703          Name: IBAY.COM\n",
       "37704        Name: SHOPPE.COM\n",
       "37705        Name: SHOPPE.COM\n",
       "37706        Name: SHOPPE.COM\n",
       "37707    Name: UNDERSTOCK.COM\n",
       "Name: Channel, Length: 37708, dtype: object"
      ]
     },
     "execution_count": 7,
     "metadata": {},
     "output_type": "execute_result"
    }
   ],
   "source": [
    "ledger_df['Channel'].apply(process_channel)"
   ]
  },
  {
   "cell_type": "code",
   "execution_count": 8,
   "id": "35b9cb16-9af4-4d3d-ba0a-01373a559ada",
   "metadata": {},
   "outputs": [],
   "source": [
    "# Define a function to process product names\n",
    "def process_product(product): \n",
    "    \n",
    "    if pd.isna(product):                      # Check if the product name is NaN  \n",
    "        return 'EMPTY PRODUCT NAME'           # If the product name is missing, return a placeholder 'EMPTY PRODUCT NAME' \n",
    "    else:  \n",
    "        return 'Product: ' + product.upper()  # If the product name is not missing, return the product name in uppercase prefixed with 'Product: '"
   ]
  },
  {
   "cell_type": "code",
   "execution_count": 9,
   "id": "3e965d71-b108-4e7b-823b-923a36f1c9d3",
   "metadata": {},
   "outputs": [
    {
     "data": {
      "text/plain": [
       "0             Product: CANNON WATER BOMB BALLOONS 100 PACK\n",
       "1        Product: LEGO NINJA TURTLES STEALTH SHELL IN P...\n",
       "2                                       EMPTY PRODUCT NAME\n",
       "3        Product: TRANSFORMERS AGE OF EXTINCTION GENERA...\n",
       "4        Product: TRANSFORMERS AGE OF EXTINCTION GENERA...\n",
       "                               ...                        \n",
       "37703    Product: NATURE'S BOUNTY GARLIC, 2000MG, ODOR-...\n",
       "37704               Product: FUNKO WONDER WOMAN POP HEROES\n",
       "37705    Product: MONO GS1 GS1-BTY-BLK-L BETTY LONG GUI...\n",
       "37706                                   EMPTY PRODUCT NAME\n",
       "37707    Product: 3 COLLAPSIBLE BOWL SET 32OZ | 16OZ | 4OZ\n",
       "Name: Product Name, Length: 37708, dtype: object"
      ]
     },
     "execution_count": 9,
     "metadata": {},
     "output_type": "execute_result"
    }
   ],
   "source": [
    "ledger_df['Product Name'].apply(process_product)"
   ]
  },
  {
   "cell_type": "markdown",
   "id": "ef37e5ab-7ef9-4aba-8f54-6faf84ea146b",
   "metadata": {},
   "source": [
    "### Overthinking: Functions without a name"
   ]
  },
  {
   "cell_type": "code",
   "execution_count": 11,
   "id": "d18d7b44-4385-49a4-82a9-2de4198b58f0",
   "metadata": {},
   "outputs": [
    {
     "data": {
      "text/plain": [
       "0            Name: SHOPPE.COM\n",
       "1               Name: WALCART\n",
       "2              Name: BULLSEYE\n",
       "3              Name: BULLSEYE\n",
       "4              Name: BULLSEYE\n",
       "                 ...         \n",
       "37703          Name: IBAY.COM\n",
       "37704        Name: SHOPPE.COM\n",
       "37705        Name: SHOPPE.COM\n",
       "37706        Name: SHOPPE.COM\n",
       "37707    Name: UNDERSTOCK.COM\n",
       "Name: Channel, Length: 37708, dtype: object"
      ]
     },
     "execution_count": 11,
     "metadata": {},
     "output_type": "execute_result"
    }
   ],
   "source": [
    "def process_channel(channel):\n",
    "    return 'Name: ' + channel.upper()\n",
    "\n",
    "ledger_df['Channel'].apply(process_channel)"
   ]
  },
  {
   "cell_type": "markdown",
   "id": "e7707084-8a33-48e0-80f6-97d4b8f3e408",
   "metadata": {},
   "source": [
    "Could be writtten as:"
   ]
  },
  {
   "cell_type": "code",
   "execution_count": 13,
   "id": "25b463f1-42f4-4c82-b49f-cba65f519888",
   "metadata": {},
   "outputs": [
    {
     "data": {
      "text/plain": [
       "0            Name: SHOPPE.COM\n",
       "1               Name: WALCART\n",
       "2              Name: BULLSEYE\n",
       "3              Name: BULLSEYE\n",
       "4              Name: BULLSEYE\n",
       "                 ...         \n",
       "37703          Name: IBAY.COM\n",
       "37704        Name: SHOPPE.COM\n",
       "37705        Name: SHOPPE.COM\n",
       "37706        Name: SHOPPE.COM\n",
       "37707    Name: UNDERSTOCK.COM\n",
       "Name: Channel, Length: 37708, dtype: object"
      ]
     },
     "execution_count": 13,
     "metadata": {},
     "output_type": "execute_result"
    }
   ],
   "source": [
    "ledger_df['Channel'].apply(lambda channel: 'Name: ' + channel.upper())"
   ]
  },
  {
   "cell_type": "markdown",
   "id": "f917c341-f31a-4be4-b440-32d1f9ba5201",
   "metadata": {},
   "source": [
    "```Python\n",
    "# regular function definition\n",
    "def process_channel(channel):\n",
    "    return 'Name: ' + channel.upper()\n",
    "    \n",
    "# anonymous function definition\n",
    "lambda channel: 'Name: ' + channel.upper()\n",
    "```"
   ]
  },
  {
   "cell_type": "markdown",
   "id": "2fe7bd4b-7308-4896-bc56-ff8ed3f11833",
   "metadata": {},
   "source": [
    "### Applying functions to rows"
   ]
  },
  {
   "cell_type": "code",
   "execution_count": 16,
   "id": "8363ee6b-e6cf-4ce2-9fa9-037fe85d1c74",
   "metadata": {},
   "outputs": [
    {
     "data": {
      "text/plain": [
       "InvoiceNo                                      1532\n",
       "Channel                                  Shoppe.com\n",
       "Product Name    Cannon Water Bomb Balloons 100 Pack\n",
       "ProductID                             T&G/CAN-97509\n",
       "Account                                       Sales\n",
       "AccountNo                                      5004\n",
       "Date                                     2020-01-01\n",
       "Deadline                                   11/23/19\n",
       "Currency                                        USD\n",
       "Unit Price                                    20.11\n",
       "Quantity                                         14\n",
       "Total                                        281.54\n",
       "Name: 0, dtype: object"
      ]
     },
     "execution_count": 16,
     "metadata": {},
     "output_type": "execute_result"
    }
   ],
   "source": [
    "first_row = ledger_df.iloc[0]\n",
    "first_row"
   ]
  },
  {
   "cell_type": "code",
   "execution_count": 17,
   "id": "ab1133d0-f188-46f8-863f-e6248dcf1a61",
   "metadata": {},
   "outputs": [
    {
     "data": {
      "text/plain": [
       "281.54"
      ]
     },
     "execution_count": 17,
     "metadata": {},
     "output_type": "execute_result"
    }
   ],
   "source": [
    "first_row['Total']"
   ]
  },
  {
   "cell_type": "code",
   "execution_count": 18,
   "id": "fd7b311b-5061-4add-b088-a54102c57b6d",
   "metadata": {},
   "outputs": [
    {
     "data": {
      "text/plain": [
       "'Shoppe.com'"
      ]
     },
     "execution_count": 18,
     "metadata": {},
     "output_type": "execute_result"
    }
   ],
   "source": [
    "first_row['Channel']"
   ]
  },
  {
   "cell_type": "markdown",
   "id": "9d5c3c32-e0fe-40ae-97e4-8fb106e00552",
   "metadata": {},
   "source": [
    "    The function belllow calculates a 16% tax value on 'Shoppe.com' sales,\n",
    "    an 11% tax on 'iBay.com' sales, and a 9% tax on 'Understock.com'\n",
    "    sales. The tax for sales in any other channel is set to 0. "
   ]
  },
  {
   "cell_type": "code",
   "execution_count": 20,
   "id": "bc2a8439-1f03-4c2e-94d7-eccd3a73231f",
   "metadata": {},
   "outputs": [],
   "source": [
    "def calculate_tax(row):\n",
    "    \n",
    "    if row['Channel'] == 'Shoppe.com':\n",
    "        return row['Total'] * (16 / 100)\n",
    "        \n",
    "    elif row['Channel'] == 'iBay.com':\n",
    "        return row['Total'] * (11 / 100)\n",
    "        \n",
    "    elif row['Channel'] == 'Understock.com':\n",
    "        return row['Total'] * (9 / 100)\n",
    "        \n",
    "    else:\n",
    "        return 0"
   ]
  },
  {
   "cell_type": "code",
   "execution_count": 21,
   "id": "ad4cae1c-8fe0-4fa2-83b1-f1fde4f977a4",
   "metadata": {},
   "outputs": [
    {
     "data": {
      "text/plain": [
       "45.046400000000006"
      ]
     },
     "execution_count": 21,
     "metadata": {},
     "output_type": "execute_result"
    }
   ],
   "source": [
    "calculate_tax(first_row)      # first_row = ledger_df.iloc[0]"
   ]
  },
  {
   "cell_type": "code",
   "execution_count": 22,
   "id": "d155e5d4-5e8d-4d5f-9aa4-f9e9eee84d0b",
   "metadata": {},
   "outputs": [
    {
     "data": {
      "text/plain": [
       "0"
      ]
     },
     "execution_count": 22,
     "metadata": {},
     "output_type": "execute_result"
    }
   ],
   "source": [
    "calculate_tax(ledger_df.iloc[10])"
   ]
  },
  {
   "cell_type": "code",
   "execution_count": 23,
   "id": "a9eed46a-f98e-4687-8806-05df86895fb0",
   "metadata": {},
   "outputs": [
    {
     "data": {
      "text/plain": [
       "3.355"
      ]
     },
     "execution_count": 23,
     "metadata": {},
     "output_type": "execute_result"
    }
   ],
   "source": [
    "calculate_tax(ledger_df.iloc[100])"
   ]
  },
  {
   "cell_type": "code",
   "execution_count": 24,
   "id": "5a57c93e-0593-4fa9-97ef-2d62295578de",
   "metadata": {},
   "outputs": [
    {
     "data": {
      "text/plain": [
       "0        45.0464\n",
       "1         0.0000\n",
       "2         0.0000\n",
       "3         0.0000\n",
       "4         0.0000\n",
       "          ...   \n",
       "37703     1.2210\n",
       "37704     4.5696\n",
       "37705     0.5328\n",
       "37706    55.6160\n",
       "37707     8.6265\n",
       "Length: 37708, dtype: float64"
      ]
     },
     "execution_count": 24,
     "metadata": {},
     "output_type": "execute_result"
    }
   ],
   "source": [
    "ledger_df.apply(calculate_tax, axis='columns')"
   ]
  },
  {
   "cell_type": "markdown",
   "id": "d3b70b20-1a84-454a-bb6d-4bffccd4f77a",
   "metadata": {},
   "source": [
    "### Overthinking: Other function parameters"
   ]
  },
  {
   "cell_type": "code",
   "execution_count": 26,
   "id": "f58c9b0a-9248-4222-880a-faaccf622c78",
   "metadata": {},
   "outputs": [],
   "source": [
    "def calculate_tax(row, levels={}):\n",
    "    \n",
    "    channel = row['Channel']\n",
    "    total = row['Total']\n",
    "    tax = 0\n",
    "    \n",
    "    if channel in levels:    \n",
    "      tax = levels[channel] \n",
    "\n",
    "    return total * tax"
   ]
  },
  {
   "cell_type": "code",
   "execution_count": 27,
   "id": "9bf6e44b-dad0-4d6e-9574-71f28f6ee1d7",
   "metadata": {},
   "outputs": [
    {
     "data": {
      "text/plain": [
       "0        45.0464\n",
       "1         0.0000\n",
       "2         0.0000\n",
       "3         0.0000\n",
       "4         0.0000\n",
       "          ...   \n",
       "37703     1.2210\n",
       "37704     4.5696\n",
       "37705     0.5328\n",
       "37706    55.6160\n",
       "37707     8.6265\n",
       "Length: 37708, dtype: float64"
      ]
     },
     "execution_count": 27,
     "metadata": {},
     "output_type": "execute_result"
    }
   ],
   "source": [
    "ledger_df.apply(\n",
    "                calculate_tax, \n",
    "                levels={'Shoppe.com': (16 / 100),\n",
    "                        'iBay.com': (11 / 100),\n",
    "                        'Understock.com': (9 / 100)}, \n",
    "                axis='columns'\n",
    "                )"
   ]
  },
  {
   "cell_type": "code",
   "execution_count": 28,
   "id": "21c53f53-b9dd-4f88-b4d9-1f05ce4d28a0",
   "metadata": {},
   "outputs": [
    {
     "data": {
      "text/plain": [
       "0        45.0464\n",
       "1         0.2680\n",
       "2         3.5010\n",
       "3         4.8456\n",
       "4         4.8456\n",
       "          ...   \n",
       "37703     1.2210\n",
       "37704     4.5696\n",
       "37705     0.5328\n",
       "37706    55.6160\n",
       "37707     8.6265\n",
       "Length: 37708, dtype: float64"
      ]
     },
     "execution_count": 28,
     "metadata": {},
     "output_type": "execute_result"
    }
   ],
   "source": [
    "ledger_df.apply(\n",
    "    calculate_tax, \n",
    "    levels={\n",
    "        'Shoppe.com': (16 / 100),\n",
    "        'iBay.com': (11 / 100),\n",
    "        'Understock.com': (9 / 100),\n",
    "        'Bullseye': (6 / 100),\n",
    "        'Walcart': (4 / 100),\n",
    "    }, \n",
    "    axis='columns'\n",
    ")"
   ]
  }
 ],
 "metadata": {
  "kernelspec": {
   "display_name": "Python 3 (ipykernel)",
   "language": "python",
   "name": "python3"
  },
  "language_info": {
   "codemirror_mode": {
    "name": "ipython",
    "version": 3
   },
   "file_extension": ".py",
   "mimetype": "text/x-python",
   "name": "python",
   "nbconvert_exporter": "python",
   "pygments_lexer": "ipython3",
   "version": "3.11.7"
  }
 },
 "nbformat": 4,
 "nbformat_minor": 5
}
