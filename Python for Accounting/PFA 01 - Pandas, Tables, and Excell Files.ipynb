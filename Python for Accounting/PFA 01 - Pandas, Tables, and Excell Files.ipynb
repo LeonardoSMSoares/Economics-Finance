{
 "cells": [
  {
   "cell_type": "markdown",
   "id": "exclusive-positive",
   "metadata": {},
   "source": [
    "# Python for Accounting  01 - Working with Tables\n",
    "\n",
    "## Chapter 12 - Pandas in a nutshell\n",
    "\n",
    "### Getting started"
   ]
  },
  {
   "cell_type": "code",
   "execution_count": 1,
   "id": "virtual-reason",
   "metadata": {
    "tags": []
   },
   "outputs": [],
   "source": [
    "import pandas as pd"
   ]
  },
  {
   "cell_type": "markdown",
   "id": "aggressive-finish",
   "metadata": {},
   "source": [
    "### Reading data from spreadsheets"
   ]
  },
  {
   "cell_type": "code",
   "execution_count": 2,
   "id": "economic-number",
   "metadata": {
    "tags": []
   },
   "outputs": [
    {
     "data": {
      "text/html": [
       "<div>\n",
       "<style scoped>\n",
       "    .dataframe tbody tr th:only-of-type {\n",
       "        vertical-align: middle;\n",
       "    }\n",
       "\n",
       "    .dataframe tbody tr th {\n",
       "        vertical-align: top;\n",
       "    }\n",
       "\n",
       "    .dataframe thead th {\n",
       "        text-align: right;\n",
       "    }\n",
       "</style>\n",
       "<table border=\"1\" class=\"dataframe\">\n",
       "  <thead>\n",
       "    <tr style=\"text-align: right;\">\n",
       "      <th></th>\n",
       "      <th>InvoiceNo</th>\n",
       "      <th>Channel</th>\n",
       "      <th>Product Name</th>\n",
       "      <th>ProductID</th>\n",
       "      <th>Account</th>\n",
       "      <th>AccountNo</th>\n",
       "      <th>Date</th>\n",
       "      <th>Deadline</th>\n",
       "      <th>Currency</th>\n",
       "      <th>Unit Price</th>\n",
       "      <th>Quantity</th>\n",
       "      <th>Total</th>\n",
       "    </tr>\n",
       "  </thead>\n",
       "  <tbody>\n",
       "    <tr>\n",
       "      <th>0</th>\n",
       "      <td>1532</td>\n",
       "      <td>Shoppe.com</td>\n",
       "      <td>Cannon Water Bomb Balloons 100 Pack</td>\n",
       "      <td>T&amp;G/CAN-97509</td>\n",
       "      <td>Sales</td>\n",
       "      <td>5004</td>\n",
       "      <td>2020-01-01</td>\n",
       "      <td>11/23/19</td>\n",
       "      <td>USD</td>\n",
       "      <td>20.11</td>\n",
       "      <td>14</td>\n",
       "      <td>281.54</td>\n",
       "    </tr>\n",
       "    <tr>\n",
       "      <th>1</th>\n",
       "      <td>1533</td>\n",
       "      <td>Walcart</td>\n",
       "      <td>LEGO Ninja Turtles Stealth Shell in Pursuit 79102</td>\n",
       "      <td>T&amp;G/LEG-37777</td>\n",
       "      <td>Sales</td>\n",
       "      <td>5004</td>\n",
       "      <td>2020-01-01</td>\n",
       "      <td>06/15/20</td>\n",
       "      <td>USD</td>\n",
       "      <td>6.70</td>\n",
       "      <td>1</td>\n",
       "      <td>6.70</td>\n",
       "    </tr>\n",
       "    <tr>\n",
       "      <th>2</th>\n",
       "      <td>1534</td>\n",
       "      <td>Bullseye</td>\n",
       "      <td>NaN</td>\n",
       "      <td>T&amp;G/PET-14209</td>\n",
       "      <td>Sales</td>\n",
       "      <td>5004</td>\n",
       "      <td>2020-01-01</td>\n",
       "      <td>05/07/20</td>\n",
       "      <td>USD</td>\n",
       "      <td>11.67</td>\n",
       "      <td>5</td>\n",
       "      <td>58.35</td>\n",
       "    </tr>\n",
       "    <tr>\n",
       "      <th>3</th>\n",
       "      <td>1535</td>\n",
       "      <td>Bullseye</td>\n",
       "      <td>Transformers Age of Extinction Generations Del...</td>\n",
       "      <td>T&amp;G/TRA-20170</td>\n",
       "      <td>Sales</td>\n",
       "      <td>5004</td>\n",
       "      <td>2020-01-01</td>\n",
       "      <td>12/22/19</td>\n",
       "      <td>USD</td>\n",
       "      <td>13.46</td>\n",
       "      <td>6</td>\n",
       "      <td>80.76</td>\n",
       "    </tr>\n",
       "    <tr>\n",
       "      <th>4</th>\n",
       "      <td>1535</td>\n",
       "      <td>Bullseye</td>\n",
       "      <td>Transformers Age of Extinction Generations Del...</td>\n",
       "      <td>T&amp;G/TRA-20170</td>\n",
       "      <td>Sales</td>\n",
       "      <td>5004</td>\n",
       "      <td>2020-01-01</td>\n",
       "      <td>12/22/19</td>\n",
       "      <td>USD</td>\n",
       "      <td>13.46</td>\n",
       "      <td>6</td>\n",
       "      <td>80.76</td>\n",
       "    </tr>\n",
       "  </tbody>\n",
       "</table>\n",
       "</div>"
      ],
      "text/plain": [
       "   InvoiceNo     Channel                                       Product Name  \\\n",
       "0       1532  Shoppe.com                Cannon Water Bomb Balloons 100 Pack   \n",
       "1       1533     Walcart  LEGO Ninja Turtles Stealth Shell in Pursuit 79102   \n",
       "2       1534    Bullseye                                                NaN   \n",
       "3       1535    Bullseye  Transformers Age of Extinction Generations Del...   \n",
       "4       1535    Bullseye  Transformers Age of Extinction Generations Del...   \n",
       "\n",
       "       ProductID Account  AccountNo        Date  Deadline Currency  \\\n",
       "0  T&G/CAN-97509   Sales       5004  2020-01-01  11/23/19      USD   \n",
       "1  T&G/LEG-37777   Sales       5004  2020-01-01  06/15/20      USD   \n",
       "2  T&G/PET-14209   Sales       5004  2020-01-01  05/07/20      USD   \n",
       "3  T&G/TRA-20170   Sales       5004  2020-01-01  12/22/19      USD   \n",
       "4  T&G/TRA-20170   Sales       5004  2020-01-01  12/22/19      USD   \n",
       "\n",
       "   Unit Price  Quantity   Total  \n",
       "0       20.11        14  281.54  \n",
       "1        6.70         1    6.70  \n",
       "2       11.67         5   58.35  \n",
       "3       13.46         6   80.76  \n",
       "4       13.46         6   80.76  "
      ]
     },
     "execution_count": 2,
     "metadata": {},
     "output_type": "execute_result"
    }
   ],
   "source": [
    "# Read Dataframe 'Q1Sales.csv'\n",
    "\n",
    "url = (\"https://raw.githubusercontent.com/pythonforaccounting/workspace/refs/heads/main/P2%20-%20Working%20with%20tables/Q1Sales.csv\")\n",
    "ledger_df = pd.read_csv(url)\n",
    "\n",
    "ledger_df.head()"
   ]
  },
  {
   "cell_type": "code",
   "execution_count": 3,
   "id": "irish-meter",
   "metadata": {
    "tags": []
   },
   "outputs": [
    {
     "name": "stdout",
     "output_type": "stream",
     "text": [
      "<class 'pandas.core.frame.DataFrame'>\n",
      "RangeIndex: 37708 entries, 0 to 37707\n",
      "Data columns (total 12 columns):\n",
      " #   Column        Non-Null Count  Dtype  \n",
      "---  ------        --------------  -----  \n",
      " 0   InvoiceNo     37708 non-null  int64  \n",
      " 1   Channel       37708 non-null  object \n",
      " 2   Product Name  33142 non-null  object \n",
      " 3   ProductID     37708 non-null  object \n",
      " 4   Account       37708 non-null  object \n",
      " 5   AccountNo     37708 non-null  int64  \n",
      " 6   Date          37708 non-null  object \n",
      " 7   Deadline      37708 non-null  object \n",
      " 8   Currency      37708 non-null  object \n",
      " 9   Unit Price    37708 non-null  float64\n",
      " 10  Quantity      37708 non-null  int64  \n",
      " 11  Total         37708 non-null  float64\n",
      "dtypes: float64(2), int64(3), object(7)\n",
      "memory usage: 3.5+ MB\n"
     ]
    }
   ],
   "source": [
    "ledger_df.info()"
   ]
  },
  {
   "cell_type": "markdown",
   "id": "expected-guarantee",
   "metadata": {},
   "source": [
    "### Preparing and transforming data"
   ]
  },
  {
   "cell_type": "code",
   "execution_count": 4,
   "id": "likely-simulation",
   "metadata": {
    "tags": []
   },
   "outputs": [
    {
     "data": {
      "text/plain": [
       "0            Shoppe.com\n",
       "1               Walcart\n",
       "2              Bullseye\n",
       "3              Bullseye\n",
       "4              Bullseye\n",
       "              ...      \n",
       "37703          iBay.com\n",
       "37704        Shoppe.com\n",
       "37705        Shoppe.com\n",
       "37706        Shoppe.com\n",
       "37707    Understock.com\n",
       "Name: Channel, Length: 37708, dtype: object"
      ]
     },
     "execution_count": 4,
     "metadata": {},
     "output_type": "execute_result"
    }
   ],
   "source": [
    "# Accesses the 'Channel' column in the ledger_df DataFrame\n",
    "ledger_df['Channel']  "
   ]
  },
  {
   "cell_type": "code",
   "execution_count": 5,
   "id": "important-thong",
   "metadata": {
    "tags": []
   },
   "outputs": [
    {
     "data": {
      "text/plain": [
       "Channel\n",
       "Understock.com    13188\n",
       "Shoppe.com         8662\n",
       "iBay.com           7857\n",
       "Walcart            4574\n",
       "Bullseye           3427\n",
       "Name: count, dtype: int64"
      ]
     },
     "execution_count": 5,
     "metadata": {},
     "output_type": "execute_result"
    }
   ],
   "source": [
    "# How many times each value shows up in the 'Channel' column:\n",
    "ledger_df['Channel'].value_counts()  "
   ]
  },
  {
   "cell_type": "code",
   "execution_count": 6,
   "id": "aging-abuse",
   "metadata": {
    "tags": []
   },
   "outputs": [
    {
     "data": {
      "text/plain": [
       "4958185.359999999"
      ]
     },
     "execution_count": 6,
     "metadata": {},
     "output_type": "execute_result"
    }
   ],
   "source": [
    "# Compute the sum of the 'Total' column:\n",
    "ledger_df['Total'].sum()"
   ]
  },
  {
   "cell_type": "code",
   "execution_count": 7,
   "id": "83aac7b7-6b31-4b4c-a474-dc291955bd4e",
   "metadata": {},
   "outputs": [
    {
     "data": {
      "text/plain": [
       "0            SHOPPE\n",
       "1           WALCART\n",
       "2          BULLSEYE\n",
       "3          BULLSEYE\n",
       "4          BULLSEYE\n",
       "            ...    \n",
       "37703          IBAY\n",
       "37704        SHOPPE\n",
       "37705        SHOPPE\n",
       "37706        SHOPPE\n",
       "37707    UNDERSTOCK\n",
       "Name: Channel, Length: 37708, dtype: object"
      ]
     },
     "execution_count": 7,
     "metadata": {},
     "output_type": "execute_result"
    }
   ],
   "source": [
    "# Defines a function to process a string value\n",
    "def make_upper(value):                \n",
    "    return value.strip('.com').upper()  # Removes '.com' from the end of the string and converts to uppercase\n",
    "\n",
    "ledger_df['Channel'].apply(make_upper)  # Applies make_upper function to each entry in the 'Channel' column"
   ]
  },
  {
   "cell_type": "code",
   "execution_count": 8,
   "id": "3dd36157-58c7-4be4-b2a2-33922d81ad92",
   "metadata": {},
   "outputs": [
    {
     "data": {
      "text/html": [
       "<div>\n",
       "<style scoped>\n",
       "    .dataframe tbody tr th:only-of-type {\n",
       "        vertical-align: middle;\n",
       "    }\n",
       "\n",
       "    .dataframe tbody tr th {\n",
       "        vertical-align: top;\n",
       "    }\n",
       "\n",
       "    .dataframe thead th {\n",
       "        text-align: right;\n",
       "    }\n",
       "</style>\n",
       "<table border=\"1\" class=\"dataframe\">\n",
       "  <thead>\n",
       "    <tr style=\"text-align: right;\">\n",
       "      <th></th>\n",
       "      <th>InvoiceNo</th>\n",
       "      <th>Channel</th>\n",
       "      <th>Product Name</th>\n",
       "      <th>ProductID</th>\n",
       "      <th>Account</th>\n",
       "      <th>AccountNo</th>\n",
       "      <th>Date</th>\n",
       "      <th>Deadline</th>\n",
       "      <th>Currency</th>\n",
       "      <th>Unit Price</th>\n",
       "      <th>Quantity</th>\n",
       "      <th>Total</th>\n",
       "    </tr>\n",
       "  </thead>\n",
       "  <tbody>\n",
       "    <tr>\n",
       "      <th>0</th>\n",
       "      <td>1532</td>\n",
       "      <td>SHOPPE</td>\n",
       "      <td>Cannon Water Bomb Balloons 100 Pack</td>\n",
       "      <td>T&amp;G/CAN-97509</td>\n",
       "      <td>Sales</td>\n",
       "      <td>5004</td>\n",
       "      <td>2020-01-01</td>\n",
       "      <td>11/23/19</td>\n",
       "      <td>USD</td>\n",
       "      <td>20.11</td>\n",
       "      <td>14</td>\n",
       "      <td>281.54</td>\n",
       "    </tr>\n",
       "    <tr>\n",
       "      <th>1</th>\n",
       "      <td>1533</td>\n",
       "      <td>WALCART</td>\n",
       "      <td>LEGO Ninja Turtles Stealth Shell in Pursuit 79102</td>\n",
       "      <td>T&amp;G/LEG-37777</td>\n",
       "      <td>Sales</td>\n",
       "      <td>5004</td>\n",
       "      <td>2020-01-01</td>\n",
       "      <td>06/15/20</td>\n",
       "      <td>USD</td>\n",
       "      <td>6.70</td>\n",
       "      <td>1</td>\n",
       "      <td>6.70</td>\n",
       "    </tr>\n",
       "    <tr>\n",
       "      <th>2</th>\n",
       "      <td>1534</td>\n",
       "      <td>BULLSEYE</td>\n",
       "      <td>NaN</td>\n",
       "      <td>T&amp;G/PET-14209</td>\n",
       "      <td>Sales</td>\n",
       "      <td>5004</td>\n",
       "      <td>2020-01-01</td>\n",
       "      <td>05/07/20</td>\n",
       "      <td>USD</td>\n",
       "      <td>11.67</td>\n",
       "      <td>5</td>\n",
       "      <td>58.35</td>\n",
       "    </tr>\n",
       "    <tr>\n",
       "      <th>3</th>\n",
       "      <td>1535</td>\n",
       "      <td>BULLSEYE</td>\n",
       "      <td>Transformers Age of Extinction Generations Del...</td>\n",
       "      <td>T&amp;G/TRA-20170</td>\n",
       "      <td>Sales</td>\n",
       "      <td>5004</td>\n",
       "      <td>2020-01-01</td>\n",
       "      <td>12/22/19</td>\n",
       "      <td>USD</td>\n",
       "      <td>13.46</td>\n",
       "      <td>6</td>\n",
       "      <td>80.76</td>\n",
       "    </tr>\n",
       "    <tr>\n",
       "      <th>4</th>\n",
       "      <td>1535</td>\n",
       "      <td>BULLSEYE</td>\n",
       "      <td>Transformers Age of Extinction Generations Del...</td>\n",
       "      <td>T&amp;G/TRA-20170</td>\n",
       "      <td>Sales</td>\n",
       "      <td>5004</td>\n",
       "      <td>2020-01-01</td>\n",
       "      <td>12/22/19</td>\n",
       "      <td>USD</td>\n",
       "      <td>13.46</td>\n",
       "      <td>6</td>\n",
       "      <td>80.76</td>\n",
       "    </tr>\n",
       "  </tbody>\n",
       "</table>\n",
       "</div>"
      ],
      "text/plain": [
       "   InvoiceNo   Channel                                       Product Name  \\\n",
       "0       1532    SHOPPE                Cannon Water Bomb Balloons 100 Pack   \n",
       "1       1533   WALCART  LEGO Ninja Turtles Stealth Shell in Pursuit 79102   \n",
       "2       1534  BULLSEYE                                                NaN   \n",
       "3       1535  BULLSEYE  Transformers Age of Extinction Generations Del...   \n",
       "4       1535  BULLSEYE  Transformers Age of Extinction Generations Del...   \n",
       "\n",
       "       ProductID Account  AccountNo        Date  Deadline Currency  \\\n",
       "0  T&G/CAN-97509   Sales       5004  2020-01-01  11/23/19      USD   \n",
       "1  T&G/LEG-37777   Sales       5004  2020-01-01  06/15/20      USD   \n",
       "2  T&G/PET-14209   Sales       5004  2020-01-01  05/07/20      USD   \n",
       "3  T&G/TRA-20170   Sales       5004  2020-01-01  12/22/19      USD   \n",
       "4  T&G/TRA-20170   Sales       5004  2020-01-01  12/22/19      USD   \n",
       "\n",
       "   Unit Price  Quantity   Total  \n",
       "0       20.11        14  281.54  \n",
       "1        6.70         1    6.70  \n",
       "2       11.67         5   58.35  \n",
       "3       13.46         6   80.76  \n",
       "4       13.46         6   80.76  "
      ]
     },
     "execution_count": 8,
     "metadata": {},
     "output_type": "execute_result"
    }
   ],
   "source": [
    "ledger_df['Channel'] = ledger_df['Channel'].apply(make_upper)  # Applies make_upper function to each entry in 'Channel' and updates the column\n",
    "ledger_df.head()  # Displays the first 5 rows"
   ]
  },
  {
   "cell_type": "code",
   "execution_count": 9,
   "id": "be2d78bf-f279-4405-b404-dc37e02cdbf5",
   "metadata": {},
   "outputs": [
    {
     "data": {
      "text/html": [
       "<div>\n",
       "<style scoped>\n",
       "    .dataframe tbody tr th:only-of-type {\n",
       "        vertical-align: middle;\n",
       "    }\n",
       "\n",
       "    .dataframe tbody tr th {\n",
       "        vertical-align: top;\n",
       "    }\n",
       "\n",
       "    .dataframe thead th {\n",
       "        text-align: right;\n",
       "    }\n",
       "</style>\n",
       "<table border=\"1\" class=\"dataframe\">\n",
       "  <thead>\n",
       "    <tr style=\"text-align: right;\">\n",
       "      <th></th>\n",
       "      <th>InvoiceNo</th>\n",
       "      <th>Channel</th>\n",
       "      <th>Product Name</th>\n",
       "      <th>ProductID</th>\n",
       "      <th>Account</th>\n",
       "      <th>AccountNo</th>\n",
       "      <th>Date</th>\n",
       "      <th>Deadline</th>\n",
       "      <th>Currency</th>\n",
       "      <th>Unit Price</th>\n",
       "      <th>Quantity</th>\n",
       "      <th>Total</th>\n",
       "    </tr>\n",
       "  </thead>\n",
       "  <tbody>\n",
       "    <tr>\n",
       "      <th>1342</th>\n",
       "      <td>2874</td>\n",
       "      <td>WALCART</td>\n",
       "      <td>3 in 1 Camera Lens Kit Designed for Apple iPho...</td>\n",
       "      <td>C&amp;P/3 I-21022</td>\n",
       "      <td>Sales</td>\n",
       "      <td>5004</td>\n",
       "      <td>2020-01-03</td>\n",
       "      <td>10-24-19</td>\n",
       "      <td>USD</td>\n",
       "      <td>15.01</td>\n",
       "      <td>34</td>\n",
       "      <td>510.34</td>\n",
       "    </tr>\n",
       "    <tr>\n",
       "      <th>5812</th>\n",
       "      <td>7344</td>\n",
       "      <td>WALCART</td>\n",
       "      <td>Olympus SP-820UZ iHS Digital Camera (Silver)</td>\n",
       "      <td>C&amp;P/OLY-74471</td>\n",
       "      <td>Sales</td>\n",
       "      <td>5004</td>\n",
       "      <td>2020-01-12</td>\n",
       "      <td>10-15-19</td>\n",
       "      <td>USD</td>\n",
       "      <td>19.48</td>\n",
       "      <td>16</td>\n",
       "      <td>311.68</td>\n",
       "    </tr>\n",
       "    <tr>\n",
       "      <th>6148</th>\n",
       "      <td>7680</td>\n",
       "      <td>WALCART</td>\n",
       "      <td>Casio EXILIM Digital Camera 16MP Black EX-ZR800BK</td>\n",
       "      <td>C&amp;P/CAS-04305</td>\n",
       "      <td>Sales</td>\n",
       "      <td>5004</td>\n",
       "      <td>2020-01-13</td>\n",
       "      <td>3-13-20</td>\n",
       "      <td>USD</td>\n",
       "      <td>14.91</td>\n",
       "      <td>18</td>\n",
       "      <td>268.38</td>\n",
       "    </tr>\n",
       "    <tr>\n",
       "      <th>8358</th>\n",
       "      <td>9890</td>\n",
       "      <td>WALCART</td>\n",
       "      <td>3 in 1 Camera Lens Kit Designed for Apple iPho...</td>\n",
       "      <td>C&amp;P/3 I-21022</td>\n",
       "      <td>Sales</td>\n",
       "      <td>5004</td>\n",
       "      <td>2020-01-18</td>\n",
       "      <td>4-28-20</td>\n",
       "      <td>USD</td>\n",
       "      <td>15.01</td>\n",
       "      <td>23</td>\n",
       "      <td>345.23</td>\n",
       "    </tr>\n",
       "    <tr>\n",
       "      <th>10577</th>\n",
       "      <td>12109</td>\n",
       "      <td>WALCART</td>\n",
       "      <td>Foscam FI8910W White Wireless IP Cameras 2-pack</td>\n",
       "      <td>C&amp;P/FOS-95687</td>\n",
       "      <td>Sales</td>\n",
       "      <td>5004</td>\n",
       "      <td>2020-01-24</td>\n",
       "      <td>4-12-20</td>\n",
       "      <td>USD</td>\n",
       "      <td>23.69</td>\n",
       "      <td>40</td>\n",
       "      <td>947.60</td>\n",
       "    </tr>\n",
       "    <tr>\n",
       "      <th>11713</th>\n",
       "      <td>13245</td>\n",
       "      <td>WALCART</td>\n",
       "      <td>Foscam New Version FI8918W Pan &amp; Tilt Wireless...</td>\n",
       "      <td>C&amp;P/FOS-09318</td>\n",
       "      <td>Sales</td>\n",
       "      <td>5004</td>\n",
       "      <td>2020-01-26</td>\n",
       "      <td>7-07-20</td>\n",
       "      <td>USD</td>\n",
       "      <td>4.12</td>\n",
       "      <td>38</td>\n",
       "      <td>156.56</td>\n",
       "    </tr>\n",
       "    <tr>\n",
       "      <th>19507</th>\n",
       "      <td>21039</td>\n",
       "      <td>WALCART</td>\n",
       "      <td>Casio EXILIM Digital Camera 16MP Black EX-ZR800BK</td>\n",
       "      <td>C&amp;P/CAS-04305</td>\n",
       "      <td>Sales</td>\n",
       "      <td>5004</td>\n",
       "      <td>2020-02-12</td>\n",
       "      <td>5-06-20</td>\n",
       "      <td>USD</td>\n",
       "      <td>14.91</td>\n",
       "      <td>24</td>\n",
       "      <td>357.84</td>\n",
       "    </tr>\n",
       "    <tr>\n",
       "      <th>24830</th>\n",
       "      <td>26362</td>\n",
       "      <td>WALCART</td>\n",
       "      <td>Polaroid XS100 Extreme Edition HD 1080p 16MP W...</td>\n",
       "      <td>E/POL-61164</td>\n",
       "      <td>Sales</td>\n",
       "      <td>5004</td>\n",
       "      <td>2020-02-23</td>\n",
       "      <td>2020/03/11</td>\n",
       "      <td>USD</td>\n",
       "      <td>4.60</td>\n",
       "      <td>20</td>\n",
       "      <td>92.00</td>\n",
       "    </tr>\n",
       "    <tr>\n",
       "      <th>24866</th>\n",
       "      <td>26296</td>\n",
       "      <td>WALCART</td>\n",
       "      <td>Polaroid XS100 Extreme Edition HD 1080p 16MP W...</td>\n",
       "      <td>E/POL-61164</td>\n",
       "      <td>Sales</td>\n",
       "      <td>5004</td>\n",
       "      <td>2020-02-23</td>\n",
       "      <td>2020/03/11</td>\n",
       "      <td>USD</td>\n",
       "      <td>4.60</td>\n",
       "      <td>20</td>\n",
       "      <td>92.00</td>\n",
       "    </tr>\n",
       "    <tr>\n",
       "      <th>25449</th>\n",
       "      <td>26981</td>\n",
       "      <td>WALCART</td>\n",
       "      <td>Casio EXILIM Digital Camera 16MP Black EX-ZR800BK</td>\n",
       "      <td>C&amp;P/CAS-04305</td>\n",
       "      <td>Sales</td>\n",
       "      <td>5004</td>\n",
       "      <td>2020-02-25</td>\n",
       "      <td>12-23-19</td>\n",
       "      <td>USD</td>\n",
       "      <td>14.91</td>\n",
       "      <td>24</td>\n",
       "      <td>357.84</td>\n",
       "    </tr>\n",
       "    <tr>\n",
       "      <th>25473</th>\n",
       "      <td>26944</td>\n",
       "      <td>WALCART</td>\n",
       "      <td>Casio EXILIM Digital Camera 16MP Black EX-ZR800BK</td>\n",
       "      <td>C&amp;P/CAS-04305</td>\n",
       "      <td>Sales</td>\n",
       "      <td>5004</td>\n",
       "      <td>2020-02-25</td>\n",
       "      <td>12-23-19</td>\n",
       "      <td>USD</td>\n",
       "      <td>14.91</td>\n",
       "      <td>24</td>\n",
       "      <td>357.84</td>\n",
       "    </tr>\n",
       "    <tr>\n",
       "      <th>25569</th>\n",
       "      <td>26973</td>\n",
       "      <td>WALCART</td>\n",
       "      <td>Casio EXILIM Digital Camera 16MP Black EX-ZR800BK</td>\n",
       "      <td>C&amp;P/CAS-04305</td>\n",
       "      <td>Sales</td>\n",
       "      <td>5004</td>\n",
       "      <td>2020-02-25</td>\n",
       "      <td>12-23-19</td>\n",
       "      <td>USD</td>\n",
       "      <td>14.91</td>\n",
       "      <td>24</td>\n",
       "      <td>357.84</td>\n",
       "    </tr>\n",
       "    <tr>\n",
       "      <th>26620</th>\n",
       "      <td>28152</td>\n",
       "      <td>WALCART</td>\n",
       "      <td>3 in 1 Camera Lens Kit Designed for Apple iPho...</td>\n",
       "      <td>C&amp;P/3 I-21022</td>\n",
       "      <td>Sales</td>\n",
       "      <td>5004</td>\n",
       "      <td>2020-02-27</td>\n",
       "      <td>2-23-20</td>\n",
       "      <td>USD</td>\n",
       "      <td>15.01</td>\n",
       "      <td>26</td>\n",
       "      <td>390.26</td>\n",
       "    </tr>\n",
       "    <tr>\n",
       "      <th>27973</th>\n",
       "      <td>29505</td>\n",
       "      <td>WALCART</td>\n",
       "      <td>3 in 1 Camera Lens Kit Designed for Apple iPho...</td>\n",
       "      <td>C&amp;P/3 I-21022</td>\n",
       "      <td>Sales</td>\n",
       "      <td>5004</td>\n",
       "      <td>2020-03-01</td>\n",
       "      <td>5-03-20</td>\n",
       "      <td>USD</td>\n",
       "      <td>15.01</td>\n",
       "      <td>26</td>\n",
       "      <td>390.26</td>\n",
       "    </tr>\n",
       "    <tr>\n",
       "      <th>28124</th>\n",
       "      <td>29527</td>\n",
       "      <td>WALCART</td>\n",
       "      <td>3 in 1 Camera Lens Kit Designed for Apple iPho...</td>\n",
       "      <td>C&amp;P/3 I-21022</td>\n",
       "      <td>Sales</td>\n",
       "      <td>5004</td>\n",
       "      <td>2020-03-01</td>\n",
       "      <td>5-03-20</td>\n",
       "      <td>USD</td>\n",
       "      <td>15.01</td>\n",
       "      <td>26</td>\n",
       "      <td>390.26</td>\n",
       "    </tr>\n",
       "    <tr>\n",
       "      <th>28289</th>\n",
       "      <td>29697</td>\n",
       "      <td>WALCART</td>\n",
       "      <td>3 in 1 Camera Lens Kit Designed for Apple iPho...</td>\n",
       "      <td>C&amp;P/3 I-21022</td>\n",
       "      <td>Sales</td>\n",
       "      <td>5004</td>\n",
       "      <td>2020-03-01</td>\n",
       "      <td>5-03-20</td>\n",
       "      <td>USD</td>\n",
       "      <td>15.01</td>\n",
       "      <td>26</td>\n",
       "      <td>390.26</td>\n",
       "    </tr>\n",
       "    <tr>\n",
       "      <th>36942</th>\n",
       "      <td>38474</td>\n",
       "      <td>WALCART</td>\n",
       "      <td>Foscam FI8910W White Wireless IP Cameras 2-pack</td>\n",
       "      <td>C&amp;P/FOS-95687</td>\n",
       "      <td>Sales</td>\n",
       "      <td>5004</td>\n",
       "      <td>2020-03-28</td>\n",
       "      <td>1-20-20</td>\n",
       "      <td>USD</td>\n",
       "      <td>23.69</td>\n",
       "      <td>33</td>\n",
       "      <td>781.77</td>\n",
       "    </tr>\n",
       "    <tr>\n",
       "      <th>37022</th>\n",
       "      <td>38477</td>\n",
       "      <td>WALCART</td>\n",
       "      <td>Foscam FI8910W White Wireless IP Cameras 2-pack</td>\n",
       "      <td>C&amp;P/FOS-95687</td>\n",
       "      <td>Sales</td>\n",
       "      <td>5004</td>\n",
       "      <td>2020-03-28</td>\n",
       "      <td>1-20-20</td>\n",
       "      <td>USD</td>\n",
       "      <td>23.69</td>\n",
       "      <td>33</td>\n",
       "      <td>781.77</td>\n",
       "    </tr>\n",
       "  </tbody>\n",
       "</table>\n",
       "</div>"
      ],
      "text/plain": [
       "       InvoiceNo  Channel                                       Product Name  \\\n",
       "1342        2874  WALCART  3 in 1 Camera Lens Kit Designed for Apple iPho...   \n",
       "5812        7344  WALCART       Olympus SP-820UZ iHS Digital Camera (Silver)   \n",
       "6148        7680  WALCART  Casio EXILIM Digital Camera 16MP Black EX-ZR800BK   \n",
       "8358        9890  WALCART  3 in 1 Camera Lens Kit Designed for Apple iPho...   \n",
       "10577      12109  WALCART    Foscam FI8910W White Wireless IP Cameras 2-pack   \n",
       "11713      13245  WALCART  Foscam New Version FI8918W Pan & Tilt Wireless...   \n",
       "19507      21039  WALCART  Casio EXILIM Digital Camera 16MP Black EX-ZR800BK   \n",
       "24830      26362  WALCART  Polaroid XS100 Extreme Edition HD 1080p 16MP W...   \n",
       "24866      26296  WALCART  Polaroid XS100 Extreme Edition HD 1080p 16MP W...   \n",
       "25449      26981  WALCART  Casio EXILIM Digital Camera 16MP Black EX-ZR800BK   \n",
       "25473      26944  WALCART  Casio EXILIM Digital Camera 16MP Black EX-ZR800BK   \n",
       "25569      26973  WALCART  Casio EXILIM Digital Camera 16MP Black EX-ZR800BK   \n",
       "26620      28152  WALCART  3 in 1 Camera Lens Kit Designed for Apple iPho...   \n",
       "27973      29505  WALCART  3 in 1 Camera Lens Kit Designed for Apple iPho...   \n",
       "28124      29527  WALCART  3 in 1 Camera Lens Kit Designed for Apple iPho...   \n",
       "28289      29697  WALCART  3 in 1 Camera Lens Kit Designed for Apple iPho...   \n",
       "36942      38474  WALCART    Foscam FI8910W White Wireless IP Cameras 2-pack   \n",
       "37022      38477  WALCART    Foscam FI8910W White Wireless IP Cameras 2-pack   \n",
       "\n",
       "           ProductID Account  AccountNo        Date    Deadline Currency  \\\n",
       "1342   C&P/3 I-21022   Sales       5004  2020-01-03    10-24-19      USD   \n",
       "5812   C&P/OLY-74471   Sales       5004  2020-01-12    10-15-19      USD   \n",
       "6148   C&P/CAS-04305   Sales       5004  2020-01-13     3-13-20      USD   \n",
       "8358   C&P/3 I-21022   Sales       5004  2020-01-18     4-28-20      USD   \n",
       "10577  C&P/FOS-95687   Sales       5004  2020-01-24     4-12-20      USD   \n",
       "11713  C&P/FOS-09318   Sales       5004  2020-01-26     7-07-20      USD   \n",
       "19507  C&P/CAS-04305   Sales       5004  2020-02-12     5-06-20      USD   \n",
       "24830    E/POL-61164   Sales       5004  2020-02-23  2020/03/11      USD   \n",
       "24866    E/POL-61164   Sales       5004  2020-02-23  2020/03/11      USD   \n",
       "25449  C&P/CAS-04305   Sales       5004  2020-02-25    12-23-19      USD   \n",
       "25473  C&P/CAS-04305   Sales       5004  2020-02-25    12-23-19      USD   \n",
       "25569  C&P/CAS-04305   Sales       5004  2020-02-25    12-23-19      USD   \n",
       "26620  C&P/3 I-21022   Sales       5004  2020-02-27     2-23-20      USD   \n",
       "27973  C&P/3 I-21022   Sales       5004  2020-03-01     5-03-20      USD   \n",
       "28124  C&P/3 I-21022   Sales       5004  2020-03-01     5-03-20      USD   \n",
       "28289  C&P/3 I-21022   Sales       5004  2020-03-01     5-03-20      USD   \n",
       "36942  C&P/FOS-95687   Sales       5004  2020-03-28     1-20-20      USD   \n",
       "37022  C&P/FOS-95687   Sales       5004  2020-03-28     1-20-20      USD   \n",
       "\n",
       "       Unit Price  Quantity   Total  \n",
       "1342        15.01        34  510.34  \n",
       "5812        19.48        16  311.68  \n",
       "6148        14.91        18  268.38  \n",
       "8358        15.01        23  345.23  \n",
       "10577       23.69        40  947.60  \n",
       "11713        4.12        38  156.56  \n",
       "19507       14.91        24  357.84  \n",
       "24830        4.60        20   92.00  \n",
       "24866        4.60        20   92.00  \n",
       "25449       14.91        24  357.84  \n",
       "25473       14.91        24  357.84  \n",
       "25569       14.91        24  357.84  \n",
       "26620       15.01        26  390.26  \n",
       "27973       15.01        26  390.26  \n",
       "28124       15.01        26  390.26  \n",
       "28289       15.01        26  390.26  \n",
       "36942       23.69        33  781.77  \n",
       "37022       23.69        33  781.77  "
      ]
     },
     "execution_count": 9,
     "metadata": {},
     "output_type": "execute_result"
    }
   ],
   "source": [
    "# Filters rows in ledger_df based on multiple conditions\n",
    "ledger_df[                                                  \n",
    "    (ledger_df['Channel'] == 'WALCART') &                   # Checks if 'Channel' is 'WALCART'\n",
    "    (ledger_df['Product Name'].str.contains('Camera')) &    # Checks if 'Product Name' contains the substring 'Camera'\n",
    "    (ledger_df['Quantity'] > 10)                            # Checks if 'Quantity' is greater than 10\n",
    "]"
   ]
  },
  {
   "cell_type": "code",
   "execution_count": 10,
   "id": "d9929e70-318e-4dc9-bd10-b322af3ca15b",
   "metadata": {},
   "outputs": [
    {
     "data": {
      "text/html": [
       "<div>\n",
       "<style scoped>\n",
       "    .dataframe tbody tr th:only-of-type {\n",
       "        vertical-align: middle;\n",
       "    }\n",
       "\n",
       "    .dataframe tbody tr th {\n",
       "        vertical-align: top;\n",
       "    }\n",
       "\n",
       "    .dataframe thead th {\n",
       "        text-align: right;\n",
       "    }\n",
       "</style>\n",
       "<table border=\"1\" class=\"dataframe\">\n",
       "  <thead>\n",
       "    <tr style=\"text-align: right;\">\n",
       "      <th>Channel</th>\n",
       "      <th>BULLSEYE</th>\n",
       "      <th>IBAY</th>\n",
       "      <th>SHOPPE</th>\n",
       "      <th>UNDERSTOCK</th>\n",
       "      <th>WALCART</th>\n",
       "    </tr>\n",
       "    <tr>\n",
       "      <th>Date</th>\n",
       "      <th></th>\n",
       "      <th></th>\n",
       "      <th></th>\n",
       "      <th></th>\n",
       "      <th></th>\n",
       "    </tr>\n",
       "  </thead>\n",
       "  <tbody>\n",
       "    <tr>\n",
       "      <th>2020-01-01</th>\n",
       "      <td>9179.39</td>\n",
       "      <td>5637.54</td>\n",
       "      <td>6911.72</td>\n",
       "      <td>20707.62</td>\n",
       "      <td>13593.17</td>\n",
       "    </tr>\n",
       "    <tr>\n",
       "      <th>2020-01-02</th>\n",
       "      <td>5652.32</td>\n",
       "      <td>5959.61</td>\n",
       "      <td>17351.46</td>\n",
       "      <td>18280.59</td>\n",
       "      <td>12040.16</td>\n",
       "    </tr>\n",
       "    <tr>\n",
       "      <th>2020-01-03</th>\n",
       "      <td>6127.92</td>\n",
       "      <td>8346.60</td>\n",
       "      <td>10578.60</td>\n",
       "      <td>17191.15</td>\n",
       "      <td>9876.21</td>\n",
       "    </tr>\n",
       "    <tr>\n",
       "      <th>2020-01-04</th>\n",
       "      <td>10370.95</td>\n",
       "      <td>10168.41</td>\n",
       "      <td>6052.03</td>\n",
       "      <td>17034.69</td>\n",
       "      <td>12811.26</td>\n",
       "    </tr>\n",
       "    <tr>\n",
       "      <th>2020-01-05</th>\n",
       "      <td>4641.02</td>\n",
       "      <td>12462.30</td>\n",
       "      <td>11866.74</td>\n",
       "      <td>17074.18</td>\n",
       "      <td>8318.34</td>\n",
       "    </tr>\n",
       "    <tr>\n",
       "      <th>...</th>\n",
       "      <td>...</td>\n",
       "      <td>...</td>\n",
       "      <td>...</td>\n",
       "      <td>...</td>\n",
       "      <td>...</td>\n",
       "    </tr>\n",
       "    <tr>\n",
       "      <th>2020-03-27</th>\n",
       "      <td>503.20</td>\n",
       "      <td>7703.85</td>\n",
       "      <td>5111.76</td>\n",
       "      <td>20183.41</td>\n",
       "      <td>3026.12</td>\n",
       "    </tr>\n",
       "    <tr>\n",
       "      <th>2020-03-28</th>\n",
       "      <td>1772.25</td>\n",
       "      <td>4456.91</td>\n",
       "      <td>1392.89</td>\n",
       "      <td>8190.09</td>\n",
       "      <td>2776.78</td>\n",
       "    </tr>\n",
       "    <tr>\n",
       "      <th>2020-03-29</th>\n",
       "      <td>1142.15</td>\n",
       "      <td>6717.35</td>\n",
       "      <td>3966.57</td>\n",
       "      <td>7267.96</td>\n",
       "      <td>1195.16</td>\n",
       "    </tr>\n",
       "    <tr>\n",
       "      <th>2020-03-30</th>\n",
       "      <td>676.08</td>\n",
       "      <td>11044.34</td>\n",
       "      <td>3826.95</td>\n",
       "      <td>14712.07</td>\n",
       "      <td>1702.39</td>\n",
       "    </tr>\n",
       "    <tr>\n",
       "      <th>2020-03-31</th>\n",
       "      <td>848.51</td>\n",
       "      <td>13687.49</td>\n",
       "      <td>10372.53</td>\n",
       "      <td>12343.37</td>\n",
       "      <td>157.49</td>\n",
       "    </tr>\n",
       "  </tbody>\n",
       "</table>\n",
       "<p>91 rows × 5 columns</p>\n",
       "</div>"
      ],
      "text/plain": [
       "Channel     BULLSEYE      IBAY    SHOPPE  UNDERSTOCK   WALCART\n",
       "Date                                                          \n",
       "2020-01-01   9179.39   5637.54   6911.72    20707.62  13593.17\n",
       "2020-01-02   5652.32   5959.61  17351.46    18280.59  12040.16\n",
       "2020-01-03   6127.92   8346.60  10578.60    17191.15   9876.21\n",
       "2020-01-04  10370.95  10168.41   6052.03    17034.69  12811.26\n",
       "2020-01-05   4641.02  12462.30  11866.74    17074.18   8318.34\n",
       "...              ...       ...       ...         ...       ...\n",
       "2020-03-27    503.20   7703.85   5111.76    20183.41   3026.12\n",
       "2020-03-28   1772.25   4456.91   1392.89     8190.09   2776.78\n",
       "2020-03-29   1142.15   6717.35   3966.57     7267.96   1195.16\n",
       "2020-03-30    676.08  11044.34   3826.95    14712.07   1702.39\n",
       "2020-03-31    848.51  13687.49  10372.53    12343.37    157.49\n",
       "\n",
       "[91 rows x 5 columns]"
      ]
     },
     "execution_count": 10,
     "metadata": {},
     "output_type": "execute_result"
    }
   ],
   "source": [
    "# Creates a pivot table from ledger_df\n",
    "ledger_df.pivot_table(                   \n",
    "    index='Date',        # Sets 'Date' as the index (rows) of the pivot table\n",
    "    columns='Channel',   # Sets 'Channel' as the columns of the pivot table\n",
    "    values='Total',      # Uses 'Total' column values to populate the table\n",
    "    aggfunc='sum'        # Aggregates values by summing 'Total' for each combination of 'Date' and 'Channel'\n",
    ")"
   ]
  },
  {
   "cell_type": "code",
   "execution_count": 11,
   "id": "organic-sample",
   "metadata": {
    "tags": []
   },
   "outputs": [],
   "source": [
    "# Creates a pivot table and assigns it to daily_totals_df\n",
    "daily_totals_df = ledger_df.pivot_table(  \n",
    "    index='Date',                         # Sets 'Date' as the index (rows) of the pivot table\n",
    "    columns='Channel',                    # Sets 'Channel' as the columns of the pivot table\n",
    "    values='Total',                       # Uses 'Total' column values to populate the table\n",
    "    aggfunc='sum'                         # Aggregates values by summing 'Total' for each combination of 'Date' and 'Channel'\n",
    ")"
   ]
  },
  {
   "cell_type": "markdown",
   "id": "norman-offer",
   "metadata": {},
   "source": [
    "### Visualizing data"
   ]
  },
  {
   "cell_type": "code",
   "execution_count": 12,
   "id": "breeding-keeping",
   "metadata": {
    "tags": []
   },
   "outputs": [
    {
     "data": {
      "image/png": "[encoded data removed]",
      "text/plain": [
       "<Figure size 640x480 with 1 Axes>"
      ]
     },
     "metadata": {},
     "output_type": "display_data"
    }
   ],
   "source": [
    "daily_totals_df.plot();"
   ]
  },
  {
   "cell_type": "markdown",
   "id": "anticipated-jerusalem",
   "metadata": {},
   "source": [
    "### Writing data to a spreadsheet"
   ]
  },
  {
   "cell_type": "code",
   "execution_count": 13,
   "id": "cloudy-beads",
   "metadata": {
    "tags": []
   },
   "outputs": [],
   "source": [
    "#daily_totals_df.to_excel('DailyTotals.xlsx')"
   ]
  },
  {
   "cell_type": "markdown",
   "id": "88a24498-40bd-4290-a2dd-3096b7a1a9ee",
   "metadata": {},
   "source": [
    "## Chapter 13 - Tables, columns, and values"
   ]
  },
  {
   "cell_type": "code",
   "execution_count": 14,
   "id": "44c39bfb-8712-41ff-a197-5bb247132dd1",
   "metadata": {},
   "outputs": [
    {
     "data": {
      "text/plain": [
       "first_row       3\n",
       "second_row    -20\n",
       "third_row     121\n",
       "dtype: int64"
      ]
     },
     "execution_count": 14,
     "metadata": {},
     "output_type": "execute_result"
    }
   ],
   "source": [
    "pd.Series({'first_row': 3, 'second_row': -20, 'third_row': 121})"
   ]
  },
  {
   "cell_type": "code",
   "execution_count": 15,
   "id": "f748bce3-5c38-496c-80a5-c73f537cd9ff",
   "metadata": {},
   "outputs": [
    {
     "data": {
      "text/plain": [
       " 0     Assets\n",
       " 5    Revenue\n",
       "-3      Sales\n",
       "dtype: object"
      ]
     },
     "execution_count": 15,
     "metadata": {},
     "output_type": "execute_result"
    }
   ],
   "source": [
    "pd.Series({0: 'Assets', 5: 'Revenue', -3: 'Sales'})"
   ]
  },
  {
   "cell_type": "code",
   "execution_count": 16,
   "id": "b998b6ba-c1b0-4c14-9911-93875971ed90",
   "metadata": {},
   "outputs": [
    {
     "data": {
      "text/plain": [
       "-20"
      ]
     },
     "execution_count": 16,
     "metadata": {},
     "output_type": "execute_result"
    }
   ],
   "source": [
    "values = pd.Series({'first_row': 3, 'second_row': -20, 'third_row': 121})\n",
    "\n",
    "values['second_row']"
   ]
  },
  {
   "cell_type": "code",
   "execution_count": 17,
   "id": "ceafbb51-6948-400f-80a8-c0a125144944",
   "metadata": {},
   "outputs": [
    {
     "data": {
      "text/plain": [
       "104"
      ]
     },
     "execution_count": 17,
     "metadata": {},
     "output_type": "execute_result"
    }
   ],
   "source": [
    "values.sum()"
   ]
  },
  {
   "cell_type": "code",
   "execution_count": 18,
   "id": "5bd7a898-6fd2-4e1c-984b-29743495a85b",
   "metadata": {},
   "outputs": [
    {
     "data": {
      "text/plain": [
       "first_row       3\n",
       "second_row    -20\n",
       "third_row     121\n",
       "dtype: int64"
      ]
     },
     "execution_count": 18,
     "metadata": {},
     "output_type": "execute_result"
    }
   ],
   "source": [
    "values"
   ]
  },
  {
   "cell_type": "markdown",
   "id": "54ad3142-2397-4a57-9eb0-d3c07a451ea4",
   "metadata": {},
   "source": [
    "### Dataframe"
   ]
  },
  {
   "cell_type": "code",
   "execution_count": 19,
   "id": "1afeaedc-4686-4602-8602-f9f4f01d1872",
   "metadata": {},
   "outputs": [
    {
     "data": {
      "text/html": [
       "<div>\n",
       "<style scoped>\n",
       "    .dataframe tbody tr th:only-of-type {\n",
       "        vertical-align: middle;\n",
       "    }\n",
       "\n",
       "    .dataframe tbody tr th {\n",
       "        vertical-align: top;\n",
       "    }\n",
       "\n",
       "    .dataframe thead th {\n",
       "        text-align: right;\n",
       "    }\n",
       "</style>\n",
       "<table border=\"1\" class=\"dataframe\">\n",
       "  <thead>\n",
       "    <tr style=\"text-align: right;\">\n",
       "      <th></th>\n",
       "      <th>first_column</th>\n",
       "      <th>second_column</th>\n",
       "      <th>third_column</th>\n",
       "    </tr>\n",
       "  </thead>\n",
       "  <tbody>\n",
       "    <tr>\n",
       "      <th>first_row</th>\n",
       "      <td>3</td>\n",
       "      <td>0.23</td>\n",
       "      <td>NaN</td>\n",
       "    </tr>\n",
       "    <tr>\n",
       "      <th>second_row</th>\n",
       "      <td>-20</td>\n",
       "      <td>2.00</td>\n",
       "      <td>Assets</td>\n",
       "    </tr>\n",
       "    <tr>\n",
       "      <th>third_row</th>\n",
       "      <td>121</td>\n",
       "      <td>-3.50</td>\n",
       "      <td>NaN</td>\n",
       "    </tr>\n",
       "  </tbody>\n",
       "</table>\n",
       "</div>"
      ],
      "text/plain": [
       "            first_column  second_column third_column\n",
       "first_row              3           0.23          NaN\n",
       "second_row           -20           2.00       Assets\n",
       "third_row            121          -3.50          NaN"
      ]
     },
     "execution_count": 19,
     "metadata": {},
     "output_type": "execute_result"
    }
   ],
   "source": [
    "df = pd.DataFrame({\n",
    "    \"first_column\": pd.Series({\"first_row\": 3, \"second_row\": -20, \"third_row\": 121}),\n",
    "    \"second_column\": pd.Series({\"first_row\": 0.23, \"second_row\": 2, \"third_row\": -3.5}),\n",
    "    \"third_column\": pd.Series({\"second_row\": 'Assets'}),\n",
    "})\n",
    "\n",
    "df"
   ]
  },
  {
   "cell_type": "code",
   "execution_count": 20,
   "id": "9f55006c-9594-4c4b-b54f-c82aecb7a7f1",
   "metadata": {},
   "outputs": [
    {
     "data": {
      "text/plain": [
       "first_row       3\n",
       "second_row    -20\n",
       "third_row     121\n",
       "Name: first_column, dtype: int64"
      ]
     },
     "execution_count": 20,
     "metadata": {},
     "output_type": "execute_result"
    }
   ],
   "source": [
    "df['first_column']  # column"
   ]
  },
  {
   "cell_type": "code",
   "execution_count": 21,
   "id": "35e495af-8530-45d0-8417-fcfa5d53242b",
   "metadata": {},
   "outputs": [
    {
     "data": {
      "text/plain": [
       "-20"
      ]
     },
     "execution_count": 21,
     "metadata": {},
     "output_type": "execute_result"
    }
   ],
   "source": [
    "df['first_column']['second_row']  # column, row"
   ]
  },
  {
   "cell_type": "markdown",
   "id": "3885053b-07ea-48f7-817f-646c6b94cb6f",
   "metadata": {},
   "source": [
    "### Index and axes"
   ]
  },
  {
   "cell_type": "code",
   "execution_count": 22,
   "id": "f1e5234e-e1df-491c-844c-4972b2ab9a42",
   "metadata": {},
   "outputs": [
    {
     "data": {
      "text/plain": [
       "Index(['first_column', 'second_column', 'third_column'], dtype='object')"
      ]
     },
     "execution_count": 22,
     "metadata": {},
     "output_type": "execute_result"
    }
   ],
   "source": [
    "df.columns"
   ]
  },
  {
   "cell_type": "code",
   "execution_count": 23,
   "id": "2e8543b9-14ab-40a1-9e59-48244d84573c",
   "metadata": {},
   "outputs": [
    {
     "data": {
      "text/plain": [
       "Index(['first_row', 'second_row', 'third_row'], dtype='object')"
      ]
     },
     "execution_count": 23,
     "metadata": {},
     "output_type": "execute_result"
    }
   ],
   "source": [
    "df.index"
   ]
  },
  {
   "cell_type": "code",
   "execution_count": 24,
   "id": "b02fe352-96f7-4a84-8509-f19eee3e984d",
   "metadata": {},
   "outputs": [
    {
     "data": {
      "text/plain": [
       "'third_column'"
      ]
     },
     "execution_count": 24,
     "metadata": {},
     "output_type": "execute_result"
    }
   ],
   "source": [
    "# Accesses the third column name in the DataFrame 'df'\n",
    "df.columns[2] "
   ]
  },
  {
   "cell_type": "code",
   "execution_count": 25,
   "id": "fd3c078f-0af1-4273-a448-4815067315eb",
   "metadata": {},
   "outputs": [
    {
     "data": {
      "text/plain": [
       "'second_row'"
      ]
     },
     "execution_count": 25,
     "metadata": {},
     "output_type": "execute_result"
    }
   ],
   "source": [
    "# Accesses the second index value in the DataFrame 'df'\n",
    "df.index[1]"
   ]
  },
  {
   "cell_type": "code",
   "execution_count": 26,
   "id": "29d0bb61-0b4d-48b5-a77b-bc5059903b27",
   "metadata": {},
   "outputs": [
    {
     "data": {
      "text/html": [
       "<div>\n",
       "<style scoped>\n",
       "    .dataframe tbody tr th:only-of-type {\n",
       "        vertical-align: middle;\n",
       "    }\n",
       "\n",
       "    .dataframe tbody tr th {\n",
       "        vertical-align: top;\n",
       "    }\n",
       "\n",
       "    .dataframe thead th {\n",
       "        text-align: right;\n",
       "    }\n",
       "</style>\n",
       "<table border=\"1\" class=\"dataframe\">\n",
       "  <thead>\n",
       "    <tr style=\"text-align: right;\">\n",
       "      <th></th>\n",
       "      <th>first_column</th>\n",
       "      <th>second_column</th>\n",
       "      <th>third_column</th>\n",
       "    </tr>\n",
       "  </thead>\n",
       "  <tbody>\n",
       "    <tr>\n",
       "      <th>first_row</th>\n",
       "      <td>3</td>\n",
       "      <td>0.23</td>\n",
       "      <td>NaN</td>\n",
       "    </tr>\n",
       "    <tr>\n",
       "      <th>second_row</th>\n",
       "      <td>-20</td>\n",
       "      <td>2.00</td>\n",
       "      <td>Assets</td>\n",
       "    </tr>\n",
       "    <tr>\n",
       "      <th>third_row</th>\n",
       "      <td>121</td>\n",
       "      <td>-3.50</td>\n",
       "      <td>NaN</td>\n",
       "    </tr>\n",
       "  </tbody>\n",
       "</table>\n",
       "</div>"
      ],
      "text/plain": [
       "            first_column  second_column third_column\n",
       "first_row              3           0.23          NaN\n",
       "second_row           -20           2.00       Assets\n",
       "third_row            121          -3.50          NaN"
      ]
     },
     "execution_count": 26,
     "metadata": {},
     "output_type": "execute_result"
    }
   ],
   "source": [
    "df"
   ]
  },
  {
   "cell_type": "code",
   "execution_count": 27,
   "id": "b15d8f96-ae3c-40c6-921c-20b7dee3a51c",
   "metadata": {},
   "outputs": [
    {
     "data": {
      "text/html": [
       "<div>\n",
       "<style scoped>\n",
       "    .dataframe tbody tr th:only-of-type {\n",
       "        vertical-align: middle;\n",
       "    }\n",
       "\n",
       "    .dataframe tbody tr th {\n",
       "        vertical-align: top;\n",
       "    }\n",
       "\n",
       "    .dataframe thead th {\n",
       "        text-align: right;\n",
       "    }\n",
       "</style>\n",
       "<table border=\"1\" class=\"dataframe\">\n",
       "  <thead>\n",
       "    <tr style=\"text-align: right;\">\n",
       "      <th></th>\n",
       "      <th>first_row</th>\n",
       "      <th>second_row</th>\n",
       "      <th>third_row</th>\n",
       "    </tr>\n",
       "  </thead>\n",
       "  <tbody>\n",
       "    <tr>\n",
       "      <th>first_column</th>\n",
       "      <td>3</td>\n",
       "      <td>-20</td>\n",
       "      <td>121</td>\n",
       "    </tr>\n",
       "    <tr>\n",
       "      <th>second_column</th>\n",
       "      <td>0.23</td>\n",
       "      <td>2.0</td>\n",
       "      <td>-3.5</td>\n",
       "    </tr>\n",
       "    <tr>\n",
       "      <th>third_column</th>\n",
       "      <td>NaN</td>\n",
       "      <td>Assets</td>\n",
       "      <td>NaN</td>\n",
       "    </tr>\n",
       "  </tbody>\n",
       "</table>\n",
       "</div>"
      ],
      "text/plain": [
       "              first_row second_row third_row\n",
       "first_column          3        -20       121\n",
       "second_column      0.23        2.0      -3.5\n",
       "third_column        NaN     Assets       NaN"
      ]
     },
     "execution_count": 27,
     "metadata": {},
     "output_type": "execute_result"
    }
   ],
   "source": [
    "df.transpose()"
   ]
  },
  {
   "cell_type": "markdown",
   "id": "3fd33bb8-caab-47c2-a6d3-c5cf08b24e9f",
   "metadata": {},
   "source": [
    "### Axes"
   ]
  },
  {
   "cell_type": "code",
   "execution_count": 28,
   "id": "8b5315a9-7223-43c1-9e9a-f7cee61818cf",
   "metadata": {},
   "outputs": [
    {
     "data": {
      "text/plain": [
       "[Index(['first_row', 'second_row', 'third_row'], dtype='object'),\n",
       " Index(['first_column', 'second_column', 'third_column'], dtype='object')]"
      ]
     },
     "execution_count": 28,
     "metadata": {},
     "output_type": "execute_result"
    }
   ],
   "source": [
    "df.axes"
   ]
  },
  {
   "cell_type": "code",
   "execution_count": 29,
   "id": "698095b5-c10f-4ae2-a2bd-4ca47e3e2637",
   "metadata": {},
   "outputs": [
    {
     "data": {
      "text/plain": [
       "[Index(['first_row', 'second_row', 'third_row'], dtype='object'),\n",
       " Index(['first_column', 'second_column', 'third_column'], dtype='object')]"
      ]
     },
     "execution_count": 29,
     "metadata": {},
     "output_type": "execute_result"
    }
   ],
   "source": [
    "[df.index, df.columns]"
   ]
  },
  {
   "cell_type": "code",
   "execution_count": 30,
   "id": "18e5e7cf-b527-4bd2-9249-1426438ea6d5",
   "metadata": {},
   "outputs": [
    {
     "data": {
      "text/plain": [
       "first_column     3\n",
       "second_column    3\n",
       "third_column     1\n",
       "dtype: int64"
      ]
     },
     "execution_count": 30,
     "metadata": {},
     "output_type": "execute_result"
    }
   ],
   "source": [
    "df.count(axis='rows')"
   ]
  },
  {
   "cell_type": "code",
   "execution_count": 31,
   "id": "4dac8346-de65-4c72-9553-ad4bd2de12e2",
   "metadata": {},
   "outputs": [
    {
     "data": {
      "text/plain": [
       "first_row     2\n",
       "second_row    3\n",
       "third_row     2\n",
       "dtype: int64"
      ]
     },
     "execution_count": 31,
     "metadata": {},
     "output_type": "execute_result"
    }
   ],
   "source": [
    "df.count(axis='columns')"
   ]
  },
  {
   "cell_type": "markdown",
   "id": "ab59e2aa-03bd-4c5b-b273-3a6761266749",
   "metadata": {},
   "source": [
    "### Values and types"
   ]
  },
  {
   "cell_type": "code",
   "execution_count": 32,
   "id": "5971fb86-82fd-48d9-976e-c2d04095d180",
   "metadata": {},
   "outputs": [
    {
     "data": {
      "text/html": [
       "<div>\n",
       "<style scoped>\n",
       "    .dataframe tbody tr th:only-of-type {\n",
       "        vertical-align: middle;\n",
       "    }\n",
       "\n",
       "    .dataframe tbody tr th {\n",
       "        vertical-align: top;\n",
       "    }\n",
       "\n",
       "    .dataframe thead th {\n",
       "        text-align: right;\n",
       "    }\n",
       "</style>\n",
       "<table border=\"1\" class=\"dataframe\">\n",
       "  <thead>\n",
       "    <tr style=\"text-align: right;\">\n",
       "      <th></th>\n",
       "      <th>first_column</th>\n",
       "      <th>second_column</th>\n",
       "      <th>third_column</th>\n",
       "    </tr>\n",
       "  </thead>\n",
       "  <tbody>\n",
       "    <tr>\n",
       "      <th>first_row</th>\n",
       "      <td>3</td>\n",
       "      <td>0.23</td>\n",
       "      <td>NaN</td>\n",
       "    </tr>\n",
       "    <tr>\n",
       "      <th>second_row</th>\n",
       "      <td>-20</td>\n",
       "      <td>2.00</td>\n",
       "      <td>Assets</td>\n",
       "    </tr>\n",
       "    <tr>\n",
       "      <th>third_row</th>\n",
       "      <td>121</td>\n",
       "      <td>-3.50</td>\n",
       "      <td>NaN</td>\n",
       "    </tr>\n",
       "  </tbody>\n",
       "</table>\n",
       "</div>"
      ],
      "text/plain": [
       "            first_column  second_column third_column\n",
       "first_row              3           0.23          NaN\n",
       "second_row           -20           2.00       Assets\n",
       "third_row            121          -3.50          NaN"
      ]
     },
     "execution_count": 32,
     "metadata": {},
     "output_type": "execute_result"
    }
   ],
   "source": [
    "df"
   ]
  },
  {
   "cell_type": "code",
   "execution_count": 33,
   "id": "c0f0aaa7-8add-4313-a4b2-07d945c63b47",
   "metadata": {},
   "outputs": [
    {
     "name": "stdout",
     "output_type": "stream",
     "text": [
      "<class 'pandas.core.frame.DataFrame'>\n",
      "Index: 3 entries, first_row to third_row\n",
      "Data columns (total 3 columns):\n",
      " #   Column         Non-Null Count  Dtype  \n",
      "---  ------         --------------  -----  \n",
      " 0   first_column   3 non-null      int64  \n",
      " 1   second_column  3 non-null      float64\n",
      " 2   third_column   1 non-null      object \n",
      "dtypes: float64(1), int64(1), object(1)\n",
      "memory usage: 204.0+ bytes\n"
     ]
    }
   ],
   "source": [
    "df.info()"
   ]
  },
  {
   "cell_type": "code",
   "execution_count": 34,
   "id": "01ce1f10-35a6-4197-8365-c6e114c80e36",
   "metadata": {},
   "outputs": [
    {
     "data": {
      "text/plain": [
       "104"
      ]
     },
     "execution_count": 34,
     "metadata": {},
     "output_type": "execute_result"
    }
   ],
   "source": [
    "df['first_column'].sum()"
   ]
  },
  {
   "cell_type": "markdown",
   "id": "53e2d1be-553b-42c5-ba67-31e081b6c981",
   "metadata": {},
   "source": [
    "## Chapter 14 - Reading and writing Excel files\n",
    "\n",
    "### Reading Excel files"
   ]
  },
  {
   "cell_type": "markdown",
   "id": "c9d2c209-9c73-425c-a39e-2792a785cfbd",
   "metadata": {},
   "source": [
    "```Python\n",
    "\n",
    "ledger_df = pd.read_excel('Q1Sales.xlsx')\n",
    "```"
   ]
  },
  {
   "cell_type": "code",
   "execution_count": 35,
   "id": "7f5d672a-4119-4a56-9004-08a95379678a",
   "metadata": {},
   "outputs": [
    {
     "data": {
      "text/html": [
       "<div>\n",
       "<style scoped>\n",
       "    .dataframe tbody tr th:only-of-type {\n",
       "        vertical-align: middle;\n",
       "    }\n",
       "\n",
       "    .dataframe tbody tr th {\n",
       "        vertical-align: top;\n",
       "    }\n",
       "\n",
       "    .dataframe thead th {\n",
       "        text-align: right;\n",
       "    }\n",
       "</style>\n",
       "<table border=\"1\" class=\"dataframe\">\n",
       "  <thead>\n",
       "    <tr style=\"text-align: right;\">\n",
       "      <th></th>\n",
       "      <th>InvoiceNo</th>\n",
       "      <th>Channel</th>\n",
       "      <th>Product Name</th>\n",
       "      <th>ProductID</th>\n",
       "      <th>Account</th>\n",
       "      <th>AccountNo</th>\n",
       "      <th>Date</th>\n",
       "      <th>Deadline</th>\n",
       "      <th>Currency</th>\n",
       "      <th>Unit Price</th>\n",
       "      <th>Quantity</th>\n",
       "      <th>Total</th>\n",
       "    </tr>\n",
       "  </thead>\n",
       "  <tbody>\n",
       "    <tr>\n",
       "      <th>0</th>\n",
       "      <td>1532</td>\n",
       "      <td>SHOPPE</td>\n",
       "      <td>Cannon Water Bomb Balloons 100 Pack</td>\n",
       "      <td>T&amp;G/CAN-97509</td>\n",
       "      <td>Sales</td>\n",
       "      <td>5004</td>\n",
       "      <td>2020-01-01</td>\n",
       "      <td>11/23/19</td>\n",
       "      <td>USD</td>\n",
       "      <td>20.11</td>\n",
       "      <td>14</td>\n",
       "      <td>281.54</td>\n",
       "    </tr>\n",
       "    <tr>\n",
       "      <th>1</th>\n",
       "      <td>1533</td>\n",
       "      <td>WALCART</td>\n",
       "      <td>LEGO Ninja Turtles Stealth Shell in Pursuit 79102</td>\n",
       "      <td>T&amp;G/LEG-37777</td>\n",
       "      <td>Sales</td>\n",
       "      <td>5004</td>\n",
       "      <td>2020-01-01</td>\n",
       "      <td>06/15/20</td>\n",
       "      <td>USD</td>\n",
       "      <td>6.70</td>\n",
       "      <td>1</td>\n",
       "      <td>6.70</td>\n",
       "    </tr>\n",
       "    <tr>\n",
       "      <th>2</th>\n",
       "      <td>1534</td>\n",
       "      <td>BULLSEYE</td>\n",
       "      <td>NaN</td>\n",
       "      <td>T&amp;G/PET-14209</td>\n",
       "      <td>Sales</td>\n",
       "      <td>5004</td>\n",
       "      <td>2020-01-01</td>\n",
       "      <td>05/07/20</td>\n",
       "      <td>USD</td>\n",
       "      <td>11.67</td>\n",
       "      <td>5</td>\n",
       "      <td>58.35</td>\n",
       "    </tr>\n",
       "    <tr>\n",
       "      <th>3</th>\n",
       "      <td>1535</td>\n",
       "      <td>BULLSEYE</td>\n",
       "      <td>Transformers Age of Extinction Generations Del...</td>\n",
       "      <td>T&amp;G/TRA-20170</td>\n",
       "      <td>Sales</td>\n",
       "      <td>5004</td>\n",
       "      <td>2020-01-01</td>\n",
       "      <td>12/22/19</td>\n",
       "      <td>USD</td>\n",
       "      <td>13.46</td>\n",
       "      <td>6</td>\n",
       "      <td>80.76</td>\n",
       "    </tr>\n",
       "    <tr>\n",
       "      <th>4</th>\n",
       "      <td>1535</td>\n",
       "      <td>BULLSEYE</td>\n",
       "      <td>Transformers Age of Extinction Generations Del...</td>\n",
       "      <td>T&amp;G/TRA-20170</td>\n",
       "      <td>Sales</td>\n",
       "      <td>5004</td>\n",
       "      <td>2020-01-01</td>\n",
       "      <td>12/22/19</td>\n",
       "      <td>USD</td>\n",
       "      <td>13.46</td>\n",
       "      <td>6</td>\n",
       "      <td>80.76</td>\n",
       "    </tr>\n",
       "  </tbody>\n",
       "</table>\n",
       "</div>"
      ],
      "text/plain": [
       "   InvoiceNo   Channel                                       Product Name  \\\n",
       "0       1532    SHOPPE                Cannon Water Bomb Balloons 100 Pack   \n",
       "1       1533   WALCART  LEGO Ninja Turtles Stealth Shell in Pursuit 79102   \n",
       "2       1534  BULLSEYE                                                NaN   \n",
       "3       1535  BULLSEYE  Transformers Age of Extinction Generations Del...   \n",
       "4       1535  BULLSEYE  Transformers Age of Extinction Generations Del...   \n",
       "\n",
       "       ProductID Account  AccountNo        Date  Deadline Currency  \\\n",
       "0  T&G/CAN-97509   Sales       5004  2020-01-01  11/23/19      USD   \n",
       "1  T&G/LEG-37777   Sales       5004  2020-01-01  06/15/20      USD   \n",
       "2  T&G/PET-14209   Sales       5004  2020-01-01  05/07/20      USD   \n",
       "3  T&G/TRA-20170   Sales       5004  2020-01-01  12/22/19      USD   \n",
       "4  T&G/TRA-20170   Sales       5004  2020-01-01  12/22/19      USD   \n",
       "\n",
       "   Unit Price  Quantity   Total  \n",
       "0       20.11        14  281.54  \n",
       "1        6.70         1    6.70  \n",
       "2       11.67         5   58.35  \n",
       "3       13.46         6   80.76  \n",
       "4       13.46         6   80.76  "
      ]
     },
     "execution_count": 35,
     "metadata": {},
     "output_type": "execute_result"
    }
   ],
   "source": [
    "ledger_df.head()"
   ]
  },
  {
   "cell_type": "markdown",
   "id": "750ef498-f709-468b-b00c-6c630ec28547",
   "metadata": {},
   "source": [
    "By default, 'read_excel' reads data only from the first sheet of an\n",
    "Excel file. If you want to read data from any other sheet in the\n",
    "file, you can pass the name of the sheet you want to read as the\n",
    "'sheet_name' argument to read_excel:"
   ]
  },
  {
   "cell_type": "markdown",
   "id": "67c18226-099b-4734-a8e1-71add8d517ad",
   "metadata": {},
   "source": [
    "```Python\n",
    "feb_ledger_df = pd.read_excel('Q1Sales.xlsx', sheet_name='February')\n",
    "mar_ledger_df = pd.read_excel('Q1Sales.xlsx', sheet_name='March')\n",
    "```"
   ]
  },
  {
   "cell_type": "markdown",
   "id": "4720bfca-f317-41da-847b-9975fdd8cabe",
   "metadata": {},
   "source": [
    "You won’t always remember the actual sheet names in your Excel\n",
    "files, but you might remember their position in the file. In that case,\n",
    "you can specify their position instead of their names in the value\n",
    "you pass to sheet_name:"
   ]
  },
  {
   "cell_type": "markdown",
   "id": "d13f9c63-0b53-4d1c-9b72-2cee4287f85b",
   "metadata": {},
   "source": [
    "```Python\n",
    "ledger_df = pd.read_excel('Q1Sales.xlsx', sheet_name=0)\n",
    "```"
   ]
  },
  {
   "cell_type": "markdown",
   "id": "a5c70fc3-b6a6-42c7-b02b-2f03dc430a78",
   "metadata": {},
   "source": [
    "### Writing Excel files"
   ]
  },
  {
   "cell_type": "code",
   "execution_count": 36,
   "id": "e68b9f4a-7bf2-4397-a330-31fab36d2dac",
   "metadata": {},
   "outputs": [],
   "source": [
    "# Exports the ledger_df DataFrame to an Excel file named 'JanQ1Sales.xlsx'\n",
    "ledger_df.to_excel('JanQ1Sales.xlsx')"
   ]
  },
  {
   "cell_type": "code",
   "execution_count": 37,
   "id": "3bd273e9-3b3b-4240-9a00-d6a67ee8b6b0",
   "metadata": {},
   "outputs": [],
   "source": [
    "# Exports ledger_df to an Excel file named 'FevQ1Sales.xlsx' with the sheet named 'Sales'\n",
    "ledger_df.to_excel('FevQ1Sales.xlsx', sheet_name='Sales')"
   ]
  }
 ],
 "metadata": {
  "jupytext": {
   "formats": "ipynb"
  },
  "kernelspec": {
   "display_name": "Python 3 (ipykernel)",
   "language": "python",
   "name": "python3"
  },
  "language_info": {
   "codemirror_mode": {
    "name": "ipython",
    "version": 3
   },
   "file_extension": ".py",
   "mimetype": "text/x-python",
   "name": "python",
   "nbconvert_exporter": "python",
   "pygments_lexer": "ipython3",
   "version": "3.11.7"
  }
 },
 "nbformat": 4,
 "nbformat_minor": 5
}
