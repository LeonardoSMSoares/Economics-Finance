{
 "cells": [
  {
   "cell_type": "markdown",
   "id": "03afc863-8999-4935-864e-6b698dab1d46",
   "metadata": {},
   "source": [
    "# Chapter 18 - Summarizing Data"
   ]
  },
  {
   "cell_type": "code",
   "execution_count": 2,
   "id": "4a059738-9ca2-4dc2-953d-c7dcf349bbc2",
   "metadata": {},
   "outputs": [],
   "source": [
    "import pandas as pd"
   ]
  },
  {
   "cell_type": "code",
   "execution_count": 3,
   "id": "81c0b841-c031-490d-be3b-7e18c36942cb",
   "metadata": {},
   "outputs": [
    {
     "data": {
      "text/html": [
       "<div>\n",
       "<style scoped>\n",
       "    .dataframe tbody tr th:only-of-type {\n",
       "        vertical-align: middle;\n",
       "    }\n",
       "\n",
       "    .dataframe tbody tr th {\n",
       "        vertical-align: top;\n",
       "    }\n",
       "\n",
       "    .dataframe thead th {\n",
       "        text-align: right;\n",
       "    }\n",
       "</style>\n",
       "<table border=\"1\" class=\"dataframe\">\n",
       "  <thead>\n",
       "    <tr style=\"text-align: right;\">\n",
       "      <th></th>\n",
       "      <th>InvoiceNo</th>\n",
       "      <th>Channel</th>\n",
       "      <th>Product Name</th>\n",
       "      <th>ProductID</th>\n",
       "      <th>Account</th>\n",
       "      <th>AccountNo</th>\n",
       "      <th>Date</th>\n",
       "      <th>Deadline</th>\n",
       "      <th>Currency</th>\n",
       "      <th>Unit Price</th>\n",
       "      <th>Quantity</th>\n",
       "      <th>Total</th>\n",
       "    </tr>\n",
       "  </thead>\n",
       "  <tbody>\n",
       "    <tr>\n",
       "      <th>0</th>\n",
       "      <td>1532</td>\n",
       "      <td>Shoppe.com</td>\n",
       "      <td>Cannon Water Bomb Balloons 100 Pack</td>\n",
       "      <td>T&amp;G/CAN-97509</td>\n",
       "      <td>Sales</td>\n",
       "      <td>5004</td>\n",
       "      <td>2020-01-01</td>\n",
       "      <td>11/23/19</td>\n",
       "      <td>USD</td>\n",
       "      <td>20.11</td>\n",
       "      <td>14</td>\n",
       "      <td>281.54</td>\n",
       "    </tr>\n",
       "    <tr>\n",
       "      <th>1</th>\n",
       "      <td>1533</td>\n",
       "      <td>Walcart</td>\n",
       "      <td>LEGO Ninja Turtles Stealth Shell in Pursuit 79102</td>\n",
       "      <td>T&amp;G/LEG-37777</td>\n",
       "      <td>Sales</td>\n",
       "      <td>5004</td>\n",
       "      <td>2020-01-01</td>\n",
       "      <td>06/15/20</td>\n",
       "      <td>USD</td>\n",
       "      <td>6.70</td>\n",
       "      <td>1</td>\n",
       "      <td>6.70</td>\n",
       "    </tr>\n",
       "    <tr>\n",
       "      <th>2</th>\n",
       "      <td>1534</td>\n",
       "      <td>Bullseye</td>\n",
       "      <td>NaN</td>\n",
       "      <td>T&amp;G/PET-14209</td>\n",
       "      <td>Sales</td>\n",
       "      <td>5004</td>\n",
       "      <td>2020-01-01</td>\n",
       "      <td>05/07/20</td>\n",
       "      <td>USD</td>\n",
       "      <td>11.67</td>\n",
       "      <td>5</td>\n",
       "      <td>58.35</td>\n",
       "    </tr>\n",
       "    <tr>\n",
       "      <th>3</th>\n",
       "      <td>1535</td>\n",
       "      <td>Bullseye</td>\n",
       "      <td>Transformers Age of Extinction Generations Del...</td>\n",
       "      <td>T&amp;G/TRA-20170</td>\n",
       "      <td>Sales</td>\n",
       "      <td>5004</td>\n",
       "      <td>2020-01-01</td>\n",
       "      <td>12/22/19</td>\n",
       "      <td>USD</td>\n",
       "      <td>13.46</td>\n",
       "      <td>6</td>\n",
       "      <td>80.76</td>\n",
       "    </tr>\n",
       "    <tr>\n",
       "      <th>4</th>\n",
       "      <td>1535</td>\n",
       "      <td>Bullseye</td>\n",
       "      <td>Transformers Age of Extinction Generations Del...</td>\n",
       "      <td>T&amp;G/TRA-20170</td>\n",
       "      <td>Sales</td>\n",
       "      <td>5004</td>\n",
       "      <td>2020-01-01</td>\n",
       "      <td>12/22/19</td>\n",
       "      <td>USD</td>\n",
       "      <td>13.46</td>\n",
       "      <td>6</td>\n",
       "      <td>80.76</td>\n",
       "    </tr>\n",
       "  </tbody>\n",
       "</table>\n",
       "</div>"
      ],
      "text/plain": [
       "   InvoiceNo     Channel                                       Product Name  \\\n",
       "0       1532  Shoppe.com                Cannon Water Bomb Balloons 100 Pack   \n",
       "1       1533     Walcart  LEGO Ninja Turtles Stealth Shell in Pursuit 79102   \n",
       "2       1534    Bullseye                                                NaN   \n",
       "3       1535    Bullseye  Transformers Age of Extinction Generations Del...   \n",
       "4       1535    Bullseye  Transformers Age of Extinction Generations Del...   \n",
       "\n",
       "       ProductID Account  AccountNo        Date  Deadline Currency  \\\n",
       "0  T&G/CAN-97509   Sales       5004  2020-01-01  11/23/19      USD   \n",
       "1  T&G/LEG-37777   Sales       5004  2020-01-01  06/15/20      USD   \n",
       "2  T&G/PET-14209   Sales       5004  2020-01-01  05/07/20      USD   \n",
       "3  T&G/TRA-20170   Sales       5004  2020-01-01  12/22/19      USD   \n",
       "4  T&G/TRA-20170   Sales       5004  2020-01-01  12/22/19      USD   \n",
       "\n",
       "   Unit Price  Quantity   Total  \n",
       "0       20.11        14  281.54  \n",
       "1        6.70         1    6.70  \n",
       "2       11.67         5   58.35  \n",
       "3       13.46         6   80.76  \n",
       "4       13.46         6   80.76  "
      ]
     },
     "execution_count": 3,
     "metadata": {},
     "output_type": "execute_result"
    }
   ],
   "source": [
    "# Read Dataframe 'Q1Sales.csv'\n",
    "\n",
    "url = (\"https://raw.githubusercontent.com/pythonforaccounting/workspace/refs/heads/main/P2%20-%20Working%20with%20tables/Q1Sales.csv\")\n",
    "ledger_df = pd.read_csv(url)\n",
    "\n",
    "ledger_df.head()"
   ]
  },
  {
   "cell_type": "markdown",
   "id": "73c5ce95-548f-4800-b1dd-79ea0b077564",
   "metadata": {},
   "source": [
    "### Counting unique values"
   ]
  },
  {
   "cell_type": "code",
   "execution_count": 5,
   "id": "4e4fed9c-75f2-4864-ba56-e0c74c644c29",
   "metadata": {},
   "outputs": [
    {
     "data": {
      "text/plain": [
       "InvoiceNo       27679\n",
       "Channel             5\n",
       "Product Name     2447\n",
       "ProductID        2500\n",
       "Account             1\n",
       "AccountNo           1\n",
       "Date               91\n",
       "Deadline         1713\n",
       "Currency            1\n",
       "Unit Price       3016\n",
       "Quantity          154\n",
       "Total            8211\n",
       "dtype: int64"
      ]
     },
     "execution_count": 5,
     "metadata": {},
     "output_type": "execute_result"
    }
   ],
   "source": [
    "ledger_df.nunique()"
   ]
  },
  {
   "cell_type": "code",
   "execution_count": 6,
   "id": "4ce03d2e-c6b6-4de0-a9dd-0684afeb7e92",
   "metadata": {},
   "outputs": [
    {
     "data": {
      "text/plain": [
       "5"
      ]
     },
     "execution_count": 6,
     "metadata": {},
     "output_type": "execute_result"
    }
   ],
   "source": [
    "ledger_df['Channel'].nunique()"
   ]
  },
  {
   "cell_type": "code",
   "execution_count": 7,
   "id": "b55831ea-b373-4fca-b9be-31dacdf787dc",
   "metadata": {},
   "outputs": [
    {
     "data": {
      "text/plain": [
       "array(['Shoppe.com', 'Walcart', 'Bullseye', 'Understock.com', 'iBay.com'],\n",
       "      dtype=object)"
      ]
     },
     "execution_count": 7,
     "metadata": {},
     "output_type": "execute_result"
    }
   ],
   "source": [
    "ledger_df['Channel'].unique()"
   ]
  },
  {
   "cell_type": "code",
   "execution_count": 8,
   "id": "609cefcf-3649-4163-870b-32dac38b6b1b",
   "metadata": {},
   "outputs": [
    {
     "data": {
      "text/plain": [
       "True"
      ]
     },
     "execution_count": 8,
     "metadata": {},
     "output_type": "execute_result"
    }
   ],
   "source": [
    "'Walcart' in ledger_df['Channel'].unique()"
   ]
  },
  {
   "cell_type": "code",
   "execution_count": 9,
   "id": "9be85c58-9904-4a8f-9c6f-77d4a4f63d76",
   "metadata": {},
   "outputs": [
    {
     "data": {
      "text/plain": [
       "False"
      ]
     },
     "execution_count": 9,
     "metadata": {},
     "output_type": "execute_result"
    }
   ],
   "source": [
    "'Anazon.com' in ledger_df['Channel'].unique()"
   ]
  },
  {
   "cell_type": "code",
   "execution_count": 10,
   "id": "77cd502a-fb0d-4917-997b-03a3f6342c65",
   "metadata": {},
   "outputs": [
    {
     "data": {
      "text/plain": [
       "Channel\n",
       "Understock.com    13188\n",
       "Shoppe.com         8662\n",
       "iBay.com           7857\n",
       "Walcart            4574\n",
       "Bullseye           3427\n",
       "Name: count, dtype: int64"
      ]
     },
     "execution_count": 10,
     "metadata": {},
     "output_type": "execute_result"
    }
   ],
   "source": [
    "ledger_df['Channel'].value_counts()"
   ]
  },
  {
   "cell_type": "code",
   "execution_count": 11,
   "id": "6f5de574-77ca-48a3-92e0-c5aceef268fa",
   "metadata": {},
   "outputs": [
    {
     "data": {
      "text/plain": [
       "4574"
      ]
     },
     "execution_count": 11,
     "metadata": {},
     "output_type": "execute_result"
    }
   ],
   "source": [
    "ledger_df['Channel'].value_counts().loc['Walcart']"
   ]
  },
  {
   "cell_type": "code",
   "execution_count": 12,
   "id": "2db8b9dc-43dd-412c-8722-c6bc43d17af7",
   "metadata": {},
   "outputs": [
    {
     "data": {
      "text/plain": [
       "Channel\n",
       "Understock.com    0.349740\n",
       "Shoppe.com        0.229713\n",
       "iBay.com          0.208364\n",
       "Walcart           0.121301\n",
       "Bullseye          0.090883\n",
       "Name: proportion, dtype: float64"
      ]
     },
     "execution_count": 12,
     "metadata": {},
     "output_type": "execute_result"
    }
   ],
   "source": [
    "ledger_df['Channel'].value_counts(normalize=True)"
   ]
  },
  {
   "cell_type": "code",
   "execution_count": 13,
   "id": "9b35287c-cf6f-4d5d-bd6b-8cb4ad3cba99",
   "metadata": {},
   "outputs": [
    {
     "data": {
      "text/plain": [
       "Channel\n",
       "Understock.com    34.974011\n",
       "Shoppe.com        22.971253\n",
       "iBay.com          20.836427\n",
       "Walcart           12.130052\n",
       "Bullseye           9.088257\n",
       "Name: proportion, dtype: float64"
      ]
     },
     "execution_count": 13,
     "metadata": {},
     "output_type": "execute_result"
    }
   ],
   "source": [
    "ledger_df['Channel'].value_counts(normalize=True) * 100"
   ]
  },
  {
   "cell_type": "code",
   "execution_count": 14,
   "id": "111791d1-4cc2-4c6b-9382-31e91b47db8a",
   "metadata": {},
   "outputs": [
    {
     "data": {
      "text/plain": [
       "Channel         ProductID     \n",
       "Understock.com  I&S/SIN-63159     33\n",
       "                MI/LAN-23501      30\n",
       "                CP&A/MOT-43348    30\n",
       "                MI/RHY-18993      28\n",
       "                K&D/3 C-07383     28\n",
       "                                  ..\n",
       "Shoppe.com      H&K/SE-14138       1\n",
       "                H&K/SUP-50214      1\n",
       "Walcart         T&G/MAG-32543      1\n",
       "Shoppe.com      H&K/WAL-83087      1\n",
       "                H&PC/NEW-57234     1\n",
       "Name: count, Length: 7411, dtype: int64"
      ]
     },
     "execution_count": 14,
     "metadata": {},
     "output_type": "execute_result"
    }
   ],
   "source": [
    "# Count the occurrences of unique combinations of 'Channel' and 'ProductID' columns\n",
    "ledger_df[['Channel', 'ProductID']].value_counts()  "
   ]
  },
  {
   "cell_type": "markdown",
   "id": "1185ef28-2cb9-4e81-bb76-051dcd5ed023",
   "metadata": {},
   "source": [
    "### Averages and numerical summaries"
   ]
  },
  {
   "cell_type": "code",
   "execution_count": 16,
   "id": "fc4dd5a2-c0ac-454b-91cd-04f5450733f0",
   "metadata": {},
   "outputs": [
    {
     "data": {
      "text/plain": [
       "11.214914606979951"
      ]
     },
     "execution_count": 16,
     "metadata": {},
     "output_type": "execute_result"
    }
   ],
   "source": [
    "ledger_df['Quantity'].mean()"
   ]
  },
  {
   "cell_type": "code",
   "execution_count": 17,
   "id": "5c526eaa-5fa4-4905-b350-b3bd0965ecdd",
   "metadata": {},
   "outputs": [
    {
     "data": {
      "text/plain": [
       "Unit Price     12.897425\n",
       "Quantity       11.214915\n",
       "Total         131.488951\n",
       "dtype: float64"
      ]
     },
     "execution_count": 17,
     "metadata": {},
     "output_type": "execute_result"
    }
   ],
   "source": [
    "ledger_df[['Unit Price', 'Quantity', 'Total']].mean()"
   ]
  },
  {
   "cell_type": "code",
   "execution_count": 18,
   "id": "77b03e71-401b-46d2-bea6-789d1715295c",
   "metadata": {},
   "outputs": [
    {
     "data": {
      "text/plain": [
       "167.07"
      ]
     },
     "execution_count": 18,
     "metadata": {},
     "output_type": "execute_result"
    }
   ],
   "source": [
    "ledger_df['Unit Price'].max()"
   ]
  },
  {
   "cell_type": "code",
   "execution_count": 19,
   "id": "224a0f36-905c-4f8e-8f3e-d0d4eed66a12",
   "metadata": {},
   "outputs": [
    {
     "data": {
      "text/plain": [
       "16817"
      ]
     },
     "execution_count": 19,
     "metadata": {},
     "output_type": "execute_result"
    }
   ],
   "source": [
    "ledger_df['Unit Price'].idxmax()"
   ]
  },
  {
   "cell_type": "code",
   "execution_count": 20,
   "id": "2c792de8-f210-492b-9398-c4c58df64b26",
   "metadata": {},
   "outputs": [
    {
     "data": {
      "text/plain": [
       "167.07"
      ]
     },
     "execution_count": 20,
     "metadata": {},
     "output_type": "execute_result"
    }
   ],
   "source": [
    "# Access the value of 'Unit Price' at row 16817 using the loc method\n",
    "ledger_df.loc[16817, 'Unit Price']  "
   ]
  },
  {
   "cell_type": "code",
   "execution_count": 21,
   "id": "25aeb76c-2f1e-41f7-bda1-8a683a6e322c",
   "metadata": {},
   "outputs": [
    {
     "data": {
      "text/plain": [
       "InvoiceNo                                                   18349\n",
       "Channel                                                Shoppe.com\n",
       "Product Name    Kodak EasyShare Z990 12 MP Digital Camera with...\n",
       "ProductID                                           C&P/KOD-32137\n",
       "Account                                                     Sales\n",
       "AccountNo                                                    5004\n",
       "Date                                                   2020-02-07\n",
       "Deadline                                                 11-10-19\n",
       "Currency                                                      USD\n",
       "Unit Price                                                 167.07\n",
       "Quantity                                                        3\n",
       "Total                                                      501.21\n",
       "Name: 16817, dtype: object"
      ]
     },
     "execution_count": 21,
     "metadata": {},
     "output_type": "execute_result"
    }
   ],
   "source": [
    "ledger_df.loc[16817] "
   ]
  },
  {
   "cell_type": "code",
   "execution_count": 22,
   "id": "e0ca2673-8eb4-4709-8b1c-22ebdc5fdab3",
   "metadata": {},
   "outputs": [
    {
     "data": {
      "text/html": [
       "<div>\n",
       "<style scoped>\n",
       "    .dataframe tbody tr th:only-of-type {\n",
       "        vertical-align: middle;\n",
       "    }\n",
       "\n",
       "    .dataframe tbody tr th {\n",
       "        vertical-align: top;\n",
       "    }\n",
       "\n",
       "    .dataframe thead th {\n",
       "        text-align: right;\n",
       "    }\n",
       "</style>\n",
       "<table border=\"1\" class=\"dataframe\">\n",
       "  <thead>\n",
       "    <tr style=\"text-align: right;\">\n",
       "      <th></th>\n",
       "      <th>InvoiceNo</th>\n",
       "      <th>AccountNo</th>\n",
       "      <th>Unit Price</th>\n",
       "      <th>Quantity</th>\n",
       "      <th>Total</th>\n",
       "    </tr>\n",
       "  </thead>\n",
       "  <tbody>\n",
       "    <tr>\n",
       "      <th>count</th>\n",
       "      <td>37708.000000</td>\n",
       "      <td>37708.0</td>\n",
       "      <td>37708.000000</td>\n",
       "      <td>37708.000000</td>\n",
       "      <td>37708.000000</td>\n",
       "    </tr>\n",
       "    <tr>\n",
       "      <th>mean</th>\n",
       "      <td>20339.888644</td>\n",
       "      <td>5004.0</td>\n",
       "      <td>12.897425</td>\n",
       "      <td>11.214915</td>\n",
       "      <td>131.488951</td>\n",
       "    </tr>\n",
       "    <tr>\n",
       "      <th>std</th>\n",
       "      <td>10889.915754</td>\n",
       "      <td>0.0</td>\n",
       "      <td>10.809160</td>\n",
       "      <td>18.090538</td>\n",
       "      <td>254.170556</td>\n",
       "    </tr>\n",
       "    <tr>\n",
       "      <th>min</th>\n",
       "      <td>1532.000000</td>\n",
       "      <td>5004.0</td>\n",
       "      <td>0.060000</td>\n",
       "      <td>1.000000</td>\n",
       "      <td>0.480000</td>\n",
       "    </tr>\n",
       "    <tr>\n",
       "      <th>25%</th>\n",
       "      <td>10930.000000</td>\n",
       "      <td>5004.0</td>\n",
       "      <td>5.550000</td>\n",
       "      <td>2.000000</td>\n",
       "      <td>18.900000</td>\n",
       "    </tr>\n",
       "    <tr>\n",
       "      <th>50%</th>\n",
       "      <td>20308.500000</td>\n",
       "      <td>5004.0</td>\n",
       "      <td>10.290000</td>\n",
       "      <td>6.000000</td>\n",
       "      <td>46.735000</td>\n",
       "    </tr>\n",
       "    <tr>\n",
       "      <th>75%</th>\n",
       "      <td>29750.250000</td>\n",
       "      <td>5004.0</td>\n",
       "      <td>17.020000</td>\n",
       "      <td>12.000000</td>\n",
       "      <td>129.140000</td>\n",
       "    </tr>\n",
       "    <tr>\n",
       "      <th>max</th>\n",
       "      <td>39239.000000</td>\n",
       "      <td>5004.0</td>\n",
       "      <td>167.070000</td>\n",
       "      <td>226.000000</td>\n",
       "      <td>4362.200000</td>\n",
       "    </tr>\n",
       "  </tbody>\n",
       "</table>\n",
       "</div>"
      ],
      "text/plain": [
       "          InvoiceNo  AccountNo    Unit Price      Quantity         Total\n",
       "count  37708.000000    37708.0  37708.000000  37708.000000  37708.000000\n",
       "mean   20339.888644     5004.0     12.897425     11.214915    131.488951\n",
       "std    10889.915754        0.0     10.809160     18.090538    254.170556\n",
       "min     1532.000000     5004.0      0.060000      1.000000      0.480000\n",
       "25%    10930.000000     5004.0      5.550000      2.000000     18.900000\n",
       "50%    20308.500000     5004.0     10.290000      6.000000     46.735000\n",
       "75%    29750.250000     5004.0     17.020000     12.000000    129.140000\n",
       "max    39239.000000     5004.0    167.070000    226.000000   4362.200000"
      ]
     },
     "execution_count": 22,
     "metadata": {},
     "output_type": "execute_result"
    }
   ],
   "source": [
    "ledger_df.describe()"
   ]
  },
  {
   "cell_type": "code",
   "execution_count": 23,
   "id": "827e3d93-4e5c-4a99-b7c0-613ee45894e0",
   "metadata": {},
   "outputs": [
    {
     "data": {
      "text/plain": [
       "18.9"
      ]
     },
     "execution_count": 23,
     "metadata": {},
     "output_type": "execute_result"
    }
   ],
   "source": [
    "ledger_df['Total'].quantile(.25)"
   ]
  },
  {
   "cell_type": "code",
   "execution_count": 24,
   "id": "b8a19a40-5ece-40b4-a1e2-495103389ae3",
   "metadata": {},
   "outputs": [
    {
     "data": {
      "text/plain": [
       "10.809159828243542"
      ]
     },
     "execution_count": 24,
     "metadata": {},
     "output_type": "execute_result"
    }
   ],
   "source": [
    "ledger_df['Unit Price'].std()"
   ]
  },
  {
   "cell_type": "code",
   "execution_count": 25,
   "id": "621af6d9-9d39-47be-902a-2fdf10e7510b",
   "metadata": {},
   "outputs": [
    {
     "data": {
      "text/html": [
       "<div>\n",
       "<style scoped>\n",
       "    .dataframe tbody tr th:only-of-type {\n",
       "        vertical-align: middle;\n",
       "    }\n",
       "\n",
       "    .dataframe tbody tr th {\n",
       "        vertical-align: top;\n",
       "    }\n",
       "\n",
       "    .dataframe thead th {\n",
       "        text-align: right;\n",
       "    }\n",
       "</style>\n",
       "<table border=\"1\" class=\"dataframe\">\n",
       "  <thead>\n",
       "    <tr style=\"text-align: right;\">\n",
       "      <th></th>\n",
       "      <th>Unit Price</th>\n",
       "      <th>Quantity</th>\n",
       "    </tr>\n",
       "  </thead>\n",
       "  <tbody>\n",
       "    <tr>\n",
       "      <th>count</th>\n",
       "      <td>37708.000000</td>\n",
       "      <td>37708.000000</td>\n",
       "    </tr>\n",
       "    <tr>\n",
       "      <th>mean</th>\n",
       "      <td>12.897425</td>\n",
       "      <td>11.214915</td>\n",
       "    </tr>\n",
       "    <tr>\n",
       "      <th>std</th>\n",
       "      <td>10.809160</td>\n",
       "      <td>18.090538</td>\n",
       "    </tr>\n",
       "    <tr>\n",
       "      <th>min</th>\n",
       "      <td>0.060000</td>\n",
       "      <td>1.000000</td>\n",
       "    </tr>\n",
       "    <tr>\n",
       "      <th>25%</th>\n",
       "      <td>5.550000</td>\n",
       "      <td>2.000000</td>\n",
       "    </tr>\n",
       "    <tr>\n",
       "      <th>50%</th>\n",
       "      <td>10.290000</td>\n",
       "      <td>6.000000</td>\n",
       "    </tr>\n",
       "    <tr>\n",
       "      <th>75%</th>\n",
       "      <td>17.020000</td>\n",
       "      <td>12.000000</td>\n",
       "    </tr>\n",
       "    <tr>\n",
       "      <th>max</th>\n",
       "      <td>167.070000</td>\n",
       "      <td>226.000000</td>\n",
       "    </tr>\n",
       "  </tbody>\n",
       "</table>\n",
       "</div>"
      ],
      "text/plain": [
       "         Unit Price      Quantity\n",
       "count  37708.000000  37708.000000\n",
       "mean      12.897425     11.214915\n",
       "std       10.809160     18.090538\n",
       "min        0.060000      1.000000\n",
       "25%        5.550000      2.000000\n",
       "50%       10.290000      6.000000\n",
       "75%       17.020000     12.000000\n",
       "max      167.070000    226.000000"
      ]
     },
     "execution_count": 25,
     "metadata": {},
     "output_type": "execute_result"
    }
   ],
   "source": [
    "ledger_df[['Unit Price', 'Quantity']].describe()"
   ]
  },
  {
   "cell_type": "code",
   "execution_count": 26,
   "id": "981f46a9-4403-469a-a979-549f657a2ee2",
   "metadata": {},
   "outputs": [
    {
     "data": {
      "text/plain": [
       "count    37708.000000\n",
       "mean       131.488951\n",
       "std        254.170556\n",
       "min          0.480000\n",
       "25%         18.900000\n",
       "50%         46.735000\n",
       "75%        129.140000\n",
       "max       4362.200000\n",
       "Name: Total, dtype: float64"
      ]
     },
     "execution_count": 26,
     "metadata": {},
     "output_type": "execute_result"
    }
   ],
   "source": [
    "ledger_df['Total'].describe()"
   ]
  },
  {
   "cell_type": "markdown",
   "id": "42812c84-bb6d-4a5d-ac88-1bf8a82490ac",
   "metadata": {},
   "source": [
    "### High-level table information"
   ]
  },
  {
   "cell_type": "code",
   "execution_count": 28,
   "id": "25a593eb-87d4-427f-98f9-1a61247f9165",
   "metadata": {},
   "outputs": [
    {
     "name": "stdout",
     "output_type": "stream",
     "text": [
      "<class 'pandas.core.frame.DataFrame'>\n",
      "RangeIndex: 37708 entries, 0 to 37707\n",
      "Data columns (total 12 columns):\n",
      " #   Column        Non-Null Count  Dtype  \n",
      "---  ------        --------------  -----  \n",
      " 0   InvoiceNo     37708 non-null  int64  \n",
      " 1   Channel       37708 non-null  object \n",
      " 2   Product Name  33142 non-null  object \n",
      " 3   ProductID     37708 non-null  object \n",
      " 4   Account       37708 non-null  object \n",
      " 5   AccountNo     37708 non-null  int64  \n",
      " 6   Date          37708 non-null  object \n",
      " 7   Deadline      37708 non-null  object \n",
      " 8   Currency      37708 non-null  object \n",
      " 9   Unit Price    37708 non-null  float64\n",
      " 10  Quantity      37708 non-null  int64  \n",
      " 11  Total         37708 non-null  float64\n",
      "dtypes: float64(2), int64(3), object(7)\n",
      "memory usage: 3.5+ MB\n"
     ]
    }
   ],
   "source": [
    "ledger_df.info()"
   ]
  }
 ],
 "metadata": {
  "kernelspec": {
   "display_name": "Python 3 (ipykernel)",
   "language": "python",
   "name": "python3"
  },
  "language_info": {
   "codemirror_mode": {
    "name": "ipython",
    "version": 3
   },
   "file_extension": ".py",
   "mimetype": "text/x-python",
   "name": "python",
   "nbconvert_exporter": "python",
   "pygments_lexer": "ipython3",
   "version": "3.11.7"
  }
 },
 "nbformat": 4,
 "nbformat_minor": 5
}
