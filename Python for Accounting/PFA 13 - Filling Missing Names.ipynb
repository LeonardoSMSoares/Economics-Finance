{
 "cells": [
  {
   "cell_type": "markdown",
   "id": "e4316d58-024a-44ca-b8d5-3b0b04d51fbb",
   "metadata": {},
   "source": [
    "# Chapter 27 - Project: Filling missing product names in the sales data"
   ]
  },
  {
   "cell_type": "code",
   "execution_count": 2,
   "id": "25480e02-6574-4962-9a87-580766234489",
   "metadata": {},
   "outputs": [],
   "source": [
    "import pandas as pd"
   ]
  },
  {
   "cell_type": "code",
   "execution_count": 3,
   "id": "035aff7a-caff-4006-98f5-acb5ebc17bd4",
   "metadata": {},
   "outputs": [
    {
     "data": {
      "text/html": [
       "<div>\n",
       "<style scoped>\n",
       "    .dataframe tbody tr th:only-of-type {\n",
       "        vertical-align: middle;\n",
       "    }\n",
       "\n",
       "    .dataframe tbody tr th {\n",
       "        vertical-align: top;\n",
       "    }\n",
       "\n",
       "    .dataframe thead th {\n",
       "        text-align: right;\n",
       "    }\n",
       "</style>\n",
       "<table border=\"1\" class=\"dataframe\">\n",
       "  <thead>\n",
       "    <tr style=\"text-align: right;\">\n",
       "      <th></th>\n",
       "      <th>InvoiceNo</th>\n",
       "      <th>Channel</th>\n",
       "      <th>Product Name</th>\n",
       "      <th>ProductID</th>\n",
       "      <th>Account</th>\n",
       "      <th>AccountNo</th>\n",
       "      <th>Date</th>\n",
       "      <th>Deadline</th>\n",
       "      <th>Currency</th>\n",
       "      <th>Unit Price</th>\n",
       "      <th>Quantity</th>\n",
       "      <th>Total</th>\n",
       "    </tr>\n",
       "  </thead>\n",
       "  <tbody>\n",
       "    <tr>\n",
       "      <th>0</th>\n",
       "      <td>1532</td>\n",
       "      <td>Shoppe.com</td>\n",
       "      <td>Cannon Water Bomb Balloons 100 Pack</td>\n",
       "      <td>T&amp;G/CAN-97509</td>\n",
       "      <td>Sales</td>\n",
       "      <td>5004</td>\n",
       "      <td>2020-01-01</td>\n",
       "      <td>11/23/19</td>\n",
       "      <td>USD</td>\n",
       "      <td>20.11</td>\n",
       "      <td>14</td>\n",
       "      <td>281.54</td>\n",
       "    </tr>\n",
       "    <tr>\n",
       "      <th>1</th>\n",
       "      <td>1533</td>\n",
       "      <td>Walcart</td>\n",
       "      <td>LEGO Ninja Turtles Stealth Shell in Pursuit 79102</td>\n",
       "      <td>T&amp;G/LEG-37777</td>\n",
       "      <td>Sales</td>\n",
       "      <td>5004</td>\n",
       "      <td>2020-01-01</td>\n",
       "      <td>06/15/20</td>\n",
       "      <td>USD</td>\n",
       "      <td>6.70</td>\n",
       "      <td>1</td>\n",
       "      <td>6.70</td>\n",
       "    </tr>\n",
       "    <tr>\n",
       "      <th>2</th>\n",
       "      <td>1534</td>\n",
       "      <td>Bullseye</td>\n",
       "      <td>NaN</td>\n",
       "      <td>T&amp;G/PET-14209</td>\n",
       "      <td>Sales</td>\n",
       "      <td>5004</td>\n",
       "      <td>2020-01-01</td>\n",
       "      <td>05/07/20</td>\n",
       "      <td>USD</td>\n",
       "      <td>11.67</td>\n",
       "      <td>5</td>\n",
       "      <td>58.35</td>\n",
       "    </tr>\n",
       "    <tr>\n",
       "      <th>3</th>\n",
       "      <td>1535</td>\n",
       "      <td>Bullseye</td>\n",
       "      <td>Transformers Age of Extinction Generations Del...</td>\n",
       "      <td>T&amp;G/TRA-20170</td>\n",
       "      <td>Sales</td>\n",
       "      <td>5004</td>\n",
       "      <td>2020-01-01</td>\n",
       "      <td>12/22/19</td>\n",
       "      <td>USD</td>\n",
       "      <td>13.46</td>\n",
       "      <td>6</td>\n",
       "      <td>80.76</td>\n",
       "    </tr>\n",
       "    <tr>\n",
       "      <th>4</th>\n",
       "      <td>1535</td>\n",
       "      <td>Bullseye</td>\n",
       "      <td>Transformers Age of Extinction Generations Del...</td>\n",
       "      <td>T&amp;G/TRA-20170</td>\n",
       "      <td>Sales</td>\n",
       "      <td>5004</td>\n",
       "      <td>2020-01-01</td>\n",
       "      <td>12/22/19</td>\n",
       "      <td>USD</td>\n",
       "      <td>13.46</td>\n",
       "      <td>6</td>\n",
       "      <td>80.76</td>\n",
       "    </tr>\n",
       "  </tbody>\n",
       "</table>\n",
       "</div>"
      ],
      "text/plain": [
       "   InvoiceNo     Channel                                       Product Name  \\\n",
       "0       1532  Shoppe.com                Cannon Water Bomb Balloons 100 Pack   \n",
       "1       1533     Walcart  LEGO Ninja Turtles Stealth Shell in Pursuit 79102   \n",
       "2       1534    Bullseye                                                NaN   \n",
       "3       1535    Bullseye  Transformers Age of Extinction Generations Del...   \n",
       "4       1535    Bullseye  Transformers Age of Extinction Generations Del...   \n",
       "\n",
       "       ProductID Account  AccountNo       Date  Deadline Currency  Unit Price  \\\n",
       "0  T&G/CAN-97509   Sales       5004 2020-01-01  11/23/19      USD       20.11   \n",
       "1  T&G/LEG-37777   Sales       5004 2020-01-01  06/15/20      USD        6.70   \n",
       "2  T&G/PET-14209   Sales       5004 2020-01-01  05/07/20      USD       11.67   \n",
       "3  T&G/TRA-20170   Sales       5004 2020-01-01  12/22/19      USD       13.46   \n",
       "4  T&G/TRA-20170   Sales       5004 2020-01-01  12/22/19      USD       13.46   \n",
       "\n",
       "   Quantity   Total  \n",
       "0        14  281.54  \n",
       "1         1    6.70  \n",
       "2         5   58.35  \n",
       "3         6   80.76  \n",
       "4         6   80.76  "
      ]
     },
     "execution_count": 3,
     "metadata": {},
     "output_type": "execute_result"
    }
   ],
   "source": [
    "sales_df = pd.concat(pd.read_excel('data/Q1Sales.xlsx', sheet_name=None), ignore_index=True)\n",
    "products_df = pd.read_csv('data/products.csv')\n",
    "\n",
    "sales_df.head()"
   ]
  },
  {
   "cell_type": "code",
   "execution_count": 4,
   "id": "011deb40-395f-47cc-a449-576dfaa5e71c",
   "metadata": {},
   "outputs": [
    {
     "data": {
      "text/html": [
       "<div>\n",
       "<style scoped>\n",
       "    .dataframe tbody tr th:only-of-type {\n",
       "        vertical-align: middle;\n",
       "    }\n",
       "\n",
       "    .dataframe tbody tr th {\n",
       "        vertical-align: top;\n",
       "    }\n",
       "\n",
       "    .dataframe thead th {\n",
       "        text-align: right;\n",
       "    }\n",
       "</style>\n",
       "<table border=\"1\" class=\"dataframe\">\n",
       "  <thead>\n",
       "    <tr style=\"text-align: right;\">\n",
       "      <th></th>\n",
       "      <th>ProductID</th>\n",
       "      <th>Product Name</th>\n",
       "      <th>Brand</th>\n",
       "      <th>Category</th>\n",
       "    </tr>\n",
       "  </thead>\n",
       "  <tbody>\n",
       "    <tr>\n",
       "      <th>0</th>\n",
       "      <td>MI/SNA-81654</td>\n",
       "      <td>Snark SN-5 Tuner for Guitar, Bass and Violin</td>\n",
       "      <td>Snark</td>\n",
       "      <td>Musical Instruments</td>\n",
       "    </tr>\n",
       "    <tr>\n",
       "      <th>1</th>\n",
       "      <td>MI/STU-67796</td>\n",
       "      <td>Studio Microphone Mic Wind Screen Pop Filter/ ...</td>\n",
       "      <td>Generic</td>\n",
       "      <td>Musical Instruments</td>\n",
       "    </tr>\n",
       "    <tr>\n",
       "      <th>2</th>\n",
       "      <td>MI/MUS-73312</td>\n",
       "      <td>Musician's Gear Tubular Guitar Stand Black</td>\n",
       "      <td>Musician's Gear</td>\n",
       "      <td>Musical Instruments</td>\n",
       "    </tr>\n",
       "    <tr>\n",
       "      <th>3</th>\n",
       "      <td>MI/STR-01505</td>\n",
       "      <td>String Swing CC01K Hardwood Home &amp; Studio Guit...</td>\n",
       "      <td>String Swing</td>\n",
       "      <td>Musical Instruments</td>\n",
       "    </tr>\n",
       "    <tr>\n",
       "      <th>4</th>\n",
       "      <td>MI/DUN-82082</td>\n",
       "      <td>Dunlop 5005 Pick Holder, Each (5005)</td>\n",
       "      <td>Jim Dunlop</td>\n",
       "      <td>Musical Instruments</td>\n",
       "    </tr>\n",
       "  </tbody>\n",
       "</table>\n",
       "</div>"
      ],
      "text/plain": [
       "      ProductID                                       Product Name  \\\n",
       "0  MI/SNA-81654       Snark SN-5 Tuner for Guitar, Bass and Violin   \n",
       "1  MI/STU-67796  Studio Microphone Mic Wind Screen Pop Filter/ ...   \n",
       "2  MI/MUS-73312         Musician's Gear Tubular Guitar Stand Black   \n",
       "3  MI/STR-01505  String Swing CC01K Hardwood Home & Studio Guit...   \n",
       "4  MI/DUN-82082               Dunlop 5005 Pick Holder, Each (5005)   \n",
       "\n",
       "             Brand             Category  \n",
       "0            Snark  Musical Instruments  \n",
       "1          Generic  Musical Instruments  \n",
       "2  Musician's Gear  Musical Instruments  \n",
       "3     String Swing  Musical Instruments  \n",
       "4       Jim Dunlop  Musical Instruments  "
      ]
     },
     "execution_count": 4,
     "metadata": {},
     "output_type": "execute_result"
    }
   ],
   "source": [
    "products_df.head()"
   ]
  },
  {
   "cell_type": "code",
   "execution_count": 5,
   "id": "8edde951-563c-4cc2-aa08-198516eb74cc",
   "metadata": {},
   "outputs": [
    {
     "data": {
      "text/plain": [
       "InvoiceNo          0\n",
       "Channel            0\n",
       "Product Name    4566\n",
       "ProductID          0\n",
       "Account            0\n",
       "AccountNo          0\n",
       "Date               0\n",
       "Deadline           0\n",
       "Currency           0\n",
       "Unit Price         0\n",
       "Quantity           0\n",
       "Total              0\n",
       "dtype: int64"
      ]
     },
     "execution_count": 5,
     "metadata": {},
     "output_type": "execute_result"
    }
   ],
   "source": [
    "# Check for missing values\n",
    "sales_df.isna().sum()"
   ]
  },
  {
   "cell_type": "code",
   "execution_count": 6,
   "id": "a70ef715-6768-4a5b-a525-78473f5a202c",
   "metadata": {},
   "outputs": [
    {
     "data": {
      "text/plain": [
       "ProductID       0\n",
       "Product Name    0\n",
       "Brand           6\n",
       "Category        0\n",
       "dtype: int64"
      ]
     },
     "execution_count": 6,
     "metadata": {},
     "output_type": "execute_result"
    }
   ],
   "source": [
    "# Check for missing values\n",
    "products_df.isna().sum()"
   ]
  },
  {
   "cell_type": "code",
   "execution_count": 7,
   "id": "9de06008-4dce-417e-81a5-be3783fdcacc",
   "metadata": {},
   "outputs": [],
   "source": [
    "# Let's discard 'Brand' and 'Category' columns\n",
    "products_df = products_df[['ProductID', 'Product Name']]"
   ]
  },
  {
   "cell_type": "code",
   "execution_count": 8,
   "id": "5488f315-61a2-4ba8-a86f-2539cc49e40c",
   "metadata": {},
   "outputs": [
    {
     "data": {
      "text/plain": [
       "0        True\n",
       "1        True\n",
       "2        True\n",
       "3        True\n",
       "4        True\n",
       "         ... \n",
       "37703    True\n",
       "37704    True\n",
       "37705    True\n",
       "37706    True\n",
       "37707    True\n",
       "Name: ProductID, Length: 37708, dtype: bool"
      ]
     },
     "execution_count": 8,
     "metadata": {},
     "output_type": "execute_result"
    }
   ],
   "source": [
    "# Checks if each 'ProductID' in sales_df is also in products_df and returns a boolean Series\n",
    "sales_df['ProductID'].isin(products_df['ProductID'])"
   ]
  },
  {
   "cell_type": "code",
   "execution_count": 9,
   "id": "e5d2447c-ba49-4b21-bca9-9f3fc7319294",
   "metadata": {},
   "outputs": [
    {
     "data": {
      "text/plain": [
       "True"
      ]
     },
     "execution_count": 9,
     "metadata": {},
     "output_type": "execute_result"
    }
   ],
   "source": [
    "sales_df['ProductID'].isin(products_df['ProductID']).all()"
   ]
  },
  {
   "cell_type": "code",
   "execution_count": 10,
   "id": "80871a0e-b605-4aef-b8a5-33507bdb5929",
   "metadata": {},
   "outputs": [
    {
     "data": {
      "text/html": [
       "<div>\n",
       "<style scoped>\n",
       "    .dataframe tbody tr th:only-of-type {\n",
       "        vertical-align: middle;\n",
       "    }\n",
       "\n",
       "    .dataframe tbody tr th {\n",
       "        vertical-align: top;\n",
       "    }\n",
       "\n",
       "    .dataframe thead th {\n",
       "        text-align: right;\n",
       "    }\n",
       "</style>\n",
       "<table border=\"1\" class=\"dataframe\">\n",
       "  <thead>\n",
       "    <tr style=\"text-align: right;\">\n",
       "      <th></th>\n",
       "      <th>InvoiceNo</th>\n",
       "      <th>Channel</th>\n",
       "      <th>Product Name</th>\n",
       "      <th>ProductID</th>\n",
       "      <th>Account</th>\n",
       "      <th>AccountNo</th>\n",
       "      <th>Date</th>\n",
       "      <th>Deadline</th>\n",
       "      <th>Currency</th>\n",
       "      <th>Unit Price</th>\n",
       "      <th>Quantity</th>\n",
       "      <th>Total</th>\n",
       "    </tr>\n",
       "  </thead>\n",
       "  <tbody>\n",
       "    <tr>\n",
       "      <th>0</th>\n",
       "      <td>1532</td>\n",
       "      <td>Shoppe.com</td>\n",
       "      <td>Cannon Water Bomb Balloons 100 Pack</td>\n",
       "      <td>T&amp;G/CAN-97509</td>\n",
       "      <td>Sales</td>\n",
       "      <td>5004</td>\n",
       "      <td>2020-01-01</td>\n",
       "      <td>11/23/19</td>\n",
       "      <td>USD</td>\n",
       "      <td>20.11</td>\n",
       "      <td>14</td>\n",
       "      <td>281.54</td>\n",
       "    </tr>\n",
       "    <tr>\n",
       "      <th>1</th>\n",
       "      <td>1533</td>\n",
       "      <td>Walcart</td>\n",
       "      <td>LEGO Ninja Turtles Stealth Shell in Pursuit 79102</td>\n",
       "      <td>T&amp;G/LEG-37777</td>\n",
       "      <td>Sales</td>\n",
       "      <td>5004</td>\n",
       "      <td>2020-01-01</td>\n",
       "      <td>06/15/20</td>\n",
       "      <td>USD</td>\n",
       "      <td>6.70</td>\n",
       "      <td>1</td>\n",
       "      <td>6.70</td>\n",
       "    </tr>\n",
       "    <tr>\n",
       "      <th>2</th>\n",
       "      <td>1534</td>\n",
       "      <td>Bullseye</td>\n",
       "      <td>NaN</td>\n",
       "      <td>T&amp;G/PET-14209</td>\n",
       "      <td>Sales</td>\n",
       "      <td>5004</td>\n",
       "      <td>2020-01-01</td>\n",
       "      <td>05/07/20</td>\n",
       "      <td>USD</td>\n",
       "      <td>11.67</td>\n",
       "      <td>5</td>\n",
       "      <td>58.35</td>\n",
       "    </tr>\n",
       "  </tbody>\n",
       "</table>\n",
       "</div>"
      ],
      "text/plain": [
       "   InvoiceNo     Channel                                       Product Name  \\\n",
       "0       1532  Shoppe.com                Cannon Water Bomb Balloons 100 Pack   \n",
       "1       1533     Walcart  LEGO Ninja Turtles Stealth Shell in Pursuit 79102   \n",
       "2       1534    Bullseye                                                NaN   \n",
       "\n",
       "       ProductID Account  AccountNo       Date  Deadline Currency  Unit Price  \\\n",
       "0  T&G/CAN-97509   Sales       5004 2020-01-01  11/23/19      USD       20.11   \n",
       "1  T&G/LEG-37777   Sales       5004 2020-01-01  06/15/20      USD        6.70   \n",
       "2  T&G/PET-14209   Sales       5004 2020-01-01  05/07/20      USD       11.67   \n",
       "\n",
       "   Quantity   Total  \n",
       "0        14  281.54  \n",
       "1         1    6.70  \n",
       "2         5   58.35  "
      ]
     },
     "execution_count": 10,
     "metadata": {},
     "output_type": "execute_result"
    }
   ],
   "source": [
    "sales_df.head(3)"
   ]
  },
  {
   "cell_type": "code",
   "execution_count": 11,
   "id": "fecf14eb-61d0-4fd7-a756-592cb4020a96",
   "metadata": {},
   "outputs": [
    {
     "data": {
      "text/html": [
       "<div>\n",
       "<style scoped>\n",
       "    .dataframe tbody tr th:only-of-type {\n",
       "        vertical-align: middle;\n",
       "    }\n",
       "\n",
       "    .dataframe tbody tr th {\n",
       "        vertical-align: top;\n",
       "    }\n",
       "\n",
       "    .dataframe thead th {\n",
       "        text-align: right;\n",
       "    }\n",
       "</style>\n",
       "<table border=\"1\" class=\"dataframe\">\n",
       "  <thead>\n",
       "    <tr style=\"text-align: right;\">\n",
       "      <th></th>\n",
       "      <th>ProductID</th>\n",
       "      <th>Product Name</th>\n",
       "    </tr>\n",
       "  </thead>\n",
       "  <tbody>\n",
       "    <tr>\n",
       "      <th>0</th>\n",
       "      <td>MI/SNA-81654</td>\n",
       "      <td>Snark SN-5 Tuner for Guitar, Bass and Violin</td>\n",
       "    </tr>\n",
       "    <tr>\n",
       "      <th>1</th>\n",
       "      <td>MI/STU-67796</td>\n",
       "      <td>Studio Microphone Mic Wind Screen Pop Filter/ ...</td>\n",
       "    </tr>\n",
       "    <tr>\n",
       "      <th>2</th>\n",
       "      <td>MI/MUS-73312</td>\n",
       "      <td>Musician's Gear Tubular Guitar Stand Black</td>\n",
       "    </tr>\n",
       "  </tbody>\n",
       "</table>\n",
       "</div>"
      ],
      "text/plain": [
       "      ProductID                                       Product Name\n",
       "0  MI/SNA-81654       Snark SN-5 Tuner for Guitar, Bass and Violin\n",
       "1  MI/STU-67796  Studio Microphone Mic Wind Screen Pop Filter/ ...\n",
       "2  MI/MUS-73312         Musician's Gear Tubular Guitar Stand Black"
      ]
     },
     "execution_count": 11,
     "metadata": {},
     "output_type": "execute_result"
    }
   ],
   "source": [
    "products_df.head(3)"
   ]
  },
  {
   "cell_type": "code",
   "execution_count": 12,
   "id": "6157b16f-0c3d-4e49-94e9-fb1d709cfd6f",
   "metadata": {},
   "outputs": [
    {
     "data": {
      "text/html": [
       "<div>\n",
       "<style scoped>\n",
       "    .dataframe tbody tr th:only-of-type {\n",
       "        vertical-align: middle;\n",
       "    }\n",
       "\n",
       "    .dataframe tbody tr th {\n",
       "        vertical-align: top;\n",
       "    }\n",
       "\n",
       "    .dataframe thead th {\n",
       "        text-align: right;\n",
       "    }\n",
       "</style>\n",
       "<table border=\"1\" class=\"dataframe\">\n",
       "  <thead>\n",
       "    <tr style=\"text-align: right;\">\n",
       "      <th></th>\n",
       "      <th>InvoiceNo</th>\n",
       "      <th>Channel</th>\n",
       "      <th>Product Name-Sales</th>\n",
       "      <th>ProductID</th>\n",
       "      <th>Account</th>\n",
       "      <th>AccountNo</th>\n",
       "      <th>Date</th>\n",
       "      <th>Deadline</th>\n",
       "      <th>Currency</th>\n",
       "      <th>Unit Price</th>\n",
       "      <th>Quantity</th>\n",
       "      <th>Total</th>\n",
       "      <th>Product Name-Products</th>\n",
       "    </tr>\n",
       "  </thead>\n",
       "  <tbody>\n",
       "    <tr>\n",
       "      <th>0</th>\n",
       "      <td>1532</td>\n",
       "      <td>Shoppe.com</td>\n",
       "      <td>Cannon Water Bomb Balloons 100 Pack</td>\n",
       "      <td>T&amp;G/CAN-97509</td>\n",
       "      <td>Sales</td>\n",
       "      <td>5004</td>\n",
       "      <td>2020-01-01</td>\n",
       "      <td>11/23/19</td>\n",
       "      <td>USD</td>\n",
       "      <td>20.11</td>\n",
       "      <td>14</td>\n",
       "      <td>281.54</td>\n",
       "      <td>Cannon Water Bomb Balloons 100 Pack</td>\n",
       "    </tr>\n",
       "    <tr>\n",
       "      <th>1</th>\n",
       "      <td>1533</td>\n",
       "      <td>Walcart</td>\n",
       "      <td>LEGO Ninja Turtles Stealth Shell in Pursuit 79102</td>\n",
       "      <td>T&amp;G/LEG-37777</td>\n",
       "      <td>Sales</td>\n",
       "      <td>5004</td>\n",
       "      <td>2020-01-01</td>\n",
       "      <td>06/15/20</td>\n",
       "      <td>USD</td>\n",
       "      <td>6.70</td>\n",
       "      <td>1</td>\n",
       "      <td>6.70</td>\n",
       "      <td>LEGO Ninja Turtles Stealth Shell in Pursuit 79102</td>\n",
       "    </tr>\n",
       "    <tr>\n",
       "      <th>2</th>\n",
       "      <td>1534</td>\n",
       "      <td>Bullseye</td>\n",
       "      <td>NaN</td>\n",
       "      <td>T&amp;G/PET-14209</td>\n",
       "      <td>Sales</td>\n",
       "      <td>5004</td>\n",
       "      <td>2020-01-01</td>\n",
       "      <td>05/07/20</td>\n",
       "      <td>USD</td>\n",
       "      <td>11.67</td>\n",
       "      <td>5</td>\n",
       "      <td>58.35</td>\n",
       "      <td>Pete the Cat and His Four Groovy Buttons Puppet</td>\n",
       "    </tr>\n",
       "  </tbody>\n",
       "</table>\n",
       "</div>"
      ],
      "text/plain": [
       "   InvoiceNo     Channel                                 Product Name-Sales  \\\n",
       "0       1532  Shoppe.com                Cannon Water Bomb Balloons 100 Pack   \n",
       "1       1533     Walcart  LEGO Ninja Turtles Stealth Shell in Pursuit 79102   \n",
       "2       1534    Bullseye                                                NaN   \n",
       "\n",
       "       ProductID Account  AccountNo       Date  Deadline Currency  Unit Price  \\\n",
       "0  T&G/CAN-97509   Sales       5004 2020-01-01  11/23/19      USD       20.11   \n",
       "1  T&G/LEG-37777   Sales       5004 2020-01-01  06/15/20      USD        6.70   \n",
       "2  T&G/PET-14209   Sales       5004 2020-01-01  05/07/20      USD       11.67   \n",
       "\n",
       "   Quantity   Total                              Product Name-Products  \n",
       "0        14  281.54                Cannon Water Bomb Balloons 100 Pack  \n",
       "1         1    6.70  LEGO Ninja Turtles Stealth Shell in Pursuit 79102  \n",
       "2         5   58.35    Pete the Cat and His Four Groovy Buttons Puppet  "
      ]
     },
     "execution_count": 12,
     "metadata": {},
     "output_type": "execute_result"
    }
   ],
   "source": [
    "# Merges the 'sales_df' DataFrame with the 'products_df' DataFrame\n",
    "sales_df = pd.merge(                                  \n",
    "                    sales_df,                          # The first DataFrame to merge (sales_df)\n",
    "                    products_df,                       # The second DataFrame to merge (products_df)\n",
    "                    on='ProductID',                    # Specifies that the merge should be performed on the 'ProductID' column\n",
    "                    suffixes=['-Sales', '-Products'],  # Adds suffixes to differentiate columns with the same name from both DataFrames\n",
    "                    validate='many_to_one'             # Ensures the merge respects the 'many-to-one' relationship\n",
    ")\n",
    "\n",
    "sales_df.head(3)"
   ]
  },
  {
   "cell_type": "markdown",
   "id": "8954cdf3-2c2a-404a-aae8-f8ff5f024e6f",
   "metadata": {},
   "source": [
    "To combine the two columns into a single one, let’s define a custom function that choose a valid product name from the two options:"
   ]
  },
  {
   "cell_type": "code",
   "execution_count": 14,
   "id": "b89d6024-211e-4a4b-a74d-917eac10f9bc",
   "metadata": {},
   "outputs": [
    {
     "data": {
      "text/plain": [
       "InvoiceNo                   0\n",
       "Channel                     0\n",
       "Product Name-Sales       4566\n",
       "ProductID                   0\n",
       "Account                     0\n",
       "AccountNo                   0\n",
       "Date                        0\n",
       "Deadline                    0\n",
       "Currency                    0\n",
       "Unit Price                  0\n",
       "Quantity                    0\n",
       "Total                       0\n",
       "Product Name-Products       0\n",
       "dtype: int64"
      ]
     },
     "execution_count": 14,
     "metadata": {},
     "output_type": "execute_result"
    }
   ],
   "source": [
    "sales_df.isna().sum()"
   ]
  },
  {
   "cell_type": "code",
   "execution_count": 15,
   "id": "8907fc82-6ec1-48cf-9906-4c246e89f7cb",
   "metadata": {},
   "outputs": [],
   "source": [
    "# Defines a function that combines product names based on a condition\n",
    "def combine_product_names(row):  \n",
    "    \n",
    "    if pd.notna(row['Product Name-Sales']):  # Checks if the 'Product Name-Sales' column is not NaN\n",
    "        return row['Product Name-Sales']     # If not NaN, returns the 'Product Name-Sales' value\n",
    "        \n",
    "    else:                                    # If 'Product Name-Sales' is NaN\n",
    "        return row['Product Name-Products']  # Returns the value from the 'Product Name-Products' column"
   ]
  },
  {
   "cell_type": "code",
   "execution_count": 16,
   "id": "48fc7fcd-1bba-4ec1-a5a2-da3d5445c115",
   "metadata": {},
   "outputs": [
    {
     "data": {
      "text/plain": [
       "0                      Cannon Water Bomb Balloons 100 Pack\n",
       "1        LEGO Ninja Turtles Stealth Shell in Pursuit 79102\n",
       "2          Pete the Cat and His Four Groovy Buttons Puppet\n",
       "3        Transformers Age of Extinction Generations Del...\n",
       "4        Transformers Age of Extinction Generations Del...\n",
       "                               ...                        \n",
       "37703    Nature's Bounty Garlic, 2000mg, Odor-Free, 120...\n",
       "37704                        Funko Wonder Woman POP Heroes\n",
       "37705    MONO GS1 GS1-BTY-BLK-L Betty Long Guitar Strap...\n",
       "37706    Magic: the Gathering - Striking Sliver - Magic...\n",
       "37707             3 Collapsible Bowl Set 32oz | 16oz | 4oz\n",
       "Length: 37708, dtype: object"
      ]
     },
     "execution_count": 16,
     "metadata": {},
     "output_type": "execute_result"
    }
   ],
   "source": [
    "sales_df.apply(combine_product_names, axis='columns')"
   ]
  },
  {
   "cell_type": "markdown",
   "id": "af3f2632-b423-4bad-a7e0-ed4f4c8d33da",
   "metadata": {},
   "source": [
    "The last step in combining product names is to assign the output\n",
    "above to a new column in `sales_df` and remove its previous\n",
    "product name columns:"
   ]
  },
  {
   "cell_type": "code",
   "execution_count": 18,
   "id": "fe9387fd-92bf-4088-a8c8-c28481c8bef4",
   "metadata": {},
   "outputs": [
    {
     "data": {
      "text/html": [
       "<div>\n",
       "<style scoped>\n",
       "    .dataframe tbody tr th:only-of-type {\n",
       "        vertical-align: middle;\n",
       "    }\n",
       "\n",
       "    .dataframe tbody tr th {\n",
       "        vertical-align: top;\n",
       "    }\n",
       "\n",
       "    .dataframe thead th {\n",
       "        text-align: right;\n",
       "    }\n",
       "</style>\n",
       "<table border=\"1\" class=\"dataframe\">\n",
       "  <thead>\n",
       "    <tr style=\"text-align: right;\">\n",
       "      <th></th>\n",
       "      <th>InvoiceNo</th>\n",
       "      <th>Channel</th>\n",
       "      <th>ProductID</th>\n",
       "      <th>Account</th>\n",
       "      <th>AccountNo</th>\n",
       "      <th>Date</th>\n",
       "      <th>Deadline</th>\n",
       "      <th>Currency</th>\n",
       "      <th>Unit Price</th>\n",
       "      <th>Quantity</th>\n",
       "      <th>Total</th>\n",
       "      <th>Product Name</th>\n",
       "    </tr>\n",
       "  </thead>\n",
       "  <tbody>\n",
       "    <tr>\n",
       "      <th>0</th>\n",
       "      <td>1532</td>\n",
       "      <td>Shoppe.com</td>\n",
       "      <td>T&amp;G/CAN-97509</td>\n",
       "      <td>Sales</td>\n",
       "      <td>5004</td>\n",
       "      <td>2020-01-01</td>\n",
       "      <td>11/23/19</td>\n",
       "      <td>USD</td>\n",
       "      <td>20.11</td>\n",
       "      <td>14</td>\n",
       "      <td>281.54</td>\n",
       "      <td>Cannon Water Bomb Balloons 100 Pack</td>\n",
       "    </tr>\n",
       "    <tr>\n",
       "      <th>1</th>\n",
       "      <td>1533</td>\n",
       "      <td>Walcart</td>\n",
       "      <td>T&amp;G/LEG-37777</td>\n",
       "      <td>Sales</td>\n",
       "      <td>5004</td>\n",
       "      <td>2020-01-01</td>\n",
       "      <td>06/15/20</td>\n",
       "      <td>USD</td>\n",
       "      <td>6.70</td>\n",
       "      <td>1</td>\n",
       "      <td>6.70</td>\n",
       "      <td>LEGO Ninja Turtles Stealth Shell in Pursuit 79102</td>\n",
       "    </tr>\n",
       "    <tr>\n",
       "      <th>2</th>\n",
       "      <td>1534</td>\n",
       "      <td>Bullseye</td>\n",
       "      <td>T&amp;G/PET-14209</td>\n",
       "      <td>Sales</td>\n",
       "      <td>5004</td>\n",
       "      <td>2020-01-01</td>\n",
       "      <td>05/07/20</td>\n",
       "      <td>USD</td>\n",
       "      <td>11.67</td>\n",
       "      <td>5</td>\n",
       "      <td>58.35</td>\n",
       "      <td>Pete the Cat and His Four Groovy Buttons Puppet</td>\n",
       "    </tr>\n",
       "  </tbody>\n",
       "</table>\n",
       "</div>"
      ],
      "text/plain": [
       "   InvoiceNo     Channel      ProductID Account  AccountNo       Date  \\\n",
       "0       1532  Shoppe.com  T&G/CAN-97509   Sales       5004 2020-01-01   \n",
       "1       1533     Walcart  T&G/LEG-37777   Sales       5004 2020-01-01   \n",
       "2       1534    Bullseye  T&G/PET-14209   Sales       5004 2020-01-01   \n",
       "\n",
       "   Deadline Currency  Unit Price  Quantity   Total  \\\n",
       "0  11/23/19      USD       20.11        14  281.54   \n",
       "1  06/15/20      USD        6.70         1    6.70   \n",
       "2  05/07/20      USD       11.67         5   58.35   \n",
       "\n",
       "                                        Product Name  \n",
       "0                Cannon Water Bomb Balloons 100 Pack  \n",
       "1  LEGO Ninja Turtles Stealth Shell in Pursuit 79102  \n",
       "2    Pete the Cat and His Four Groovy Buttons Puppet  "
      ]
     },
     "execution_count": 18,
     "metadata": {},
     "output_type": "execute_result"
    }
   ],
   "source": [
    "sales_df['Product Name'] = sales_df.apply(combine_product_names, axis='columns')\n",
    "\n",
    "sales_df = sales_df.drop(['Product Name-Sales', 'Product Name-Products'], axis='columns')\n",
    "\n",
    "sales_df.head(3)"
   ]
  },
  {
   "cell_type": "code",
   "execution_count": 19,
   "id": "a85feea3-8e0c-4376-a2ea-40f57a76cacf",
   "metadata": {},
   "outputs": [
    {
     "data": {
      "text/plain": [
       "InvoiceNo       0\n",
       "Channel         0\n",
       "ProductID       0\n",
       "Account         0\n",
       "AccountNo       0\n",
       "Date            0\n",
       "Deadline        0\n",
       "Currency        0\n",
       "Unit Price      0\n",
       "Quantity        0\n",
       "Total           0\n",
       "Product Name    0\n",
       "dtype: int64"
      ]
     },
     "execution_count": 19,
     "metadata": {},
     "output_type": "execute_result"
    }
   ],
   "source": [
    "sales_df.isna().sum()"
   ]
  },
  {
   "cell_type": "code",
   "execution_count": 20,
   "id": "b06c57ba-dfba-4194-b4e1-5a51d757c614",
   "metadata": {},
   "outputs": [],
   "source": [
    "# Opens an ExcelWriter object to write to a file\n",
    "with pd.ExcelWriter('data/Q1SalesClean.xlsx') as outfile:  \n",
    "\n",
    "    # Loops through unique month names in 'sales_df'\n",
    "    for month_name in sales_df['Date'].dt.month_name().unique():             \n",
    "\n",
    "        # Filters the dataframe for the current month\n",
    "        sheet_df = sales_df[sales_df['Date'].dt.month_name() == month_name]  \n",
    "\n",
    "        # Writes the filtered dataframe to the Excel file under the corresponding month sheet\n",
    "        sheet_df.to_excel(outfile, sheet_name=month_name, index=False)       "
   ]
  }
 ],
 "metadata": {
  "kernelspec": {
   "display_name": "Python 3 (ipykernel)",
   "language": "python",
   "name": "python3"
  },
  "language_info": {
   "codemirror_mode": {
    "name": "ipython",
    "version": 3
   },
   "file_extension": ".py",
   "mimetype": "text/x-python",
   "name": "python",
   "nbconvert_exporter": "python",
   "pygments_lexer": "ipython3",
   "version": "3.11.7"
  }
 },
 "nbformat": 4,
 "nbformat_minor": 5
}
